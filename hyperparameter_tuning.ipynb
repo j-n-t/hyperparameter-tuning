{
 "cells": [
  {
   "cell_type": "markdown",
   "metadata": {},
   "source": [
    "# Hyperparameter Tuning"
   ]
  },
  {
   "cell_type": "markdown",
   "metadata": {},
   "source": [
    "In this project we will test different approaches to hyperparameter tuning.\n",
    "\n",
    "We will use some of the models we've created in the [Text Classification with Neural Networks](https://github.com/j-n-t/natural_language_processing/blob/master/Text%20Classification%20with%20Neural%20Networks.ipynb) notebook and will try to improve their performance."
   ]
  },
  {
   "cell_type": "markdown",
   "metadata": {},
   "source": [
    "#### 1. Perform initial imports"
   ]
  },
  {
   "cell_type": "code",
   "execution_count": 1,
   "metadata": {},
   "outputs": [
    {
     "name": "stderr",
     "output_type": "stream",
     "text": [
      "Using TensorFlow backend.\n"
     ]
    }
   ],
   "source": [
    "import keras\n",
    "from keras.datasets import imdb\n",
    "from keras.preprocessing.sequence import pad_sequences\n",
    "from keras.models import Sequential\n",
    "from keras.layers import Dense, Flatten, Dropout\n",
    "from keras.layers import Embedding\n",
    "from keras.layers import SpatialDropout1D, Conv1D, GlobalMaxPooling1D\n",
    "from keras.layers import LSTM\n",
    "from keras.layers.wrappers import Bidirectional\n",
    "from keras.callbacks import ModelCheckpoint\n",
    "from keras.wrappers.scikit_learn import KerasClassifier\n",
    "\n",
    "from sklearn.model_selection import GridSearchCV\n",
    "\n",
    "import os\n",
    "\n",
    "import numpy as np\n",
    "import pandas as pd"
   ]
  },
  {
   "cell_type": "markdown",
   "metadata": {},
   "source": [
    "#### 2. Load data"
   ]
  },
  {
   "cell_type": "code",
   "execution_count": 2,
   "metadata": {},
   "outputs": [],
   "source": [
    "# create function to load data\n",
    "\n",
    "def load_data(n_unique_words):\n",
    "    (x_train, y_train), (x_test, y_test) = imdb.load_data(num_words=n_unique_words)\n",
    "    return (x_train, y_train), (x_test, y_test)"
   ]
  },
  {
   "cell_type": "code",
   "execution_count": 3,
   "metadata": {},
   "outputs": [],
   "source": [
    "n_unique_words = 10000 #number of most frequent words to consider\n",
    "\n",
    "(x_train, y_train), (x_test, y_test) = load_data(n_unique_words)"
   ]
  },
  {
   "cell_type": "code",
   "execution_count": 4,
   "metadata": {},
   "outputs": [
    {
     "data": {
      "text/plain": [
       "218"
      ]
     },
     "execution_count": 4,
     "metadata": {},
     "output_type": "execute_result"
    }
   ],
   "source": [
    "len(x_train[0])"
   ]
  },
  {
   "cell_type": "markdown",
   "metadata": {},
   "source": [
    "#### 3. Preprocess data"
   ]
  },
  {
   "cell_type": "code",
   "execution_count": 5,
   "metadata": {},
   "outputs": [],
   "source": [
    "# create function to preprocess data\n",
    "\n",
    "def preprocess_data(x_train, x_test, max_review_length, pad_type, trunc_type):\n",
    "    x_train = pad_sequences(x_train, maxlen=max_review_length, \n",
    "                            padding=pad_type, truncating=trunc_type, value=0)\n",
    "\n",
    "    x_test = pad_sequences(x_test, maxlen=max_review_length, \n",
    "                           padding=pad_type, truncating=trunc_type, value=0)\n",
    "    \n",
    "    return x_train, x_test"
   ]
  },
  {
   "cell_type": "code",
   "execution_count": 6,
   "metadata": {},
   "outputs": [],
   "source": [
    "max_review_length = 100 #maximum review length of 100 words\n",
    "pad_type = 'pre' #add padding characters to the start of every review < 100 words\n",
    "trunc_type = 'pre' #remove words from the beginning of every review > 100 words\n",
    "\n",
    "x_train, x_test = preprocess_data(x_train, x_test, max_review_length, pad_type, trunc_type)"
   ]
  },
  {
   "cell_type": "code",
   "execution_count": 7,
   "metadata": {},
   "outputs": [
    {
     "data": {
      "text/plain": [
       "array([1415,   33,    6,   22,   12,  215,   28,   77,   52,    5,   14,\n",
       "        407,   16,   82,    2,    8,    4,  107,  117, 5952,   15,  256,\n",
       "          4,    2,    7, 3766,    5,  723,   36,   71,   43,  530,  476,\n",
       "         26,  400,  317,   46,    7,    4,    2, 1029,   13,  104,   88,\n",
       "          4,  381,   15,  297,   98,   32, 2071,   56,   26,  141,    6,\n",
       "        194, 7486,   18,    4,  226,   22,   21,  134,  476,   26,  480,\n",
       "          5,  144,   30, 5535,   18,   51,   36,   28,  224,   92,   25,\n",
       "        104,    4,  226,   65,   16,   38, 1334,   88,   12,   16,  283,\n",
       "          5,   16, 4472,  113,  103,   32,   15,   16, 5345,   19,  178,\n",
       "         32])"
      ]
     },
     "execution_count": 7,
     "metadata": {},
     "output_type": "execute_result"
    }
   ],
   "source": [
    "x_train[0]"
   ]
  },
  {
   "cell_type": "code",
   "execution_count": 8,
   "metadata": {},
   "outputs": [
    {
     "data": {
      "text/plain": [
       "100"
      ]
     },
     "execution_count": 8,
     "metadata": {},
     "output_type": "execute_result"
    }
   ],
   "source": [
    "len(x_train[0])"
   ]
  },
  {
   "cell_type": "markdown",
   "metadata": {},
   "source": [
    "#### 4. Design and compile model"
   ]
  },
  {
   "cell_type": "code",
   "execution_count": 9,
   "metadata": {},
   "outputs": [],
   "source": [
    "def create_model(dropout=0.5, n_dense=64):\n",
    "\n",
    "    model = Sequential(name='model_dense')\n",
    "    \n",
    "    model.add(Embedding(10000, 64, input_length=100))\n",
    "    model.add(Flatten())\n",
    "    \n",
    "    model.add(Dense(n_dense, activation='relu'))\n",
    "    model.add(Dropout(dropout))\n",
    "    \n",
    "    model.add(Dense(1, activation='sigmoid'))\n",
    "    \n",
    "    model.compile(loss='binary_crossentropy', optimizer='adam', metrics=['accuracy'])\n",
    "    \n",
    "    return model"
   ]
  },
  {
   "cell_type": "markdown",
   "metadata": {},
   "source": [
    "#### 5. Create model"
   ]
  },
  {
   "cell_type": "code",
   "execution_count": 10,
   "metadata": {},
   "outputs": [],
   "source": [
    "model = KerasClassifier(build_fn=create_model, verbose=1)"
   ]
  },
  {
   "cell_type": "markdown",
   "metadata": {},
   "source": [
    "#### 6. Define grid search parameters: `epochs` and `batch_size`"
   ]
  },
  {
   "cell_type": "code",
   "execution_count": 11,
   "metadata": {},
   "outputs": [],
   "source": [
    "epochs = [4, 6]\n",
    "batch_size = [64, 128]\n",
    "\n",
    "param_grid = {'batch_size': batch_size, 'epochs': epochs}"
   ]
  },
  {
   "cell_type": "code",
   "execution_count": 12,
   "metadata": {},
   "outputs": [
    {
     "data": {
      "text/plain": [
       "{'batch_size': [64, 128], 'epochs': [4, 6]}"
      ]
     },
     "execution_count": 12,
     "metadata": {},
     "output_type": "execute_result"
    }
   ],
   "source": [
    "param_grid"
   ]
  },
  {
   "cell_type": "code",
   "execution_count": 13,
   "metadata": {},
   "outputs": [],
   "source": [
    "grid_search = GridSearchCV(model, param_grid, cv=3, scoring = 'roc_auc')"
   ]
  },
  {
   "cell_type": "markdown",
   "metadata": {},
   "source": [
    "#### 7. Perform grid search and print results"
   ]
  },
  {
   "cell_type": "code",
   "execution_count": 14,
   "metadata": {},
   "outputs": [
    {
     "name": "stderr",
     "output_type": "stream",
     "text": [
      "C:\\Users\\joaon\\Anaconda3\\envs\\DL-illustrated\\lib\\site-packages\\tensorflow_core\\python\\framework\\indexed_slices.py:433: UserWarning: Converting sparse IndexedSlices to a dense Tensor of unknown shape. This may consume a large amount of memory.\n",
      "  \"Converting sparse IndexedSlices to a dense Tensor of unknown shape. \"\n"
     ]
    },
    {
     "name": "stdout",
     "output_type": "stream",
     "text": [
      "Epoch 1/4\n",
      "16666/16666 [==============================] - 6s 349us/step - loss: 0.5079 - accuracy: 0.7365\n",
      "Epoch 2/4\n",
      "16666/16666 [==============================] - 5s 316us/step - loss: 0.1757 - accuracy: 0.9372\n",
      "Epoch 3/4\n",
      "16666/16666 [==============================] - 5s 316us/step - loss: 0.0286 - accuracy: 0.9951\n",
      "Epoch 4/4\n",
      "16666/16666 [==============================] - 5s 326us/step - loss: 0.0051 - accuracy: 0.9998\n",
      "8334/8334 [==============================] - 0s 32us/step\n"
     ]
    },
    {
     "name": "stderr",
     "output_type": "stream",
     "text": [
      "C:\\Users\\joaon\\Anaconda3\\envs\\DL-illustrated\\lib\\site-packages\\tensorflow_core\\python\\framework\\indexed_slices.py:433: UserWarning: Converting sparse IndexedSlices to a dense Tensor of unknown shape. This may consume a large amount of memory.\n",
      "  \"Converting sparse IndexedSlices to a dense Tensor of unknown shape. \"\n"
     ]
    },
    {
     "name": "stdout",
     "output_type": "stream",
     "text": [
      "Epoch 1/4\n",
      "16667/16667 [==============================] - 5s 325us/step - loss: 0.5050 - accuracy: 0.7350\n",
      "Epoch 2/4\n",
      "16667/16667 [==============================] - 6s 340us/step - loss: 0.1725 - accuracy: 0.9356\n",
      "Epoch 3/4\n",
      "16667/16667 [==============================] - 5s 326us/step - loss: 0.0239 - accuracy: 0.9966\n",
      "Epoch 4/4\n",
      "16667/16667 [==============================] - 5s 329us/step - loss: 0.0047 - accuracy: 0.9999\n",
      "8333/8333 [==============================] - 0s 34us/step\n"
     ]
    },
    {
     "name": "stderr",
     "output_type": "stream",
     "text": [
      "C:\\Users\\joaon\\Anaconda3\\envs\\DL-illustrated\\lib\\site-packages\\tensorflow_core\\python\\framework\\indexed_slices.py:433: UserWarning: Converting sparse IndexedSlices to a dense Tensor of unknown shape. This may consume a large amount of memory.\n",
      "  \"Converting sparse IndexedSlices to a dense Tensor of unknown shape. \"\n"
     ]
    },
    {
     "name": "stdout",
     "output_type": "stream",
     "text": [
      "Epoch 1/4\n",
      "16667/16667 [==============================] - 5s 314us/step - loss: 0.5151 - accuracy: 0.7240\n",
      "Epoch 2/4\n",
      "16667/16667 [==============================] - 5s 321us/step - loss: 0.1790 - accuracy: 0.9344\n",
      "Epoch 3/4\n",
      "16667/16667 [==============================] - 6s 375us/step - loss: 0.0274 - accuracy: 0.9947\n",
      "Epoch 4/4\n",
      "16667/16667 [==============================] - 6s 379us/step - loss: 0.0053 - accuracy: 0.9998\n",
      "8333/8333 [==============================] - 0s 51us/step\n"
     ]
    },
    {
     "name": "stderr",
     "output_type": "stream",
     "text": [
      "C:\\Users\\joaon\\Anaconda3\\envs\\DL-illustrated\\lib\\site-packages\\tensorflow_core\\python\\framework\\indexed_slices.py:433: UserWarning: Converting sparse IndexedSlices to a dense Tensor of unknown shape. This may consume a large amount of memory.\n",
      "  \"Converting sparse IndexedSlices to a dense Tensor of unknown shape. \"\n"
     ]
    },
    {
     "name": "stdout",
     "output_type": "stream",
     "text": [
      "Epoch 1/6\n",
      "16666/16666 [==============================] - 6s 387us/step - loss: 0.5089 - accuracy: 0.7303\n",
      "Epoch 2/6\n",
      "16666/16666 [==============================] - 6s 352us/step - loss: 0.1744 - accuracy: 0.9365\n",
      "Epoch 3/6\n",
      "16666/16666 [==============================] - 6s 345us/step - loss: 0.0272 - accuracy: 0.9951\n",
      "Epoch 4/6\n",
      "16666/16666 [==============================] - 6s 338us/step - loss: 0.0055 - accuracy: 0.9996\n",
      "Epoch 5/6\n",
      "16666/16666 [==============================] - 6s 337us/step - loss: 0.0020 - accuracy: 1.0000\n",
      "Epoch 6/6\n",
      "16666/16666 [==============================] - 6s 336us/step - loss: 0.0012 - accuracy: 1.0000\n",
      "8334/8334 [==============================] - 0s 36us/step\n"
     ]
    },
    {
     "name": "stderr",
     "output_type": "stream",
     "text": [
      "C:\\Users\\joaon\\Anaconda3\\envs\\DL-illustrated\\lib\\site-packages\\tensorflow_core\\python\\framework\\indexed_slices.py:433: UserWarning: Converting sparse IndexedSlices to a dense Tensor of unknown shape. This may consume a large amount of memory.\n",
      "  \"Converting sparse IndexedSlices to a dense Tensor of unknown shape. \"\n"
     ]
    },
    {
     "name": "stdout",
     "output_type": "stream",
     "text": [
      "Epoch 1/6\n",
      "16667/16667 [==============================] - 5s 320us/step - loss: 0.5215 - accuracy: 0.7216\n",
      "Epoch 2/6\n",
      "16667/16667 [==============================] - 5s 318us/step - loss: 0.1839 - accuracy: 0.9332\n",
      "Epoch 3/6\n",
      "16667/16667 [==============================] - 6s 334us/step - loss: 0.0299 - accuracy: 0.9948\n",
      "Epoch 4/6\n",
      "16667/16667 [==============================] - 5s 325us/step - loss: 0.0056 - accuracy: 0.9998\n",
      "Epoch 5/6\n",
      "16667/16667 [==============================] - 5s 319us/step - loss: 0.0023 - accuracy: 1.0000\n",
      "Epoch 6/6\n",
      "16667/16667 [==============================] - 6s 333us/step - loss: 0.0012 - accuracy: 1.0000\n",
      "8333/8333 [==============================] - 0s 34us/step\n"
     ]
    },
    {
     "name": "stderr",
     "output_type": "stream",
     "text": [
      "C:\\Users\\joaon\\Anaconda3\\envs\\DL-illustrated\\lib\\site-packages\\tensorflow_core\\python\\framework\\indexed_slices.py:433: UserWarning: Converting sparse IndexedSlices to a dense Tensor of unknown shape. This may consume a large amount of memory.\n",
      "  \"Converting sparse IndexedSlices to a dense Tensor of unknown shape. \"\n"
     ]
    },
    {
     "name": "stdout",
     "output_type": "stream",
     "text": [
      "Epoch 1/6\n",
      "16667/16667 [==============================] - 6s 377us/step - loss: 0.5168 - accuracy: 0.7266\n",
      "Epoch 2/6\n",
      "16667/16667 [==============================] - 6s 368us/step - loss: 0.1790 - accuracy: 0.9359\n",
      "Epoch 3/6\n",
      "16667/16667 [==============================] - 6s 362us/step - loss: 0.0273 - accuracy: 0.9953\n",
      "Epoch 4/6\n",
      "16667/16667 [==============================] - 6s 336us/step - loss: 0.0059 - accuracy: 0.9996\n",
      "Epoch 5/6\n",
      "16667/16667 [==============================] - 5s 330us/step - loss: 0.0021 - accuracy: 1.0000\n",
      "Epoch 6/6\n",
      "16667/16667 [==============================] - 6s 334us/step - loss: 0.0013 - accuracy: 0.9999\n",
      "8333/8333 [==============================] - 0s 36us/step\n"
     ]
    },
    {
     "name": "stderr",
     "output_type": "stream",
     "text": [
      "C:\\Users\\joaon\\Anaconda3\\envs\\DL-illustrated\\lib\\site-packages\\tensorflow_core\\python\\framework\\indexed_slices.py:433: UserWarning: Converting sparse IndexedSlices to a dense Tensor of unknown shape. This may consume a large amount of memory.\n",
      "  \"Converting sparse IndexedSlices to a dense Tensor of unknown shape. \"\n"
     ]
    },
    {
     "name": "stdout",
     "output_type": "stream",
     "text": [
      "Epoch 1/4\n",
      "16666/16666 [==============================] - 3s 189us/step - loss: 0.5810 - accuracy: 0.6734\n",
      "Epoch 2/4\n",
      "16666/16666 [==============================] - 3s 181us/step - loss: 0.2362 - accuracy: 0.9080\n",
      "Epoch 3/4\n",
      "16666/16666 [==============================] - 3s 186us/step - loss: 0.0582 - accuracy: 0.9868\n",
      "Epoch 4/4\n",
      "16666/16666 [==============================] - 3s 187us/step - loss: 0.0117 - accuracy: 0.9993\n",
      "8334/8334 [==============================] - 0s 24us/step\n"
     ]
    },
    {
     "name": "stderr",
     "output_type": "stream",
     "text": [
      "C:\\Users\\joaon\\Anaconda3\\envs\\DL-illustrated\\lib\\site-packages\\tensorflow_core\\python\\framework\\indexed_slices.py:433: UserWarning: Converting sparse IndexedSlices to a dense Tensor of unknown shape. This may consume a large amount of memory.\n",
      "  \"Converting sparse IndexedSlices to a dense Tensor of unknown shape. \"\n"
     ]
    },
    {
     "name": "stdout",
     "output_type": "stream",
     "text": [
      "Epoch 1/4\n",
      "16667/16667 [==============================] - 3s 186us/step - loss: 0.5759 - accuracy: 0.6837\n",
      "Epoch 2/4\n",
      "16667/16667 [==============================] - 3s 184us/step - loss: 0.2335 - accuracy: 0.9102\n",
      "Epoch 3/4\n",
      "16667/16667 [==============================] - 3s 187us/step - loss: 0.0580 - accuracy: 0.9881\n",
      "Epoch 4/4\n",
      "16667/16667 [==============================] - 3s 183us/step - loss: 0.0130 - accuracy: 0.9991\n",
      "8333/8333 [==============================] - 0s 30us/step\n"
     ]
    },
    {
     "name": "stderr",
     "output_type": "stream",
     "text": [
      "C:\\Users\\joaon\\Anaconda3\\envs\\DL-illustrated\\lib\\site-packages\\tensorflow_core\\python\\framework\\indexed_slices.py:433: UserWarning: Converting sparse IndexedSlices to a dense Tensor of unknown shape. This may consume a large amount of memory.\n",
      "  \"Converting sparse IndexedSlices to a dense Tensor of unknown shape. \"\n"
     ]
    },
    {
     "name": "stdout",
     "output_type": "stream",
     "text": [
      "Epoch 1/4\n",
      "16667/16667 [==============================] - 3s 187us/step - loss: 0.5677 - accuracy: 0.6861\n",
      "Epoch 2/4\n",
      "16667/16667 [==============================] - 3s 183us/step - loss: 0.2265 - accuracy: 0.9142\n",
      "Epoch 3/4\n",
      "16667/16667 [==============================] - 3s 185us/step - loss: 0.0553 - accuracy: 0.9884\n",
      "Epoch 4/4\n",
      "16667/16667 [==============================] - 3s 181us/step - loss: 0.0119 - accuracy: 0.9992\n",
      "8333/8333 [==============================] - 0s 26us/step\n"
     ]
    },
    {
     "name": "stderr",
     "output_type": "stream",
     "text": [
      "C:\\Users\\joaon\\Anaconda3\\envs\\DL-illustrated\\lib\\site-packages\\tensorflow_core\\python\\framework\\indexed_slices.py:433: UserWarning: Converting sparse IndexedSlices to a dense Tensor of unknown shape. This may consume a large amount of memory.\n",
      "  \"Converting sparse IndexedSlices to a dense Tensor of unknown shape. \"\n"
     ]
    },
    {
     "name": "stdout",
     "output_type": "stream",
     "text": [
      "Epoch 1/6\n",
      "16666/16666 [==============================] - 3s 185us/step - loss: 0.5651 - accuracy: 0.6900\n",
      "Epoch 2/6\n",
      "16666/16666 [==============================] - 3s 189us/step - loss: 0.2260 - accuracy: 0.9150\n",
      "Epoch 3/6\n",
      "16666/16666 [==============================] - 3s 183us/step - loss: 0.0553 - accuracy: 0.9894\n",
      "Epoch 4/6\n",
      "16666/16666 [==============================] - 3s 180us/step - loss: 0.0118 - accuracy: 0.9993\n",
      "Epoch 5/6\n",
      "16666/16666 [==============================] - 3s 185us/step - loss: 0.0043 - accuracy: 1.0000\n",
      "Epoch 6/6\n",
      "16666/16666 [==============================] - 3s 188us/step - loss: 0.0026 - accuracy: 1.0000\n",
      "8334/8334 [==============================] - 0s 26us/step\n"
     ]
    },
    {
     "name": "stderr",
     "output_type": "stream",
     "text": [
      "C:\\Users\\joaon\\Anaconda3\\envs\\DL-illustrated\\lib\\site-packages\\tensorflow_core\\python\\framework\\indexed_slices.py:433: UserWarning: Converting sparse IndexedSlices to a dense Tensor of unknown shape. This may consume a large amount of memory.\n",
      "  \"Converting sparse IndexedSlices to a dense Tensor of unknown shape. \"\n"
     ]
    },
    {
     "name": "stdout",
     "output_type": "stream",
     "text": [
      "Epoch 1/6\n",
      "16667/16667 [==============================] - 3s 188us/step - loss: 0.5765 - accuracy: 0.6783\n",
      "Epoch 2/6\n",
      "16667/16667 [==============================] - 3s 183us/step - loss: 0.2367 - accuracy: 0.9084\n",
      "Epoch 3/6\n",
      "16667/16667 [==============================] - 3s 185us/step - loss: 0.0569 - accuracy: 0.9895\n",
      "Epoch 4/6\n",
      "16667/16667 [==============================] - 3s 187us/step - loss: 0.0128 - accuracy: 0.9993\n",
      "Epoch 5/6\n",
      "16667/16667 [==============================] - 3s 184us/step - loss: 0.0047 - accuracy: 1.0000\n",
      "Epoch 6/6\n",
      "16667/16667 [==============================] - 3s 181us/step - loss: 0.0027 - accuracy: 1.0000\n",
      "8333/8333 [==============================] - 0s 28us/step\n"
     ]
    },
    {
     "name": "stderr",
     "output_type": "stream",
     "text": [
      "C:\\Users\\joaon\\Anaconda3\\envs\\DL-illustrated\\lib\\site-packages\\tensorflow_core\\python\\framework\\indexed_slices.py:433: UserWarning: Converting sparse IndexedSlices to a dense Tensor of unknown shape. This may consume a large amount of memory.\n",
      "  \"Converting sparse IndexedSlices to a dense Tensor of unknown shape. \"\n"
     ]
    },
    {
     "name": "stdout",
     "output_type": "stream",
     "text": [
      "Epoch 1/6\n",
      "16667/16667 [==============================] - 3s 184us/step - loss: 0.5774 - accuracy: 0.6834\n",
      "Epoch 2/6\n",
      "16667/16667 [==============================] - 3s 180us/step - loss: 0.2342 - accuracy: 0.9085\n",
      "Epoch 3/6\n",
      "16667/16667 [==============================] - 3s 180us/step - loss: 0.0565 - accuracy: 0.9883\n",
      "Epoch 4/6\n",
      "16667/16667 [==============================] - 3s 199us/step - loss: 0.0120 - accuracy: 0.9993\n",
      "Epoch 5/6\n",
      "16667/16667 [==============================] - 4s 234us/step - loss: 0.0045 - accuracy: 0.9999\n",
      "Epoch 6/6\n",
      "16667/16667 [==============================] - 4s 222us/step - loss: 0.0026 - accuracy: 0.9999\n",
      "8333/8333 [==============================] - 0s 26us/step\n"
     ]
    },
    {
     "name": "stderr",
     "output_type": "stream",
     "text": [
      "C:\\Users\\joaon\\Anaconda3\\envs\\DL-illustrated\\lib\\site-packages\\tensorflow_core\\python\\framework\\indexed_slices.py:433: UserWarning: Converting sparse IndexedSlices to a dense Tensor of unknown shape. This may consume a large amount of memory.\n",
      "  \"Converting sparse IndexedSlices to a dense Tensor of unknown shape. \"\n"
     ]
    },
    {
     "name": "stdout",
     "output_type": "stream",
     "text": [
      "Epoch 1/4\n",
      "25000/25000 [==============================] - 5s 184us/step - loss: 0.5067 - accuracy: 0.7274\n",
      "Epoch 2/4\n",
      "25000/25000 [==============================] - 5s 182us/step - loss: 0.2070 - accuracy: 0.9233\n",
      "Epoch 3/4\n",
      "25000/25000 [==============================] - 5s 185us/step - loss: 0.0533 - accuracy: 0.9876\n",
      "Epoch 4/4\n",
      "25000/25000 [==============================] - 5s 185us/step - loss: 0.0099 - accuracy: 0.9991\n"
     ]
    },
    {
     "data": {
      "text/plain": [
       "GridSearchCV(cv=3, error_score=nan,\n",
       "             estimator=<keras.wrappers.scikit_learn.KerasClassifier object at 0x0000021297ED7048>,\n",
       "             iid='deprecated', n_jobs=None,\n",
       "             param_grid={'batch_size': [64, 128], 'epochs': [4, 6]},\n",
       "             pre_dispatch='2*n_jobs', refit=True, return_train_score=False,\n",
       "             scoring='roc_auc', verbose=0)"
      ]
     },
     "execution_count": 14,
     "metadata": {},
     "output_type": "execute_result"
    }
   ],
   "source": [
    "grid_search.fit(x_train, y_train)"
   ]
  },
  {
   "cell_type": "code",
   "execution_count": 15,
   "metadata": {},
   "outputs": [
    {
     "data": {
      "text/plain": [
       "{'batch_size': 128, 'epochs': 4}"
      ]
     },
     "execution_count": 15,
     "metadata": {},
     "output_type": "execute_result"
    }
   ],
   "source": [
    "grid_search.best_params_"
   ]
  },
  {
   "cell_type": "code",
   "execution_count": 18,
   "metadata": {},
   "outputs": [],
   "source": [
    "# create function to print results\n",
    "\n",
    "import tabulate\n",
    "\n",
    "def grid_search_results(cvres):\n",
    "    \n",
    "    columns = []\n",
    "    table = []\n",
    "    \n",
    "    for key in param_grid.keys():\n",
    "\n",
    "        columns.append(key)\n",
    "    \n",
    "    columns.append(grid_search.scoring)\n",
    "\n",
    "    for mean_score, params in sorted(zip(cvres['mean_test_score'], cvres['params']), reverse=True):\n",
    "        \n",
    "        row = []\n",
    "\n",
    "        for key in param_grid.keys():\n",
    "            \n",
    "            row.append(params[key])\n",
    "        \n",
    "        row.append(mean_score)\n",
    "        table.append(row)\n",
    "            \n",
    "    print(tabulate.tabulate(table, headers=columns))"
   ]
  },
  {
   "cell_type": "code",
   "execution_count": 19,
   "metadata": {},
   "outputs": [
    {
     "name": "stdout",
     "output_type": "stream",
     "text": [
      "  batch_size    epochs    roc_auc\n",
      "------------  --------  ---------\n",
      "         128         4   0.921958\n",
      "         128         6   0.921423\n",
      "          64         6   0.921402\n",
      "          64         4   0.920898\n"
     ]
    }
   ],
   "source": [
    "grid_search_results(grid_search.cv_results_)"
   ]
  },
  {
   "cell_type": "markdown",
   "metadata": {},
   "source": [
    "#### 8. Create model"
   ]
  },
  {
   "cell_type": "code",
   "execution_count": 20,
   "metadata": {},
   "outputs": [],
   "source": [
    "model = KerasClassifier(build_fn=create_model, epochs=4, batch_size=128, verbose=1)"
   ]
  },
  {
   "cell_type": "markdown",
   "metadata": {},
   "source": [
    "#### 9. Define grid search parameters: `n_dense` and `dropout`"
   ]
  },
  {
   "cell_type": "code",
   "execution_count": 21,
   "metadata": {},
   "outputs": [],
   "source": [
    "n_dense = [64, 128]\n",
    "dropout = [0.2, 0.5]\n",
    "\n",
    "param_grid = {'n_dense': n_dense, 'dropout': dropout}"
   ]
  },
  {
   "cell_type": "code",
   "execution_count": 22,
   "metadata": {},
   "outputs": [
    {
     "data": {
      "text/plain": [
       "{'n_dense': [64, 128], 'dropout': [0.2, 0.5]}"
      ]
     },
     "execution_count": 22,
     "metadata": {},
     "output_type": "execute_result"
    }
   ],
   "source": [
    "param_grid"
   ]
  },
  {
   "cell_type": "code",
   "execution_count": 23,
   "metadata": {},
   "outputs": [],
   "source": [
    "grid_search = GridSearchCV(model, param_grid, cv=3, scoring = 'roc_auc')"
   ]
  },
  {
   "cell_type": "markdown",
   "metadata": {},
   "source": [
    "#### 10. Perform grid search and print results"
   ]
  },
  {
   "cell_type": "code",
   "execution_count": 24,
   "metadata": {},
   "outputs": [
    {
     "name": "stderr",
     "output_type": "stream",
     "text": [
      "C:\\Users\\joaon\\Anaconda3\\envs\\DL-illustrated\\lib\\site-packages\\tensorflow_core\\python\\framework\\indexed_slices.py:433: UserWarning: Converting sparse IndexedSlices to a dense Tensor of unknown shape. This may consume a large amount of memory.\n",
      "  \"Converting sparse IndexedSlices to a dense Tensor of unknown shape. \"\n"
     ]
    },
    {
     "name": "stdout",
     "output_type": "stream",
     "text": [
      "Epoch 1/4\n",
      "16666/16666 [==============================] - 3s 196us/step - loss: 0.5455 - accuracy: 0.7014\n",
      "Epoch 2/4\n",
      "16666/16666 [==============================] - 3s 180us/step - loss: 0.1944 - accuracy: 0.9301\n",
      "Epoch 3/4\n",
      "16666/16666 [==============================] - 3s 168us/step - loss: 0.0329 - accuracy: 0.9956\n",
      "Epoch 4/4\n",
      "16666/16666 [==============================] - 3s 190us/step - loss: 0.0057 - accuracy: 0.9998\n",
      "8334/8334 [==============================] - 0s 30us/step\n"
     ]
    },
    {
     "name": "stderr",
     "output_type": "stream",
     "text": [
      "C:\\Users\\joaon\\Anaconda3\\envs\\DL-illustrated\\lib\\site-packages\\tensorflow_core\\python\\framework\\indexed_slices.py:433: UserWarning: Converting sparse IndexedSlices to a dense Tensor of unknown shape. This may consume a large amount of memory.\n",
      "  \"Converting sparse IndexedSlices to a dense Tensor of unknown shape. \"\n"
     ]
    },
    {
     "name": "stdout",
     "output_type": "stream",
     "text": [
      "Epoch 1/4\n",
      "16667/16667 [==============================] - 3s 188us/step - loss: 0.5372 - accuracy: 0.7077\n",
      "Epoch 2/4\n",
      "16667/16667 [==============================] - 3s 181us/step - loss: 0.1915 - accuracy: 0.9297\n",
      "Epoch 3/4\n",
      "16667/16667 [==============================] - 3s 171us/step - loss: 0.0326 - accuracy: 0.9954\n",
      "Epoch 4/4\n",
      "16667/16667 [==============================] - 3s 178us/step - loss: 0.0062 - accuracy: 0.9999\n",
      "8333/8333 [==============================] - 0s 26us/step\n"
     ]
    },
    {
     "name": "stderr",
     "output_type": "stream",
     "text": [
      "C:\\Users\\joaon\\Anaconda3\\envs\\DL-illustrated\\lib\\site-packages\\tensorflow_core\\python\\framework\\indexed_slices.py:433: UserWarning: Converting sparse IndexedSlices to a dense Tensor of unknown shape. This may consume a large amount of memory.\n",
      "  \"Converting sparse IndexedSlices to a dense Tensor of unknown shape. \"\n"
     ]
    },
    {
     "name": "stdout",
     "output_type": "stream",
     "text": [
      "Epoch 1/4\n",
      "16667/16667 [==============================] - 3s 178us/step - loss: 0.5380 - accuracy: 0.7103\n",
      "Epoch 2/4\n",
      "16667/16667 [==============================] - 3s 172us/step - loss: 0.1922 - accuracy: 0.9293\n",
      "Epoch 3/4\n",
      "16667/16667 [==============================] - 3s 170us/step - loss: 0.0322 - accuracy: 0.9953\n",
      "Epoch 4/4\n",
      "16667/16667 [==============================] - 3s 170us/step - loss: 0.0062 - accuracy: 0.9998\n",
      "8333/8333 [==============================] - 0s 24us/step\n"
     ]
    },
    {
     "name": "stderr",
     "output_type": "stream",
     "text": [
      "C:\\Users\\joaon\\Anaconda3\\envs\\DL-illustrated\\lib\\site-packages\\tensorflow_core\\python\\framework\\indexed_slices.py:433: UserWarning: Converting sparse IndexedSlices to a dense Tensor of unknown shape. This may consume a large amount of memory.\n",
      "  \"Converting sparse IndexedSlices to a dense Tensor of unknown shape. \"\n"
     ]
    },
    {
     "name": "stdout",
     "output_type": "stream",
     "text": [
      "Epoch 1/4\n",
      "16666/16666 [==============================] - 4s 226us/step - loss: 0.5131 - accuracy: 0.7290\n",
      "Epoch 2/4\n",
      "16666/16666 [==============================] - 4s 248us/step - loss: 0.1598 - accuracy: 0.9451\n",
      "Epoch 3/4\n",
      "16666/16666 [==============================] - 4s 227us/step - loss: 0.0208 - accuracy: 0.9973\n",
      "Epoch 4/4\n",
      "16666/16666 [==============================] - 4s 215us/step - loss: 0.0034 - accuracy: 1.0000\n",
      "8334/8334 [==============================] - 0s 36us/step\n"
     ]
    },
    {
     "name": "stderr",
     "output_type": "stream",
     "text": [
      "C:\\Users\\joaon\\Anaconda3\\envs\\DL-illustrated\\lib\\site-packages\\tensorflow_core\\python\\framework\\indexed_slices.py:433: UserWarning: Converting sparse IndexedSlices to a dense Tensor of unknown shape. This may consume a large amount of memory.\n",
      "  \"Converting sparse IndexedSlices to a dense Tensor of unknown shape. \"\n"
     ]
    },
    {
     "name": "stdout",
     "output_type": "stream",
     "text": [
      "Epoch 1/4\n",
      "16667/16667 [==============================] - 4s 242us/step - loss: 0.5351 - accuracy: 0.7116\n",
      "Epoch 2/4\n",
      "16667/16667 [==============================] - 4s 238us/step - loss: 0.1723 - accuracy: 0.9383\n",
      "Epoch 3/4\n",
      "16667/16667 [==============================] - 4s 241us/step - loss: 0.0216 - accuracy: 0.9972\n",
      "Epoch 4/4\n",
      "16667/16667 [==============================] - 4s 239us/step - loss: 0.0035 - accuracy: 0.9999\n",
      "8333/8333 [==============================] - 0s 32us/step\n"
     ]
    },
    {
     "name": "stderr",
     "output_type": "stream",
     "text": [
      "C:\\Users\\joaon\\Anaconda3\\envs\\DL-illustrated\\lib\\site-packages\\tensorflow_core\\python\\framework\\indexed_slices.py:433: UserWarning: Converting sparse IndexedSlices to a dense Tensor of unknown shape. This may consume a large amount of memory.\n",
      "  \"Converting sparse IndexedSlices to a dense Tensor of unknown shape. \"\n"
     ]
    },
    {
     "name": "stdout",
     "output_type": "stream",
     "text": [
      "Epoch 1/4\n",
      "16667/16667 [==============================] - 4s 236us/step - loss: 0.5335 - accuracy: 0.7091\n",
      "Epoch 2/4\n",
      "16667/16667 [==============================] - 4s 254us/step - loss: 0.1694 - accuracy: 0.9387\n",
      "Epoch 3/4\n",
      "16667/16667 [==============================] - 4s 249us/step - loss: 0.0204 - accuracy: 0.9972\n",
      "Epoch 4/4\n",
      "16667/16667 [==============================] - 4s 242us/step - loss: 0.0033 - accuracy: 0.9999\n",
      "8333/8333 [==============================] - 0s 34us/step\n"
     ]
    },
    {
     "name": "stderr",
     "output_type": "stream",
     "text": [
      "C:\\Users\\joaon\\Anaconda3\\envs\\DL-illustrated\\lib\\site-packages\\tensorflow_core\\python\\framework\\indexed_slices.py:433: UserWarning: Converting sparse IndexedSlices to a dense Tensor of unknown shape. This may consume a large amount of memory.\n",
      "  \"Converting sparse IndexedSlices to a dense Tensor of unknown shape. \"\n"
     ]
    },
    {
     "name": "stdout",
     "output_type": "stream",
     "text": [
      "Epoch 1/4\n",
      "16666/16666 [==============================] - 3s 186us/step - loss: 0.5649 - accuracy: 0.6876\n",
      "Epoch 2/4\n",
      "16666/16666 [==============================] - 3s 187us/step - loss: 0.2260 - accuracy: 0.9138\n",
      "Epoch 3/4\n",
      "16666/16666 [==============================] - 4s 229us/step - loss: 0.0523 - accuracy: 0.9900\n",
      "Epoch 4/4\n",
      "16666/16666 [==============================] - 4s 220us/step - loss: 0.0112 - accuracy: 0.9993\n",
      "8334/8334 [==============================] - 0s 34us/step\n"
     ]
    },
    {
     "name": "stderr",
     "output_type": "stream",
     "text": [
      "C:\\Users\\joaon\\Anaconda3\\envs\\DL-illustrated\\lib\\site-packages\\tensorflow_core\\python\\framework\\indexed_slices.py:433: UserWarning: Converting sparse IndexedSlices to a dense Tensor of unknown shape. This may consume a large amount of memory.\n",
      "  \"Converting sparse IndexedSlices to a dense Tensor of unknown shape. \"\n"
     ]
    },
    {
     "name": "stdout",
     "output_type": "stream",
     "text": [
      "Epoch 1/4\n",
      "16667/16667 [==============================] - 3s 181us/step - loss: 0.5665 - accuracy: 0.6893\n",
      "Epoch 2/4\n",
      "16667/16667 [==============================] - 3s 177us/step - loss: 0.2271 - accuracy: 0.9127\n",
      "Epoch 3/4\n",
      "16667/16667 [==============================] - 3s 176us/step - loss: 0.0566 - accuracy: 0.9889\n",
      "Epoch 4/4\n",
      "16667/16667 [==============================] - 3s 179us/step - loss: 0.0120 - accuracy: 0.9993\n",
      "8333/8333 [==============================] - 0s 26us/step\n"
     ]
    },
    {
     "name": "stderr",
     "output_type": "stream",
     "text": [
      "C:\\Users\\joaon\\Anaconda3\\envs\\DL-illustrated\\lib\\site-packages\\tensorflow_core\\python\\framework\\indexed_slices.py:433: UserWarning: Converting sparse IndexedSlices to a dense Tensor of unknown shape. This may consume a large amount of memory.\n",
      "  \"Converting sparse IndexedSlices to a dense Tensor of unknown shape. \"\n"
     ]
    },
    {
     "name": "stdout",
     "output_type": "stream",
     "text": [
      "Epoch 1/4\n",
      "16667/16667 [==============================] - 3s 191us/step - loss: 0.5737 - accuracy: 0.6829\n",
      "Epoch 2/4\n",
      "16667/16667 [==============================] - 3s 192us/step - loss: 0.2357 - accuracy: 0.9089\n",
      "Epoch 3/4\n",
      "16667/16667 [==============================] - 3s 180us/step - loss: 0.0570 - accuracy: 0.9882\n",
      "Epoch 4/4\n",
      "16667/16667 [==============================] - 3s 184us/step - loss: 0.0134 - accuracy: 0.9993\n",
      "8333/8333 [==============================] - 0s 24us/step\n"
     ]
    },
    {
     "name": "stderr",
     "output_type": "stream",
     "text": [
      "C:\\Users\\joaon\\Anaconda3\\envs\\DL-illustrated\\lib\\site-packages\\tensorflow_core\\python\\framework\\indexed_slices.py:433: UserWarning: Converting sparse IndexedSlices to a dense Tensor of unknown shape. This may consume a large amount of memory.\n",
      "  \"Converting sparse IndexedSlices to a dense Tensor of unknown shape. \"\n"
     ]
    },
    {
     "name": "stdout",
     "output_type": "stream",
     "text": [
      "Epoch 1/4\n",
      "16666/16666 [==============================] - 4s 236us/step - loss: 0.5489 - accuracy: 0.6980\n",
      "Epoch 2/4\n",
      "16666/16666 [==============================] - 4s 232us/step - loss: 0.2010 - accuracy: 0.9257\n",
      "Epoch 3/4\n",
      "16666/16666 [==============================] - 4s 232us/step - loss: 0.0329 - accuracy: 0.9952\n",
      "Epoch 4/4\n",
      "16666/16666 [==============================] - 4s 235us/step - loss: 0.0061 - accuracy: 0.9997\n",
      "8334/8334 [==============================] - 0s 34us/step\n"
     ]
    },
    {
     "name": "stderr",
     "output_type": "stream",
     "text": [
      "C:\\Users\\joaon\\Anaconda3\\envs\\DL-illustrated\\lib\\site-packages\\tensorflow_core\\python\\framework\\indexed_slices.py:433: UserWarning: Converting sparse IndexedSlices to a dense Tensor of unknown shape. This may consume a large amount of memory.\n",
      "  \"Converting sparse IndexedSlices to a dense Tensor of unknown shape. \"\n"
     ]
    },
    {
     "name": "stdout",
     "output_type": "stream",
     "text": [
      "Epoch 1/4\n",
      "16667/16667 [==============================] - 4s 246us/step - loss: 0.5602 - accuracy: 0.6959\n",
      "Epoch 2/4\n",
      "16667/16667 [==============================] - 4s 232us/step - loss: 0.2053 - accuracy: 0.9237\n",
      "Epoch 3/4\n",
      "16667/16667 [==============================] - 4s 231us/step - loss: 0.0359 - accuracy: 0.9936\n",
      "Epoch 4/4\n",
      "16667/16667 [==============================] - 4s 237us/step - loss: 0.0062 - accuracy: 0.9999\n",
      "8333/8333 [==============================] - 0s 36us/step\n"
     ]
    },
    {
     "name": "stderr",
     "output_type": "stream",
     "text": [
      "C:\\Users\\joaon\\Anaconda3\\envs\\DL-illustrated\\lib\\site-packages\\tensorflow_core\\python\\framework\\indexed_slices.py:433: UserWarning: Converting sparse IndexedSlices to a dense Tensor of unknown shape. This may consume a large amount of memory.\n",
      "  \"Converting sparse IndexedSlices to a dense Tensor of unknown shape. \"\n"
     ]
    },
    {
     "name": "stdout",
     "output_type": "stream",
     "text": [
      "Epoch 1/4\n",
      "16667/16667 [==============================] - 4s 236us/step - loss: 0.5512 - accuracy: 0.6965\n",
      "Epoch 2/4\n",
      "16667/16667 [==============================] - 4s 238us/step - loss: 0.1985 - accuracy: 0.9246\n",
      "Epoch 3/4\n",
      "16667/16667 [==============================] - 4s 232us/step - loss: 0.0322 - accuracy: 0.9951\n",
      "Epoch 4/4\n",
      "16667/16667 [==============================] - 4s 233us/step - loss: 0.0065 - accuracy: 0.9995\n",
      "8333/8333 [==============================] - 0s 32us/step\n"
     ]
    },
    {
     "name": "stderr",
     "output_type": "stream",
     "text": [
      "C:\\Users\\joaon\\Anaconda3\\envs\\DL-illustrated\\lib\\site-packages\\tensorflow_core\\python\\framework\\indexed_slices.py:433: UserWarning: Converting sparse IndexedSlices to a dense Tensor of unknown shape. This may consume a large amount of memory.\n",
      "  \"Converting sparse IndexedSlices to a dense Tensor of unknown shape. \"\n"
     ]
    },
    {
     "name": "stdout",
     "output_type": "stream",
     "text": [
      "Epoch 1/4\n",
      "25000/25000 [==============================] - 5s 182us/step - loss: 0.4999 - accuracy: 0.7384\n",
      "Epoch 2/4\n",
      "25000/25000 [==============================] - 5s 184us/step - loss: 0.2044 - accuracy: 0.9232\n",
      "Epoch 3/4\n",
      "25000/25000 [==============================] - 4s 179us/step - loss: 0.0520 - accuracy: 0.9882\n",
      "Epoch 4/4\n",
      "25000/25000 [==============================] - 5s 183us/step - loss: 0.0103 - accuracy: 0.9993\n",
      "Wall time: 3min 18s\n"
     ]
    },
    {
     "data": {
      "text/plain": [
       "GridSearchCV(cv=3, error_score=nan,\n",
       "             estimator=<keras.wrappers.scikit_learn.KerasClassifier object at 0x000002128BA2BD48>,\n",
       "             iid='deprecated', n_jobs=None,\n",
       "             param_grid={'dropout': [0.2, 0.5], 'n_dense': [64, 128]},\n",
       "             pre_dispatch='2*n_jobs', refit=True, return_train_score=False,\n",
       "             scoring='roc_auc', verbose=0)"
      ]
     },
     "execution_count": 24,
     "metadata": {},
     "output_type": "execute_result"
    }
   ],
   "source": [
    "%%time\n",
    "\n",
    "grid_search.fit(x_train, y_train)"
   ]
  },
  {
   "cell_type": "code",
   "execution_count": 25,
   "metadata": {},
   "outputs": [
    {
     "data": {
      "text/plain": [
       "{'dropout': 0.5, 'n_dense': 64}"
      ]
     },
     "execution_count": 25,
     "metadata": {},
     "output_type": "execute_result"
    }
   ],
   "source": [
    "grid_search.best_params_"
   ]
  },
  {
   "cell_type": "code",
   "execution_count": 28,
   "metadata": {},
   "outputs": [
    {
     "name": "stdout",
     "output_type": "stream",
     "text": [
      "  n_dense    dropout    roc_auc\n",
      "---------  ---------  ---------\n",
      "       64        0.5   0.921133\n",
      "       64        0.2   0.919806\n",
      "      128        0.5   0.919114\n",
      "      128        0.2   0.917623\n"
     ]
    }
   ],
   "source": [
    "grid_search_results(grid_search.cv_results_)"
   ]
  },
  {
   "cell_type": "code",
   "execution_count": null,
   "metadata": {},
   "outputs": [],
   "source": []
  }
 ],
 "metadata": {
  "kernelspec": {
   "display_name": "Python 3",
   "language": "python",
   "name": "python3"
  },
  "language_info": {
   "codemirror_mode": {
    "name": "ipython",
    "version": 3
   },
   "file_extension": ".py",
   "mimetype": "text/x-python",
   "name": "python",
   "nbconvert_exporter": "python",
   "pygments_lexer": "ipython3",
   "version": "3.7.6"
  }
 },
 "nbformat": 4,
 "nbformat_minor": 4
}
