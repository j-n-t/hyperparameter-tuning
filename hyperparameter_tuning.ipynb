{
 "cells": [
  {
   "cell_type": "markdown",
   "metadata": {},
   "source": [
    "# Hyperparameter Tuning"
   ]
  },
  {
   "cell_type": "markdown",
   "metadata": {},
   "source": [
    "In this project we will test different approaches to hyperparameter tuning.\n",
    "\n",
    "We will use some of the models we've created in the [Text Classification with Neural Networks](https://github.com/j-n-t/natural_language_processing/blob/master/Text%20Classification%20with%20Neural%20Networks.ipynb) notebook and will try to improve their performance.\n",
    "\n",
    "In order to do that, we will test the following methods:\n",
    "\n",
    "* **Grid Search**\n",
    "* **Random Search**"
   ]
  },
  {
   "cell_type": "markdown",
   "metadata": {},
   "source": [
    "### Step 1"
   ]
  },
  {
   "cell_type": "markdown",
   "metadata": {},
   "source": [
    "We'll start by using **sklearn's GridSearchCV** on our simplest model, the **Dense classifier**. "
   ]
  },
  {
   "cell_type": "markdown",
   "metadata": {},
   "source": [
    "#### 1. Perform initial imports"
   ]
  },
  {
   "cell_type": "code",
   "execution_count": 1,
   "metadata": {},
   "outputs": [
    {
     "name": "stderr",
     "output_type": "stream",
     "text": [
      "Using TensorFlow backend.\n"
     ]
    }
   ],
   "source": [
    "import keras\n",
    "from keras.datasets import imdb\n",
    "from keras.preprocessing.sequence import pad_sequences\n",
    "from keras.models import Sequential\n",
    "from keras.layers import Dense, Flatten, Dropout\n",
    "from keras.layers import Embedding\n",
    "#from keras.layers import SpatialDropout1D, Conv1D, GlobalMaxPooling1D\n",
    "#from keras.layers import LSTM\n",
    "#from keras.layers.wrappers import Bidirectional\n",
    "#from keras.callbacks import ModelCheckpoint\n",
    "\n",
    "from keras.wrappers.scikit_learn import KerasClassifier\n",
    "\n",
    "from sklearn.model_selection import GridSearchCV\n",
    "\n",
    "import os\n",
    "\n",
    "import numpy as np\n",
    "import pandas as pd"
   ]
  },
  {
   "cell_type": "markdown",
   "metadata": {},
   "source": [
    "#### 2. Load data"
   ]
  },
  {
   "cell_type": "code",
   "execution_count": 2,
   "metadata": {},
   "outputs": [],
   "source": [
    "# create function to load data\n",
    "\n",
    "def load_data(n_unique_words, n_words_to_skip):\n",
    "    (x_train, y_train), (x_test, y_test) = imdb.load_data(num_words=n_unique_words, \n",
    "                                                          skip_top=n_words_to_skip)\n",
    "    return (x_train, y_train), (x_test, y_test)"
   ]
  },
  {
   "cell_type": "code",
   "execution_count": 3,
   "metadata": {},
   "outputs": [],
   "source": [
    "n_unique_words = 10000 #number of most frequent words to consider\n",
    "n_words_to_skip = 50 #number of most frequent words to ignore\n",
    "\n",
    "(x_train, y_train), (x_test, y_test) = load_data(n_unique_words, n_words_to_skip)"
   ]
  },
  {
   "cell_type": "code",
   "execution_count": 4,
   "metadata": {},
   "outputs": [
    {
     "data": {
      "text/plain": [
       "218"
      ]
     },
     "execution_count": 4,
     "metadata": {},
     "output_type": "execute_result"
    }
   ],
   "source": [
    "len(x_train[0])"
   ]
  },
  {
   "cell_type": "markdown",
   "metadata": {},
   "source": [
    "#### 3. Preprocess data"
   ]
  },
  {
   "cell_type": "code",
   "execution_count": 5,
   "metadata": {},
   "outputs": [],
   "source": [
    "# create function to preprocess data\n",
    "\n",
    "def preprocess_data(x_train, x_test, max_review_length, pad_type, trunc_type):\n",
    "    x_train = pad_sequences(x_train, maxlen=max_review_length, \n",
    "                            padding=pad_type, truncating=trunc_type, value=0)\n",
    "\n",
    "    x_test = pad_sequences(x_test, maxlen=max_review_length, \n",
    "                           padding=pad_type, truncating=trunc_type, value=0)\n",
    "    \n",
    "    return x_train, x_test"
   ]
  },
  {
   "cell_type": "code",
   "execution_count": 6,
   "metadata": {},
   "outputs": [],
   "source": [
    "max_review_length = 100 #maximum review length of 100 words\n",
    "pad_type = 'pre' #add padding characters to the start of every review < 100 words\n",
    "trunc_type = 'pre' #remove words from the beginning of every review > 100 words\n",
    "\n",
    "x_train, x_test = preprocess_data(x_train, x_test, max_review_length, pad_type, trunc_type)"
   ]
  },
  {
   "cell_type": "code",
   "execution_count": 7,
   "metadata": {},
   "outputs": [
    {
     "data": {
      "text/plain": [
       "array([1415,    2,    2,    2,    2,  215,    2,   77,   52,    2,    2,\n",
       "        407,    2,   82,    2,    2,    2,  107,  117, 5952,    2,  256,\n",
       "          2,    2,    2, 3766,    2,  723,    2,   71,    2,  530,  476,\n",
       "          2,  400,  317,    2,    2,    2,    2, 1029,    2,  104,   88,\n",
       "          2,  381,    2,  297,   98,    2, 2071,   56,    2,  141,    2,\n",
       "        194, 7486,    2,    2,  226,    2,    2,  134,  476,    2,  480,\n",
       "          2,  144,    2, 5535,    2,   51,    2,    2,  224,   92,    2,\n",
       "        104,    2,  226,   65,    2,    2, 1334,   88,    2,    2,  283,\n",
       "          2,    2, 4472,  113,  103,    2,    2,    2, 5345,    2,  178,\n",
       "          2])"
      ]
     },
     "execution_count": 7,
     "metadata": {},
     "output_type": "execute_result"
    }
   ],
   "source": [
    "x_train[0]"
   ]
  },
  {
   "cell_type": "code",
   "execution_count": 8,
   "metadata": {},
   "outputs": [
    {
     "data": {
      "text/plain": [
       "100"
      ]
     },
     "execution_count": 8,
     "metadata": {},
     "output_type": "execute_result"
    }
   ],
   "source": [
    "len(x_train[0])"
   ]
  },
  {
   "cell_type": "markdown",
   "metadata": {},
   "source": [
    "#### 4. Design and compile model"
   ]
  },
  {
   "cell_type": "code",
   "execution_count": 9,
   "metadata": {},
   "outputs": [],
   "source": [
    "def create_model(dropout=0.5, n_dense=64):\n",
    "\n",
    "    model = Sequential(name='model_dense')\n",
    "    \n",
    "    model.add(Embedding(10000, 64, input_length=100))\n",
    "    model.add(Flatten())\n",
    "    \n",
    "    model.add(Dense(n_dense, activation='relu'))\n",
    "    model.add(Dropout(dropout))\n",
    "    \n",
    "    model.add(Dense(1, activation='sigmoid'))\n",
    "    \n",
    "    model.compile(loss='binary_crossentropy', optimizer='adam', metrics=['accuracy'])\n",
    "    \n",
    "    return model"
   ]
  },
  {
   "cell_type": "markdown",
   "metadata": {},
   "source": [
    "#### 5. Create model"
   ]
  },
  {
   "cell_type": "code",
   "execution_count": 10,
   "metadata": {},
   "outputs": [],
   "source": [
    "model = KerasClassifier(build_fn=create_model, verbose=1)"
   ]
  },
  {
   "cell_type": "markdown",
   "metadata": {},
   "source": [
    "In our first grid search, we'll try to tune the hyperparameters `epochs` and `batch size`."
   ]
  },
  {
   "cell_type": "markdown",
   "metadata": {},
   "source": [
    "#### 6. Define grid search parameters"
   ]
  },
  {
   "cell_type": "code",
   "execution_count": 11,
   "metadata": {},
   "outputs": [],
   "source": [
    "epochs = [2, 4, 6]\n",
    "batch_size = [64, 128]\n",
    "\n",
    "param_grid = {'epochs': epochs, 'batch_size': batch_size}"
   ]
  },
  {
   "cell_type": "code",
   "execution_count": 12,
   "metadata": {},
   "outputs": [
    {
     "data": {
      "text/plain": [
       "{'epochs': [2, 4, 6], 'batch_size': [64, 128]}"
      ]
     },
     "execution_count": 12,
     "metadata": {},
     "output_type": "execute_result"
    }
   ],
   "source": [
    "param_grid"
   ]
  },
  {
   "cell_type": "code",
   "execution_count": 13,
   "metadata": {},
   "outputs": [],
   "source": [
    "grid_search = GridSearchCV(model, param_grid, cv=3, scoring = 'roc_auc')"
   ]
  },
  {
   "cell_type": "markdown",
   "metadata": {},
   "source": [
    "#### 7. Perform grid search and print results"
   ]
  },
  {
   "cell_type": "code",
   "execution_count": 14,
   "metadata": {},
   "outputs": [
    {
     "name": "stderr",
     "output_type": "stream",
     "text": [
      "C:\\Users\\joaon\\Anaconda3\\envs\\DL-illustrated\\lib\\site-packages\\tensorflow_core\\python\\framework\\indexed_slices.py:433: UserWarning: Converting sparse IndexedSlices to a dense Tensor of unknown shape. This may consume a large amount of memory.\n",
      "  \"Converting sparse IndexedSlices to a dense Tensor of unknown shape. \"\n"
     ]
    },
    {
     "name": "stdout",
     "output_type": "stream",
     "text": [
      "Epoch 1/2\n",
      "16666/16666 [==============================] - 7s 395us/step - loss: 0.5391 - accuracy: 0.7074\n",
      "Epoch 2/2\n",
      "16666/16666 [==============================] - 6s 367us/step - loss: 0.1985 - accuracy: 0.9262\n",
      "8334/8334 [==============================] - 0s 49us/step\n"
     ]
    },
    {
     "name": "stderr",
     "output_type": "stream",
     "text": [
      "C:\\Users\\joaon\\Anaconda3\\envs\\DL-illustrated\\lib\\site-packages\\tensorflow_core\\python\\framework\\indexed_slices.py:433: UserWarning: Converting sparse IndexedSlices to a dense Tensor of unknown shape. This may consume a large amount of memory.\n",
      "  \"Converting sparse IndexedSlices to a dense Tensor of unknown shape. \"\n"
     ]
    },
    {
     "name": "stdout",
     "output_type": "stream",
     "text": [
      "Epoch 1/2\n",
      "16667/16667 [==============================] - 8s 453us/step - loss: 0.5450 - accuracy: 0.6998\n",
      "Epoch 2/2\n",
      "16667/16667 [==============================] - 7s 416us/step - loss: 0.2114 - accuracy: 0.9222\n",
      "8333/8333 [==============================] - 0s 43us/step\n"
     ]
    },
    {
     "name": "stderr",
     "output_type": "stream",
     "text": [
      "C:\\Users\\joaon\\Anaconda3\\envs\\DL-illustrated\\lib\\site-packages\\tensorflow_core\\python\\framework\\indexed_slices.py:433: UserWarning: Converting sparse IndexedSlices to a dense Tensor of unknown shape. This may consume a large amount of memory.\n",
      "  \"Converting sparse IndexedSlices to a dense Tensor of unknown shape. \"\n"
     ]
    },
    {
     "name": "stdout",
     "output_type": "stream",
     "text": [
      "Epoch 1/2\n",
      "16667/16667 [==============================] - 6s 373us/step - loss: 0.5365 - accuracy: 0.7077\n",
      "Epoch 2/2\n",
      "16667/16667 [==============================] - 6s 385us/step - loss: 0.2107 - accuracy: 0.9209\n",
      "8333/8333 [==============================] - 0s 51us/step\n"
     ]
    },
    {
     "name": "stderr",
     "output_type": "stream",
     "text": [
      "C:\\Users\\joaon\\Anaconda3\\envs\\DL-illustrated\\lib\\site-packages\\tensorflow_core\\python\\framework\\indexed_slices.py:433: UserWarning: Converting sparse IndexedSlices to a dense Tensor of unknown shape. This may consume a large amount of memory.\n",
      "  \"Converting sparse IndexedSlices to a dense Tensor of unknown shape. \"\n"
     ]
    },
    {
     "name": "stdout",
     "output_type": "stream",
     "text": [
      "Epoch 1/4\n",
      "16666/16666 [==============================] - 6s 382us/step - loss: 0.5535 - accuracy: 0.6919\n",
      "Epoch 2/4\n",
      "16666/16666 [==============================] - 7s 405us/step - loss: 0.2122 - accuracy: 0.9203\n",
      "Epoch 3/4\n",
      "16666/16666 [==============================] - 6s 390us/step - loss: 0.0304 - accuracy: 0.9933\n",
      "Epoch 4/4\n",
      "16666/16666 [==============================] - 6s 383us/step - loss: 0.0052 - accuracy: 0.9995\n",
      "8334/8334 [==============================] - 0s 43us/step\n"
     ]
    },
    {
     "name": "stderr",
     "output_type": "stream",
     "text": [
      "C:\\Users\\joaon\\Anaconda3\\envs\\DL-illustrated\\lib\\site-packages\\tensorflow_core\\python\\framework\\indexed_slices.py:433: UserWarning: Converting sparse IndexedSlices to a dense Tensor of unknown shape. This may consume a large amount of memory.\n",
      "  \"Converting sparse IndexedSlices to a dense Tensor of unknown shape. \"\n"
     ]
    },
    {
     "name": "stdout",
     "output_type": "stream",
     "text": [
      "Epoch 1/4\n",
      "16667/16667 [==============================] - 6s 379us/step - loss: 0.5474 - accuracy: 0.6976\n",
      "Epoch 2/4\n",
      "16667/16667 [==============================] - 7s 404us/step - loss: 0.2138 - accuracy: 0.9183\n",
      "Epoch 3/4\n",
      "16667/16667 [==============================] - 7s 392us/step - loss: 0.0325 - accuracy: 0.9931\n",
      "Epoch 4/4\n",
      "16667/16667 [==============================] - 7s 415us/step - loss: 0.0051 - accuracy: 0.9999\n",
      "8333/8333 [==============================] - 0s 52us/step\n"
     ]
    },
    {
     "name": "stderr",
     "output_type": "stream",
     "text": [
      "C:\\Users\\joaon\\Anaconda3\\envs\\DL-illustrated\\lib\\site-packages\\tensorflow_core\\python\\framework\\indexed_slices.py:433: UserWarning: Converting sparse IndexedSlices to a dense Tensor of unknown shape. This may consume a large amount of memory.\n",
      "  \"Converting sparse IndexedSlices to a dense Tensor of unknown shape. \"\n"
     ]
    },
    {
     "name": "stdout",
     "output_type": "stream",
     "text": [
      "Epoch 1/4\n",
      "16667/16667 [==============================] - 7s 391us/step - loss: 0.5566 - accuracy: 0.6908\n",
      "Epoch 2/4\n",
      "16667/16667 [==============================] - 7s 426us/step - loss: 0.2204 - accuracy: 0.9180\n",
      "Epoch 3/4\n",
      "16667/16667 [==============================] - 7s 399us/step - loss: 0.0366 - accuracy: 0.9926\n",
      "Epoch 4/4\n",
      "16667/16667 [==============================] - 7s 417us/step - loss: 0.0061 - accuracy: 0.9995\n",
      "8333/8333 [==============================] - 0s 52us/step\n"
     ]
    },
    {
     "name": "stderr",
     "output_type": "stream",
     "text": [
      "C:\\Users\\joaon\\Anaconda3\\envs\\DL-illustrated\\lib\\site-packages\\tensorflow_core\\python\\framework\\indexed_slices.py:433: UserWarning: Converting sparse IndexedSlices to a dense Tensor of unknown shape. This may consume a large amount of memory.\n",
      "  \"Converting sparse IndexedSlices to a dense Tensor of unknown shape. \"\n"
     ]
    },
    {
     "name": "stdout",
     "output_type": "stream",
     "text": [
      "Epoch 1/6\n",
      "16666/16666 [==============================] - 7s 419us/step - loss: 0.5448 - accuracy: 0.69870s - l\n",
      "Epoch 2/6\n",
      "16666/16666 [==============================] - 7s 420us/step - loss: 0.2193 - accuracy: 0.9184\n",
      "Epoch 3/6\n",
      "16666/16666 [==============================] - 7s 425us/step - loss: 0.0390 - accuracy: 0.9912\n",
      "Epoch 4/6\n",
      "16666/16666 [==============================] - 7s 427us/step - loss: 0.0057 - accuracy: 0.9997\n",
      "Epoch 5/6\n",
      "16666/16666 [==============================] - 7s 435us/step - loss: 0.0020 - accuracy: 1.0000\n",
      "Epoch 6/6\n",
      "16666/16666 [==============================] - 7s 417us/step - loss: 0.0011 - accuracy: 1.0000\n",
      "8334/8334 [==============================] - 0s 51us/step\n"
     ]
    },
    {
     "name": "stderr",
     "output_type": "stream",
     "text": [
      "C:\\Users\\joaon\\Anaconda3\\envs\\DL-illustrated\\lib\\site-packages\\tensorflow_core\\python\\framework\\indexed_slices.py:433: UserWarning: Converting sparse IndexedSlices to a dense Tensor of unknown shape. This may consume a large amount of memory.\n",
      "  \"Converting sparse IndexedSlices to a dense Tensor of unknown shape. \"\n"
     ]
    },
    {
     "name": "stdout",
     "output_type": "stream",
     "text": [
      "Epoch 1/6\n",
      "16667/16667 [==============================] - 7s 407us/step - loss: 0.5673 - accuracy: 0.6781\n",
      "Epoch 2/6\n",
      "16667/16667 [==============================] - 7s 404us/step - loss: 0.2284 - accuracy: 0.9126\n",
      "Epoch 3/6\n",
      "16667/16667 [==============================] - 6s 389us/step - loss: 0.0394 - accuracy: 0.9908\n",
      "Epoch 4/6\n",
      "16667/16667 [==============================] - 7s 397us/step - loss: 0.0059 - accuracy: 0.9998\n",
      "Epoch 5/6\n",
      "16667/16667 [==============================] - 7s 395us/step - loss: 0.0021 - accuracy: 0.9999\n",
      "Epoch 6/6\n",
      "16667/16667 [==============================] - 6s 386us/step - loss: 0.0012 - accuracy: 1.0000\n",
      "8333/8333 [==============================] - 0s 41us/step\n"
     ]
    },
    {
     "name": "stderr",
     "output_type": "stream",
     "text": [
      "C:\\Users\\joaon\\Anaconda3\\envs\\DL-illustrated\\lib\\site-packages\\tensorflow_core\\python\\framework\\indexed_slices.py:433: UserWarning: Converting sparse IndexedSlices to a dense Tensor of unknown shape. This may consume a large amount of memory.\n",
      "  \"Converting sparse IndexedSlices to a dense Tensor of unknown shape. \"\n"
     ]
    },
    {
     "name": "stdout",
     "output_type": "stream",
     "text": [
      "Epoch 1/6\n",
      "16667/16667 [==============================] - 7s 423us/step - loss: 0.5572 - accuracy: 0.6888\n",
      "Epoch 2/6\n",
      "16667/16667 [==============================] - 7s 422us/step - loss: 0.2215 - accuracy: 0.9174\n",
      "Epoch 3/6\n",
      "16667/16667 [==============================] - 7s 411us/step - loss: 0.0381 - accuracy: 0.9923\n",
      "Epoch 4/6\n",
      "16667/16667 [==============================] - 6s 372us/step - loss: 0.0058 - accuracy: 0.9996\n",
      "Epoch 5/6\n",
      "16667/16667 [==============================] - 7s 392us/step - loss: 0.0023 - accuracy: 0.9999\n",
      "Epoch 6/6\n",
      "16667/16667 [==============================] - 6s 371us/step - loss: 0.0012 - accuracy: 1.0000\n",
      "8333/8333 [==============================] - 0s 45us/step\n"
     ]
    },
    {
     "name": "stderr",
     "output_type": "stream",
     "text": [
      "C:\\Users\\joaon\\Anaconda3\\envs\\DL-illustrated\\lib\\site-packages\\tensorflow_core\\python\\framework\\indexed_slices.py:433: UserWarning: Converting sparse IndexedSlices to a dense Tensor of unknown shape. This may consume a large amount of memory.\n",
      "  \"Converting sparse IndexedSlices to a dense Tensor of unknown shape. \"\n"
     ]
    },
    {
     "name": "stdout",
     "output_type": "stream",
     "text": [
      "Epoch 1/2\n",
      "16666/16666 [==============================] - 4s 219us/step - loss: 0.6290 - accuracy: 0.6315\n",
      "Epoch 2/2\n",
      "16666/16666 [==============================] - 4s 211us/step - loss: 0.2918 - accuracy: 0.8830\n",
      "8334/8334 [==============================] - 0s 30us/step\n"
     ]
    },
    {
     "name": "stderr",
     "output_type": "stream",
     "text": [
      "C:\\Users\\joaon\\Anaconda3\\envs\\DL-illustrated\\lib\\site-packages\\tensorflow_core\\python\\framework\\indexed_slices.py:433: UserWarning: Converting sparse IndexedSlices to a dense Tensor of unknown shape. This may consume a large amount of memory.\n",
      "  \"Converting sparse IndexedSlices to a dense Tensor of unknown shape. \"\n"
     ]
    },
    {
     "name": "stdout",
     "output_type": "stream",
     "text": [
      "Epoch 1/2\n",
      "16667/16667 [==============================] - 4s 232us/step - loss: 0.6348 - accuracy: 0.6282\n",
      "Epoch 2/2\n",
      "16667/16667 [==============================] - 4s 236us/step - loss: 0.2924 - accuracy: 0.8820\n",
      "8333/8333 [==============================] - 0s 32us/step\n"
     ]
    },
    {
     "name": "stderr",
     "output_type": "stream",
     "text": [
      "C:\\Users\\joaon\\Anaconda3\\envs\\DL-illustrated\\lib\\site-packages\\tensorflow_core\\python\\framework\\indexed_slices.py:433: UserWarning: Converting sparse IndexedSlices to a dense Tensor of unknown shape. This may consume a large amount of memory.\n",
      "  \"Converting sparse IndexedSlices to a dense Tensor of unknown shape. \"\n"
     ]
    },
    {
     "name": "stdout",
     "output_type": "stream",
     "text": [
      "Epoch 1/2\n",
      "16667/16667 [==============================] - 4s 231us/step - loss: 0.6269 - accuracy: 0.6384\n",
      "Epoch 2/2\n",
      "16667/16667 [==============================] - 4s 243us/step - loss: 0.2801 - accuracy: 0.8870\n",
      "8333/8333 [==============================] - 0s 47us/step\n"
     ]
    },
    {
     "name": "stderr",
     "output_type": "stream",
     "text": [
      "C:\\Users\\joaon\\Anaconda3\\envs\\DL-illustrated\\lib\\site-packages\\tensorflow_core\\python\\framework\\indexed_slices.py:433: UserWarning: Converting sparse IndexedSlices to a dense Tensor of unknown shape. This may consume a large amount of memory.\n",
      "  \"Converting sparse IndexedSlices to a dense Tensor of unknown shape. \"\n"
     ]
    },
    {
     "name": "stdout",
     "output_type": "stream",
     "text": [
      "Epoch 1/4\n",
      "16666/16666 [==============================] - 4s 262us/step - loss: 0.6267 - accuracy: 0.6343\n",
      "Epoch 2/4\n",
      "16666/16666 [==============================] - 4s 262us/step - loss: 0.2836 - accuracy: 0.8882\n",
      "Epoch 3/4\n",
      "16666/16666 [==============================] - 4s 249us/step - loss: 0.0740 - accuracy: 0.9817\n",
      "Epoch 4/4\n",
      "16666/16666 [==============================] - 4s 219us/step - loss: 0.0126 - accuracy: 0.9990\n",
      "8334/8334 [==============================] - 0s 39us/step\n"
     ]
    },
    {
     "name": "stderr",
     "output_type": "stream",
     "text": [
      "C:\\Users\\joaon\\Anaconda3\\envs\\DL-illustrated\\lib\\site-packages\\tensorflow_core\\python\\framework\\indexed_slices.py:433: UserWarning: Converting sparse IndexedSlices to a dense Tensor of unknown shape. This may consume a large amount of memory.\n",
      "  \"Converting sparse IndexedSlices to a dense Tensor of unknown shape. \"\n"
     ]
    },
    {
     "name": "stdout",
     "output_type": "stream",
     "text": [
      "Epoch 1/4\n",
      "16667/16667 [==============================] - 4s 218us/step - loss: 0.6170 - accuracy: 0.6420\n",
      "Epoch 2/4\n",
      "16667/16667 [==============================] - 3s 208us/step - loss: 0.2765 - accuracy: 0.8886\n",
      "Epoch 3/4\n",
      "16667/16667 [==============================] - 3s 209us/step - loss: 0.0785 - accuracy: 0.9791\n",
      "Epoch 4/4\n",
      "16667/16667 [==============================] - 4s 217us/step - loss: 0.0138 - accuracy: 0.9985\n",
      "8333/8333 [==============================] - 0s 34us/step\n"
     ]
    },
    {
     "name": "stderr",
     "output_type": "stream",
     "text": [
      "C:\\Users\\joaon\\Anaconda3\\envs\\DL-illustrated\\lib\\site-packages\\tensorflow_core\\python\\framework\\indexed_slices.py:433: UserWarning: Converting sparse IndexedSlices to a dense Tensor of unknown shape. This may consume a large amount of memory.\n",
      "  \"Converting sparse IndexedSlices to a dense Tensor of unknown shape. \"\n"
     ]
    },
    {
     "name": "stdout",
     "output_type": "stream",
     "text": [
      "Epoch 1/4\n",
      "16667/16667 [==============================] - 4s 219us/step - loss: 0.6321 - accuracy: 0.6274\n",
      "Epoch 2/4\n",
      "16667/16667 [==============================] - 3s 208us/step - loss: 0.2898 - accuracy: 0.8829\n",
      "Epoch 3/4\n",
      "16667/16667 [==============================] - 4s 241us/step - loss: 0.0869 - accuracy: 0.9769\n",
      "Epoch 4/4\n",
      "16667/16667 [==============================] - 5s 282us/step - loss: 0.0164 - accuracy: 0.9983\n",
      "8333/8333 [==============================] - 0s 41us/step\n"
     ]
    },
    {
     "name": "stderr",
     "output_type": "stream",
     "text": [
      "C:\\Users\\joaon\\Anaconda3\\envs\\DL-illustrated\\lib\\site-packages\\tensorflow_core\\python\\framework\\indexed_slices.py:433: UserWarning: Converting sparse IndexedSlices to a dense Tensor of unknown shape. This may consume a large amount of memory.\n",
      "  \"Converting sparse IndexedSlices to a dense Tensor of unknown shape. \"\n"
     ]
    },
    {
     "name": "stdout",
     "output_type": "stream",
     "text": [
      "Epoch 1/6\n",
      "16666/16666 [==============================] - 4s 229us/step - loss: 0.5916 - accuracy: 0.6662\n",
      "Epoch 2/6\n",
      "16666/16666 [==============================] - 4s 260us/step - loss: 0.2609 - accuracy: 0.8977\n",
      "Epoch 3/6\n",
      "16666/16666 [==============================] - 4s 252us/step - loss: 0.0755 - accuracy: 0.9820\n",
      "Epoch 4/6\n",
      "16666/16666 [==============================] - 4s 252us/step - loss: 0.0152 - accuracy: 0.9987\n",
      "Epoch 5/6\n",
      "16666/16666 [==============================] - 4s 256us/step - loss: 0.0051 - accuracy: 0.9997\n",
      "Epoch 6/6\n",
      "16666/16666 [==============================] - 4s 226us/step - loss: 0.0024 - accuracy: 1.0000\n",
      "8334/8334 [==============================] - 0s 37us/step\n"
     ]
    },
    {
     "name": "stderr",
     "output_type": "stream",
     "text": [
      "C:\\Users\\joaon\\Anaconda3\\envs\\DL-illustrated\\lib\\site-packages\\tensorflow_core\\python\\framework\\indexed_slices.py:433: UserWarning: Converting sparse IndexedSlices to a dense Tensor of unknown shape. This may consume a large amount of memory.\n",
      "  \"Converting sparse IndexedSlices to a dense Tensor of unknown shape. \"\n"
     ]
    },
    {
     "name": "stdout",
     "output_type": "stream",
     "text": [
      "Epoch 1/6\n",
      "16667/16667 [==============================] - 4s 244us/step - loss: 0.6297 - accuracy: 0.6299\n",
      "Epoch 2/6\n",
      "16667/16667 [==============================] - 4s 211us/step - loss: 0.2849 - accuracy: 0.8869\n",
      "Epoch 3/6\n",
      "16667/16667 [==============================] - 4s 230us/step - loss: 0.0864 - accuracy: 0.9783\n",
      "Epoch 4/6\n",
      "16667/16667 [==============================] - 4s 228us/step - loss: 0.0147 - accuracy: 0.9984\n",
      "Epoch 5/6\n",
      "16667/16667 [==============================] - 4s 222us/step - loss: 0.0049 - accuracy: 0.9998\n",
      "Epoch 6/6\n",
      "16667/16667 [==============================] - 4s 268us/step - loss: 0.0021 - accuracy: 1.0000\n",
      "8333/8333 [==============================] - 0s 30us/step\n"
     ]
    },
    {
     "name": "stderr",
     "output_type": "stream",
     "text": [
      "C:\\Users\\joaon\\Anaconda3\\envs\\DL-illustrated\\lib\\site-packages\\tensorflow_core\\python\\framework\\indexed_slices.py:433: UserWarning: Converting sparse IndexedSlices to a dense Tensor of unknown shape. This may consume a large amount of memory.\n",
      "  \"Converting sparse IndexedSlices to a dense Tensor of unknown shape. \"\n"
     ]
    },
    {
     "name": "stdout",
     "output_type": "stream",
     "text": [
      "Epoch 1/6\n",
      "16667/16667 [==============================] - 3s 202us/step - loss: 0.6267 - accuracy: 0.6389\n",
      "Epoch 2/6\n",
      "16667/16667 [==============================] - 3s 196us/step - loss: 0.2872 - accuracy: 0.8867\n",
      "Epoch 3/6\n",
      "16667/16667 [==============================] - 3s 187us/step - loss: 0.0932 - accuracy: 0.9751\n",
      "Epoch 4/6\n",
      "16667/16667 [==============================] - 3s 191us/step - loss: 0.0171 - accuracy: 0.9980\n",
      "Epoch 5/6\n",
      "16667/16667 [==============================] - 3s 189us/step - loss: 0.0047 - accuracy: 0.9999\n",
      "Epoch 6/6\n",
      "16667/16667 [==============================] - 3s 187us/step - loss: 0.0024 - accuracy: 1.0000\n",
      "8333/8333 [==============================] - 0s 30us/step\n"
     ]
    },
    {
     "name": "stderr",
     "output_type": "stream",
     "text": [
      "C:\\Users\\joaon\\Anaconda3\\envs\\DL-illustrated\\lib\\site-packages\\tensorflow_core\\python\\framework\\indexed_slices.py:433: UserWarning: Converting sparse IndexedSlices to a dense Tensor of unknown shape. This may consume a large amount of memory.\n",
      "  \"Converting sparse IndexedSlices to a dense Tensor of unknown shape. \"\n"
     ]
    },
    {
     "name": "stdout",
     "output_type": "stream",
     "text": [
      "Epoch 1/2\n",
      "25000/25000 [==============================] - 5s 187us/step - loss: 0.5424 - accuracy: 0.7066\n",
      "Epoch 2/2\n",
      "25000/25000 [==============================] - 5s 199us/step - loss: 0.2389 - accuracy: 0.9086\n",
      "Wall time: 6min 54s\n"
     ]
    },
    {
     "data": {
      "text/plain": [
       "GridSearchCV(cv=3, error_score=nan,\n",
       "             estimator=<keras.wrappers.scikit_learn.KerasClassifier object at 0x000001BD051FB208>,\n",
       "             iid='deprecated', n_jobs=None,\n",
       "             param_grid={'batch_size': [64, 128], 'epochs': [2, 4, 6]},\n",
       "             pre_dispatch='2*n_jobs', refit=True, return_train_score=False,\n",
       "             scoring='roc_auc', verbose=0)"
      ]
     },
     "execution_count": 14,
     "metadata": {},
     "output_type": "execute_result"
    }
   ],
   "source": [
    "%%time\n",
    "\n",
    "grid_search.fit(x_train, y_train)"
   ]
  },
  {
   "cell_type": "code",
   "execution_count": 16,
   "metadata": {},
   "outputs": [
    {
     "data": {
      "text/plain": [
       "{'batch_size': 128, 'epochs': 2}"
      ]
     },
     "execution_count": 16,
     "metadata": {},
     "output_type": "execute_result"
    }
   ],
   "source": [
    "grid_search.best_params_"
   ]
  },
  {
   "cell_type": "code",
   "execution_count": 17,
   "metadata": {},
   "outputs": [
    {
     "data": {
      "text/plain": [
       "0.930216994468223"
      ]
     },
     "execution_count": 17,
     "metadata": {},
     "output_type": "execute_result"
    }
   ],
   "source": [
    "grid_search.best_score_"
   ]
  },
  {
   "cell_type": "code",
   "execution_count": 27,
   "metadata": {},
   "outputs": [],
   "source": [
    "# create function to print results\n",
    "\n",
    "import tabulate\n",
    "\n",
    "def grid_search_results(cvres):\n",
    "    \n",
    "    columns = []\n",
    "    table = []\n",
    "    \n",
    "    for key in param_grid.keys():\n",
    "\n",
    "        columns.append(key)\n",
    "    \n",
    "    columns.append(grid_search.scoring)\n",
    "\n",
    "    for mean_score, params in sorted(zip(cvres['mean_test_score'], cvres['params']), reverse=True):\n",
    "        \n",
    "        row = []\n",
    "\n",
    "        for key in param_grid.keys():\n",
    "            \n",
    "            row.append(params[key])\n",
    "        \n",
    "        row.append(mean_score)\n",
    "        table.append(row)\n",
    "            \n",
    "    print(tabulate.tabulate(table, headers=columns, tablefmt='fancy_grid'))"
   ]
  },
  {
   "cell_type": "code",
   "execution_count": 28,
   "metadata": {},
   "outputs": [
    {
     "name": "stdout",
     "output_type": "stream",
     "text": [
      "╒══════════╤══════════════╤═══════════╕\n",
      "│   epochs │   batch_size │   roc_auc │\n",
      "╞══════════╪══════════════╪═══════════╡\n",
      "│        2 │          128 │  0.930217 │\n",
      "├──────────┼──────────────┼───────────┤\n",
      "│        6 │          128 │  0.923687 │\n",
      "├──────────┼──────────────┼───────────┤\n",
      "│        4 │          128 │  0.923328 │\n",
      "├──────────┼──────────────┼───────────┤\n",
      "│        6 │           64 │  0.922947 │\n",
      "├──────────┼──────────────┼───────────┤\n",
      "│        2 │           64 │  0.921492 │\n",
      "├──────────┼──────────────┼───────────┤\n",
      "│        4 │           64 │  0.920784 │\n",
      "╘══════════╧══════════════╧═══════════╛\n"
     ]
    }
   ],
   "source": [
    "grid_search_results(grid_search.cv_results_)"
   ]
  },
  {
   "cell_type": "markdown",
   "metadata": {},
   "source": [
    "From this grid search of only two hyperparameters, the best option for the **`batch size` seems to be 128**, while using **2 as the number of `epochs` seems to give a slight better result**."
   ]
  },
  {
   "cell_type": "markdown",
   "metadata": {},
   "source": [
    "As an alternative to this printing option with **Tabulate**, we could also have used **Pandas**."
   ]
  },
  {
   "cell_type": "code",
   "execution_count": 29,
   "metadata": {},
   "outputs": [],
   "source": [
    "df_cv_results = pd.DataFrame(grid_search.cv_results_['params'], columns = ['epochs', 'batch_size'])"
   ]
  },
  {
   "cell_type": "code",
   "execution_count": 30,
   "metadata": {},
   "outputs": [],
   "source": [
    "df_cv_results['roc_auc'] = grid_search.cv_results_['mean_test_score']"
   ]
  },
  {
   "cell_type": "code",
   "execution_count": 31,
   "metadata": {},
   "outputs": [
    {
     "data": {
      "text/html": [
       "<div>\n",
       "<style scoped>\n",
       "    .dataframe tbody tr th:only-of-type {\n",
       "        vertical-align: middle;\n",
       "    }\n",
       "\n",
       "    .dataframe tbody tr th {\n",
       "        vertical-align: top;\n",
       "    }\n",
       "\n",
       "    .dataframe thead th {\n",
       "        text-align: right;\n",
       "    }\n",
       "</style>\n",
       "<table border=\"1\" class=\"dataframe\">\n",
       "  <thead>\n",
       "    <tr style=\"text-align: right;\">\n",
       "      <th></th>\n",
       "      <th>epochs</th>\n",
       "      <th>batch_size</th>\n",
       "      <th>roc_auc</th>\n",
       "    </tr>\n",
       "  </thead>\n",
       "  <tbody>\n",
       "    <tr>\n",
       "      <th>3</th>\n",
       "      <td>2</td>\n",
       "      <td>128</td>\n",
       "      <td>0.930217</td>\n",
       "    </tr>\n",
       "    <tr>\n",
       "      <th>5</th>\n",
       "      <td>6</td>\n",
       "      <td>128</td>\n",
       "      <td>0.923687</td>\n",
       "    </tr>\n",
       "    <tr>\n",
       "      <th>4</th>\n",
       "      <td>4</td>\n",
       "      <td>128</td>\n",
       "      <td>0.923328</td>\n",
       "    </tr>\n",
       "    <tr>\n",
       "      <th>2</th>\n",
       "      <td>6</td>\n",
       "      <td>64</td>\n",
       "      <td>0.922947</td>\n",
       "    </tr>\n",
       "    <tr>\n",
       "      <th>0</th>\n",
       "      <td>2</td>\n",
       "      <td>64</td>\n",
       "      <td>0.921492</td>\n",
       "    </tr>\n",
       "    <tr>\n",
       "      <th>1</th>\n",
       "      <td>4</td>\n",
       "      <td>64</td>\n",
       "      <td>0.920784</td>\n",
       "    </tr>\n",
       "  </tbody>\n",
       "</table>\n",
       "</div>"
      ],
      "text/plain": [
       "   epochs  batch_size   roc_auc\n",
       "3       2         128  0.930217\n",
       "5       6         128  0.923687\n",
       "4       4         128  0.923328\n",
       "2       6          64  0.922947\n",
       "0       2          64  0.921492\n",
       "1       4          64  0.920784"
      ]
     },
     "execution_count": 31,
     "metadata": {},
     "output_type": "execute_result"
    }
   ],
   "source": [
    "df_cv_results.sort_values(by=['roc_auc'], ascending=False)"
   ]
  },
  {
   "cell_type": "markdown",
   "metadata": {},
   "source": [
    "To remove the index, we have several options. We'll illustrate some examples for the top 5 results."
   ]
  },
  {
   "cell_type": "code",
   "execution_count": 33,
   "metadata": {},
   "outputs": [
    {
     "name": "stdout",
     "output_type": "stream",
     "text": [
      " epochs  batch_size   roc_auc\n",
      "      2         128  0.930217\n",
      "      6         128  0.923687\n",
      "      4         128  0.923328\n",
      "      6          64  0.922947\n",
      "      2          64  0.921492\n"
     ]
    }
   ],
   "source": [
    "# Method 1\n",
    "\n",
    "print(df_cv_results.sort_values(by=['roc_auc'], ascending=False).head().to_string(index=False))"
   ]
  },
  {
   "cell_type": "code",
   "execution_count": 34,
   "metadata": {},
   "outputs": [
    {
     "data": {
      "text/html": [
       "<table border=\"1\" class=\"dataframe\">\n",
       "  <thead>\n",
       "    <tr style=\"text-align: right;\">\n",
       "      <th>epochs</th>\n",
       "      <th>batch_size</th>\n",
       "      <th>roc_auc</th>\n",
       "    </tr>\n",
       "  </thead>\n",
       "  <tbody>\n",
       "    <tr>\n",
       "      <td>2</td>\n",
       "      <td>128</td>\n",
       "      <td>0.930217</td>\n",
       "    </tr>\n",
       "    <tr>\n",
       "      <td>6</td>\n",
       "      <td>128</td>\n",
       "      <td>0.923687</td>\n",
       "    </tr>\n",
       "    <tr>\n",
       "      <td>4</td>\n",
       "      <td>128</td>\n",
       "      <td>0.923328</td>\n",
       "    </tr>\n",
       "    <tr>\n",
       "      <td>6</td>\n",
       "      <td>64</td>\n",
       "      <td>0.922947</td>\n",
       "    </tr>\n",
       "    <tr>\n",
       "      <td>2</td>\n",
       "      <td>64</td>\n",
       "      <td>0.921492</td>\n",
       "    </tr>\n",
       "  </tbody>\n",
       "</table>"
      ],
      "text/plain": [
       "<IPython.core.display.HTML object>"
      ]
     },
     "metadata": {},
     "output_type": "display_data"
    }
   ],
   "source": [
    "# Method 2\n",
    "\n",
    "from IPython.display import display, HTML\n",
    "display(HTML(df_cv_results.sort_values(by=['roc_auc'], ascending=False).head().to_html(index=False)))"
   ]
  },
  {
   "cell_type": "code",
   "execution_count": 35,
   "metadata": {},
   "outputs": [
    {
     "data": {
      "text/html": [
       "<style  type=\"text/css\" >\n",
       "</style><table id=\"T_97698724_758f_11ea_be2c_9b58ebdfb5b2\" ><thead>    <tr>        <th class=\"col_heading level0 col0\" >epochs</th>        <th class=\"col_heading level0 col1\" >batch_size</th>        <th class=\"col_heading level0 col2\" >roc_auc</th>    </tr></thead><tbody>\n",
       "                <tr>\n",
       "                                <td id=\"T_97698724_758f_11ea_be2c_9b58ebdfb5b2row0_col0\" class=\"data row0 col0\" >2</td>\n",
       "                        <td id=\"T_97698724_758f_11ea_be2c_9b58ebdfb5b2row0_col1\" class=\"data row0 col1\" >128</td>\n",
       "                        <td id=\"T_97698724_758f_11ea_be2c_9b58ebdfb5b2row0_col2\" class=\"data row0 col2\" >0.930217</td>\n",
       "            </tr>\n",
       "            <tr>\n",
       "                                <td id=\"T_97698724_758f_11ea_be2c_9b58ebdfb5b2row1_col0\" class=\"data row1 col0\" >6</td>\n",
       "                        <td id=\"T_97698724_758f_11ea_be2c_9b58ebdfb5b2row1_col1\" class=\"data row1 col1\" >128</td>\n",
       "                        <td id=\"T_97698724_758f_11ea_be2c_9b58ebdfb5b2row1_col2\" class=\"data row1 col2\" >0.923687</td>\n",
       "            </tr>\n",
       "            <tr>\n",
       "                                <td id=\"T_97698724_758f_11ea_be2c_9b58ebdfb5b2row2_col0\" class=\"data row2 col0\" >4</td>\n",
       "                        <td id=\"T_97698724_758f_11ea_be2c_9b58ebdfb5b2row2_col1\" class=\"data row2 col1\" >128</td>\n",
       "                        <td id=\"T_97698724_758f_11ea_be2c_9b58ebdfb5b2row2_col2\" class=\"data row2 col2\" >0.923328</td>\n",
       "            </tr>\n",
       "            <tr>\n",
       "                                <td id=\"T_97698724_758f_11ea_be2c_9b58ebdfb5b2row3_col0\" class=\"data row3 col0\" >6</td>\n",
       "                        <td id=\"T_97698724_758f_11ea_be2c_9b58ebdfb5b2row3_col1\" class=\"data row3 col1\" >64</td>\n",
       "                        <td id=\"T_97698724_758f_11ea_be2c_9b58ebdfb5b2row3_col2\" class=\"data row3 col2\" >0.922947</td>\n",
       "            </tr>\n",
       "            <tr>\n",
       "                                <td id=\"T_97698724_758f_11ea_be2c_9b58ebdfb5b2row4_col0\" class=\"data row4 col0\" >2</td>\n",
       "                        <td id=\"T_97698724_758f_11ea_be2c_9b58ebdfb5b2row4_col1\" class=\"data row4 col1\" >64</td>\n",
       "                        <td id=\"T_97698724_758f_11ea_be2c_9b58ebdfb5b2row4_col2\" class=\"data row4 col2\" >0.921492</td>\n",
       "            </tr>\n",
       "    </tbody></table>"
      ],
      "text/plain": [
       "<pandas.io.formats.style.Styler at 0x1bd133b0248>"
      ]
     },
     "execution_count": 35,
     "metadata": {},
     "output_type": "execute_result"
    }
   ],
   "source": [
    "# Method 3\n",
    "\n",
    "df_cv_results.sort_values(by=['roc_auc'], ascending=False).head().style.hide_index()"
   ]
  },
  {
   "cell_type": "markdown",
   "metadata": {},
   "source": [
    "We can now try to to tune some other hyperparameteres, like `n_dense` and `dropout`."
   ]
  },
  {
   "cell_type": "markdown",
   "metadata": {},
   "source": [
    "#### 8. Create model"
   ]
  },
  {
   "cell_type": "code",
   "execution_count": 53,
   "metadata": {},
   "outputs": [],
   "source": [
    "model = KerasClassifier(build_fn=create_model, epochs=2, batch_size=128, verbose=1)"
   ]
  },
  {
   "cell_type": "markdown",
   "metadata": {},
   "source": [
    "#### 9. Define grid search parameters: `n_dense` and `dropout`"
   ]
  },
  {
   "cell_type": "code",
   "execution_count": 54,
   "metadata": {},
   "outputs": [],
   "source": [
    "n_dense = [64, 128]\n",
    "dropout = [0.2, 0.5]\n",
    "\n",
    "param_grid = {'n_dense': n_dense, 'dropout': dropout}"
   ]
  },
  {
   "cell_type": "code",
   "execution_count": 55,
   "metadata": {},
   "outputs": [
    {
     "data": {
      "text/plain": [
       "{'n_dense': [64, 128], 'dropout': [0.2, 0.5]}"
      ]
     },
     "execution_count": 55,
     "metadata": {},
     "output_type": "execute_result"
    }
   ],
   "source": [
    "param_grid"
   ]
  },
  {
   "cell_type": "code",
   "execution_count": 56,
   "metadata": {},
   "outputs": [],
   "source": [
    "grid_search = GridSearchCV(model, param_grid, cv=3, scoring = 'roc_auc')"
   ]
  },
  {
   "cell_type": "markdown",
   "metadata": {},
   "source": [
    "#### 10. Perform grid search and print results"
   ]
  },
  {
   "cell_type": "code",
   "execution_count": 57,
   "metadata": {},
   "outputs": [
    {
     "name": "stderr",
     "output_type": "stream",
     "text": [
      "C:\\Users\\joaon\\Anaconda3\\envs\\DL-illustrated\\lib\\site-packages\\tensorflow_core\\python\\framework\\indexed_slices.py:433: UserWarning: Converting sparse IndexedSlices to a dense Tensor of unknown shape. This may consume a large amount of memory.\n",
      "  \"Converting sparse IndexedSlices to a dense Tensor of unknown shape. \"\n"
     ]
    },
    {
     "name": "stdout",
     "output_type": "stream",
     "text": [
      "Epoch 1/2\n",
      "16666/16666 [==============================] - 3s 199us/step - loss: 0.6000 - accuracy: 0.6538\n",
      "Epoch 2/2\n",
      "16666/16666 [==============================] - 3s 196us/step - loss: 0.2481 - accuracy: 0.9024\n",
      "8334/8334 [==============================] - 0s 28us/step\n"
     ]
    },
    {
     "name": "stderr",
     "output_type": "stream",
     "text": [
      "C:\\Users\\joaon\\Anaconda3\\envs\\DL-illustrated\\lib\\site-packages\\tensorflow_core\\python\\framework\\indexed_slices.py:433: UserWarning: Converting sparse IndexedSlices to a dense Tensor of unknown shape. This may consume a large amount of memory.\n",
      "  \"Converting sparse IndexedSlices to a dense Tensor of unknown shape. \"\n"
     ]
    },
    {
     "name": "stdout",
     "output_type": "stream",
     "text": [
      "Epoch 1/2\n",
      "16667/16667 [==============================] - 3s 208us/step - loss: 0.5773 - accuracy: 0.6800\n",
      "Epoch 2/2\n",
      "16667/16667 [==============================] - 3s 181us/step - loss: 0.2294 - accuracy: 0.9121\n",
      "8333/8333 [==============================] - 0s 28us/step\n"
     ]
    },
    {
     "name": "stderr",
     "output_type": "stream",
     "text": [
      "C:\\Users\\joaon\\Anaconda3\\envs\\DL-illustrated\\lib\\site-packages\\tensorflow_core\\python\\framework\\indexed_slices.py:433: UserWarning: Converting sparse IndexedSlices to a dense Tensor of unknown shape. This may consume a large amount of memory.\n",
      "  \"Converting sparse IndexedSlices to a dense Tensor of unknown shape. \"\n"
     ]
    },
    {
     "name": "stdout",
     "output_type": "stream",
     "text": [
      "Epoch 1/2\n",
      "16667/16667 [==============================] - 3s 181us/step - loss: 0.5893 - accuracy: 0.6683\n",
      "Epoch 2/2\n",
      "16667/16667 [==============================] - 3s 182us/step - loss: 0.2378 - accuracy: 0.9074\n",
      "8333/8333 [==============================] - 0s 28us/step\n"
     ]
    },
    {
     "name": "stderr",
     "output_type": "stream",
     "text": [
      "C:\\Users\\joaon\\Anaconda3\\envs\\DL-illustrated\\lib\\site-packages\\tensorflow_core\\python\\framework\\indexed_slices.py:433: UserWarning: Converting sparse IndexedSlices to a dense Tensor of unknown shape. This may consume a large amount of memory.\n",
      "  \"Converting sparse IndexedSlices to a dense Tensor of unknown shape. \"\n"
     ]
    },
    {
     "name": "stdout",
     "output_type": "stream",
     "text": [
      "Epoch 1/2\n",
      "16666/16666 [==============================] - 4s 245us/step - loss: 0.5732 - accuracy: 0.6753\n",
      "Epoch 2/2\n",
      "16666/16666 [==============================] - 4s 232us/step - loss: 0.2118 - accuracy: 0.9194\n",
      "8334/8334 [==============================] - 0s 39us/step\n"
     ]
    },
    {
     "name": "stderr",
     "output_type": "stream",
     "text": [
      "C:\\Users\\joaon\\Anaconda3\\envs\\DL-illustrated\\lib\\site-packages\\tensorflow_core\\python\\framework\\indexed_slices.py:433: UserWarning: Converting sparse IndexedSlices to a dense Tensor of unknown shape. This may consume a large amount of memory.\n",
      "  \"Converting sparse IndexedSlices to a dense Tensor of unknown shape. \"\n"
     ]
    },
    {
     "name": "stdout",
     "output_type": "stream",
     "text": [
      "Epoch 1/2\n",
      "16667/16667 [==============================] - 4s 239us/step - loss: 0.5713 - accuracy: 0.6798\n",
      "Epoch 2/2\n",
      "16667/16667 [==============================] - 4s 227us/step - loss: 0.2060 - accuracy: 0.9212\n",
      "8333/8333 [==============================] - 0s 34us/step\n"
     ]
    },
    {
     "name": "stderr",
     "output_type": "stream",
     "text": [
      "C:\\Users\\joaon\\Anaconda3\\envs\\DL-illustrated\\lib\\site-packages\\tensorflow_core\\python\\framework\\indexed_slices.py:433: UserWarning: Converting sparse IndexedSlices to a dense Tensor of unknown shape. This may consume a large amount of memory.\n",
      "  \"Converting sparse IndexedSlices to a dense Tensor of unknown shape. \"\n"
     ]
    },
    {
     "name": "stdout",
     "output_type": "stream",
     "text": [
      "Epoch 1/2\n",
      "16667/16667 [==============================] - 4s 231us/step - loss: 0.5667 - accuracy: 0.6792\n",
      "Epoch 2/2\n",
      "16667/16667 [==============================] - 4s 223us/step - loss: 0.2038 - accuracy: 0.9219\n",
      "8333/8333 [==============================] - 0s 32us/step\n"
     ]
    },
    {
     "name": "stderr",
     "output_type": "stream",
     "text": [
      "C:\\Users\\joaon\\Anaconda3\\envs\\DL-illustrated\\lib\\site-packages\\tensorflow_core\\python\\framework\\indexed_slices.py:433: UserWarning: Converting sparse IndexedSlices to a dense Tensor of unknown shape. This may consume a large amount of memory.\n",
      "  \"Converting sparse IndexedSlices to a dense Tensor of unknown shape. \"\n"
     ]
    },
    {
     "name": "stdout",
     "output_type": "stream",
     "text": [
      "Epoch 1/2\n",
      "16666/16666 [==============================] - 3s 185us/step - loss: 0.6121 - accuracy: 0.6497\n",
      "Epoch 2/2\n",
      "16666/16666 [==============================] - 3s 190us/step - loss: 0.2665 - accuracy: 0.8931\n",
      "8334/8334 [==============================] - 0s 30us/step\n"
     ]
    },
    {
     "name": "stderr",
     "output_type": "stream",
     "text": [
      "C:\\Users\\joaon\\Anaconda3\\envs\\DL-illustrated\\lib\\site-packages\\tensorflow_core\\python\\framework\\indexed_slices.py:433: UserWarning: Converting sparse IndexedSlices to a dense Tensor of unknown shape. This may consume a large amount of memory.\n",
      "  \"Converting sparse IndexedSlices to a dense Tensor of unknown shape. \"\n"
     ]
    },
    {
     "name": "stdout",
     "output_type": "stream",
     "text": [
      "Epoch 1/2\n",
      "16667/16667 [==============================] - 3s 188us/step - loss: 0.6232 - accuracy: 0.6352\n",
      "Epoch 2/2\n",
      "16667/16667 [==============================] - 3s 188us/step - loss: 0.2707 - accuracy: 0.8927\n",
      "8333/8333 [==============================] - 0s 34us/step\n"
     ]
    },
    {
     "name": "stderr",
     "output_type": "stream",
     "text": [
      "C:\\Users\\joaon\\Anaconda3\\envs\\DL-illustrated\\lib\\site-packages\\tensorflow_core\\python\\framework\\indexed_slices.py:433: UserWarning: Converting sparse IndexedSlices to a dense Tensor of unknown shape. This may consume a large amount of memory.\n",
      "  \"Converting sparse IndexedSlices to a dense Tensor of unknown shape. \"\n"
     ]
    },
    {
     "name": "stdout",
     "output_type": "stream",
     "text": [
      "Epoch 1/2\n",
      "16667/16667 [==============================] - 3s 191us/step - loss: 0.6277 - accuracy: 0.6339\n",
      "Epoch 2/2\n",
      "16667/16667 [==============================] - 3s 188us/step - loss: 0.2899 - accuracy: 0.8868\n",
      "8333/8333 [==============================] - 0s 28us/step\n"
     ]
    },
    {
     "name": "stderr",
     "output_type": "stream",
     "text": [
      "C:\\Users\\joaon\\Anaconda3\\envs\\DL-illustrated\\lib\\site-packages\\tensorflow_core\\python\\framework\\indexed_slices.py:433: UserWarning: Converting sparse IndexedSlices to a dense Tensor of unknown shape. This may consume a large amount of memory.\n",
      "  \"Converting sparse IndexedSlices to a dense Tensor of unknown shape. \"\n"
     ]
    },
    {
     "name": "stdout",
     "output_type": "stream",
     "text": [
      "Epoch 1/2\n",
      "16666/16666 [==============================] - 4s 247us/step - loss: 0.5988 - accuracy: 0.6600\n",
      "Epoch 2/2\n",
      "16666/16666 [==============================] - 4s 243us/step - loss: 0.2474 - accuracy: 0.9040\n",
      "8334/8334 [==============================] - 0s 36us/step\n"
     ]
    },
    {
     "name": "stderr",
     "output_type": "stream",
     "text": [
      "C:\\Users\\joaon\\Anaconda3\\envs\\DL-illustrated\\lib\\site-packages\\tensorflow_core\\python\\framework\\indexed_slices.py:433: UserWarning: Converting sparse IndexedSlices to a dense Tensor of unknown shape. This may consume a large amount of memory.\n",
      "  \"Converting sparse IndexedSlices to a dense Tensor of unknown shape. \"\n"
     ]
    },
    {
     "name": "stdout",
     "output_type": "stream",
     "text": [
      "Epoch 1/2\n",
      "16667/16667 [==============================] - 4s 246us/step - loss: 0.5757 - accuracy: 0.6786\n",
      "Epoch 2/2\n",
      "16667/16667 [==============================] - 4s 264us/step - loss: 0.2365 - accuracy: 0.9076\n",
      "8333/8333 [==============================] - 0s 36us/step\n"
     ]
    },
    {
     "name": "stderr",
     "output_type": "stream",
     "text": [
      "C:\\Users\\joaon\\Anaconda3\\envs\\DL-illustrated\\lib\\site-packages\\tensorflow_core\\python\\framework\\indexed_slices.py:433: UserWarning: Converting sparse IndexedSlices to a dense Tensor of unknown shape. This may consume a large amount of memory.\n",
      "  \"Converting sparse IndexedSlices to a dense Tensor of unknown shape. \"\n"
     ]
    },
    {
     "name": "stdout",
     "output_type": "stream",
     "text": [
      "Epoch 1/2\n",
      "16667/16667 [==============================] - 4s 253us/step - loss: 0.5835 - accuracy: 0.6734\n",
      "Epoch 2/2\n",
      "16667/16667 [==============================] - 4s 254us/step - loss: 0.2392 - accuracy: 0.9095\n",
      "8333/8333 [==============================] - 0s 37us/step\n"
     ]
    },
    {
     "name": "stderr",
     "output_type": "stream",
     "text": [
      "C:\\Users\\joaon\\Anaconda3\\envs\\DL-illustrated\\lib\\site-packages\\tensorflow_core\\python\\framework\\indexed_slices.py:433: UserWarning: Converting sparse IndexedSlices to a dense Tensor of unknown shape. This may consume a large amount of memory.\n",
      "  \"Converting sparse IndexedSlices to a dense Tensor of unknown shape. \"\n"
     ]
    },
    {
     "name": "stdout",
     "output_type": "stream",
     "text": [
      "Epoch 1/2\n",
      "25000/25000 [==============================] - 5s 190us/step - loss: 0.5539 - accuracy: 0.6966\n",
      "Epoch 2/2\n",
      "25000/25000 [==============================] - 5s 183us/step - loss: 0.2552 - accuracy: 0.9024\n",
      "Wall time: 1min 49s\n"
     ]
    },
    {
     "data": {
      "text/plain": [
       "GridSearchCV(cv=3, error_score=nan,\n",
       "             estimator=<keras.wrappers.scikit_learn.KerasClassifier object at 0x000001BD2E5C76C8>,\n",
       "             iid='deprecated', n_jobs=None,\n",
       "             param_grid={'dropout': [0.2, 0.5], 'n_dense': [64, 128]},\n",
       "             pre_dispatch='2*n_jobs', refit=True, return_train_score=False,\n",
       "             scoring='roc_auc', verbose=0)"
      ]
     },
     "execution_count": 57,
     "metadata": {},
     "output_type": "execute_result"
    }
   ],
   "source": [
    "%%time\n",
    "\n",
    "grid_search.fit(x_train, y_train)"
   ]
  },
  {
   "cell_type": "code",
   "execution_count": 58,
   "metadata": {},
   "outputs": [
    {
     "data": {
      "text/plain": [
       "{'dropout': 0.5, 'n_dense': 64}"
      ]
     },
     "execution_count": 58,
     "metadata": {},
     "output_type": "execute_result"
    }
   ],
   "source": [
    "grid_search.best_params_"
   ]
  },
  {
   "cell_type": "code",
   "execution_count": 59,
   "metadata": {},
   "outputs": [
    {
     "data": {
      "text/plain": [
       "0.9291520313337686"
      ]
     },
     "execution_count": 59,
     "metadata": {},
     "output_type": "execute_result"
    }
   ],
   "source": [
    "grid_search.best_score_"
   ]
  },
  {
   "cell_type": "code",
   "execution_count": 60,
   "metadata": {},
   "outputs": [
    {
     "name": "stdout",
     "output_type": "stream",
     "text": [
      "╒═══════════╤═══════════╤═══════════╕\n",
      "│   n_dense │   dropout │   roc_auc │\n",
      "╞═══════════╪═══════════╪═══════════╡\n",
      "│        64 │       0.5 │  0.929152 │\n",
      "├───────────┼───────────┼───────────┤\n",
      "│        64 │       0.2 │  0.927046 │\n",
      "├───────────┼───────────┼───────────┤\n",
      "│       128 │       0.5 │  0.92592  │\n",
      "├───────────┼───────────┼───────────┤\n",
      "│       128 │       0.2 │  0.920134 │\n",
      "╘═══════════╧═══════════╧═══════════╛\n"
     ]
    }
   ],
   "source": [
    "grid_search_results(grid_search.cv_results_)"
   ]
  },
  {
   "cell_type": "markdown",
   "metadata": {},
   "source": [
    "This time around, we obtain our best result with **64 neurons for `n_dense`** and a **`dropout` value of 0.5**."
   ]
  },
  {
   "cell_type": "markdown",
   "metadata": {},
   "source": [
    "Like we did before, we can also use Pandas to print this table."
   ]
  },
  {
   "cell_type": "code",
   "execution_count": 63,
   "metadata": {},
   "outputs": [
    {
     "data": {
      "text/html": [
       "<style  type=\"text/css\" >\n",
       "</style><table id=\"T_2ab3b73e_759a_11ea_af3d_9b58ebdfb5b2\" ><thead>    <tr>        <th class=\"col_heading level0 col0\" >n_dense</th>        <th class=\"col_heading level0 col1\" >dropout</th>        <th class=\"col_heading level0 col2\" >roc_auc</th>    </tr></thead><tbody>\n",
       "                <tr>\n",
       "                                <td id=\"T_2ab3b73e_759a_11ea_af3d_9b58ebdfb5b2row0_col0\" class=\"data row0 col0\" >64</td>\n",
       "                        <td id=\"T_2ab3b73e_759a_11ea_af3d_9b58ebdfb5b2row0_col1\" class=\"data row0 col1\" >0.500000</td>\n",
       "                        <td id=\"T_2ab3b73e_759a_11ea_af3d_9b58ebdfb5b2row0_col2\" class=\"data row0 col2\" >0.929152</td>\n",
       "            </tr>\n",
       "            <tr>\n",
       "                                <td id=\"T_2ab3b73e_759a_11ea_af3d_9b58ebdfb5b2row1_col0\" class=\"data row1 col0\" >64</td>\n",
       "                        <td id=\"T_2ab3b73e_759a_11ea_af3d_9b58ebdfb5b2row1_col1\" class=\"data row1 col1\" >0.200000</td>\n",
       "                        <td id=\"T_2ab3b73e_759a_11ea_af3d_9b58ebdfb5b2row1_col2\" class=\"data row1 col2\" >0.927046</td>\n",
       "            </tr>\n",
       "            <tr>\n",
       "                                <td id=\"T_2ab3b73e_759a_11ea_af3d_9b58ebdfb5b2row2_col0\" class=\"data row2 col0\" >128</td>\n",
       "                        <td id=\"T_2ab3b73e_759a_11ea_af3d_9b58ebdfb5b2row2_col1\" class=\"data row2 col1\" >0.500000</td>\n",
       "                        <td id=\"T_2ab3b73e_759a_11ea_af3d_9b58ebdfb5b2row2_col2\" class=\"data row2 col2\" >0.925920</td>\n",
       "            </tr>\n",
       "            <tr>\n",
       "                                <td id=\"T_2ab3b73e_759a_11ea_af3d_9b58ebdfb5b2row3_col0\" class=\"data row3 col0\" >128</td>\n",
       "                        <td id=\"T_2ab3b73e_759a_11ea_af3d_9b58ebdfb5b2row3_col1\" class=\"data row3 col1\" >0.200000</td>\n",
       "                        <td id=\"T_2ab3b73e_759a_11ea_af3d_9b58ebdfb5b2row3_col2\" class=\"data row3 col2\" >0.920134</td>\n",
       "            </tr>\n",
       "    </tbody></table>"
      ],
      "text/plain": [
       "<pandas.io.formats.style.Styler at 0x1bd5df17e08>"
      ]
     },
     "execution_count": 63,
     "metadata": {},
     "output_type": "execute_result"
    }
   ],
   "source": [
    "df_cv_results = pd.DataFrame(grid_search.cv_results_['params'], columns = ['n_dense', 'dropout'])\n",
    "\n",
    "df_cv_results['roc_auc'] = grid_search.cv_results_['mean_test_score']\n",
    "\n",
    "df_cv_results.sort_values(by=['roc_auc'], ascending=False).style.hide_index()\n",
    "# why the change in the number of decimal places in the dropout column?!"
   ]
  },
  {
   "cell_type": "markdown",
   "metadata": {},
   "source": [
    "Interestingly enough, the format of the dropout column is changed. We can easily correct that."
   ]
  },
  {
   "cell_type": "code",
   "execution_count": 64,
   "metadata": {},
   "outputs": [
    {
     "data": {
      "text/html": [
       "<style  type=\"text/css\" >\n",
       "</style><table id=\"T_5c8bafa4_759a_11ea_a81f_9b58ebdfb5b2\" ><thead>    <tr>        <th class=\"col_heading level0 col0\" >n_dense</th>        <th class=\"col_heading level0 col1\" >dropout</th>        <th class=\"col_heading level0 col2\" >roc_auc</th>    </tr></thead><tbody>\n",
       "                <tr>\n",
       "                                <td id=\"T_5c8bafa4_759a_11ea_a81f_9b58ebdfb5b2row0_col0\" class=\"data row0 col0\" >64</td>\n",
       "                        <td id=\"T_5c8bafa4_759a_11ea_a81f_9b58ebdfb5b2row0_col1\" class=\"data row0 col1\" >0.5</td>\n",
       "                        <td id=\"T_5c8bafa4_759a_11ea_a81f_9b58ebdfb5b2row0_col2\" class=\"data row0 col2\" >0.929152</td>\n",
       "            </tr>\n",
       "            <tr>\n",
       "                                <td id=\"T_5c8bafa4_759a_11ea_a81f_9b58ebdfb5b2row1_col0\" class=\"data row1 col0\" >64</td>\n",
       "                        <td id=\"T_5c8bafa4_759a_11ea_a81f_9b58ebdfb5b2row1_col1\" class=\"data row1 col1\" >0.2</td>\n",
       "                        <td id=\"T_5c8bafa4_759a_11ea_a81f_9b58ebdfb5b2row1_col2\" class=\"data row1 col2\" >0.927046</td>\n",
       "            </tr>\n",
       "            <tr>\n",
       "                                <td id=\"T_5c8bafa4_759a_11ea_a81f_9b58ebdfb5b2row2_col0\" class=\"data row2 col0\" >128</td>\n",
       "                        <td id=\"T_5c8bafa4_759a_11ea_a81f_9b58ebdfb5b2row2_col1\" class=\"data row2 col1\" >0.5</td>\n",
       "                        <td id=\"T_5c8bafa4_759a_11ea_a81f_9b58ebdfb5b2row2_col2\" class=\"data row2 col2\" >0.925920</td>\n",
       "            </tr>\n",
       "            <tr>\n",
       "                                <td id=\"T_5c8bafa4_759a_11ea_a81f_9b58ebdfb5b2row3_col0\" class=\"data row3 col0\" >128</td>\n",
       "                        <td id=\"T_5c8bafa4_759a_11ea_a81f_9b58ebdfb5b2row3_col1\" class=\"data row3 col1\" >0.2</td>\n",
       "                        <td id=\"T_5c8bafa4_759a_11ea_a81f_9b58ebdfb5b2row3_col2\" class=\"data row3 col2\" >0.920134</td>\n",
       "            </tr>\n",
       "    </tbody></table>"
      ],
      "text/plain": [
       "<pandas.io.formats.style.Styler at 0x1bd4d30c508>"
      ]
     },
     "execution_count": 64,
     "metadata": {},
     "output_type": "execute_result"
    }
   ],
   "source": [
    "format_dict = {'dropout': '{:.1f}'}\n",
    "df_cv_results.sort_values(by=['roc_auc'], ascending=False).style.format(format_dict).hide_index()"
   ]
  },
  {
   "cell_type": "markdown",
   "metadata": {},
   "source": [
    "Even though we are using a very simple model and have only tried to tune 2 hyperparameters at a time with 2 or 3 values for each, we can already see that this process can be somewhat time consuming.\n",
    "\n",
    "Not only that, but it also makes sense to tune all the hyperparameters together because they are not independent from one another in the way they affect the model's performance. As a side effect, the time to perform this kind of grid search will increase tremendously.\n",
    "\n",
    "Let's see what happens when we tune all the hyperparameters in one go."
   ]
  },
  {
   "cell_type": "markdown",
   "metadata": {},
   "source": [
    "#### 11. Create model"
   ]
  },
  {
   "cell_type": "code",
   "execution_count": 44,
   "metadata": {},
   "outputs": [],
   "source": [
    "model = KerasClassifier(build_fn=create_model, verbose=1)"
   ]
  },
  {
   "cell_type": "markdown",
   "metadata": {},
   "source": [
    "#### 12. Define grid search parameters: `epochs`, `batch_size`, `n_dense` and `dropout`"
   ]
  },
  {
   "cell_type": "code",
   "execution_count": 45,
   "metadata": {},
   "outputs": [],
   "source": [
    "epochs = [2, 4, 6]\n",
    "batch_size = [64, 128]\n",
    "\n",
    "n_dense = [64, 128]\n",
    "dropout = [0.2, 0.5]\n",
    "\n",
    "param_grid = {'epochs': epochs, 'batch_size': batch_size, \n",
    "              'n_dense': n_dense, 'dropout': dropout}"
   ]
  },
  {
   "cell_type": "code",
   "execution_count": 46,
   "metadata": {},
   "outputs": [
    {
     "data": {
      "text/plain": [
       "{'epochs': [2, 4, 6],\n",
       " 'batch_size': [64, 128],\n",
       " 'n_dense': [64, 128],\n",
       " 'dropout': [0.2, 0.5]}"
      ]
     },
     "execution_count": 46,
     "metadata": {},
     "output_type": "execute_result"
    }
   ],
   "source": [
    "param_grid"
   ]
  },
  {
   "cell_type": "code",
   "execution_count": 47,
   "metadata": {},
   "outputs": [],
   "source": [
    "grid_search = GridSearchCV(model, param_grid, cv=3, scoring = 'roc_auc')"
   ]
  },
  {
   "cell_type": "markdown",
   "metadata": {},
   "source": [
    "#### 13. Perform grid search and print results"
   ]
  },
  {
   "cell_type": "code",
   "execution_count": 48,
   "metadata": {},
   "outputs": [
    {
     "name": "stderr",
     "output_type": "stream",
     "text": [
      "C:\\Users\\joaon\\Anaconda3\\envs\\DL-illustrated\\lib\\site-packages\\tensorflow_core\\python\\framework\\indexed_slices.py:433: UserWarning: Converting sparse IndexedSlices to a dense Tensor of unknown shape. This may consume a large amount of memory.\n",
      "  \"Converting sparse IndexedSlices to a dense Tensor of unknown shape. \"\n"
     ]
    },
    {
     "name": "stdout",
     "output_type": "stream",
     "text": [
      "Epoch 1/2\n",
      "16666/16666 [==============================] - 6s 358us/step - loss: 0.5222 - accuracy: 0.7215\n",
      "Epoch 2/2\n",
      "16666/16666 [==============================] - 5s 325us/step - loss: 0.1721 - accuracy: 0.9390\n",
      "8334/8334 [==============================] - 0s 34us/step\n"
     ]
    },
    {
     "name": "stderr",
     "output_type": "stream",
     "text": [
      "C:\\Users\\joaon\\Anaconda3\\envs\\DL-illustrated\\lib\\site-packages\\tensorflow_core\\python\\framework\\indexed_slices.py:433: UserWarning: Converting sparse IndexedSlices to a dense Tensor of unknown shape. This may consume a large amount of memory.\n",
      "  \"Converting sparse IndexedSlices to a dense Tensor of unknown shape. \"\n"
     ]
    },
    {
     "name": "stdout",
     "output_type": "stream",
     "text": [
      "Epoch 1/2\n",
      "16667/16667 [==============================] - 5s 313us/step - loss: 0.5074 - accuracy: 0.7317\n",
      "Epoch 2/2\n",
      "16667/16667 [==============================] - 5s 310us/step - loss: 0.1641 - accuracy: 0.9426\n",
      "8333/8333 [==============================] - 0s 36us/step\n"
     ]
    },
    {
     "name": "stderr",
     "output_type": "stream",
     "text": [
      "C:\\Users\\joaon\\Anaconda3\\envs\\DL-illustrated\\lib\\site-packages\\tensorflow_core\\python\\framework\\indexed_slices.py:433: UserWarning: Converting sparse IndexedSlices to a dense Tensor of unknown shape. This may consume a large amount of memory.\n",
      "  \"Converting sparse IndexedSlices to a dense Tensor of unknown shape. \"\n"
     ]
    },
    {
     "name": "stdout",
     "output_type": "stream",
     "text": [
      "Epoch 1/2\n",
      "16667/16667 [==============================] - 6s 360us/step - loss: 0.5333 - accuracy: 0.7052\n",
      "Epoch 2/2\n",
      "16667/16667 [==============================] - 6s 331us/step - loss: 0.1877 - accuracy: 0.9331\n",
      "8333/8333 [==============================] - 0s 37us/step\n"
     ]
    },
    {
     "name": "stderr",
     "output_type": "stream",
     "text": [
      "C:\\Users\\joaon\\Anaconda3\\envs\\DL-illustrated\\lib\\site-packages\\tensorflow_core\\python\\framework\\indexed_slices.py:433: UserWarning: Converting sparse IndexedSlices to a dense Tensor of unknown shape. This may consume a large amount of memory.\n",
      "  \"Converting sparse IndexedSlices to a dense Tensor of unknown shape. \"\n"
     ]
    },
    {
     "name": "stdout",
     "output_type": "stream",
     "text": [
      "Epoch 1/2\n",
      "16666/16666 [==============================] - 7s 392us/step - loss: 0.4999 - accuracy: 0.7338\n",
      "Epoch 2/2\n",
      "16666/16666 [==============================] - 7s 398us/step - loss: 0.1406 - accuracy: 0.9531\n",
      "8334/8334 [==============================] - 0s 42us/step\n"
     ]
    },
    {
     "name": "stderr",
     "output_type": "stream",
     "text": [
      "C:\\Users\\joaon\\Anaconda3\\envs\\DL-illustrated\\lib\\site-packages\\tensorflow_core\\python\\framework\\indexed_slices.py:433: UserWarning: Converting sparse IndexedSlices to a dense Tensor of unknown shape. This may consume a large amount of memory.\n",
      "  \"Converting sparse IndexedSlices to a dense Tensor of unknown shape. \"\n"
     ]
    },
    {
     "name": "stdout",
     "output_type": "stream",
     "text": [
      "Epoch 1/2\n",
      "16667/16667 [==============================] - 8s 456us/step - loss: 0.5066 - accuracy: 0.7329\n",
      "Epoch 2/2\n",
      "16667/16667 [==============================] - 7s 434us/step - loss: 0.1456 - accuracy: 0.9486\n",
      "8333/8333 [==============================] - 0s 47us/step\n"
     ]
    },
    {
     "name": "stderr",
     "output_type": "stream",
     "text": [
      "C:\\Users\\joaon\\Anaconda3\\envs\\DL-illustrated\\lib\\site-packages\\tensorflow_core\\python\\framework\\indexed_slices.py:433: UserWarning: Converting sparse IndexedSlices to a dense Tensor of unknown shape. This may consume a large amount of memory.\n",
      "  \"Converting sparse IndexedSlices to a dense Tensor of unknown shape. \"\n"
     ]
    },
    {
     "name": "stdout",
     "output_type": "stream",
     "text": [
      "Epoch 1/2\n",
      "16667/16667 [==============================] - 7s 424us/step - loss: 0.5077 - accuracy: 0.7250\n",
      "Epoch 2/2\n",
      "16667/16667 [==============================] - 8s 481us/step - loss: 0.1433 - accuracy: 0.9492\n",
      "8333/8333 [==============================] - 0s 47us/step\n"
     ]
    },
    {
     "name": "stderr",
     "output_type": "stream",
     "text": [
      "C:\\Users\\joaon\\Anaconda3\\envs\\DL-illustrated\\lib\\site-packages\\tensorflow_core\\python\\framework\\indexed_slices.py:433: UserWarning: Converting sparse IndexedSlices to a dense Tensor of unknown shape. This may consume a large amount of memory.\n",
      "  \"Converting sparse IndexedSlices to a dense Tensor of unknown shape. \"\n"
     ]
    },
    {
     "name": "stdout",
     "output_type": "stream",
     "text": [
      "Epoch 1/4\n",
      "16666/16666 [==============================] - 6s 381us/step - loss: 0.5044 - accuracy: 0.7345\n",
      "Epoch 2/4\n",
      "16666/16666 [==============================] - 6s 385us/step - loss: 0.1659 - accuracy: 0.9425\n",
      "Epoch 3/4\n",
      "16666/16666 [==============================] - 6s 350us/step - loss: 0.0179 - accuracy: 0.9975\n",
      "Epoch 4/4\n",
      "16666/16666 [==============================] - 6s 339us/step - loss: 0.0025 - accuracy: 0.9999\n",
      "8334/8334 [==============================] - 0s 37us/step\n"
     ]
    },
    {
     "name": "stderr",
     "output_type": "stream",
     "text": [
      "C:\\Users\\joaon\\Anaconda3\\envs\\DL-illustrated\\lib\\site-packages\\tensorflow_core\\python\\framework\\indexed_slices.py:433: UserWarning: Converting sparse IndexedSlices to a dense Tensor of unknown shape. This may consume a large amount of memory.\n",
      "  \"Converting sparse IndexedSlices to a dense Tensor of unknown shape. \"\n"
     ]
    },
    {
     "name": "stdout",
     "output_type": "stream",
     "text": [
      "Epoch 1/4\n",
      "16667/16667 [==============================] - 6s 342us/step - loss: 0.5233 - accuracy: 0.7146\n",
      "Epoch 2/4\n",
      "16667/16667 [==============================] - 6s 342us/step - loss: 0.1840 - accuracy: 0.9324\n",
      "Epoch 3/4\n",
      "16667/16667 [==============================] - 6s 344us/step - loss: 0.0222 - accuracy: 0.9965\n",
      "Epoch 4/4\n",
      "16667/16667 [==============================] - 6s 337us/step - loss: 0.0029 - accuracy: 0.9999\n",
      "8333/8333 [==============================] - 0s 32us/step\n"
     ]
    },
    {
     "name": "stderr",
     "output_type": "stream",
     "text": [
      "C:\\Users\\joaon\\Anaconda3\\envs\\DL-illustrated\\lib\\site-packages\\tensorflow_core\\python\\framework\\indexed_slices.py:433: UserWarning: Converting sparse IndexedSlices to a dense Tensor of unknown shape. This may consume a large amount of memory.\n",
      "  \"Converting sparse IndexedSlices to a dense Tensor of unknown shape. \"\n"
     ]
    },
    {
     "name": "stdout",
     "output_type": "stream",
     "text": [
      "Epoch 1/4\n",
      "16667/16667 [==============================] - 6s 334us/step - loss: 0.5465 - accuracy: 0.6954\n",
      "Epoch 2/4\n",
      "16667/16667 [==============================] - 6s 337us/step - loss: 0.2021 - accuracy: 0.9245\n",
      "Epoch 3/4\n",
      "16667/16667 [==============================] - 6s 335us/step - loss: 0.0235 - accuracy: 0.9958\n",
      "Epoch 4/4\n",
      "16667/16667 [==============================] - 6s 345us/step - loss: 0.0029 - accuracy: 0.9999\n",
      "8333/8333 [==============================] - 0s 41us/step\n"
     ]
    },
    {
     "name": "stderr",
     "output_type": "stream",
     "text": [
      "C:\\Users\\joaon\\Anaconda3\\envs\\DL-illustrated\\lib\\site-packages\\tensorflow_core\\python\\framework\\indexed_slices.py:433: UserWarning: Converting sparse IndexedSlices to a dense Tensor of unknown shape. This may consume a large amount of memory.\n",
      "  \"Converting sparse IndexedSlices to a dense Tensor of unknown shape. \"\n"
     ]
    },
    {
     "name": "stdout",
     "output_type": "stream",
     "text": [
      "Epoch 1/4\n",
      "16666/16666 [==============================] - 7s 445us/step - loss: 0.4963 - accuracy: 0.7390\n",
      "Epoch 2/4\n",
      "16666/16666 [==============================] - 7s 428us/step - loss: 0.1518 - accuracy: 0.9461\n",
      "Epoch 3/4\n",
      "16666/16666 [==============================] - 7s 431us/step - loss: 0.0111 - accuracy: 0.9981\n",
      "Epoch 4/4\n",
      "16666/16666 [==============================] - 7s 440us/step - loss: 0.0012 - accuracy: 1.0000\n",
      "8334/8334 [==============================] - 0s 49us/step\n"
     ]
    },
    {
     "name": "stderr",
     "output_type": "stream",
     "text": [
      "C:\\Users\\joaon\\Anaconda3\\envs\\DL-illustrated\\lib\\site-packages\\tensorflow_core\\python\\framework\\indexed_slices.py:433: UserWarning: Converting sparse IndexedSlices to a dense Tensor of unknown shape. This may consume a large amount of memory.\n",
      "  \"Converting sparse IndexedSlices to a dense Tensor of unknown shape. \"\n"
     ]
    },
    {
     "name": "stdout",
     "output_type": "stream",
     "text": [
      "Epoch 1/4\n",
      "16667/16667 [==============================] - 7s 443us/step - loss: 0.5044 - accuracy: 0.7284\n",
      "Epoch 2/4\n",
      "16667/16667 [==============================] - 7s 426us/step - loss: 0.1595 - accuracy: 0.9423\n",
      "Epoch 3/4\n",
      "16667/16667 [==============================] - 7s 422us/step - loss: 0.0133 - accuracy: 0.9981\n",
      "Epoch 4/4\n",
      "16667/16667 [==============================] - 7s 426us/step - loss: 0.0015 - accuracy: 1.0000\n",
      "8333/8333 [==============================] - 0s 49us/step\n"
     ]
    },
    {
     "name": "stderr",
     "output_type": "stream",
     "text": [
      "C:\\Users\\joaon\\Anaconda3\\envs\\DL-illustrated\\lib\\site-packages\\tensorflow_core\\python\\framework\\indexed_slices.py:433: UserWarning: Converting sparse IndexedSlices to a dense Tensor of unknown shape. This may consume a large amount of memory.\n",
      "  \"Converting sparse IndexedSlices to a dense Tensor of unknown shape. \"\n"
     ]
    },
    {
     "name": "stdout",
     "output_type": "stream",
     "text": [
      "Epoch 1/4\n",
      "16667/16667 [==============================] - 8s 454us/step - loss: 0.4987 - accuracy: 0.7382\n",
      "Epoch 2/4\n",
      "16667/16667 [==============================] - 7s 417us/step - loss: 0.1411 - accuracy: 0.9515\n",
      "Epoch 3/4\n",
      "16667/16667 [==============================] - 7s 419us/step - loss: 0.0102 - accuracy: 0.9989\n",
      "Epoch 4/4\n",
      "16667/16667 [==============================] - 7s 431us/step - loss: 0.0013 - accuracy: 1.0000\n",
      "8333/8333 [==============================] - 0s 49us/step\n"
     ]
    },
    {
     "name": "stderr",
     "output_type": "stream",
     "text": [
      "C:\\Users\\joaon\\Anaconda3\\envs\\DL-illustrated\\lib\\site-packages\\tensorflow_core\\python\\framework\\indexed_slices.py:433: UserWarning: Converting sparse IndexedSlices to a dense Tensor of unknown shape. This may consume a large amount of memory.\n",
      "  \"Converting sparse IndexedSlices to a dense Tensor of unknown shape. \"\n"
     ]
    },
    {
     "name": "stdout",
     "output_type": "stream",
     "text": [
      "Epoch 1/6\n",
      "16666/16666 [==============================] - 6s 361us/step - loss: 0.5399 - accuracy: 0.7000\n",
      "Epoch 2/6\n",
      "16666/16666 [==============================] - 6s 374us/step - loss: 0.1846 - accuracy: 0.9308\n",
      "Epoch 3/6\n",
      "16666/16666 [==============================] - 7s 392us/step - loss: 0.0185 - accuracy: 0.9971\n",
      "Epoch 4/6\n",
      "16666/16666 [==============================] - 6s 373us/step - loss: 0.0022 - accuracy: 1.0000\n",
      "Epoch 5/6\n",
      "16666/16666 [==============================] - 7s 442us/step - loss: 8.8627e-04 - accuracy: 1.0000\n",
      "Epoch 6/6\n",
      "16666/16666 [==============================] - 6s 349us/step - loss: 5.3752e-04 - accuracy: 1.0000\n",
      "8334/8334 [==============================] - 0s 39us/step\n"
     ]
    },
    {
     "name": "stderr",
     "output_type": "stream",
     "text": [
      "C:\\Users\\joaon\\Anaconda3\\envs\\DL-illustrated\\lib\\site-packages\\tensorflow_core\\python\\framework\\indexed_slices.py:433: UserWarning: Converting sparse IndexedSlices to a dense Tensor of unknown shape. This may consume a large amount of memory.\n",
      "  \"Converting sparse IndexedSlices to a dense Tensor of unknown shape. \"\n"
     ]
    },
    {
     "name": "stdout",
     "output_type": "stream",
     "text": [
      "Epoch 1/6\n",
      "16667/16667 [==============================] - 6s 341us/step - loss: 0.5162 - accuracy: 0.7196\n",
      "Epoch 2/6\n",
      "16667/16667 [==============================] - 6s 346us/step - loss: 0.1610 - accuracy: 0.9429\n",
      "Epoch 3/6\n",
      "16667/16667 [==============================] - 6s 374us/step - loss: 0.0176 - accuracy: 0.9974\n",
      "Epoch 4/6\n",
      "16667/16667 [==============================] - 7s 397us/step - loss: 0.0025 - accuracy: 0.9999\n",
      "Epoch 5/6\n",
      "16667/16667 [==============================] - 6s 381us/step - loss: 9.6950e-04 - accuracy: 1.0000\n",
      "Epoch 6/6\n",
      "16667/16667 [==============================] - 6s 378us/step - loss: 5.1389e-04 - accuracy: 1.0000\n",
      "8333/8333 [==============================] - 0s 39us/step\n"
     ]
    },
    {
     "name": "stderr",
     "output_type": "stream",
     "text": [
      "C:\\Users\\joaon\\Anaconda3\\envs\\DL-illustrated\\lib\\site-packages\\tensorflow_core\\python\\framework\\indexed_slices.py:433: UserWarning: Converting sparse IndexedSlices to a dense Tensor of unknown shape. This may consume a large amount of memory.\n",
      "  \"Converting sparse IndexedSlices to a dense Tensor of unknown shape. \"\n"
     ]
    },
    {
     "name": "stdout",
     "output_type": "stream",
     "text": [
      "Epoch 1/6\n",
      "16667/16667 [==============================] - 6s 363us/step - loss: 0.5133 - accuracy: 0.7291\n",
      "Epoch 2/6\n",
      "16667/16667 [==============================] - 5s 329us/step - loss: 0.1726 - accuracy: 0.9365\n",
      "Epoch 3/6\n",
      "16667/16667 [==============================] - 6s 367us/step - loss: 0.0197 - accuracy: 0.9967\n",
      "Epoch 4/6\n",
      "16667/16667 [==============================] - 6s 359us/step - loss: 0.0027 - accuracy: 1.0000\n",
      "Epoch 5/6\n",
      "16667/16667 [==============================] - 6s 378us/step - loss: 9.4620e-04 - accuracy: 1.0000\n",
      "Epoch 6/6\n",
      "16667/16667 [==============================] - 7s 398us/step - loss: 5.5815e-04 - accuracy: 1.0000\n",
      "8333/8333 [==============================] - 0s 52us/step\n"
     ]
    },
    {
     "name": "stderr",
     "output_type": "stream",
     "text": [
      "C:\\Users\\joaon\\Anaconda3\\envs\\DL-illustrated\\lib\\site-packages\\tensorflow_core\\python\\framework\\indexed_slices.py:433: UserWarning: Converting sparse IndexedSlices to a dense Tensor of unknown shape. This may consume a large amount of memory.\n",
      "  \"Converting sparse IndexedSlices to a dense Tensor of unknown shape. \"\n"
     ]
    },
    {
     "name": "stdout",
     "output_type": "stream",
     "text": [
      "Epoch 1/6\n",
      "16666/16666 [==============================] - 8s 461us/step - loss: 0.4909 - accuracy: 0.7387\n",
      "Epoch 2/6\n",
      "16666/16666 [==============================] - 8s 452us/step - loss: 0.1395 - accuracy: 0.9515\n",
      "Epoch 3/6\n",
      "16666/16666 [==============================] - 8s 510us/step - loss: 0.0124 - accuracy: 0.9981\n",
      "Epoch 4/6\n",
      "16666/16666 [==============================] - 8s 481us/step - loss: 0.0016 - accuracy: 1.0000\n",
      "Epoch 5/6\n",
      "16666/16666 [==============================] - 8s 504us/step - loss: 5.5912e-04 - accuracy: 1.0000\n",
      "Epoch 6/6\n",
      "16666/16666 [==============================] - 8s 462us/step - loss: 2.9006e-04 - accuracy: 1.0000\n",
      "8334/8334 [==============================] - 0s 45us/step\n"
     ]
    },
    {
     "name": "stderr",
     "output_type": "stream",
     "text": [
      "C:\\Users\\joaon\\Anaconda3\\envs\\DL-illustrated\\lib\\site-packages\\tensorflow_core\\python\\framework\\indexed_slices.py:433: UserWarning: Converting sparse IndexedSlices to a dense Tensor of unknown shape. This may consume a large amount of memory.\n",
      "  \"Converting sparse IndexedSlices to a dense Tensor of unknown shape. \"\n"
     ]
    },
    {
     "name": "stdout",
     "output_type": "stream",
     "text": [
      "Epoch 1/6\n",
      "16667/16667 [==============================] - 8s 502us/step - loss: 0.4930 - accuracy: 0.7380\n",
      "Epoch 2/6\n",
      "16667/16667 [==============================] - 8s 484us/step - loss: 0.1309 - accuracy: 0.9555\n",
      "Epoch 3/6\n",
      "16667/16667 [==============================] - 8s 451us/step - loss: 0.0102 - accuracy: 0.9987\n",
      "Epoch 4/6\n",
      "16667/16667 [==============================] - 9s 525us/step - loss: 0.0012 - accuracy: 1.0000\n",
      "Epoch 5/6\n",
      "16667/16667 [==============================] - 8s 462us/step - loss: 5.2949e-04 - accuracy: 1.0000\n",
      "Epoch 6/6\n",
      "16667/16667 [==============================] - 7s 436us/step - loss: 3.0331e-04 - accuracy: 1.0000\n",
      "8333/8333 [==============================] - 0s 45us/step\n"
     ]
    },
    {
     "name": "stderr",
     "output_type": "stream",
     "text": [
      "C:\\Users\\joaon\\Anaconda3\\envs\\DL-illustrated\\lib\\site-packages\\tensorflow_core\\python\\framework\\indexed_slices.py:433: UserWarning: Converting sparse IndexedSlices to a dense Tensor of unknown shape. This may consume a large amount of memory.\n",
      "  \"Converting sparse IndexedSlices to a dense Tensor of unknown shape. \"\n"
     ]
    },
    {
     "name": "stdout",
     "output_type": "stream",
     "text": [
      "Epoch 1/6\n",
      "16667/16667 [==============================] - 7s 440us/step - loss: 0.5013 - accuracy: 0.7347\n",
      "Epoch 2/6\n",
      "16667/16667 [==============================] - 8s 493us/step - loss: 0.1447 - accuracy: 0.9477\n",
      "Epoch 3/6\n",
      "16667/16667 [==============================] - 8s 500us/step - loss: 0.0099 - accuracy: 0.9986\n",
      "Epoch 4/6\n",
      "16667/16667 [==============================] - 8s 455us/step - loss: 0.0014 - accuracy: 0.9998\n",
      "Epoch 5/6\n",
      "16667/16667 [==============================] - 7s 450us/step - loss: 6.3578e-04 - accuracy: 1.0000\n",
      "Epoch 6/6\n",
      "16667/16667 [==============================] - 8s 497us/step - loss: 3.3450e-04 - accuracy: 1.0000\n",
      "8333/8333 [==============================] - 0s 51us/step\n"
     ]
    },
    {
     "name": "stderr",
     "output_type": "stream",
     "text": [
      "C:\\Users\\joaon\\Anaconda3\\envs\\DL-illustrated\\lib\\site-packages\\tensorflow_core\\python\\framework\\indexed_slices.py:433: UserWarning: Converting sparse IndexedSlices to a dense Tensor of unknown shape. This may consume a large amount of memory.\n",
      "  \"Converting sparse IndexedSlices to a dense Tensor of unknown shape. \"\n"
     ]
    },
    {
     "name": "stdout",
     "output_type": "stream",
     "text": [
      "Epoch 1/2\n",
      "16666/16666 [==============================] - 7s 393us/step - loss: 0.5484 - accuracy: 0.6930\n",
      "Epoch 2/2\n",
      "16666/16666 [==============================] - 6s 372us/step - loss: 0.2136 - accuracy: 0.9207\n",
      "8334/8334 [==============================] - 0s 39us/step\n"
     ]
    },
    {
     "name": "stderr",
     "output_type": "stream",
     "text": [
      "C:\\Users\\joaon\\Anaconda3\\envs\\DL-illustrated\\lib\\site-packages\\tensorflow_core\\python\\framework\\indexed_slices.py:433: UserWarning: Converting sparse IndexedSlices to a dense Tensor of unknown shape. This may consume a large amount of memory.\n",
      "  \"Converting sparse IndexedSlices to a dense Tensor of unknown shape. \"\n"
     ]
    },
    {
     "name": "stdout",
     "output_type": "stream",
     "text": [
      "Epoch 1/2\n",
      "16667/16667 [==============================] - 6s 356us/step - loss: 0.5576 - accuracy: 0.6899\n",
      "Epoch 2/2\n",
      "16667/16667 [==============================] - 6s 347us/step - loss: 0.2193 - accuracy: 0.9164\n",
      "8333/8333 [==============================] - 0s 37us/step\n"
     ]
    },
    {
     "name": "stderr",
     "output_type": "stream",
     "text": [
      "C:\\Users\\joaon\\Anaconda3\\envs\\DL-illustrated\\lib\\site-packages\\tensorflow_core\\python\\framework\\indexed_slices.py:433: UserWarning: Converting sparse IndexedSlices to a dense Tensor of unknown shape. This may consume a large amount of memory.\n",
      "  \"Converting sparse IndexedSlices to a dense Tensor of unknown shape. \"\n"
     ]
    },
    {
     "name": "stdout",
     "output_type": "stream",
     "text": [
      "Epoch 1/2\n",
      "16667/16667 [==============================] - 6s 348us/step - loss: 0.5443 - accuracy: 0.6976\n",
      "Epoch 2/2\n",
      "16667/16667 [==============================] - 6s 383us/step - loss: 0.2064 - accuracy: 0.9226\n",
      "8333/8333 [==============================] - 0s 49us/step\n"
     ]
    },
    {
     "name": "stderr",
     "output_type": "stream",
     "text": [
      "C:\\Users\\joaon\\Anaconda3\\envs\\DL-illustrated\\lib\\site-packages\\tensorflow_core\\python\\framework\\indexed_slices.py:433: UserWarning: Converting sparse IndexedSlices to a dense Tensor of unknown shape. This may consume a large amount of memory.\n",
      "  \"Converting sparse IndexedSlices to a dense Tensor of unknown shape. \"\n"
     ]
    },
    {
     "name": "stdout",
     "output_type": "stream",
     "text": [
      "Epoch 1/2\n",
      "16666/16666 [==============================] - 8s 488us/step - loss: 0.5265 - accuracy: 0.7148\n",
      "Epoch 2/2\n",
      "16666/16666 [==============================] - 7s 448us/step - loss: 0.1715 - accuracy: 0.9384\n",
      "8334/8334 [==============================] - 0s 45us/step\n"
     ]
    },
    {
     "name": "stderr",
     "output_type": "stream",
     "text": [
      "C:\\Users\\joaon\\Anaconda3\\envs\\DL-illustrated\\lib\\site-packages\\tensorflow_core\\python\\framework\\indexed_slices.py:433: UserWarning: Converting sparse IndexedSlices to a dense Tensor of unknown shape. This may consume a large amount of memory.\n",
      "  \"Converting sparse IndexedSlices to a dense Tensor of unknown shape. \"\n"
     ]
    },
    {
     "name": "stdout",
     "output_type": "stream",
     "text": [
      "Epoch 1/2\n",
      "16667/16667 [==============================] - 8s 475us/step - loss: 0.5297 - accuracy: 0.7067\n",
      "Epoch 2/2\n",
      "16667/16667 [==============================] - 8s 466us/step - loss: 0.1732 - accuracy: 0.9366\n",
      "8333/8333 [==============================] - 0s 58us/step\n"
     ]
    },
    {
     "name": "stderr",
     "output_type": "stream",
     "text": [
      "C:\\Users\\joaon\\Anaconda3\\envs\\DL-illustrated\\lib\\site-packages\\tensorflow_core\\python\\framework\\indexed_slices.py:433: UserWarning: Converting sparse IndexedSlices to a dense Tensor of unknown shape. This may consume a large amount of memory.\n",
      "  \"Converting sparse IndexedSlices to a dense Tensor of unknown shape. \"\n"
     ]
    },
    {
     "name": "stdout",
     "output_type": "stream",
     "text": [
      "Epoch 1/2\n",
      "16667/16667 [==============================] - 8s 503us/step - loss: 0.5334 - accuracy: 0.7016\n",
      "Epoch 2/2\n",
      "16667/16667 [==============================] - 7s 442us/step - loss: 0.1696 - accuracy: 0.9364\n",
      "8333/8333 [==============================] - 0s 56us/step\n"
     ]
    },
    {
     "name": "stderr",
     "output_type": "stream",
     "text": [
      "C:\\Users\\joaon\\Anaconda3\\envs\\DL-illustrated\\lib\\site-packages\\tensorflow_core\\python\\framework\\indexed_slices.py:433: UserWarning: Converting sparse IndexedSlices to a dense Tensor of unknown shape. This may consume a large amount of memory.\n",
      "  \"Converting sparse IndexedSlices to a dense Tensor of unknown shape. \"\n"
     ]
    },
    {
     "name": "stdout",
     "output_type": "stream",
     "text": [
      "Epoch 1/4\n",
      "16666/16666 [==============================] - 7s 401us/step - loss: 0.5513 - accuracy: 0.6931\n",
      "Epoch 2/4\n",
      "16666/16666 [==============================] - 6s 361us/step - loss: 0.2148 - accuracy: 0.9216\n",
      "Epoch 3/4\n",
      "16666/16666 [==============================] - 6s 337us/step - loss: 0.0347 - accuracy: 0.9935\n",
      "Epoch 4/4\n",
      "16666/16666 [==============================] - 6s 336us/step - loss: 0.0056 - accuracy: 0.9996\n",
      "8334/8334 [==============================] - 0s 37us/step\n"
     ]
    },
    {
     "name": "stderr",
     "output_type": "stream",
     "text": [
      "C:\\Users\\joaon\\Anaconda3\\envs\\DL-illustrated\\lib\\site-packages\\tensorflow_core\\python\\framework\\indexed_slices.py:433: UserWarning: Converting sparse IndexedSlices to a dense Tensor of unknown shape. This may consume a large amount of memory.\n",
      "  \"Converting sparse IndexedSlices to a dense Tensor of unknown shape. \"\n"
     ]
    },
    {
     "name": "stdout",
     "output_type": "stream",
     "text": [
      "Epoch 1/4\n",
      "16667/16667 [==============================] - 6s 341us/step - loss: 0.5656 - accuracy: 0.6797\n",
      "Epoch 2/4\n",
      "16667/16667 [==============================] - 7s 398us/step - loss: 0.2279 - accuracy: 0.9134\n",
      "Epoch 3/4\n",
      "16667/16667 [==============================] - 7s 413us/step - loss: 0.0363 - accuracy: 0.9917\n",
      "Epoch 4/4\n",
      "16667/16667 [==============================] - 6s 357us/step - loss: 0.0055 - accuracy: 0.9999\n",
      "8333/8333 [==============================] - 0s 39us/step\n"
     ]
    },
    {
     "name": "stderr",
     "output_type": "stream",
     "text": [
      "C:\\Users\\joaon\\Anaconda3\\envs\\DL-illustrated\\lib\\site-packages\\tensorflow_core\\python\\framework\\indexed_slices.py:433: UserWarning: Converting sparse IndexedSlices to a dense Tensor of unknown shape. This may consume a large amount of memory.\n",
      "  \"Converting sparse IndexedSlices to a dense Tensor of unknown shape. \"\n"
     ]
    },
    {
     "name": "stdout",
     "output_type": "stream",
     "text": [
      "Epoch 1/4\n",
      "16667/16667 [==============================] - 6s 335us/step - loss: 0.5527 - accuracy: 0.6885\n",
      "Epoch 2/4\n",
      "16667/16667 [==============================] - 6s 352us/step - loss: 0.2292 - accuracy: 0.9128\n",
      "Epoch 3/4\n",
      "16667/16667 [==============================] - 6s 381us/step - loss: 0.0411 - accuracy: 0.9905\n",
      "Epoch 4/4\n",
      "16667/16667 [==============================] - 7s 392us/step - loss: 0.0069 - accuracy: 0.9995\n",
      "8333/8333 [==============================] - 0s 43us/step\n"
     ]
    },
    {
     "name": "stderr",
     "output_type": "stream",
     "text": [
      "C:\\Users\\joaon\\Anaconda3\\envs\\DL-illustrated\\lib\\site-packages\\tensorflow_core\\python\\framework\\indexed_slices.py:433: UserWarning: Converting sparse IndexedSlices to a dense Tensor of unknown shape. This may consume a large amount of memory.\n",
      "  \"Converting sparse IndexedSlices to a dense Tensor of unknown shape. \"\n"
     ]
    },
    {
     "name": "stdout",
     "output_type": "stream",
     "text": [
      "Epoch 1/4\n",
      "16666/16666 [==============================] - 9s 515us/step - loss: 0.5160 - accuracy: 0.7209\n",
      "Epoch 2/4\n",
      "16666/16666 [==============================] - 8s 492us/step - loss: 0.1770 - accuracy: 0.9353\n",
      "Epoch 3/4\n",
      "16666/16666 [==============================] - 8s 496us/step - loss: 0.0185 - accuracy: 0.9972\n",
      "Epoch 4/4\n",
      "16666/16666 [==============================] - 9s 545us/step - loss: 0.0027 - accuracy: 0.9999\n",
      "8334/8334 [==============================] - 0s 56us/step\n"
     ]
    },
    {
     "name": "stderr",
     "output_type": "stream",
     "text": [
      "C:\\Users\\joaon\\Anaconda3\\envs\\DL-illustrated\\lib\\site-packages\\tensorflow_core\\python\\framework\\indexed_slices.py:433: UserWarning: Converting sparse IndexedSlices to a dense Tensor of unknown shape. This may consume a large amount of memory.\n",
      "  \"Converting sparse IndexedSlices to a dense Tensor of unknown shape. \"\n"
     ]
    },
    {
     "name": "stdout",
     "output_type": "stream",
     "text": [
      "Epoch 1/4\n",
      "16667/16667 [==============================] - 7s 448us/step - loss: 0.5203 - accuracy: 0.7214\n",
      "Epoch 2/4\n",
      "16667/16667 [==============================] - 7s 442us/step - loss: 0.1702 - accuracy: 0.9379\n",
      "Epoch 3/4\n",
      "16667/16667 [==============================] - 8s 463us/step - loss: 0.0166 - accuracy: 0.9980\n",
      "Epoch 4/4\n",
      "16667/16667 [==============================] - 7s 426us/step - loss: 0.0028 - accuracy: 0.9998\n",
      "8333/8333 [==============================] - 0s 49us/step\n"
     ]
    },
    {
     "name": "stderr",
     "output_type": "stream",
     "text": [
      "C:\\Users\\joaon\\Anaconda3\\envs\\DL-illustrated\\lib\\site-packages\\tensorflow_core\\python\\framework\\indexed_slices.py:433: UserWarning: Converting sparse IndexedSlices to a dense Tensor of unknown shape. This may consume a large amount of memory.\n",
      "  \"Converting sparse IndexedSlices to a dense Tensor of unknown shape. \"\n"
     ]
    },
    {
     "name": "stdout",
     "output_type": "stream",
     "text": [
      "Epoch 1/4\n",
      "16667/16667 [==============================] - 7s 414us/step - loss: 0.5228 - accuracy: 0.7215\n",
      "Epoch 2/4\n",
      "16667/16667 [==============================] - 8s 460us/step - loss: 0.1785 - accuracy: 0.9371\n",
      "Epoch 3/4\n",
      "16667/16667 [==============================] - 9s 537us/step - loss: 0.0207 - accuracy: 0.9965\n",
      "Epoch 4/4\n",
      "16667/16667 [==============================] - 8s 456us/step - loss: 0.0034 - accuracy: 0.9997\n",
      "8333/8333 [==============================] - 0s 49us/step\n"
     ]
    },
    {
     "name": "stderr",
     "output_type": "stream",
     "text": [
      "C:\\Users\\joaon\\Anaconda3\\envs\\DL-illustrated\\lib\\site-packages\\tensorflow_core\\python\\framework\\indexed_slices.py:433: UserWarning: Converting sparse IndexedSlices to a dense Tensor of unknown shape. This may consume a large amount of memory.\n",
      "  \"Converting sparse IndexedSlices to a dense Tensor of unknown shape. \"\n"
     ]
    },
    {
     "name": "stdout",
     "output_type": "stream",
     "text": [
      "Epoch 1/6\n",
      "16666/16666 [==============================] - 6s 352us/step - loss: 0.5547 - accuracy: 0.6864\n",
      "Epoch 2/6\n",
      "16666/16666 [==============================] - 6s 366us/step - loss: 0.2225 - accuracy: 0.9180\n",
      "Epoch 3/6\n",
      "16666/16666 [==============================] - 6s 356us/step - loss: 0.0394 - accuracy: 0.9909\n",
      "Epoch 4/6\n",
      "16666/16666 [==============================] - 6s 359us/step - loss: 0.0064 - accuracy: 0.9996\n",
      "Epoch 5/6\n",
      "16666/16666 [==============================] - 6s 389us/step - loss: 0.0023 - accuracy: 0.9999\n",
      "Epoch 6/6\n",
      "16666/16666 [==============================] - 7s 409us/step - loss: 0.0012 - accuracy: 1.0000\n",
      "8334/8334 [==============================] - 0s 39us/step\n"
     ]
    },
    {
     "name": "stderr",
     "output_type": "stream",
     "text": [
      "C:\\Users\\joaon\\Anaconda3\\envs\\DL-illustrated\\lib\\site-packages\\tensorflow_core\\python\\framework\\indexed_slices.py:433: UserWarning: Converting sparse IndexedSlices to a dense Tensor of unknown shape. This may consume a large amount of memory.\n",
      "  \"Converting sparse IndexedSlices to a dense Tensor of unknown shape. \"\n"
     ]
    },
    {
     "name": "stdout",
     "output_type": "stream",
     "text": [
      "Epoch 1/6\n",
      "16667/16667 [==============================] - 6s 339us/step - loss: 0.5461 - accuracy: 0.6950\n",
      "Epoch 2/6\n",
      "16667/16667 [==============================] - 6s 338us/step - loss: 0.2027 - accuracy: 0.9246\n",
      "Epoch 3/6\n",
      "16667/16667 [==============================] - 5s 330us/step - loss: 0.0299 - accuracy: 0.9947\n",
      "Epoch 4/6\n",
      "16667/16667 [==============================] - 6s 341us/step - loss: 0.0052 - accuracy: 0.9998\n",
      "Epoch 5/6\n",
      "16667/16667 [==============================] - 6s 376us/step - loss: 0.0021 - accuracy: 1.0000\n",
      "Epoch 6/6\n",
      "16667/16667 [==============================] - 6s 371us/step - loss: 0.0011 - accuracy: 1.0000\n",
      "8333/8333 [==============================] - 0s 37us/step\n"
     ]
    },
    {
     "name": "stderr",
     "output_type": "stream",
     "text": [
      "C:\\Users\\joaon\\Anaconda3\\envs\\DL-illustrated\\lib\\site-packages\\tensorflow_core\\python\\framework\\indexed_slices.py:433: UserWarning: Converting sparse IndexedSlices to a dense Tensor of unknown shape. This may consume a large amount of memory.\n",
      "  \"Converting sparse IndexedSlices to a dense Tensor of unknown shape. \"\n"
     ]
    },
    {
     "name": "stdout",
     "output_type": "stream",
     "text": [
      "Epoch 1/6\n",
      "16667/16667 [==============================] - 6s 333us/step - loss: 0.5515 - accuracy: 0.6942\n",
      "Epoch 2/6\n",
      "16667/16667 [==============================] - 5s 328us/step - loss: 0.2160 - accuracy: 0.9214\n",
      "Epoch 3/6\n",
      "16667/16667 [==============================] - 5s 328us/step - loss: 0.0353 - accuracy: 0.9925\n",
      "Epoch 4/6\n",
      "16667/16667 [==============================] - 6s 349us/step - loss: 0.0052 - accuracy: 0.9998\n",
      "Epoch 5/6\n",
      "16667/16667 [==============================] - 6s 335us/step - loss: 0.0019 - accuracy: 0.9999\n",
      "Epoch 6/6\n",
      "16667/16667 [==============================] - 5s 326us/step - loss: 0.0012 - accuracy: 1.0000\n",
      "8333/8333 [==============================] - 0s 37us/step\n"
     ]
    },
    {
     "name": "stderr",
     "output_type": "stream",
     "text": [
      "C:\\Users\\joaon\\Anaconda3\\envs\\DL-illustrated\\lib\\site-packages\\tensorflow_core\\python\\framework\\indexed_slices.py:433: UserWarning: Converting sparse IndexedSlices to a dense Tensor of unknown shape. This may consume a large amount of memory.\n",
      "  \"Converting sparse IndexedSlices to a dense Tensor of unknown shape. \"\n"
     ]
    },
    {
     "name": "stdout",
     "output_type": "stream",
     "text": [
      "Epoch 1/6\n",
      "16666/16666 [==============================] - 8s 465us/step - loss: 0.5237 - accuracy: 0.7126\n",
      "Epoch 2/6\n",
      "16666/16666 [==============================] - 8s 467us/step - loss: 0.1708 - accuracy: 0.9374\n",
      "Epoch 3/6\n",
      "16666/16666 [==============================] - 7s 432us/step - loss: 0.0186 - accuracy: 0.9966\n",
      "Epoch 4/6\n",
      "16666/16666 [==============================] - 7s 419us/step - loss: 0.0026 - accuracy: 0.9999\n",
      "Epoch 5/6\n",
      "16666/16666 [==============================] - 7s 410us/step - loss: 9.7533e-04 - accuracy: 1.0000\n",
      "Epoch 6/6\n",
      "16666/16666 [==============================] - 7s 440us/step - loss: 5.3503e-04 - accuracy: 1.0000\n",
      "8334/8334 [==============================] - 0s 47us/step\n"
     ]
    },
    {
     "name": "stderr",
     "output_type": "stream",
     "text": [
      "C:\\Users\\joaon\\Anaconda3\\envs\\DL-illustrated\\lib\\site-packages\\tensorflow_core\\python\\framework\\indexed_slices.py:433: UserWarning: Converting sparse IndexedSlices to a dense Tensor of unknown shape. This may consume a large amount of memory.\n",
      "  \"Converting sparse IndexedSlices to a dense Tensor of unknown shape. \"\n"
     ]
    },
    {
     "name": "stdout",
     "output_type": "stream",
     "text": [
      "Epoch 1/6\n",
      "16667/16667 [==============================] - 8s 478us/step - loss: 0.5288 - accuracy: 0.7113\n",
      "Epoch 2/6\n",
      "16667/16667 [==============================] - 7s 448us/step - loss: 0.1818 - accuracy: 0.9337\n",
      "Epoch 3/6\n",
      "16667/16667 [==============================] - 7s 442us/step - loss: 0.0193 - accuracy: 0.9966\n",
      "Epoch 4/6\n",
      "16667/16667 [==============================] - 8s 457us/step - loss: 0.0026 - accuracy: 0.9999\n",
      "Epoch 5/6\n",
      "16667/16667 [==============================] - 7s 437us/step - loss: 0.0010 - accuracy: 1.0000\n",
      "Epoch 6/6\n",
      "16667/16667 [==============================] - 7s 426us/step - loss: 5.8188e-04 - accuracy: 1.0000\n",
      "8333/8333 [==============================] - 0s 45us/step\n"
     ]
    },
    {
     "name": "stderr",
     "output_type": "stream",
     "text": [
      "C:\\Users\\joaon\\Anaconda3\\envs\\DL-illustrated\\lib\\site-packages\\tensorflow_core\\python\\framework\\indexed_slices.py:433: UserWarning: Converting sparse IndexedSlices to a dense Tensor of unknown shape. This may consume a large amount of memory.\n",
      "  \"Converting sparse IndexedSlices to a dense Tensor of unknown shape. \"\n"
     ]
    },
    {
     "name": "stdout",
     "output_type": "stream",
     "text": [
      "Epoch 1/6\n",
      "16667/16667 [==============================] - 7s 416us/step - loss: 0.5197 - accuracy: 0.7176\n",
      "Epoch 2/6\n",
      "16667/16667 [==============================] - 7s 420us/step - loss: 0.1670 - accuracy: 0.9400\n",
      "Epoch 3/6\n",
      "16667/16667 [==============================] - 8s 456us/step - loss: 0.0175 - accuracy: 0.9971\n",
      "Epoch 4/6\n",
      "16667/16667 [==============================] - 7s 444us/step - loss: 0.0028 - accuracy: 0.9999\n",
      "Epoch 5/6\n",
      "16667/16667 [==============================] - 8s 505us/step - loss: 0.0011 - accuracy: 1.0000\n",
      "Epoch 6/6\n",
      "16667/16667 [==============================] - 7s 413us/step - loss: 5.3546e-04 - accuracy: 1.0000\n",
      "8333/8333 [==============================] - 0s 47us/step\n"
     ]
    },
    {
     "name": "stderr",
     "output_type": "stream",
     "text": [
      "C:\\Users\\joaon\\Anaconda3\\envs\\DL-illustrated\\lib\\site-packages\\tensorflow_core\\python\\framework\\indexed_slices.py:433: UserWarning: Converting sparse IndexedSlices to a dense Tensor of unknown shape. This may consume a large amount of memory.\n",
      "  \"Converting sparse IndexedSlices to a dense Tensor of unknown shape. \"\n"
     ]
    },
    {
     "name": "stdout",
     "output_type": "stream",
     "text": [
      "Epoch 1/2\n",
      "16666/16666 [==============================] - 3s 206us/step - loss: 0.6059 - accuracy: 0.6483\n",
      "Epoch 2/2\n",
      "16666/16666 [==============================] - 3s 200us/step - loss: 0.2504 - accuracy: 0.9021\n",
      "8334/8334 [==============================] - 0s 30us/step\n"
     ]
    },
    {
     "name": "stderr",
     "output_type": "stream",
     "text": [
      "C:\\Users\\joaon\\Anaconda3\\envs\\DL-illustrated\\lib\\site-packages\\tensorflow_core\\python\\framework\\indexed_slices.py:433: UserWarning: Converting sparse IndexedSlices to a dense Tensor of unknown shape. This may consume a large amount of memory.\n",
      "  \"Converting sparse IndexedSlices to a dense Tensor of unknown shape. \"\n"
     ]
    },
    {
     "name": "stdout",
     "output_type": "stream",
     "text": [
      "Epoch 1/2\n",
      "16667/16667 [==============================] - 3s 187us/step - loss: 0.5671 - accuracy: 0.6909\n",
      "Epoch 2/2\n",
      "16667/16667 [==============================] - 3s 190us/step - loss: 0.2230 - accuracy: 0.9131\n",
      "8333/8333 [==============================] - 0s 28us/step\n"
     ]
    },
    {
     "name": "stderr",
     "output_type": "stream",
     "text": [
      "C:\\Users\\joaon\\Anaconda3\\envs\\DL-illustrated\\lib\\site-packages\\tensorflow_core\\python\\framework\\indexed_slices.py:433: UserWarning: Converting sparse IndexedSlices to a dense Tensor of unknown shape. This may consume a large amount of memory.\n",
      "  \"Converting sparse IndexedSlices to a dense Tensor of unknown shape. \"\n"
     ]
    },
    {
     "name": "stdout",
     "output_type": "stream",
     "text": [
      "Epoch 1/2\n",
      "16667/16667 [==============================] - 3s 198us/step - loss: 0.6131 - accuracy: 0.6507\n",
      "Epoch 2/2\n",
      "16667/16667 [==============================] - 3s 195us/step - loss: 0.2597 - accuracy: 0.8958\n",
      "8333/8333 [==============================] - 0s 30us/step\n"
     ]
    },
    {
     "name": "stderr",
     "output_type": "stream",
     "text": [
      "C:\\Users\\joaon\\Anaconda3\\envs\\DL-illustrated\\lib\\site-packages\\tensorflow_core\\python\\framework\\indexed_slices.py:433: UserWarning: Converting sparse IndexedSlices to a dense Tensor of unknown shape. This may consume a large amount of memory.\n",
      "  \"Converting sparse IndexedSlices to a dense Tensor of unknown shape. \"\n"
     ]
    },
    {
     "name": "stdout",
     "output_type": "stream",
     "text": [
      "Epoch 1/2\n",
      "16666/16666 [==============================] - 4s 247us/step - loss: 0.5646 - accuracy: 0.6821\n",
      "Epoch 2/2\n",
      "16666/16666 [==============================] - 5s 276us/step - loss: 0.2084 - accuracy: 0.9216\n",
      "8334/8334 [==============================] - 0s 39us/step\n"
     ]
    },
    {
     "name": "stderr",
     "output_type": "stream",
     "text": [
      "C:\\Users\\joaon\\Anaconda3\\envs\\DL-illustrated\\lib\\site-packages\\tensorflow_core\\python\\framework\\indexed_slices.py:433: UserWarning: Converting sparse IndexedSlices to a dense Tensor of unknown shape. This may consume a large amount of memory.\n",
      "  \"Converting sparse IndexedSlices to a dense Tensor of unknown shape. \"\n"
     ]
    },
    {
     "name": "stdout",
     "output_type": "stream",
     "text": [
      "Epoch 1/2\n",
      "16667/16667 [==============================] - 4s 261us/step - loss: 0.5598 - accuracy: 0.6876\n",
      "Epoch 2/2\n",
      "16667/16667 [==============================] - 4s 257us/step - loss: 0.1991 - accuracy: 0.9248\n",
      "8333/8333 [==============================] - 0s 41us/step\n"
     ]
    },
    {
     "name": "stderr",
     "output_type": "stream",
     "text": [
      "C:\\Users\\joaon\\Anaconda3\\envs\\DL-illustrated\\lib\\site-packages\\tensorflow_core\\python\\framework\\indexed_slices.py:433: UserWarning: Converting sparse IndexedSlices to a dense Tensor of unknown shape. This may consume a large amount of memory.\n",
      "  \"Converting sparse IndexedSlices to a dense Tensor of unknown shape. \"\n"
     ]
    },
    {
     "name": "stdout",
     "output_type": "stream",
     "text": [
      "Epoch 1/2\n",
      "16667/16667 [==============================] - 4s 263us/step - loss: 0.5482 - accuracy: 0.7019\n",
      "Epoch 2/2\n",
      "16667/16667 [==============================] - 4s 250us/step - loss: 0.1940 - accuracy: 0.9305\n",
      "8333/8333 [==============================] - 0s 37us/step\n"
     ]
    },
    {
     "name": "stderr",
     "output_type": "stream",
     "text": [
      "C:\\Users\\joaon\\Anaconda3\\envs\\DL-illustrated\\lib\\site-packages\\tensorflow_core\\python\\framework\\indexed_slices.py:433: UserWarning: Converting sparse IndexedSlices to a dense Tensor of unknown shape. This may consume a large amount of memory.\n",
      "  \"Converting sparse IndexedSlices to a dense Tensor of unknown shape. \"\n"
     ]
    },
    {
     "name": "stdout",
     "output_type": "stream",
     "text": [
      "Epoch 1/4\n",
      "16666/16666 [==============================] - 3s 196us/step - loss: 0.5717 - accuracy: 0.6888\n",
      "Epoch 2/4\n",
      "16666/16666 [==============================] - 3s 187us/step - loss: 0.2297 - accuracy: 0.9132\n",
      "Epoch 3/4\n",
      "16666/16666 [==============================] - 3s 187us/step - loss: 0.0490 - accuracy: 0.9911\n",
      "Epoch 4/4\n",
      "16666/16666 [==============================] - 3s 192us/step - loss: 0.0072 - accuracy: 0.9994\n",
      "8334/8334 [==============================] - 0s 30us/step\n"
     ]
    },
    {
     "name": "stderr",
     "output_type": "stream",
     "text": [
      "C:\\Users\\joaon\\Anaconda3\\envs\\DL-illustrated\\lib\\site-packages\\tensorflow_core\\python\\framework\\indexed_slices.py:433: UserWarning: Converting sparse IndexedSlices to a dense Tensor of unknown shape. This may consume a large amount of memory.\n",
      "  \"Converting sparse IndexedSlices to a dense Tensor of unknown shape. \"\n"
     ]
    },
    {
     "name": "stdout",
     "output_type": "stream",
     "text": [
      "Epoch 1/4\n",
      "16667/16667 [==============================] - 3s 187us/step - loss: 0.5838 - accuracy: 0.6760\n",
      "Epoch 2/4\n",
      "16667/16667 [==============================] - 3s 183us/step - loss: 0.2326 - accuracy: 0.9100\n",
      "Epoch 3/4\n",
      "16667/16667 [==============================] - 3s 187us/step - loss: 0.0439 - accuracy: 0.9914\n",
      "Epoch 4/4\n",
      "16667/16667 [==============================] - 3s 195us/step - loss: 0.0057 - accuracy: 0.9998\n",
      "8333/8333 [==============================] - 0s 30us/step\n"
     ]
    },
    {
     "name": "stderr",
     "output_type": "stream",
     "text": [
      "C:\\Users\\joaon\\Anaconda3\\envs\\DL-illustrated\\lib\\site-packages\\tensorflow_core\\python\\framework\\indexed_slices.py:433: UserWarning: Converting sparse IndexedSlices to a dense Tensor of unknown shape. This may consume a large amount of memory.\n",
      "  \"Converting sparse IndexedSlices to a dense Tensor of unknown shape. \"\n"
     ]
    },
    {
     "name": "stdout",
     "output_type": "stream",
     "text": [
      "Epoch 1/4\n",
      "16667/16667 [==============================] - 3s 192us/step - loss: 0.5865 - accuracy: 0.6701\n",
      "Epoch 2/4\n",
      "16667/16667 [==============================] - 3s 186us/step - loss: 0.2299 - accuracy: 0.9122\n",
      "Epoch 3/4\n",
      "16667/16667 [==============================] - 3s 187us/step - loss: 0.0451 - accuracy: 0.9919\n",
      "Epoch 4/4\n",
      "16667/16667 [==============================] - 3s 185us/step - loss: 0.0068 - accuracy: 0.9998\n",
      "8333/8333 [==============================] - 0s 32us/step\n"
     ]
    },
    {
     "name": "stderr",
     "output_type": "stream",
     "text": [
      "C:\\Users\\joaon\\Anaconda3\\envs\\DL-illustrated\\lib\\site-packages\\tensorflow_core\\python\\framework\\indexed_slices.py:433: UserWarning: Converting sparse IndexedSlices to a dense Tensor of unknown shape. This may consume a large amount of memory.\n",
      "  \"Converting sparse IndexedSlices to a dense Tensor of unknown shape. \"\n"
     ]
    },
    {
     "name": "stdout",
     "output_type": "stream",
     "text": [
      "Epoch 1/4\n",
      "16666/16666 [==============================] - 4s 239us/step - loss: 0.5498 - accuracy: 0.6969\n",
      "Epoch 2/4\n",
      "16666/16666 [==============================] - 4s 243us/step - loss: 0.1940 - accuracy: 0.9284\n",
      "Epoch 3/4\n",
      "16666/16666 [==============================] - 4s 241us/step - loss: 0.0250 - accuracy: 0.9959\n",
      "Epoch 4/4\n",
      "16666/16666 [==============================] - 4s 245us/step - loss: 0.0033 - accuracy: 0.9999\n",
      "8334/8334 [==============================] - 0s 41us/step\n"
     ]
    },
    {
     "name": "stderr",
     "output_type": "stream",
     "text": [
      "C:\\Users\\joaon\\Anaconda3\\envs\\DL-illustrated\\lib\\site-packages\\tensorflow_core\\python\\framework\\indexed_slices.py:433: UserWarning: Converting sparse IndexedSlices to a dense Tensor of unknown shape. This may consume a large amount of memory.\n",
      "  \"Converting sparse IndexedSlices to a dense Tensor of unknown shape. \"\n"
     ]
    },
    {
     "name": "stdout",
     "output_type": "stream",
     "text": [
      "Epoch 1/4\n",
      "16667/16667 [==============================] - 4s 240us/step - loss: 0.5580 - accuracy: 0.6876\n",
      "Epoch 2/4\n",
      "16667/16667 [==============================] - 4s 247us/step - loss: 0.1995 - accuracy: 0.9243\n",
      "Epoch 3/4\n",
      "16667/16667 [==============================] - 4s 250us/step - loss: 0.0248 - accuracy: 0.9972\n",
      "Epoch 4/4\n",
      "16667/16667 [==============================] - 4s 255us/step - loss: 0.0035 - accuracy: 0.9999\n",
      "8333/8333 [==============================] - 0s 37us/step\n"
     ]
    },
    {
     "name": "stderr",
     "output_type": "stream",
     "text": [
      "C:\\Users\\joaon\\Anaconda3\\envs\\DL-illustrated\\lib\\site-packages\\tensorflow_core\\python\\framework\\indexed_slices.py:433: UserWarning: Converting sparse IndexedSlices to a dense Tensor of unknown shape. This may consume a large amount of memory.\n",
      "  \"Converting sparse IndexedSlices to a dense Tensor of unknown shape. \"\n"
     ]
    },
    {
     "name": "stdout",
     "output_type": "stream",
     "text": [
      "Epoch 1/4\n",
      "16667/16667 [==============================] - 5s 275us/step - loss: 0.5602 - accuracy: 0.6917\n",
      "Epoch 2/4\n",
      "16667/16667 [==============================] - 5s 281us/step - loss: 0.1998 - accuracy: 0.9246\n",
      "Epoch 3/4\n",
      "16667/16667 [==============================] - 5s 272us/step - loss: 0.0285 - accuracy: 0.9948\n",
      "Epoch 4/4\n",
      "16667/16667 [==============================] - 4s 250us/step - loss: 0.0042 - accuracy: 0.9998\n",
      "8333/8333 [==============================] - 0s 34us/step\n"
     ]
    },
    {
     "name": "stderr",
     "output_type": "stream",
     "text": [
      "C:\\Users\\joaon\\Anaconda3\\envs\\DL-illustrated\\lib\\site-packages\\tensorflow_core\\python\\framework\\indexed_slices.py:433: UserWarning: Converting sparse IndexedSlices to a dense Tensor of unknown shape. This may consume a large amount of memory.\n",
      "  \"Converting sparse IndexedSlices to a dense Tensor of unknown shape. \"\n"
     ]
    },
    {
     "name": "stdout",
     "output_type": "stream",
     "text": [
      "Epoch 1/6\n",
      "16666/16666 [==============================] - 3s 201us/step - loss: 0.6045 - accuracy: 0.6544\n",
      "Epoch 2/6\n",
      "16666/16666 [==============================] - 3s 202us/step - loss: 0.2501 - accuracy: 0.9020\n",
      "Epoch 3/6\n",
      "16666/16666 [==============================] - 3s 203us/step - loss: 0.0565 - accuracy: 0.9885\n",
      "Epoch 4/6\n",
      "16666/16666 [==============================] - 3s 207us/step - loss: 0.0081 - accuracy: 0.9995\n",
      "Epoch 5/6\n",
      "16666/16666 [==============================] - 3s 190us/step - loss: 0.0023 - accuracy: 1.0000\n",
      "Epoch 6/6\n",
      "16666/16666 [==============================] - 4s 212us/step - loss: 0.0011 - accuracy: 1.0000\n",
      "8334/8334 [==============================] - 0s 26us/step\n"
     ]
    },
    {
     "name": "stderr",
     "output_type": "stream",
     "text": [
      "C:\\Users\\joaon\\Anaconda3\\envs\\DL-illustrated\\lib\\site-packages\\tensorflow_core\\python\\framework\\indexed_slices.py:433: UserWarning: Converting sparse IndexedSlices to a dense Tensor of unknown shape. This may consume a large amount of memory.\n",
      "  \"Converting sparse IndexedSlices to a dense Tensor of unknown shape. \"\n"
     ]
    },
    {
     "name": "stdout",
     "output_type": "stream",
     "text": [
      "Epoch 1/6\n",
      "16667/16667 [==============================] - 3s 196us/step - loss: 0.6301 - accuracy: 0.6320\n",
      "Epoch 2/6\n",
      "16667/16667 [==============================] - 3s 189us/step - loss: 0.2790 - accuracy: 0.8869\n",
      "Epoch 3/6\n",
      "16667/16667 [==============================] - 4s 241us/step - loss: 0.0797 - accuracy: 0.9815\n",
      "Epoch 4/6\n",
      "16667/16667 [==============================] - 4s 236us/step - loss: 0.0122 - accuracy: 0.9990\n",
      "Epoch 5/6\n",
      "16667/16667 [==============================] - 4s 224us/step - loss: 0.0039 - accuracy: 0.9998\n",
      "Epoch 6/6\n",
      "16667/16667 [==============================] - 3s 198us/step - loss: 0.0017 - accuracy: 1.0000\n",
      "8333/8333 [==============================] - 0s 30us/step\n"
     ]
    },
    {
     "name": "stderr",
     "output_type": "stream",
     "text": [
      "C:\\Users\\joaon\\Anaconda3\\envs\\DL-illustrated\\lib\\site-packages\\tensorflow_core\\python\\framework\\indexed_slices.py:433: UserWarning: Converting sparse IndexedSlices to a dense Tensor of unknown shape. This may consume a large amount of memory.\n",
      "  \"Converting sparse IndexedSlices to a dense Tensor of unknown shape. \"\n"
     ]
    },
    {
     "name": "stdout",
     "output_type": "stream",
     "text": [
      "Epoch 1/6\n",
      "16667/16667 [==============================] - 3s 200us/step - loss: 0.5672 - accuracy: 0.6948\n",
      "Epoch 2/6\n",
      "16667/16667 [==============================] - 3s 200us/step - loss: 0.2291 - accuracy: 0.9097\n",
      "Epoch 3/6\n",
      "16667/16667 [==============================] - 3s 194us/step - loss: 0.0513 - accuracy: 0.9897\n",
      "Epoch 4/6\n",
      "16667/16667 [==============================] - 3s 200us/step - loss: 0.0083 - accuracy: 0.9995\n",
      "Epoch 5/6\n",
      "16667/16667 [==============================] - 3s 188us/step - loss: 0.0024 - accuracy: 1.0000\n",
      "Epoch 6/6\n",
      "16667/16667 [==============================] - 3s 189us/step - loss: 0.0013 - accuracy: 1.0000\n",
      "8333/8333 [==============================] - 0s 31us/step\n"
     ]
    },
    {
     "name": "stderr",
     "output_type": "stream",
     "text": [
      "C:\\Users\\joaon\\Anaconda3\\envs\\DL-illustrated\\lib\\site-packages\\tensorflow_core\\python\\framework\\indexed_slices.py:433: UserWarning: Converting sparse IndexedSlices to a dense Tensor of unknown shape. This may consume a large amount of memory.\n",
      "  \"Converting sparse IndexedSlices to a dense Tensor of unknown shape. \"\n"
     ]
    },
    {
     "name": "stdout",
     "output_type": "stream",
     "text": [
      "Epoch 1/6\n",
      "16666/16666 [==============================] - 4s 267us/step - loss: 0.5471 - accuracy: 0.7017\n",
      "Epoch 2/6\n",
      "16666/16666 [==============================] - 4s 260us/step - loss: 0.1882 - accuracy: 0.9321\n",
      "Epoch 3/6\n",
      "16666/16666 [==============================] - 4s 261us/step - loss: 0.0237 - accuracy: 0.9972\n",
      "Epoch 4/6\n",
      "16666/16666 [==============================] - 4s 256us/step - loss: 0.0032 - accuracy: 0.9999\n",
      "Epoch 5/6\n",
      "16666/16666 [==============================] - 4s 256us/step - loss: 0.0012 - accuracy: 1.0000\n",
      "Epoch 6/6\n",
      "16666/16666 [==============================] - 4s 260us/step - loss: 6.7507e-04 - accuracy: 1.0000\n",
      "8334/8334 [==============================] - 0s 49us/step\n"
     ]
    },
    {
     "name": "stderr",
     "output_type": "stream",
     "text": [
      "C:\\Users\\joaon\\Anaconda3\\envs\\DL-illustrated\\lib\\site-packages\\tensorflow_core\\python\\framework\\indexed_slices.py:433: UserWarning: Converting sparse IndexedSlices to a dense Tensor of unknown shape. This may consume a large amount of memory.\n",
      "  \"Converting sparse IndexedSlices to a dense Tensor of unknown shape. \"\n"
     ]
    },
    {
     "name": "stdout",
     "output_type": "stream",
     "text": [
      "Epoch 1/6\n",
      "16667/16667 [==============================] - 4s 265us/step - loss: 0.5574 - accuracy: 0.6898\n",
      "Epoch 2/6\n",
      "16667/16667 [==============================] - 4s 254us/step - loss: 0.2067 - accuracy: 0.9218\n",
      "Epoch 3/6\n",
      "16667/16667 [==============================] - 5s 276us/step - loss: 0.0298 - accuracy: 0.9957\n",
      "Epoch 4/6\n",
      "16667/16667 [==============================] - 4s 261us/step - loss: 0.0044 - accuracy: 0.9998\n",
      "Epoch 5/6\n",
      "16667/16667 [==============================] - 4s 261us/step - loss: 0.0014 - accuracy: 1.0000\n",
      "Epoch 6/6\n",
      "16667/16667 [==============================] - 4s 248us/step - loss: 7.6973e-04 - accuracy: 1.0000\n",
      "8333/8333 [==============================] - 0s 36us/step\n"
     ]
    },
    {
     "name": "stderr",
     "output_type": "stream",
     "text": [
      "C:\\Users\\joaon\\Anaconda3\\envs\\DL-illustrated\\lib\\site-packages\\tensorflow_core\\python\\framework\\indexed_slices.py:433: UserWarning: Converting sparse IndexedSlices to a dense Tensor of unknown shape. This may consume a large amount of memory.\n",
      "  \"Converting sparse IndexedSlices to a dense Tensor of unknown shape. \"\n"
     ]
    },
    {
     "name": "stdout",
     "output_type": "stream",
     "text": [
      "Epoch 1/6\n",
      "16667/16667 [==============================] - 5s 282us/step - loss: 0.5630 - accuracy: 0.6825\n",
      "Epoch 2/6\n",
      "16667/16667 [==============================] - 4s 261us/step - loss: 0.2155 - accuracy: 0.9189\n",
      "Epoch 3/6\n",
      "16667/16667 [==============================] - 4s 269us/step - loss: 0.0324 - accuracy: 0.9948\n",
      "Epoch 4/6\n",
      "16667/16667 [==============================] - 5s 274us/step - loss: 0.0037 - accuracy: 0.9998\n",
      "Epoch 5/6\n",
      "16667/16667 [==============================] - 4s 254us/step - loss: 0.0012 - accuracy: 1.0000\n",
      "Epoch 6/6\n",
      "16667/16667 [==============================] - 4s 249us/step - loss: 6.9817e-04 - accuracy: 1.0000\n",
      "8333/8333 [==============================] - 0s 36us/step\n"
     ]
    },
    {
     "name": "stderr",
     "output_type": "stream",
     "text": [
      "C:\\Users\\joaon\\Anaconda3\\envs\\DL-illustrated\\lib\\site-packages\\tensorflow_core\\python\\framework\\indexed_slices.py:433: UserWarning: Converting sparse IndexedSlices to a dense Tensor of unknown shape. This may consume a large amount of memory.\n",
      "  \"Converting sparse IndexedSlices to a dense Tensor of unknown shape. \"\n"
     ]
    },
    {
     "name": "stdout",
     "output_type": "stream",
     "text": [
      "Epoch 1/2\n",
      "16666/16666 [==============================] - 3s 189us/step - loss: 0.6049 - accuracy: 0.65060s - loss: 0.6453 \n",
      "Epoch 2/2\n",
      "16666/16666 [==============================] - 3s 197us/step - loss: 0.2711 - accuracy: 0.8925\n",
      "8334/8334 [==============================] - 0s 30us/step\n"
     ]
    },
    {
     "name": "stderr",
     "output_type": "stream",
     "text": [
      "C:\\Users\\joaon\\Anaconda3\\envs\\DL-illustrated\\lib\\site-packages\\tensorflow_core\\python\\framework\\indexed_slices.py:433: UserWarning: Converting sparse IndexedSlices to a dense Tensor of unknown shape. This may consume a large amount of memory.\n",
      "  \"Converting sparse IndexedSlices to a dense Tensor of unknown shape. \"\n"
     ]
    },
    {
     "name": "stdout",
     "output_type": "stream",
     "text": [
      "Epoch 1/2\n",
      "16667/16667 [==============================] - 3s 192us/step - loss: 0.6390 - accuracy: 0.6192\n",
      "Epoch 2/2\n",
      "16667/16667 [==============================] - 3s 196us/step - loss: 0.3023 - accuracy: 0.8780\n",
      "8333/8333 [==============================] - 0s 30us/step\n"
     ]
    },
    {
     "name": "stderr",
     "output_type": "stream",
     "text": [
      "C:\\Users\\joaon\\Anaconda3\\envs\\DL-illustrated\\lib\\site-packages\\tensorflow_core\\python\\framework\\indexed_slices.py:433: UserWarning: Converting sparse IndexedSlices to a dense Tensor of unknown shape. This may consume a large amount of memory.\n",
      "  \"Converting sparse IndexedSlices to a dense Tensor of unknown shape. \"\n"
     ]
    },
    {
     "name": "stdout",
     "output_type": "stream",
     "text": [
      "Epoch 1/2\n",
      "16667/16667 [==============================] - 3s 204us/step - loss: 0.6229 - accuracy: 0.6374\n",
      "Epoch 2/2\n",
      "16667/16667 [==============================] - 3s 188us/step - loss: 0.2837 - accuracy: 0.8857\n",
      "8333/8333 [==============================] - 0s 26us/step\n"
     ]
    },
    {
     "name": "stderr",
     "output_type": "stream",
     "text": [
      "C:\\Users\\joaon\\Anaconda3\\envs\\DL-illustrated\\lib\\site-packages\\tensorflow_core\\python\\framework\\indexed_slices.py:433: UserWarning: Converting sparse IndexedSlices to a dense Tensor of unknown shape. This may consume a large amount of memory.\n",
      "  \"Converting sparse IndexedSlices to a dense Tensor of unknown shape. \"\n"
     ]
    },
    {
     "name": "stdout",
     "output_type": "stream",
     "text": [
      "Epoch 1/2\n",
      "16666/16666 [==============================] - 4s 240us/step - loss: 0.5847 - accuracy: 0.6698\n",
      "Epoch 2/2\n",
      "16666/16666 [==============================] - 4s 270us/step - loss: 0.2305 - accuracy: 0.9086\n",
      "8334/8334 [==============================] - 0s 45us/step\n"
     ]
    },
    {
     "name": "stderr",
     "output_type": "stream",
     "text": [
      "C:\\Users\\joaon\\Anaconda3\\envs\\DL-illustrated\\lib\\site-packages\\tensorflow_core\\python\\framework\\indexed_slices.py:433: UserWarning: Converting sparse IndexedSlices to a dense Tensor of unknown shape. This may consume a large amount of memory.\n",
      "  \"Converting sparse IndexedSlices to a dense Tensor of unknown shape. \"\n"
     ]
    },
    {
     "name": "stdout",
     "output_type": "stream",
     "text": [
      "Epoch 1/2\n",
      "16667/16667 [==============================] - 4s 248us/step - loss: 0.5787 - accuracy: 0.6753\n",
      "Epoch 2/2\n",
      "16667/16667 [==============================] - 4s 242us/step - loss: 0.2352 - accuracy: 0.9086\n",
      "8333/8333 [==============================] - 0s 36us/step\n"
     ]
    },
    {
     "name": "stderr",
     "output_type": "stream",
     "text": [
      "C:\\Users\\joaon\\Anaconda3\\envs\\DL-illustrated\\lib\\site-packages\\tensorflow_core\\python\\framework\\indexed_slices.py:433: UserWarning: Converting sparse IndexedSlices to a dense Tensor of unknown shape. This may consume a large amount of memory.\n",
      "  \"Converting sparse IndexedSlices to a dense Tensor of unknown shape. \"\n"
     ]
    },
    {
     "name": "stdout",
     "output_type": "stream",
     "text": [
      "Epoch 1/2\n",
      "16667/16667 [==============================] - 5s 271us/step - loss: 0.5803 - accuracy: 0.6731\n",
      "Epoch 2/2\n",
      "16667/16667 [==============================] - 4s 268us/step - loss: 0.2352 - accuracy: 0.9086\n",
      "8333/8333 [==============================] - 0s 36us/step\n"
     ]
    },
    {
     "name": "stderr",
     "output_type": "stream",
     "text": [
      "C:\\Users\\joaon\\Anaconda3\\envs\\DL-illustrated\\lib\\site-packages\\tensorflow_core\\python\\framework\\indexed_slices.py:433: UserWarning: Converting sparse IndexedSlices to a dense Tensor of unknown shape. This may consume a large amount of memory.\n",
      "  \"Converting sparse IndexedSlices to a dense Tensor of unknown shape. \"\n"
     ]
    },
    {
     "name": "stdout",
     "output_type": "stream",
     "text": [
      "Epoch 1/4\n",
      "16666/16666 [==============================] - 3s 207us/step - loss: 0.5916 - accuracy: 0.6693\n",
      "Epoch 2/4\n",
      "16666/16666 [==============================] - 4s 213us/step - loss: 0.2587 - accuracy: 0.8967\n",
      "Epoch 3/4\n",
      "16666/16666 [==============================] - 3s 189us/step - loss: 0.0763 - accuracy: 0.9816\n",
      "Epoch 4/4\n",
      "16666/16666 [==============================] - 3s 187us/step - loss: 0.0144 - accuracy: 0.9986\n",
      "8334/8334 [==============================] - 0s 30us/step\n"
     ]
    },
    {
     "name": "stderr",
     "output_type": "stream",
     "text": [
      "C:\\Users\\joaon\\Anaconda3\\envs\\DL-illustrated\\lib\\site-packages\\tensorflow_core\\python\\framework\\indexed_slices.py:433: UserWarning: Converting sparse IndexedSlices to a dense Tensor of unknown shape. This may consume a large amount of memory.\n",
      "  \"Converting sparse IndexedSlices to a dense Tensor of unknown shape. \"\n"
     ]
    },
    {
     "name": "stdout",
     "output_type": "stream",
     "text": [
      "Epoch 1/4\n",
      "16667/16667 [==============================] - 3s 195us/step - loss: 0.6255 - accuracy: 0.6362\n",
      "Epoch 2/4\n",
      "16667/16667 [==============================] - 3s 202us/step - loss: 0.2850 - accuracy: 0.8852\n",
      "Epoch 3/4\n",
      "16667/16667 [==============================] - 3s 197us/step - loss: 0.0785 - accuracy: 0.9799\n",
      "Epoch 4/4\n",
      "16667/16667 [==============================] - 3s 190us/step - loss: 0.0130 - accuracy: 0.9990\n",
      "8333/8333 [==============================] - 0s 30us/step\n"
     ]
    },
    {
     "name": "stderr",
     "output_type": "stream",
     "text": [
      "C:\\Users\\joaon\\Anaconda3\\envs\\DL-illustrated\\lib\\site-packages\\tensorflow_core\\python\\framework\\indexed_slices.py:433: UserWarning: Converting sparse IndexedSlices to a dense Tensor of unknown shape. This may consume a large amount of memory.\n",
      "  \"Converting sparse IndexedSlices to a dense Tensor of unknown shape. \"\n"
     ]
    },
    {
     "name": "stdout",
     "output_type": "stream",
     "text": [
      "Epoch 1/4\n",
      "16667/16667 [==============================] - 3s 189us/step - loss: 0.6198 - accuracy: 0.6383\n",
      "Epoch 2/4\n",
      "16667/16667 [==============================] - 3s 188us/step - loss: 0.2841 - accuracy: 0.8871\n",
      "Epoch 3/4\n",
      "16667/16667 [==============================] - 3s 190us/step - loss: 0.0878 - accuracy: 0.9778\n",
      "Epoch 4/4\n",
      "16667/16667 [==============================] - 3s 185us/step - loss: 0.0166 - accuracy: 0.9981\n",
      "8333/8333 [==============================] - 0s 30us/step\n"
     ]
    },
    {
     "name": "stderr",
     "output_type": "stream",
     "text": [
      "C:\\Users\\joaon\\Anaconda3\\envs\\DL-illustrated\\lib\\site-packages\\tensorflow_core\\python\\framework\\indexed_slices.py:433: UserWarning: Converting sparse IndexedSlices to a dense Tensor of unknown shape. This may consume a large amount of memory.\n",
      "  \"Converting sparse IndexedSlices to a dense Tensor of unknown shape. \"\n"
     ]
    },
    {
     "name": "stdout",
     "output_type": "stream",
     "text": [
      "Epoch 1/4\n",
      "16666/16666 [==============================] - 4s 246us/step - loss: 0.5876 - accuracy: 0.6709\n",
      "Epoch 2/4\n",
      "16666/16666 [==============================] - 4s 243us/step - loss: 0.2404 - accuracy: 0.9054\n",
      "Epoch 3/4\n",
      "16666/16666 [==============================] - 4s 251us/step - loss: 0.0501 - accuracy: 0.9895\n",
      "Epoch 4/4\n",
      "16666/16666 [==============================] - 4s 251us/step - loss: 0.0073 - accuracy: 0.9993\n",
      "8334/8334 [==============================] - 0s 37us/step\n"
     ]
    },
    {
     "name": "stderr",
     "output_type": "stream",
     "text": [
      "C:\\Users\\joaon\\Anaconda3\\envs\\DL-illustrated\\lib\\site-packages\\tensorflow_core\\python\\framework\\indexed_slices.py:433: UserWarning: Converting sparse IndexedSlices to a dense Tensor of unknown shape. This may consume a large amount of memory.\n",
      "  \"Converting sparse IndexedSlices to a dense Tensor of unknown shape. \"\n"
     ]
    },
    {
     "name": "stdout",
     "output_type": "stream",
     "text": [
      "Epoch 1/4\n",
      "16667/16667 [==============================] - 4s 252us/step - loss: 0.5826 - accuracy: 0.6756\n",
      "Epoch 2/4\n",
      "16667/16667 [==============================] - 4s 248us/step - loss: 0.2266 - accuracy: 0.9129\n",
      "Epoch 3/4\n",
      "16667/16667 [==============================] - 4s 243us/step - loss: 0.0371 - accuracy: 0.9932\n",
      "Epoch 4/4\n",
      "16667/16667 [==============================] - 4s 241us/step - loss: 0.0066 - accuracy: 0.9997\n",
      "8333/8333 [==============================] - 0s 36us/step\n"
     ]
    },
    {
     "name": "stderr",
     "output_type": "stream",
     "text": [
      "C:\\Users\\joaon\\Anaconda3\\envs\\DL-illustrated\\lib\\site-packages\\tensorflow_core\\python\\framework\\indexed_slices.py:433: UserWarning: Converting sparse IndexedSlices to a dense Tensor of unknown shape. This may consume a large amount of memory.\n",
      "  \"Converting sparse IndexedSlices to a dense Tensor of unknown shape. \"\n"
     ]
    },
    {
     "name": "stdout",
     "output_type": "stream",
     "text": [
      "Epoch 1/4\n",
      "16667/16667 [==============================] - 4s 245us/step - loss: 0.5960 - accuracy: 0.6635\n",
      "Epoch 2/4\n",
      "16667/16667 [==============================] - 4s 252us/step - loss: 0.2433 - accuracy: 0.9055\n",
      "Epoch 3/4\n",
      "16667/16667 [==============================] - 4s 256us/step - loss: 0.0500 - accuracy: 0.9893\n",
      "Epoch 4/4\n",
      "16667/16667 [==============================] - 4s 248us/step - loss: 0.0069 - accuracy: 0.9996\n",
      "8333/8333 [==============================] - 0s 34us/step\n"
     ]
    },
    {
     "name": "stderr",
     "output_type": "stream",
     "text": [
      "C:\\Users\\joaon\\Anaconda3\\envs\\DL-illustrated\\lib\\site-packages\\tensorflow_core\\python\\framework\\indexed_slices.py:433: UserWarning: Converting sparse IndexedSlices to a dense Tensor of unknown shape. This may consume a large amount of memory.\n",
      "  \"Converting sparse IndexedSlices to a dense Tensor of unknown shape. \"\n"
     ]
    },
    {
     "name": "stdout",
     "output_type": "stream",
     "text": [
      "Epoch 1/6\n",
      "16666/16666 [==============================] - 3s 190us/step - loss: 0.6328 - accuracy: 0.6282\n",
      "Epoch 2/6\n",
      "16666/16666 [==============================] - 3s 187us/step - loss: 0.2859 - accuracy: 0.8873\n",
      "Epoch 3/6\n",
      "16666/16666 [==============================] - 3s 187us/step - loss: 0.0791 - accuracy: 0.9811\n",
      "Epoch 4/6\n",
      "16666/16666 [==============================] - 3s 189us/step - loss: 0.0148 - accuracy: 0.9984\n",
      "Epoch 5/6\n",
      "16666/16666 [==============================] - 3s 189us/step - loss: 0.0044 - accuracy: 1.0000\n",
      "Epoch 6/6\n",
      "16666/16666 [==============================] - 3s 187us/step - loss: 0.0021 - accuracy: 1.0000\n",
      "8334/8334 [==============================] - 0s 30us/step\n"
     ]
    },
    {
     "name": "stderr",
     "output_type": "stream",
     "text": [
      "C:\\Users\\joaon\\Anaconda3\\envs\\DL-illustrated\\lib\\site-packages\\tensorflow_core\\python\\framework\\indexed_slices.py:433: UserWarning: Converting sparse IndexedSlices to a dense Tensor of unknown shape. This may consume a large amount of memory.\n",
      "  \"Converting sparse IndexedSlices to a dense Tensor of unknown shape. \"\n"
     ]
    },
    {
     "name": "stdout",
     "output_type": "stream",
     "text": [
      "Epoch 1/6\n",
      "16667/16667 [==============================] - 3s 184us/step - loss: 0.6243 - accuracy: 0.6405\n",
      "Epoch 2/6\n",
      "16667/16667 [==============================] - 3s 186us/step - loss: 0.2886 - accuracy: 0.8837\n",
      "Epoch 3/6\n",
      "16667/16667 [==============================] - 3s 186us/step - loss: 0.0959 - accuracy: 0.9748\n",
      "Epoch 4/6\n",
      "16667/16667 [==============================] - 3s 190us/step - loss: 0.0183 - accuracy: 0.9980\n",
      "Epoch 5/6\n",
      "16667/16667 [==============================] - 3s 188us/step - loss: 0.0055 - accuracy: 0.9997\n",
      "Epoch 6/6\n",
      "16667/16667 [==============================] - 3s 192us/step - loss: 0.0024 - accuracy: 1.0000\n",
      "8333/8333 [==============================] - 0s 30us/step\n"
     ]
    },
    {
     "name": "stderr",
     "output_type": "stream",
     "text": [
      "C:\\Users\\joaon\\Anaconda3\\envs\\DL-illustrated\\lib\\site-packages\\tensorflow_core\\python\\framework\\indexed_slices.py:433: UserWarning: Converting sparse IndexedSlices to a dense Tensor of unknown shape. This may consume a large amount of memory.\n",
      "  \"Converting sparse IndexedSlices to a dense Tensor of unknown shape. \"\n"
     ]
    },
    {
     "name": "stdout",
     "output_type": "stream",
     "text": [
      "Epoch 1/6\n",
      "16667/16667 [==============================] - 3s 199us/step - loss: 0.6010 - accuracy: 0.6570\n",
      "Epoch 2/6\n",
      "16667/16667 [==============================] - 3s 207us/step - loss: 0.2664 - accuracy: 0.8958\n",
      "Epoch 3/6\n",
      "16667/16667 [==============================] - 4s 239us/step - loss: 0.0754 - accuracy: 0.9821\n",
      "Epoch 4/6\n",
      "16667/16667 [==============================] - 4s 227us/step - loss: 0.0144 - accuracy: 0.9986\n",
      "Epoch 5/6\n",
      "16667/16667 [==============================] - 3s 193us/step - loss: 0.0043 - accuracy: 0.9999\n",
      "Epoch 6/6\n",
      "16667/16667 [==============================] - 3s 192us/step - loss: 0.0023 - accuracy: 1.0000\n",
      "8333/8333 [==============================] - 0s 28us/step\n"
     ]
    },
    {
     "name": "stderr",
     "output_type": "stream",
     "text": [
      "C:\\Users\\joaon\\Anaconda3\\envs\\DL-illustrated\\lib\\site-packages\\tensorflow_core\\python\\framework\\indexed_slices.py:433: UserWarning: Converting sparse IndexedSlices to a dense Tensor of unknown shape. This may consume a large amount of memory.\n",
      "  \"Converting sparse IndexedSlices to a dense Tensor of unknown shape. \"\n"
     ]
    },
    {
     "name": "stdout",
     "output_type": "stream",
     "text": [
      "Epoch 1/6\n",
      "16666/16666 [==============================] - 4s 240us/step - loss: 0.5699 - accuracy: 0.6828\n",
      "Epoch 2/6\n",
      "16666/16666 [==============================] - 4s 242us/step - loss: 0.2280 - accuracy: 0.9116\n",
      "Epoch 3/6\n",
      "16666/16666 [==============================] - 4s 263us/step - loss: 0.0454 - accuracy: 0.9912\n",
      "Epoch 4/6\n",
      "16666/16666 [==============================] - 4s 264us/step - loss: 0.0069 - accuracy: 0.9997\n",
      "Epoch 5/6\n",
      "16666/16666 [==============================] - 5s 271us/step - loss: 0.0022 - accuracy: 1.0000\n",
      "Epoch 6/6\n",
      "16666/16666 [==============================] - 4s 267us/step - loss: 9.9976e-04 - accuracy: 1.0000\n",
      "8334/8334 [==============================] - 0s 36us/step\n"
     ]
    },
    {
     "name": "stderr",
     "output_type": "stream",
     "text": [
      "C:\\Users\\joaon\\Anaconda3\\envs\\DL-illustrated\\lib\\site-packages\\tensorflow_core\\python\\framework\\indexed_slices.py:433: UserWarning: Converting sparse IndexedSlices to a dense Tensor of unknown shape. This may consume a large amount of memory.\n",
      "  \"Converting sparse IndexedSlices to a dense Tensor of unknown shape. \"\n"
     ]
    },
    {
     "name": "stdout",
     "output_type": "stream",
     "text": [
      "Epoch 1/6\n",
      "16667/16667 [==============================] - 4s 257us/step - loss: 0.6022 - accuracy: 0.6566\n",
      "Epoch 2/6\n",
      "16667/16667 [==============================] - 4s 252us/step - loss: 0.2452 - accuracy: 0.9033\n",
      "Epoch 3/6\n",
      "16667/16667 [==============================] - 5s 273us/step - loss: 0.0475 - accuracy: 0.9894\n",
      "Epoch 4/6\n",
      "16667/16667 [==============================] - 4s 257us/step - loss: 0.0070 - accuracy: 0.9997\n",
      "Epoch 5/6\n",
      "16667/16667 [==============================] - 4s 259us/step - loss: 0.0022 - accuracy: 1.0000\n",
      "Epoch 6/6\n",
      "16667/16667 [==============================] - 4s 256us/step - loss: 0.0011 - accuracy: 1.0000\n",
      "8333/8333 [==============================] - 0s 36us/step\n"
     ]
    },
    {
     "name": "stderr",
     "output_type": "stream",
     "text": [
      "C:\\Users\\joaon\\Anaconda3\\envs\\DL-illustrated\\lib\\site-packages\\tensorflow_core\\python\\framework\\indexed_slices.py:433: UserWarning: Converting sparse IndexedSlices to a dense Tensor of unknown shape. This may consume a large amount of memory.\n",
      "  \"Converting sparse IndexedSlices to a dense Tensor of unknown shape. \"\n"
     ]
    },
    {
     "name": "stdout",
     "output_type": "stream",
     "text": [
      "Epoch 1/6\n",
      "16667/16667 [==============================] - 4s 254us/step - loss: 0.5754 - accuracy: 0.6782\n",
      "Epoch 2/6\n",
      "16667/16667 [==============================] - 4s 255us/step - loss: 0.2390 - accuracy: 0.9071\n",
      "Epoch 3/6\n",
      "16667/16667 [==============================] - 4s 245us/step - loss: 0.0524 - accuracy: 0.9888\n",
      "Epoch 4/6\n",
      "16667/16667 [==============================] - 4s 241us/step - loss: 0.0074 - accuracy: 0.9997\n",
      "Epoch 5/6\n",
      "16667/16667 [==============================] - 4s 246us/step - loss: 0.0024 - accuracy: 1.0000\n",
      "Epoch 6/6\n",
      "16667/16667 [==============================] - 4s 252us/step - loss: 0.0011 - accuracy: 1.0000\n",
      "8333/8333 [==============================] - 0s 37us/step\n"
     ]
    },
    {
     "name": "stderr",
     "output_type": "stream",
     "text": [
      "C:\\Users\\joaon\\Anaconda3\\envs\\DL-illustrated\\lib\\site-packages\\tensorflow_core\\python\\framework\\indexed_slices.py:433: UserWarning: Converting sparse IndexedSlices to a dense Tensor of unknown shape. This may consume a large amount of memory.\n",
      "  \"Converting sparse IndexedSlices to a dense Tensor of unknown shape. \"\n"
     ]
    },
    {
     "name": "stdout",
     "output_type": "stream",
     "text": [
      "Epoch 1/2\n",
      "25000/25000 [==============================] - 5s 189us/step - loss: 0.5388 - accuracy: 0.7048\n",
      "Epoch 2/2\n",
      "25000/25000 [==============================] - 5s 181us/step - loss: 0.2422 - accuracy: 0.9074\n",
      "Wall time: 26min 51s\n"
     ]
    },
    {
     "data": {
      "text/plain": [
       "GridSearchCV(cv=3, error_score=nan,\n",
       "             estimator=<keras.wrappers.scikit_learn.KerasClassifier object at 0x000001BD1CE68548>,\n",
       "             iid='deprecated', n_jobs=None,\n",
       "             param_grid={'batch_size': [64, 128], 'dropout': [0.2, 0.5],\n",
       "                         'epochs': [2, 4, 6], 'n_dense': [64, 128]},\n",
       "             pre_dispatch='2*n_jobs', refit=True, return_train_score=False,\n",
       "             scoring='roc_auc', verbose=0)"
      ]
     },
     "execution_count": 48,
     "metadata": {},
     "output_type": "execute_result"
    }
   ],
   "source": [
    "%%time\n",
    "\n",
    "grid_search.fit(x_train, y_train)"
   ]
  },
  {
   "cell_type": "code",
   "execution_count": 49,
   "metadata": {},
   "outputs": [
    {
     "data": {
      "text/plain": [
       "{'batch_size': 128, 'dropout': 0.5, 'epochs': 2, 'n_dense': 64}"
      ]
     },
     "execution_count": 49,
     "metadata": {},
     "output_type": "execute_result"
    }
   ],
   "source": [
    "grid_search.best_params_"
   ]
  },
  {
   "cell_type": "code",
   "execution_count": 50,
   "metadata": {},
   "outputs": [
    {
     "data": {
      "text/plain": [
       "0.9295886151028102"
      ]
     },
     "execution_count": 50,
     "metadata": {},
     "output_type": "execute_result"
    }
   ],
   "source": [
    "grid_search.best_score_"
   ]
  },
  {
   "cell_type": "code",
   "execution_count": 51,
   "metadata": {},
   "outputs": [
    {
     "name": "stdout",
     "output_type": "stream",
     "text": [
      "╒══════════╤══════════════╤═══════════╤═══════════╤═══════════╕\n",
      "│   epochs │   batch_size │   n_dense │   dropout │   roc_auc │\n",
      "╞══════════╪══════════════╪═══════════╪═══════════╪═══════════╡\n",
      "│        2 │          128 │        64 │       0.5 │  0.929589 │\n",
      "├──────────┼──────────────┼───────────┼───────────┼───────────┤\n",
      "│        2 │          128 │        64 │       0.2 │  0.927909 │\n",
      "├──────────┼──────────────┼───────────┼───────────┼───────────┤\n",
      "│        2 │          128 │       128 │       0.5 │  0.925998 │\n",
      "├──────────┼──────────────┼───────────┼───────────┼───────────┤\n",
      "│        6 │          128 │        64 │       0.5 │  0.924446 │\n",
      "├──────────┼──────────────┼───────────┼───────────┼───────────┤\n",
      "│        6 │          128 │        64 │       0.2 │  0.92349  │\n",
      "├──────────┼──────────────┼───────────┼───────────┼───────────┤\n",
      "│        6 │          128 │       128 │       0.5 │  0.92344  │\n",
      "├──────────┼──────────────┼───────────┼───────────┼───────────┤\n",
      "│        6 │           64 │        64 │       0.5 │  0.92308  │\n",
      "├──────────┼──────────────┼───────────┼───────────┼───────────┤\n",
      "│        4 │          128 │        64 │       0.5 │  0.922981 │\n",
      "├──────────┼──────────────┼───────────┼───────────┼───────────┤\n",
      "│        4 │          128 │        64 │       0.2 │  0.922463 │\n",
      "├──────────┼──────────────┼───────────┼───────────┼───────────┤\n",
      "│        6 │          128 │       128 │       0.2 │  0.922186 │\n",
      "├──────────┼──────────────┼───────────┼───────────┼───────────┤\n",
      "│        2 │           64 │        64 │       0.5 │  0.921995 │\n",
      "├──────────┼──────────────┼───────────┼───────────┼───────────┤\n",
      "│        4 │           64 │        64 │       0.5 │  0.92157  │\n",
      "├──────────┼──────────────┼───────────┼───────────┼───────────┤\n",
      "│        4 │          128 │       128 │       0.5 │  0.921395 │\n",
      "├──────────┼──────────────┼───────────┼───────────┼───────────┤\n",
      "│        4 │           64 │        64 │       0.2 │  0.921113 │\n",
      "├──────────┼──────────────┼───────────┼───────────┼───────────┤\n",
      "│        6 │           64 │        64 │       0.2 │  0.920963 │\n",
      "├──────────┼──────────────┼───────────┼───────────┼───────────┤\n",
      "│        2 │          128 │       128 │       0.2 │  0.920944 │\n",
      "├──────────┼──────────────┼───────────┼───────────┼───────────┤\n",
      "│        4 │          128 │       128 │       0.2 │  0.92037  │\n",
      "├──────────┼──────────────┼───────────┼───────────┼───────────┤\n",
      "│        6 │           64 │       128 │       0.5 │  0.920295 │\n",
      "├──────────┼──────────────┼───────────┼───────────┼───────────┤\n",
      "│        4 │           64 │       128 │       0.5 │  0.919621 │\n",
      "├──────────┼──────────────┼───────────┼───────────┼───────────┤\n",
      "│        6 │           64 │       128 │       0.2 │  0.919321 │\n",
      "├──────────┼──────────────┼───────────┼───────────┼───────────┤\n",
      "│        4 │           64 │       128 │       0.2 │  0.918398 │\n",
      "├──────────┼──────────────┼───────────┼───────────┼───────────┤\n",
      "│        2 │           64 │        64 │       0.2 │  0.917766 │\n",
      "├──────────┼──────────────┼───────────┼───────────┼───────────┤\n",
      "│        2 │           64 │       128 │       0.5 │  0.915467 │\n",
      "├──────────┼──────────────┼───────────┼───────────┼───────────┤\n",
      "│        2 │           64 │       128 │       0.2 │  0.910059 │\n",
      "╘══════════╧══════════════╧═══════════╧═══════════╧═══════════╛\n"
     ]
    }
   ],
   "source": [
    "grid_search_results(grid_search.cv_results_)"
   ]
  },
  {
   "cell_type": "markdown",
   "metadata": {},
   "source": [
    "Tuning all the hyperparameters at the same time, we get the best results for **2 `epochs`** with a **`batchsize`of 128**, **64 neurons as `n_dense`** and **0.5 as our `dropout`** value.\n",
    "\n",
    "However, even for a relatively simple model and only two or three options for each of the four hyperparameters we've decided to tune (and with a low cross-validation value of 3), this grid search took more than 25 minutes to complete.\n",
    "\n",
    "One alternative is to use all the cores of our CPU to speed up the process."
   ]
  },
  {
   "cell_type": "code",
   "execution_count": 52,
   "metadata": {},
   "outputs": [
    {
     "data": {
      "text/plain": [
       "4"
      ]
     },
     "execution_count": 52,
     "metadata": {},
     "output_type": "execute_result"
    }
   ],
   "source": [
    "import multiprocessing\n",
    "\n",
    "# number of cores\n",
    "multiprocessing.cpu_count()"
   ]
  },
  {
   "cell_type": "markdown",
   "metadata": {},
   "source": [
    "Since we have 4 cores, we could set our parameter `n_jobs=4`. Alternatively, we could set it to `n_jobs=-1`, and it will assume the number of available cores of the machine.\n",
    "\n",
    "We just needed to define our new `grid_search` variable and start the grid search."
   ]
  },
  {
   "cell_type": "code",
   "execution_count": null,
   "metadata": {},
   "outputs": [],
   "source": [
    "grid_search = GridSearchCV(model, param_grid, n_jobs=-1, cv=3, scoring = 'roc_auc')"
   ]
  },
  {
   "cell_type": "code",
   "execution_count": null,
   "metadata": {},
   "outputs": [],
   "source": [
    "%%time\n",
    "\n",
    "grid_search.fit(x_train, y_train)"
   ]
  },
  {
   "cell_type": "markdown",
   "metadata": {},
   "source": [
    "However this raises 2 problems:\n",
    "\n",
    "* the full progress of the search does not output to the notebook itself but only to the terminal window\n",
    "* using this parameter may also interfere with the main neural network training process"
   ]
  },
  {
   "cell_type": "markdown",
   "metadata": {},
   "source": [
    "With this in mind, we've decided not to use this option."
   ]
  },
  {
   "cell_type": "markdown",
   "metadata": {},
   "source": [
    "Another alternative is to perform a **random search** instead. This will be our **step 2**."
   ]
  },
  {
   "cell_type": "markdown",
   "metadata": {},
   "source": [
    "### Step 2"
   ]
  },
  {
   "cell_type": "markdown",
   "metadata": {},
   "source": [
    "#### 1. Perform necessary imports"
   ]
  },
  {
   "cell_type": "code",
   "execution_count": 75,
   "metadata": {},
   "outputs": [],
   "source": [
    "from sklearn.model_selection import RandomizedSearchCV\n",
    "\n",
    "#import scipy.stats as ss"
   ]
  },
  {
   "cell_type": "markdown",
   "metadata": {},
   "source": [
    "#### 2. Define random search parameters"
   ]
  },
  {
   "cell_type": "code",
   "execution_count": 76,
   "metadata": {},
   "outputs": [],
   "source": [
    "epochs = [2, 4, 6]\n",
    "batch_size = [64, 128]\n",
    "\n",
    "n_dense = [64, 128]\n",
    "dropout = [0, 0.1, 0.2, 0.3, 0.4, 0.5]\n",
    "\n",
    "param_grid = {'epochs': epochs, 'batch_size': batch_size, \n",
    "              'n_dense': n_dense, 'dropout': dropout}"
   ]
  },
  {
   "cell_type": "code",
   "execution_count": 77,
   "metadata": {
    "scrolled": true
   },
   "outputs": [
    {
     "data": {
      "text/plain": [
       "{'epochs': [2, 4, 6],\n",
       " 'batch_size': [64, 128],\n",
       " 'n_dense': [64, 128],\n",
       " 'dropout': [0, 0.1, 0.2, 0.3, 0.4, 0.5]}"
      ]
     },
     "execution_count": 77,
     "metadata": {},
     "output_type": "execute_result"
    }
   ],
   "source": [
    "param_grid"
   ]
  },
  {
   "cell_type": "code",
   "execution_count": 78,
   "metadata": {},
   "outputs": [],
   "source": [
    "rand_search = RandomizedSearchCV(model, param_grid, cv=5, scoring = 'roc_auc')"
   ]
  },
  {
   "cell_type": "markdown",
   "metadata": {},
   "source": [
    "We've increased the number of possibilities for our hyperparameters.\n",
    "\n",
    "For more solid results, we will use a **cross-validation value of 5** and will use the default value for the number of iterations, `n_iter=10`."
   ]
  },
  {
   "cell_type": "markdown",
   "metadata": {},
   "source": [
    "#### 3. Perform random search and print results"
   ]
  },
  {
   "cell_type": "code",
   "execution_count": 79,
   "metadata": {},
   "outputs": [
    {
     "name": "stderr",
     "output_type": "stream",
     "text": [
      "C:\\Users\\joaon\\Anaconda3\\envs\\DL-illustrated\\lib\\site-packages\\tensorflow_core\\python\\framework\\indexed_slices.py:433: UserWarning: Converting sparse IndexedSlices to a dense Tensor of unknown shape. This may consume a large amount of memory.\n",
      "  \"Converting sparse IndexedSlices to a dense Tensor of unknown shape. \"\n"
     ]
    },
    {
     "name": "stdout",
     "output_type": "stream",
     "text": [
      "Epoch 1/4\n",
      "20000/20000 [==============================] - 4s 187us/step - loss: 0.5652 - accuracy: 0.6872\n",
      "Epoch 2/4\n",
      "20000/20000 [==============================] - 4s 178us/step - loss: 0.2334 - accuracy: 0.9104\n",
      "Epoch 3/4\n",
      "20000/20000 [==============================] - 4s 185us/step - loss: 0.0522 - accuracy: 0.9883\n",
      "Epoch 4/4\n",
      "20000/20000 [==============================] - 4s 187us/step - loss: 0.0084 - accuracy: 0.9994\n",
      "5000/5000 [==============================] - 0s 31us/step\n"
     ]
    },
    {
     "name": "stderr",
     "output_type": "stream",
     "text": [
      "C:\\Users\\joaon\\Anaconda3\\envs\\DL-illustrated\\lib\\site-packages\\tensorflow_core\\python\\framework\\indexed_slices.py:433: UserWarning: Converting sparse IndexedSlices to a dense Tensor of unknown shape. This may consume a large amount of memory.\n",
      "  \"Converting sparse IndexedSlices to a dense Tensor of unknown shape. \"\n"
     ]
    },
    {
     "name": "stdout",
     "output_type": "stream",
     "text": [
      "Epoch 1/4\n",
      "20000/20000 [==============================] - 4s 191us/step - loss: 0.5578 - accuracy: 0.6888\n",
      "Epoch 2/4\n",
      "20000/20000 [==============================] - 4s 198us/step - loss: 0.2244 - accuracy: 0.9136\n",
      "Epoch 3/4\n",
      "20000/20000 [==============================] - 4s 206us/step - loss: 0.0475 - accuracy: 0.9901\n",
      "Epoch 4/4\n",
      "20000/20000 [==============================] - 4s 192us/step - loss: 0.0076 - accuracy: 0.9994\n",
      "5000/5000 [==============================] - 0s 31us/step\n"
     ]
    },
    {
     "name": "stderr",
     "output_type": "stream",
     "text": [
      "C:\\Users\\joaon\\Anaconda3\\envs\\DL-illustrated\\lib\\site-packages\\tensorflow_core\\python\\framework\\indexed_slices.py:433: UserWarning: Converting sparse IndexedSlices to a dense Tensor of unknown shape. This may consume a large amount of memory.\n",
      "  \"Converting sparse IndexedSlices to a dense Tensor of unknown shape. \"\n"
     ]
    },
    {
     "name": "stdout",
     "output_type": "stream",
     "text": [
      "Epoch 1/4\n",
      "20000/20000 [==============================] - 4s 193us/step - loss: 0.5504 - accuracy: 0.6952\n",
      "Epoch 2/4\n",
      "20000/20000 [==============================] - 4s 191us/step - loss: 0.2190 - accuracy: 0.9164\n",
      "Epoch 3/4\n",
      "20000/20000 [==============================] - 4s 198us/step - loss: 0.0447 - accuracy: 0.9905\n",
      "Epoch 4/4\n",
      "20000/20000 [==============================] - 4s 201us/step - loss: 0.0066 - accuracy: 0.9998\n",
      "5000/5000 [==============================] - 0s 31us/step\n"
     ]
    },
    {
     "name": "stderr",
     "output_type": "stream",
     "text": [
      "C:\\Users\\joaon\\Anaconda3\\envs\\DL-illustrated\\lib\\site-packages\\tensorflow_core\\python\\framework\\indexed_slices.py:433: UserWarning: Converting sparse IndexedSlices to a dense Tensor of unknown shape. This may consume a large amount of memory.\n",
      "  \"Converting sparse IndexedSlices to a dense Tensor of unknown shape. \"\n"
     ]
    },
    {
     "name": "stdout",
     "output_type": "stream",
     "text": [
      "Epoch 1/4\n",
      "20000/20000 [==============================] - 4s 193us/step - loss: 0.5613 - accuracy: 0.6909\n",
      "Epoch 2/4\n",
      "20000/20000 [==============================] - 4s 198us/step - loss: 0.2363 - accuracy: 0.9078\n",
      "Epoch 3/4\n",
      "20000/20000 [==============================] - 4s 196us/step - loss: 0.0578 - accuracy: 0.9872\n",
      "Epoch 4/4\n",
      "20000/20000 [==============================] - 4s 188us/step - loss: 0.0081 - accuracy: 0.9996\n",
      "5000/5000 [==============================] - 0s 31us/step\n"
     ]
    },
    {
     "name": "stderr",
     "output_type": "stream",
     "text": [
      "C:\\Users\\joaon\\Anaconda3\\envs\\DL-illustrated\\lib\\site-packages\\tensorflow_core\\python\\framework\\indexed_slices.py:433: UserWarning: Converting sparse IndexedSlices to a dense Tensor of unknown shape. This may consume a large amount of memory.\n",
      "  \"Converting sparse IndexedSlices to a dense Tensor of unknown shape. \"\n"
     ]
    },
    {
     "name": "stdout",
     "output_type": "stream",
     "text": [
      "Epoch 1/4\n",
      "20000/20000 [==============================] - 4s 216us/step - loss: 0.5509 - accuracy: 0.6978\n",
      "Epoch 2/4\n",
      "20000/20000 [==============================] - 4s 194us/step - loss: 0.2272 - accuracy: 0.9129\n",
      "Epoch 3/4\n",
      "20000/20000 [==============================] - 4s 192us/step - loss: 0.0547 - accuracy: 0.9881\n",
      "Epoch 4/4\n",
      "20000/20000 [==============================] - 4s 201us/step - loss: 0.0083 - accuracy: 0.9992\n",
      "5000/5000 [==============================] - 0s 31us/step\n"
     ]
    },
    {
     "name": "stderr",
     "output_type": "stream",
     "text": [
      "C:\\Users\\joaon\\Anaconda3\\envs\\DL-illustrated\\lib\\site-packages\\tensorflow_core\\python\\framework\\indexed_slices.py:433: UserWarning: Converting sparse IndexedSlices to a dense Tensor of unknown shape. This may consume a large amount of memory.\n",
      "  \"Converting sparse IndexedSlices to a dense Tensor of unknown shape. \"\n"
     ]
    },
    {
     "name": "stdout",
     "output_type": "stream",
     "text": [
      "Epoch 1/6\n",
      "20000/20000 [==============================] - 9s 466us/step - loss: 0.4719 - accuracy: 0.7548\n",
      "Epoch 2/6\n",
      "20000/20000 [==============================] - 8s 425us/step - loss: 0.1349 - accuracy: 0.9517\n",
      "Epoch 3/6\n",
      "20000/20000 [==============================] - 9s 438us/step - loss: 0.0115 - accuracy: 0.9983\n",
      "Epoch 4/6\n",
      "20000/20000 [==============================] - 10s 482us/step - loss: 0.0014 - accuracy: 0.9998\n",
      "Epoch 5/6\n",
      "20000/20000 [==============================] - 9s 444us/step - loss: 6.0214e-04 - accuracy: 1.0000\n",
      "Epoch 6/6\n",
      "20000/20000 [==============================] - 9s 444us/step - loss: 3.0319e-04 - accuracy: 1.0000\n",
      "5000/5000 [==============================] - 0s 47us/step\n"
     ]
    },
    {
     "name": "stderr",
     "output_type": "stream",
     "text": [
      "C:\\Users\\joaon\\Anaconda3\\envs\\DL-illustrated\\lib\\site-packages\\tensorflow_core\\python\\framework\\indexed_slices.py:433: UserWarning: Converting sparse IndexedSlices to a dense Tensor of unknown shape. This may consume a large amount of memory.\n",
      "  \"Converting sparse IndexedSlices to a dense Tensor of unknown shape. \"\n"
     ]
    },
    {
     "name": "stdout",
     "output_type": "stream",
     "text": [
      "Epoch 1/6\n",
      "20000/20000 [==============================] - 9s 457us/step - loss: 0.4772 - accuracy: 0.7535\n",
      "Epoch 2/6\n",
      "20000/20000 [==============================] - 10s 483us/step - loss: 0.1440 - accuracy: 0.9492\n",
      "Epoch 3/6\n",
      "20000/20000 [==============================] - 10s 513us/step - loss: 0.0114 - accuracy: 0.9985\n",
      "Epoch 4/6\n",
      "20000/20000 [==============================] - 9s 463us/step - loss: 0.0015 - accuracy: 0.9999\n",
      "Epoch 5/6\n",
      "20000/20000 [==============================] - 9s 438us/step - loss: 5.4439e-04 - accuracy: 1.0000\n",
      "Epoch 6/6\n",
      "20000/20000 [==============================] - 9s 434us/step - loss: 3.0028e-04 - accuracy: 1.0000\n",
      "5000/5000 [==============================] - 0s 56us/step\n"
     ]
    },
    {
     "name": "stderr",
     "output_type": "stream",
     "text": [
      "C:\\Users\\joaon\\Anaconda3\\envs\\DL-illustrated\\lib\\site-packages\\tensorflow_core\\python\\framework\\indexed_slices.py:433: UserWarning: Converting sparse IndexedSlices to a dense Tensor of unknown shape. This may consume a large amount of memory.\n",
      "  \"Converting sparse IndexedSlices to a dense Tensor of unknown shape. \"\n"
     ]
    },
    {
     "name": "stdout",
     "output_type": "stream",
     "text": [
      "Epoch 1/6\n",
      "20000/20000 [==============================] - 9s 428us/step - loss: 0.4859 - accuracy: 0.7401\n",
      "Epoch 2/6\n",
      "20000/20000 [==============================] - 11s 539us/step - loss: 0.1381 - accuracy: 0.9521\n",
      "Epoch 3/6\n",
      "20000/20000 [==============================] - 9s 440us/step - loss: 0.0096 - accuracy: 0.9991\n",
      "Epoch 4/6\n",
      "20000/20000 [==============================] - 9s 442us/step - loss: 0.0013 - accuracy: 1.0000\n",
      "Epoch 5/6\n",
      "20000/20000 [==============================] - 9s 435us/step - loss: 5.0523e-04 - accuracy: 1.0000\n",
      "Epoch 6/6\n",
      "20000/20000 [==============================] - 9s 459us/step - loss: 2.9712e-04 - accuracy: 1.0000\n",
      "5000/5000 [==============================] - 0s 59us/step\n"
     ]
    },
    {
     "name": "stderr",
     "output_type": "stream",
     "text": [
      "C:\\Users\\joaon\\Anaconda3\\envs\\DL-illustrated\\lib\\site-packages\\tensorflow_core\\python\\framework\\indexed_slices.py:433: UserWarning: Converting sparse IndexedSlices to a dense Tensor of unknown shape. This may consume a large amount of memory.\n",
      "  \"Converting sparse IndexedSlices to a dense Tensor of unknown shape. \"\n"
     ]
    },
    {
     "name": "stdout",
     "output_type": "stream",
     "text": [
      "Epoch 1/6\n",
      "20000/20000 [==============================] - 9s 444us/step - loss: 0.4729 - accuracy: 0.7462\n",
      "Epoch 2/6\n",
      "20000/20000 [==============================] - 9s 446us/step - loss: 0.1357 - accuracy: 0.9531\n",
      "Epoch 3/6\n",
      "20000/20000 [==============================] - 10s 478us/step - loss: 0.0113 - accuracy: 0.9983\n",
      "Epoch 4/6\n",
      "20000/20000 [==============================] - 10s 506us/step - loss: 0.0012 - accuracy: 1.0000\n",
      "Epoch 5/6\n",
      "20000/20000 [==============================] - 8s 421us/step - loss: 4.8585e-04 - accuracy: 1.0000\n",
      "Epoch 6/6\n",
      "20000/20000 [==============================] - 9s 426us/step - loss: 2.7173e-04 - accuracy: 1.0000\n",
      "5000/5000 [==============================] - 0s 50us/step\n"
     ]
    },
    {
     "name": "stderr",
     "output_type": "stream",
     "text": [
      "C:\\Users\\joaon\\Anaconda3\\envs\\DL-illustrated\\lib\\site-packages\\tensorflow_core\\python\\framework\\indexed_slices.py:433: UserWarning: Converting sparse IndexedSlices to a dense Tensor of unknown shape. This may consume a large amount of memory.\n",
      "  \"Converting sparse IndexedSlices to a dense Tensor of unknown shape. \"\n"
     ]
    },
    {
     "name": "stdout",
     "output_type": "stream",
     "text": [
      "Epoch 1/6\n",
      "20000/20000 [==============================] - 9s 444us/step - loss: 0.4898 - accuracy: 0.7416\n",
      "Epoch 2/6\n",
      "20000/20000 [==============================] - 9s 433us/step - loss: 0.1560 - accuracy: 0.9460\n",
      "Epoch 3/6\n",
      "20000/20000 [==============================] - 9s 432us/step - loss: 0.0127 - accuracy: 0.9978\n",
      "Epoch 4/6\n",
      "20000/20000 [==============================] - 8s 416us/step - loss: 0.0014 - accuracy: 0.9998\n",
      "Epoch 5/6\n",
      "20000/20000 [==============================] - 8s 425us/step - loss: 4.7693e-04 - accuracy: 1.0000\n",
      "Epoch 6/6\n",
      "20000/20000 [==============================] - 8s 424us/step - loss: 2.6513e-04 - accuracy: 1.0000\n",
      "5000/5000 [==============================] - 0s 47us/step\n"
     ]
    },
    {
     "name": "stderr",
     "output_type": "stream",
     "text": [
      "C:\\Users\\joaon\\Anaconda3\\envs\\DL-illustrated\\lib\\site-packages\\tensorflow_core\\python\\framework\\indexed_slices.py:433: UserWarning: Converting sparse IndexedSlices to a dense Tensor of unknown shape. This may consume a large amount of memory.\n",
      "  \"Converting sparse IndexedSlices to a dense Tensor of unknown shape. \"\n"
     ]
    },
    {
     "name": "stdout",
     "output_type": "stream",
     "text": [
      "Epoch 1/4\n",
      "20000/20000 [==============================] - 5s 245us/step - loss: 0.5513 - accuracy: 0.6959\n",
      "Epoch 2/4\n",
      "20000/20000 [==============================] - 5s 245us/step - loss: 0.2178 - accuracy: 0.9158\n",
      "Epoch 3/4\n",
      "20000/20000 [==============================] - 5s 248us/step - loss: 0.0385 - accuracy: 0.9924\n",
      "Epoch 4/4\n",
      "20000/20000 [==============================] - 5s 252us/step - loss: 0.0055 - accuracy: 0.9997\n",
      "5000/5000 [==============================] - 0s 34us/step\n"
     ]
    },
    {
     "name": "stderr",
     "output_type": "stream",
     "text": [
      "C:\\Users\\joaon\\Anaconda3\\envs\\DL-illustrated\\lib\\site-packages\\tensorflow_core\\python\\framework\\indexed_slices.py:433: UserWarning: Converting sparse IndexedSlices to a dense Tensor of unknown shape. This may consume a large amount of memory.\n",
      "  \"Converting sparse IndexedSlices to a dense Tensor of unknown shape. \"\n"
     ]
    },
    {
     "name": "stdout",
     "output_type": "stream",
     "text": [
      "Epoch 1/4\n",
      "20000/20000 [==============================] - 5s 249us/step - loss: 0.5715 - accuracy: 0.6772\n",
      "Epoch 2/4\n",
      "20000/20000 [==============================] - 5s 249us/step - loss: 0.2320 - accuracy: 0.9110\n",
      "Epoch 3/4\n",
      "20000/20000 [==============================] - 5s 241us/step - loss: 0.0432 - accuracy: 0.9903\n",
      "Epoch 4/4\n",
      "20000/20000 [==============================] - 5s 244us/step - loss: 0.0061 - accuracy: 0.9997\n",
      "5000/5000 [==============================] - 0s 37us/step\n"
     ]
    },
    {
     "name": "stderr",
     "output_type": "stream",
     "text": [
      "C:\\Users\\joaon\\Anaconda3\\envs\\DL-illustrated\\lib\\site-packages\\tensorflow_core\\python\\framework\\indexed_slices.py:433: UserWarning: Converting sparse IndexedSlices to a dense Tensor of unknown shape. This may consume a large amount of memory.\n",
      "  \"Converting sparse IndexedSlices to a dense Tensor of unknown shape. \"\n"
     ]
    },
    {
     "name": "stdout",
     "output_type": "stream",
     "text": [
      "Epoch 1/4\n",
      "20000/20000 [==============================] - 5s 241us/step - loss: 0.5728 - accuracy: 0.6774\n",
      "Epoch 2/4\n",
      "20000/20000 [==============================] - 5s 248us/step - loss: 0.2441 - accuracy: 0.9054\n",
      "Epoch 3/4\n",
      "20000/20000 [==============================] - 5s 251us/step - loss: 0.0562 - accuracy: 0.9861\n",
      "Epoch 4/4\n",
      "20000/20000 [==============================] - 5s 244us/step - loss: 0.0077 - accuracy: 0.9992\n",
      "5000/5000 [==============================] - 0s 37us/step\n"
     ]
    },
    {
     "name": "stderr",
     "output_type": "stream",
     "text": [
      "C:\\Users\\joaon\\Anaconda3\\envs\\DL-illustrated\\lib\\site-packages\\tensorflow_core\\python\\framework\\indexed_slices.py:433: UserWarning: Converting sparse IndexedSlices to a dense Tensor of unknown shape. This may consume a large amount of memory.\n",
      "  \"Converting sparse IndexedSlices to a dense Tensor of unknown shape. \"\n"
     ]
    },
    {
     "name": "stdout",
     "output_type": "stream",
     "text": [
      "Epoch 1/4\n",
      "20000/20000 [==============================] - 5s 248us/step - loss: 0.5608 - accuracy: 0.6899\n",
      "Epoch 2/4\n",
      "20000/20000 [==============================] - 5s 247us/step - loss: 0.2312 - accuracy: 0.9128\n",
      "Epoch 3/4\n",
      "20000/20000 [==============================] - 5s 249us/step - loss: 0.0508 - accuracy: 0.9882\n",
      "Epoch 4/4\n",
      "20000/20000 [==============================] - 5s 248us/step - loss: 0.0071 - accuracy: 0.9995\n",
      "5000/5000 [==============================] - 0s 37us/step\n"
     ]
    },
    {
     "name": "stderr",
     "output_type": "stream",
     "text": [
      "C:\\Users\\joaon\\Anaconda3\\envs\\DL-illustrated\\lib\\site-packages\\tensorflow_core\\python\\framework\\indexed_slices.py:433: UserWarning: Converting sparse IndexedSlices to a dense Tensor of unknown shape. This may consume a large amount of memory.\n",
      "  \"Converting sparse IndexedSlices to a dense Tensor of unknown shape. \"\n"
     ]
    },
    {
     "name": "stdout",
     "output_type": "stream",
     "text": [
      "Epoch 1/4\n",
      "20000/20000 [==============================] - 5s 259us/step - loss: 0.5810 - accuracy: 0.6740\n",
      "Epoch 2/4\n",
      "20000/20000 [==============================] - 5s 248us/step - loss: 0.2590 - accuracy: 0.8992\n",
      "Epoch 3/4\n",
      "20000/20000 [==============================] - 5s 243us/step - loss: 0.0695 - accuracy: 0.9829\n",
      "Epoch 4/4\n",
      "20000/20000 [==============================] - 5s 243us/step - loss: 0.0103 - accuracy: 0.9991\n",
      "5000/5000 [==============================] - 0s 41us/step\n"
     ]
    },
    {
     "name": "stderr",
     "output_type": "stream",
     "text": [
      "C:\\Users\\joaon\\Anaconda3\\envs\\DL-illustrated\\lib\\site-packages\\tensorflow_core\\python\\framework\\indexed_slices.py:433: UserWarning: Converting sparse IndexedSlices to a dense Tensor of unknown shape. This may consume a large amount of memory.\n",
      "  \"Converting sparse IndexedSlices to a dense Tensor of unknown shape. \"\n"
     ]
    },
    {
     "name": "stdout",
     "output_type": "stream",
     "text": [
      "Epoch 1/2\n",
      "20000/20000 [==============================] - 7s 336us/step - loss: 0.4976 - accuracy: 0.7351\n",
      "Epoch 2/2\n",
      "20000/20000 [==============================] - 7s 340us/step - loss: 0.1626 - accuracy: 0.94271s\n",
      "5000/5000 [==============================] - 0s 44us/step\n"
     ]
    },
    {
     "name": "stderr",
     "output_type": "stream",
     "text": [
      "C:\\Users\\joaon\\Anaconda3\\envs\\DL-illustrated\\lib\\site-packages\\tensorflow_core\\python\\framework\\indexed_slices.py:433: UserWarning: Converting sparse IndexedSlices to a dense Tensor of unknown shape. This may consume a large amount of memory.\n",
      "  \"Converting sparse IndexedSlices to a dense Tensor of unknown shape. \"\n"
     ]
    },
    {
     "name": "stdout",
     "output_type": "stream",
     "text": [
      "Epoch 1/2\n",
      "20000/20000 [==============================] - 7s 337us/step - loss: 0.4897 - accuracy: 0.7392\n",
      "Epoch 2/2\n",
      "20000/20000 [==============================] - 7s 337us/step - loss: 0.1614 - accuracy: 0.9426\n",
      "5000/5000 [==============================] - 0s 41us/step\n"
     ]
    },
    {
     "name": "stderr",
     "output_type": "stream",
     "text": [
      "C:\\Users\\joaon\\Anaconda3\\envs\\DL-illustrated\\lib\\site-packages\\tensorflow_core\\python\\framework\\indexed_slices.py:433: UserWarning: Converting sparse IndexedSlices to a dense Tensor of unknown shape. This may consume a large amount of memory.\n",
      "  \"Converting sparse IndexedSlices to a dense Tensor of unknown shape. \"\n"
     ]
    },
    {
     "name": "stdout",
     "output_type": "stream",
     "text": [
      "Epoch 1/2\n",
      "20000/20000 [==============================] - 7s 344us/step - loss: 0.4777 - accuracy: 0.7584\n",
      "Epoch 2/2\n",
      "20000/20000 [==============================] - 7s 336us/step - loss: 0.1427 - accuracy: 0.9504\n",
      "5000/5000 [==============================] - 0s 47us/step\n"
     ]
    },
    {
     "name": "stderr",
     "output_type": "stream",
     "text": [
      "C:\\Users\\joaon\\Anaconda3\\envs\\DL-illustrated\\lib\\site-packages\\tensorflow_core\\python\\framework\\indexed_slices.py:433: UserWarning: Converting sparse IndexedSlices to a dense Tensor of unknown shape. This may consume a large amount of memory.\n",
      "  \"Converting sparse IndexedSlices to a dense Tensor of unknown shape. \"\n"
     ]
    },
    {
     "name": "stdout",
     "output_type": "stream",
     "text": [
      "Epoch 1/2\n",
      "20000/20000 [==============================] - 7s 347us/step - loss: 0.5043 - accuracy: 0.7300\n",
      "Epoch 2/2\n",
      "20000/20000 [==============================] - 8s 416us/step - loss: 0.1776 - accuracy: 0.9336\n",
      "5000/5000 [==============================] - 0s 53us/step\n"
     ]
    },
    {
     "name": "stderr",
     "output_type": "stream",
     "text": [
      "C:\\Users\\joaon\\Anaconda3\\envs\\DL-illustrated\\lib\\site-packages\\tensorflow_core\\python\\framework\\indexed_slices.py:433: UserWarning: Converting sparse IndexedSlices to a dense Tensor of unknown shape. This may consume a large amount of memory.\n",
      "  \"Converting sparse IndexedSlices to a dense Tensor of unknown shape. \"\n"
     ]
    },
    {
     "name": "stdout",
     "output_type": "stream",
     "text": [
      "Epoch 1/2\n",
      "20000/20000 [==============================] - 7s 334us/step - loss: 0.4883 - accuracy: 0.7462\n",
      "Epoch 2/2\n",
      "20000/20000 [==============================] - 7s 336us/step - loss: 0.1669 - accuracy: 0.9413\n",
      "5000/5000 [==============================] - 0s 47us/step\n"
     ]
    },
    {
     "name": "stderr",
     "output_type": "stream",
     "text": [
      "C:\\Users\\joaon\\Anaconda3\\envs\\DL-illustrated\\lib\\site-packages\\tensorflow_core\\python\\framework\\indexed_slices.py:433: UserWarning: Converting sparse IndexedSlices to a dense Tensor of unknown shape. This may consume a large amount of memory.\n",
      "  \"Converting sparse IndexedSlices to a dense Tensor of unknown shape. \"\n"
     ]
    },
    {
     "name": "stdout",
     "output_type": "stream",
     "text": [
      "Epoch 1/6\n",
      "20000/20000 [==============================] - 7s 341us/step - loss: 0.5200 - accuracy: 0.7149\n",
      "Epoch 2/6\n",
      "20000/20000 [==============================] - 7s 342us/step - loss: 0.2001 - accuracy: 0.9269\n",
      "Epoch 3/6\n",
      "20000/20000 [==============================] - 7s 343us/step - loss: 0.0291 - accuracy: 0.9936\n",
      "Epoch 4/6\n",
      "20000/20000 [==============================] - 7s 334us/step - loss: 0.0046 - accuracy: 0.9998\n",
      "Epoch 5/6\n",
      "20000/20000 [==============================] - 7s 344us/step - loss: 0.0018 - accuracy: 1.0000\n",
      "Epoch 6/6\n",
      "20000/20000 [==============================] - 7s 346us/step - loss: 9.9615e-04 - accuracy: 0.9999\n",
      "5000/5000 [==============================] - 0s 41us/step\n"
     ]
    },
    {
     "name": "stderr",
     "output_type": "stream",
     "text": [
      "C:\\Users\\joaon\\Anaconda3\\envs\\DL-illustrated\\lib\\site-packages\\tensorflow_core\\python\\framework\\indexed_slices.py:433: UserWarning: Converting sparse IndexedSlices to a dense Tensor of unknown shape. This may consume a large amount of memory.\n",
      "  \"Converting sparse IndexedSlices to a dense Tensor of unknown shape. \"\n"
     ]
    },
    {
     "name": "stdout",
     "output_type": "stream",
     "text": [
      "Epoch 1/6\n",
      "20000/20000 [==============================] - 7s 348us/step - loss: 0.5138 - accuracy: 0.7246\n",
      "Epoch 2/6\n",
      "20000/20000 [==============================] - 7s 334us/step - loss: 0.2040 - accuracy: 0.9257\n",
      "Epoch 3/6\n",
      "20000/20000 [==============================] - 7s 350us/step - loss: 0.0329 - accuracy: 0.9929\n",
      "Epoch 4/6\n",
      "20000/20000 [==============================] - 7s 343us/step - loss: 0.0061 - accuracy: 0.9994\n",
      "Epoch 5/6\n",
      "20000/20000 [==============================] - 7s 341us/step - loss: 0.0019 - accuracy: 1.0000\n",
      "Epoch 6/6\n",
      "20000/20000 [==============================] - 7s 344us/step - loss: 0.0010 - accuracy: 1.0000\n",
      "5000/5000 [==============================] - 0s 44us/step\n"
     ]
    },
    {
     "name": "stderr",
     "output_type": "stream",
     "text": [
      "C:\\Users\\joaon\\Anaconda3\\envs\\DL-illustrated\\lib\\site-packages\\tensorflow_core\\python\\framework\\indexed_slices.py:433: UserWarning: Converting sparse IndexedSlices to a dense Tensor of unknown shape. This may consume a large amount of memory.\n",
      "  \"Converting sparse IndexedSlices to a dense Tensor of unknown shape. \"\n"
     ]
    },
    {
     "name": "stdout",
     "output_type": "stream",
     "text": [
      "Epoch 1/6\n",
      "20000/20000 [==============================] - 7s 341us/step - loss: 0.5100 - accuracy: 0.7262\n",
      "Epoch 2/6\n",
      "20000/20000 [==============================] - 7s 345us/step - loss: 0.1939 - accuracy: 0.9281\n",
      "Epoch 3/6\n",
      "20000/20000 [==============================] - 7s 342us/step - loss: 0.0284 - accuracy: 0.9939\n",
      "Epoch 4/6\n",
      "20000/20000 [==============================] - 7s 334us/step - loss: 0.0044 - accuracy: 0.9998\n",
      "Epoch 5/6\n",
      "20000/20000 [==============================] - 7s 337us/step - loss: 0.0018 - accuracy: 1.0000\n",
      "Epoch 6/6\n",
      "20000/20000 [==============================] - 7s 337us/step - loss: 0.0010 - accuracy: 0.9999\n",
      "5000/5000 [==============================] - 0s 37us/step\n"
     ]
    },
    {
     "name": "stderr",
     "output_type": "stream",
     "text": [
      "C:\\Users\\joaon\\Anaconda3\\envs\\DL-illustrated\\lib\\site-packages\\tensorflow_core\\python\\framework\\indexed_slices.py:433: UserWarning: Converting sparse IndexedSlices to a dense Tensor of unknown shape. This may consume a large amount of memory.\n",
      "  \"Converting sparse IndexedSlices to a dense Tensor of unknown shape. \"\n"
     ]
    },
    {
     "name": "stdout",
     "output_type": "stream",
     "text": [
      "Epoch 1/6\n",
      "20000/20000 [==============================] - 7s 341us/step - loss: 0.5186 - accuracy: 0.7233\n",
      "Epoch 2/6\n",
      "20000/20000 [==============================] - 7s 341us/step - loss: 0.2070 - accuracy: 0.9238\n",
      "Epoch 3/6\n",
      "20000/20000 [==============================] - 7s 330us/step - loss: 0.0344 - accuracy: 0.9926\n",
      "Epoch 4/6\n",
      "20000/20000 [==============================] - 7s 334us/step - loss: 0.0047 - accuracy: 0.9998\n",
      "Epoch 5/6\n",
      "20000/20000 [==============================] - 7s 331us/step - loss: 0.0018 - accuracy: 0.9999\n",
      "Epoch 6/6\n",
      "20000/20000 [==============================] - 7s 334us/step - loss: 9.1768e-04 - accuracy: 1.0000\n",
      "5000/5000 [==============================] - 0s 47us/step\n"
     ]
    },
    {
     "name": "stderr",
     "output_type": "stream",
     "text": [
      "C:\\Users\\joaon\\Anaconda3\\envs\\DL-illustrated\\lib\\site-packages\\tensorflow_core\\python\\framework\\indexed_slices.py:433: UserWarning: Converting sparse IndexedSlices to a dense Tensor of unknown shape. This may consume a large amount of memory.\n",
      "  \"Converting sparse IndexedSlices to a dense Tensor of unknown shape. \"\n"
     ]
    },
    {
     "name": "stdout",
     "output_type": "stream",
     "text": [
      "Epoch 1/6\n",
      "20000/20000 [==============================] - 7s 341us/step - loss: 0.5300 - accuracy: 0.7066\n",
      "Epoch 2/6\n",
      "20000/20000 [==============================] - 7s 339us/step - loss: 0.1963 - accuracy: 0.9276\n",
      "Epoch 3/6\n",
      "20000/20000 [==============================] - 7s 337us/step - loss: 0.0273 - accuracy: 0.9944\n",
      "Epoch 4/6\n",
      "20000/20000 [==============================] - 7s 334us/step - loss: 0.0047 - accuracy: 0.9998\n",
      "Epoch 5/6\n",
      "20000/20000 [==============================] - 7s 347us/step - loss: 0.0018 - accuracy: 1.0000\n",
      "Epoch 6/6\n",
      "20000/20000 [==============================] - 7s 337us/step - loss: 9.0760e-04 - accuracy: 1.0000\n",
      "5000/5000 [==============================] - 0s 41us/step\n"
     ]
    },
    {
     "name": "stderr",
     "output_type": "stream",
     "text": [
      "C:\\Users\\joaon\\Anaconda3\\envs\\DL-illustrated\\lib\\site-packages\\tensorflow_core\\python\\framework\\indexed_slices.py:433: UserWarning: Converting sparse IndexedSlices to a dense Tensor of unknown shape. This may consume a large amount of memory.\n",
      "  \"Converting sparse IndexedSlices to a dense Tensor of unknown shape. \"\n"
     ]
    },
    {
     "name": "stdout",
     "output_type": "stream",
     "text": [
      "Epoch 1/2\n",
      "20000/20000 [==============================] - 5s 241us/step - loss: 0.5420 - accuracy: 0.6995\n",
      "Epoch 2/2\n",
      "20000/20000 [==============================] - 5s 247us/step - loss: 0.2008 - accuracy: 0.9266\n",
      "5000/5000 [==============================] - 0s 41us/step\n"
     ]
    },
    {
     "name": "stderr",
     "output_type": "stream",
     "text": [
      "C:\\Users\\joaon\\Anaconda3\\envs\\DL-illustrated\\lib\\site-packages\\tensorflow_core\\python\\framework\\indexed_slices.py:433: UserWarning: Converting sparse IndexedSlices to a dense Tensor of unknown shape. This may consume a large amount of memory.\n",
      "  \"Converting sparse IndexedSlices to a dense Tensor of unknown shape. \"\n"
     ]
    },
    {
     "name": "stdout",
     "output_type": "stream",
     "text": [
      "Epoch 1/2\n",
      "20000/20000 [==============================] - 5s 247us/step - loss: 0.5270 - accuracy: 0.7208\n",
      "Epoch 2/2\n",
      "20000/20000 [==============================] - 5s 244us/step - loss: 0.1970 - accuracy: 0.9250\n",
      "5000/5000 [==============================] - 0s 34us/step\n"
     ]
    },
    {
     "name": "stderr",
     "output_type": "stream",
     "text": [
      "C:\\Users\\joaon\\Anaconda3\\envs\\DL-illustrated\\lib\\site-packages\\tensorflow_core\\python\\framework\\indexed_slices.py:433: UserWarning: Converting sparse IndexedSlices to a dense Tensor of unknown shape. This may consume a large amount of memory.\n",
      "  \"Converting sparse IndexedSlices to a dense Tensor of unknown shape. \"\n"
     ]
    },
    {
     "name": "stdout",
     "output_type": "stream",
     "text": [
      "Epoch 1/2\n",
      "20000/20000 [==============================] - 5s 255us/step - loss: 0.5390 - accuracy: 0.7035\n",
      "Epoch 2/2\n",
      "20000/20000 [==============================] - 5s 248us/step - loss: 0.2026 - accuracy: 0.9248\n",
      "5000/5000 [==============================] - 0s 37us/step\n"
     ]
    },
    {
     "name": "stderr",
     "output_type": "stream",
     "text": [
      "C:\\Users\\joaon\\Anaconda3\\envs\\DL-illustrated\\lib\\site-packages\\tensorflow_core\\python\\framework\\indexed_slices.py:433: UserWarning: Converting sparse IndexedSlices to a dense Tensor of unknown shape. This may consume a large amount of memory.\n",
      "  \"Converting sparse IndexedSlices to a dense Tensor of unknown shape. \"\n"
     ]
    },
    {
     "name": "stdout",
     "output_type": "stream",
     "text": [
      "Epoch 1/2\n",
      "20000/20000 [==============================] - 5s 250us/step - loss: 0.5374 - accuracy: 0.7054\n",
      "Epoch 2/2\n",
      "20000/20000 [==============================] - 5s 244us/step - loss: 0.2035 - accuracy: 0.9248\n",
      "5000/5000 [==============================] - 0s 34us/step\n"
     ]
    },
    {
     "name": "stderr",
     "output_type": "stream",
     "text": [
      "C:\\Users\\joaon\\Anaconda3\\envs\\DL-illustrated\\lib\\site-packages\\tensorflow_core\\python\\framework\\indexed_slices.py:433: UserWarning: Converting sparse IndexedSlices to a dense Tensor of unknown shape. This may consume a large amount of memory.\n",
      "  \"Converting sparse IndexedSlices to a dense Tensor of unknown shape. \"\n"
     ]
    },
    {
     "name": "stdout",
     "output_type": "stream",
     "text": [
      "Epoch 1/2\n",
      "20000/20000 [==============================] - 5s 259us/step - loss: 0.5398 - accuracy: 0.7062\n",
      "Epoch 2/2\n",
      "20000/20000 [==============================] - 5s 247us/step - loss: 0.2120 - accuracy: 0.9201\n",
      "5000/5000 [==============================] - 0s 37us/step\n"
     ]
    },
    {
     "name": "stderr",
     "output_type": "stream",
     "text": [
      "C:\\Users\\joaon\\Anaconda3\\envs\\DL-illustrated\\lib\\site-packages\\tensorflow_core\\python\\framework\\indexed_slices.py:433: UserWarning: Converting sparse IndexedSlices to a dense Tensor of unknown shape. This may consume a large amount of memory.\n",
      "  \"Converting sparse IndexedSlices to a dense Tensor of unknown shape. \"\n"
     ]
    },
    {
     "name": "stdout",
     "output_type": "stream",
     "text": [
      "Epoch 1/2\n",
      "20000/20000 [==============================] - 9s 430us/step - loss: 0.4798 - accuracy: 0.7448\n",
      "Epoch 2/2\n",
      "20000/20000 [==============================] - 8s 417us/step - loss: 0.1354 - accuracy: 0.9539\n",
      "5000/5000 [==============================] - 0s 47us/step\n"
     ]
    },
    {
     "name": "stderr",
     "output_type": "stream",
     "text": [
      "C:\\Users\\joaon\\Anaconda3\\envs\\DL-illustrated\\lib\\site-packages\\tensorflow_core\\python\\framework\\indexed_slices.py:433: UserWarning: Converting sparse IndexedSlices to a dense Tensor of unknown shape. This may consume a large amount of memory.\n",
      "  \"Converting sparse IndexedSlices to a dense Tensor of unknown shape. \"\n"
     ]
    },
    {
     "name": "stdout",
     "output_type": "stream",
     "text": [
      "Epoch 1/2\n",
      "20000/20000 [==============================] - 10s 497us/step - loss: 0.4917 - accuracy: 0.7400\n",
      "Epoch 2/2\n",
      "20000/20000 [==============================] - 9s 441us/step - loss: 0.1586 - accuracy: 0.9441\n",
      "5000/5000 [==============================] - 0s 53us/step\n"
     ]
    },
    {
     "name": "stderr",
     "output_type": "stream",
     "text": [
      "C:\\Users\\joaon\\Anaconda3\\envs\\DL-illustrated\\lib\\site-packages\\tensorflow_core\\python\\framework\\indexed_slices.py:433: UserWarning: Converting sparse IndexedSlices to a dense Tensor of unknown shape. This may consume a large amount of memory.\n",
      "  \"Converting sparse IndexedSlices to a dense Tensor of unknown shape. \"\n"
     ]
    },
    {
     "name": "stdout",
     "output_type": "stream",
     "text": [
      "Epoch 1/2\n",
      "20000/20000 [==============================] - 8s 423us/step - loss: 0.4767 - accuracy: 0.7497\n",
      "Epoch 2/2\n",
      "20000/20000 [==============================] - 9s 427us/step - loss: 0.1354 - accuracy: 0.9528\n",
      "5000/5000 [==============================] - 0s 53us/step\n"
     ]
    },
    {
     "name": "stderr",
     "output_type": "stream",
     "text": [
      "C:\\Users\\joaon\\Anaconda3\\envs\\DL-illustrated\\lib\\site-packages\\tensorflow_core\\python\\framework\\indexed_slices.py:433: UserWarning: Converting sparse IndexedSlices to a dense Tensor of unknown shape. This may consume a large amount of memory.\n",
      "  \"Converting sparse IndexedSlices to a dense Tensor of unknown shape. \"\n"
     ]
    },
    {
     "name": "stdout",
     "output_type": "stream",
     "text": [
      "Epoch 1/2\n",
      "20000/20000 [==============================] - 9s 430us/step - loss: 0.4977 - accuracy: 0.7321\n",
      "Epoch 2/2\n",
      "20000/20000 [==============================] - 9s 430us/step - loss: 0.1615 - accuracy: 0.9404\n",
      "5000/5000 [==============================] - 0s 50us/step\n"
     ]
    },
    {
     "name": "stderr",
     "output_type": "stream",
     "text": [
      "C:\\Users\\joaon\\Anaconda3\\envs\\DL-illustrated\\lib\\site-packages\\tensorflow_core\\python\\framework\\indexed_slices.py:433: UserWarning: Converting sparse IndexedSlices to a dense Tensor of unknown shape. This may consume a large amount of memory.\n",
      "  \"Converting sparse IndexedSlices to a dense Tensor of unknown shape. \"\n"
     ]
    },
    {
     "name": "stdout",
     "output_type": "stream",
     "text": [
      "Epoch 1/2\n",
      "20000/20000 [==============================] - 8s 425us/step - loss: 0.4806 - accuracy: 0.7493\n",
      "Epoch 2/2\n",
      "20000/20000 [==============================] - 8s 423us/step - loss: 0.1486 - accuracy: 0.9484\n",
      "5000/5000 [==============================] - 0s 47us/step\n"
     ]
    },
    {
     "name": "stderr",
     "output_type": "stream",
     "text": [
      "C:\\Users\\joaon\\Anaconda3\\envs\\DL-illustrated\\lib\\site-packages\\tensorflow_core\\python\\framework\\indexed_slices.py:433: UserWarning: Converting sparse IndexedSlices to a dense Tensor of unknown shape. This may consume a large amount of memory.\n",
      "  \"Converting sparse IndexedSlices to a dense Tensor of unknown shape. \"\n"
     ]
    },
    {
     "name": "stdout",
     "output_type": "stream",
     "text": [
      "Epoch 1/2\n",
      "20000/20000 [==============================] - 4s 183us/step - loss: 0.5475 - accuracy: 0.6981\n",
      "Epoch 2/2\n",
      "20000/20000 [==============================] - 4s 184us/step - loss: 0.2189 - accuracy: 0.9176\n",
      "5000/5000 [==============================] - 0s 31us/step\n"
     ]
    },
    {
     "name": "stderr",
     "output_type": "stream",
     "text": [
      "C:\\Users\\joaon\\Anaconda3\\envs\\DL-illustrated\\lib\\site-packages\\tensorflow_core\\python\\framework\\indexed_slices.py:433: UserWarning: Converting sparse IndexedSlices to a dense Tensor of unknown shape. This may consume a large amount of memory.\n",
      "  \"Converting sparse IndexedSlices to a dense Tensor of unknown shape. \"\n"
     ]
    },
    {
     "name": "stdout",
     "output_type": "stream",
     "text": [
      "Epoch 1/2\n",
      "20000/20000 [==============================] - 4s 185us/step - loss: 0.5382 - accuracy: 0.7017\n",
      "Epoch 2/2\n",
      "20000/20000 [==============================] - 4s 180us/step - loss: 0.2004 - accuracy: 0.9270\n",
      "5000/5000 [==============================] - 0s 25us/step\n"
     ]
    },
    {
     "name": "stderr",
     "output_type": "stream",
     "text": [
      "C:\\Users\\joaon\\Anaconda3\\envs\\DL-illustrated\\lib\\site-packages\\tensorflow_core\\python\\framework\\indexed_slices.py:433: UserWarning: Converting sparse IndexedSlices to a dense Tensor of unknown shape. This may consume a large amount of memory.\n",
      "  \"Converting sparse IndexedSlices to a dense Tensor of unknown shape. \"\n"
     ]
    },
    {
     "name": "stdout",
     "output_type": "stream",
     "text": [
      "Epoch 1/2\n",
      "20000/20000 [==============================] - 4s 186us/step - loss: 0.5328 - accuracy: 0.7143\n",
      "Epoch 2/2\n",
      "20000/20000 [==============================] - 4s 188us/step - loss: 0.2092 - accuracy: 0.9201\n",
      "5000/5000 [==============================] - 0s 37us/step\n"
     ]
    },
    {
     "name": "stderr",
     "output_type": "stream",
     "text": [
      "C:\\Users\\joaon\\Anaconda3\\envs\\DL-illustrated\\lib\\site-packages\\tensorflow_core\\python\\framework\\indexed_slices.py:433: UserWarning: Converting sparse IndexedSlices to a dense Tensor of unknown shape. This may consume a large amount of memory.\n",
      "  \"Converting sparse IndexedSlices to a dense Tensor of unknown shape. \"\n"
     ]
    },
    {
     "name": "stdout",
     "output_type": "stream",
     "text": [
      "Epoch 1/2\n",
      "20000/20000 [==============================] - 4s 182us/step - loss: 0.5434 - accuracy: 0.7045\n",
      "Epoch 2/2\n",
      "20000/20000 [==============================] - 4s 180us/step - loss: 0.2010 - accuracy: 0.9255\n",
      "5000/5000 [==============================] - 0s 31us/step\n"
     ]
    },
    {
     "name": "stderr",
     "output_type": "stream",
     "text": [
      "C:\\Users\\joaon\\Anaconda3\\envs\\DL-illustrated\\lib\\site-packages\\tensorflow_core\\python\\framework\\indexed_slices.py:433: UserWarning: Converting sparse IndexedSlices to a dense Tensor of unknown shape. This may consume a large amount of memory.\n",
      "  \"Converting sparse IndexedSlices to a dense Tensor of unknown shape. \"\n"
     ]
    },
    {
     "name": "stdout",
     "output_type": "stream",
     "text": [
      "Epoch 1/2\n",
      "20000/20000 [==============================] - 4s 184us/step - loss: 0.5606 - accuracy: 0.6954\n",
      "Epoch 2/2\n",
      "20000/20000 [==============================] - 4s 187us/step - loss: 0.2320 - accuracy: 0.91030s - loss: 0.234\n",
      "5000/5000 [==============================] - 0s 31us/step\n"
     ]
    },
    {
     "name": "stderr",
     "output_type": "stream",
     "text": [
      "C:\\Users\\joaon\\Anaconda3\\envs\\DL-illustrated\\lib\\site-packages\\tensorflow_core\\python\\framework\\indexed_slices.py:433: UserWarning: Converting sparse IndexedSlices to a dense Tensor of unknown shape. This may consume a large amount of memory.\n",
      "  \"Converting sparse IndexedSlices to a dense Tensor of unknown shape. \"\n"
     ]
    },
    {
     "name": "stdout",
     "output_type": "stream",
     "text": [
      "Epoch 1/2\n",
      "20000/20000 [==============================] - 5s 234us/step - loss: 0.5130 - accuracy: 0.7287\n",
      "Epoch 2/2\n",
      "20000/20000 [==============================] - 5s 230us/step - loss: 0.1810 - accuracy: 0.9337\n",
      "5000/5000 [==============================] - 0s 31us/step\n"
     ]
    },
    {
     "name": "stderr",
     "output_type": "stream",
     "text": [
      "C:\\Users\\joaon\\Anaconda3\\envs\\DL-illustrated\\lib\\site-packages\\tensorflow_core\\python\\framework\\indexed_slices.py:433: UserWarning: Converting sparse IndexedSlices to a dense Tensor of unknown shape. This may consume a large amount of memory.\n",
      "  \"Converting sparse IndexedSlices to a dense Tensor of unknown shape. \"\n"
     ]
    },
    {
     "name": "stdout",
     "output_type": "stream",
     "text": [
      "Epoch 1/2\n",
      "20000/20000 [==============================] - 5s 231us/step - loss: 0.5312 - accuracy: 0.7075\n",
      "Epoch 2/2\n",
      "20000/20000 [==============================] - 5s 230us/step - loss: 0.1916 - accuracy: 0.9296\n",
      "5000/5000 [==============================] - 0s 34us/step\n"
     ]
    },
    {
     "name": "stderr",
     "output_type": "stream",
     "text": [
      "C:\\Users\\joaon\\Anaconda3\\envs\\DL-illustrated\\lib\\site-packages\\tensorflow_core\\python\\framework\\indexed_slices.py:433: UserWarning: Converting sparse IndexedSlices to a dense Tensor of unknown shape. This may consume a large amount of memory.\n",
      "  \"Converting sparse IndexedSlices to a dense Tensor of unknown shape. \"\n"
     ]
    },
    {
     "name": "stdout",
     "output_type": "stream",
     "text": [
      "Epoch 1/2\n",
      "20000/20000 [==============================] - 5s 234us/step - loss: 0.5134 - accuracy: 0.7266\n",
      "Epoch 2/2\n",
      "20000/20000 [==============================] - 5s 230us/step - loss: 0.1834 - accuracy: 0.9320\n",
      "5000/5000 [==============================] - 0s 37us/step\n"
     ]
    },
    {
     "name": "stderr",
     "output_type": "stream",
     "text": [
      "C:\\Users\\joaon\\Anaconda3\\envs\\DL-illustrated\\lib\\site-packages\\tensorflow_core\\python\\framework\\indexed_slices.py:433: UserWarning: Converting sparse IndexedSlices to a dense Tensor of unknown shape. This may consume a large amount of memory.\n",
      "  \"Converting sparse IndexedSlices to a dense Tensor of unknown shape. \"\n"
     ]
    },
    {
     "name": "stdout",
     "output_type": "stream",
     "text": [
      "Epoch 1/2\n",
      "20000/20000 [==============================] - 5s 237us/step - loss: 0.5005 - accuracy: 0.7364\n",
      "Epoch 2/2\n",
      "20000/20000 [==============================] - 5s 237us/step - loss: 0.1676 - accuracy: 0.9398\n",
      "5000/5000 [==============================] - 0s 31us/step\n"
     ]
    },
    {
     "name": "stderr",
     "output_type": "stream",
     "text": [
      "C:\\Users\\joaon\\Anaconda3\\envs\\DL-illustrated\\lib\\site-packages\\tensorflow_core\\python\\framework\\indexed_slices.py:433: UserWarning: Converting sparse IndexedSlices to a dense Tensor of unknown shape. This may consume a large amount of memory.\n",
      "  \"Converting sparse IndexedSlices to a dense Tensor of unknown shape. \"\n"
     ]
    },
    {
     "name": "stdout",
     "output_type": "stream",
     "text": [
      "Epoch 1/2\n",
      "20000/20000 [==============================] - 5s 244us/step - loss: 0.5285 - accuracy: 0.7096\n",
      "Epoch 2/2\n",
      "20000/20000 [==============================] - 5s 236us/step - loss: 0.1756 - accuracy: 0.9382\n",
      "5000/5000 [==============================] - 0s 34us/step\n"
     ]
    },
    {
     "name": "stderr",
     "output_type": "stream",
     "text": [
      "C:\\Users\\joaon\\Anaconda3\\envs\\DL-illustrated\\lib\\site-packages\\tensorflow_core\\python\\framework\\indexed_slices.py:433: UserWarning: Converting sparse IndexedSlices to a dense Tensor of unknown shape. This may consume a large amount of memory.\n",
      "  \"Converting sparse IndexedSlices to a dense Tensor of unknown shape. \"\n"
     ]
    },
    {
     "name": "stdout",
     "output_type": "stream",
     "text": [
      "Epoch 1/6\n",
      "20000/20000 [==============================] - 4s 185us/step - loss: 0.5396 - accuracy: 0.7114\n",
      "Epoch 2/6\n",
      "20000/20000 [==============================] - 4s 180us/step - loss: 0.2205 - accuracy: 0.9155\n",
      "Epoch 3/6\n",
      "20000/20000 [==============================] - 4s 187us/step - loss: 0.0510 - accuracy: 0.9900\n",
      "Epoch 4/6\n",
      "20000/20000 [==============================] - 4s 184us/step - loss: 0.0074 - accuracy: 0.9994\n",
      "Epoch 5/6\n",
      "20000/20000 [==============================] - 4s 186us/step - loss: 0.0022 - accuracy: 0.9999\n",
      "Epoch 6/6\n",
      "20000/20000 [==============================] - 4s 180us/step - loss: 0.0010 - accuracy: 1.0000\n",
      "5000/5000 [==============================] - 0s 31us/step\n"
     ]
    },
    {
     "name": "stderr",
     "output_type": "stream",
     "text": [
      "C:\\Users\\joaon\\Anaconda3\\envs\\DL-illustrated\\lib\\site-packages\\tensorflow_core\\python\\framework\\indexed_slices.py:433: UserWarning: Converting sparse IndexedSlices to a dense Tensor of unknown shape. This may consume a large amount of memory.\n",
      "  \"Converting sparse IndexedSlices to a dense Tensor of unknown shape. \"\n"
     ]
    },
    {
     "name": "stdout",
     "output_type": "stream",
     "text": [
      "Epoch 1/6\n",
      "20000/20000 [==============================] - 4s 182us/step - loss: 0.5492 - accuracy: 0.6981\n",
      "Epoch 2/6\n",
      "20000/20000 [==============================] - 4s 180us/step - loss: 0.2149 - accuracy: 0.9202\n",
      "Epoch 3/6\n",
      "20000/20000 [==============================] - 4s 182us/step - loss: 0.0421 - accuracy: 0.9925\n",
      "Epoch 4/6\n",
      "20000/20000 [==============================] - 4s 181us/step - loss: 0.0061 - accuracy: 0.9997\n",
      "Epoch 5/6\n",
      "20000/20000 [==============================] - 4s 178us/step - loss: 0.0019 - accuracy: 0.9999\n",
      "Epoch 6/6\n",
      "20000/20000 [==============================] - 4s 184us/step - loss: 9.0893e-04 - accuracy: 1.0000\n",
      "5000/5000 [==============================] - 0s 31us/step\n"
     ]
    },
    {
     "name": "stderr",
     "output_type": "stream",
     "text": [
      "C:\\Users\\joaon\\Anaconda3\\envs\\DL-illustrated\\lib\\site-packages\\tensorflow_core\\python\\framework\\indexed_slices.py:433: UserWarning: Converting sparse IndexedSlices to a dense Tensor of unknown shape. This may consume a large amount of memory.\n",
      "  \"Converting sparse IndexedSlices to a dense Tensor of unknown shape. \"\n"
     ]
    },
    {
     "name": "stdout",
     "output_type": "stream",
     "text": [
      "Epoch 1/6\n",
      "20000/20000 [==============================] - 4s 193us/step - loss: 0.5244 - accuracy: 0.7185\n",
      "Epoch 2/6\n",
      "20000/20000 [==============================] - 4s 183us/step - loss: 0.1972 - accuracy: 0.9282\n",
      "Epoch 3/6\n",
      "20000/20000 [==============================] - 4s 178us/step - loss: 0.0338 - accuracy: 0.9948\n",
      "Epoch 4/6\n",
      "20000/20000 [==============================] - 4s 187us/step - loss: 0.0054 - accuracy: 0.9998\n",
      "Epoch 5/6\n",
      "20000/20000 [==============================] - 4s 180us/step - loss: 0.0017 - accuracy: 1.0000\n",
      "Epoch 6/6\n",
      "20000/20000 [==============================] - 4s 181us/step - loss: 7.8050e-04 - accuracy: 1.0000\n",
      "5000/5000 [==============================] - 0s 28us/step\n"
     ]
    },
    {
     "name": "stderr",
     "output_type": "stream",
     "text": [
      "C:\\Users\\joaon\\Anaconda3\\envs\\DL-illustrated\\lib\\site-packages\\tensorflow_core\\python\\framework\\indexed_slices.py:433: UserWarning: Converting sparse IndexedSlices to a dense Tensor of unknown shape. This may consume a large amount of memory.\n",
      "  \"Converting sparse IndexedSlices to a dense Tensor of unknown shape. \"\n"
     ]
    },
    {
     "name": "stdout",
     "output_type": "stream",
     "text": [
      "Epoch 1/6\n",
      "20000/20000 [==============================] - 4s 182us/step - loss: 0.5549 - accuracy: 0.6950\n",
      "Epoch 2/6\n",
      "20000/20000 [==============================] - 4s 183us/step - loss: 0.2168 - accuracy: 0.9167\n",
      "Epoch 3/6\n",
      "20000/20000 [==============================] - 4s 184us/step - loss: 0.0389 - accuracy: 0.9927\n",
      "Epoch 4/6\n",
      "20000/20000 [==============================] - 4s 186us/step - loss: 0.0050 - accuracy: 0.9998\n",
      "Epoch 5/6\n",
      "20000/20000 [==============================] - 4s 181us/step - loss: 0.0016 - accuracy: 1.0000\n",
      "Epoch 6/6\n",
      "20000/20000 [==============================] - 4s 179us/step - loss: 8.0554e-04 - accuracy: 1.0000\n",
      "5000/5000 [==============================] - 0s 28us/step\n"
     ]
    },
    {
     "name": "stderr",
     "output_type": "stream",
     "text": [
      "C:\\Users\\joaon\\Anaconda3\\envs\\DL-illustrated\\lib\\site-packages\\tensorflow_core\\python\\framework\\indexed_slices.py:433: UserWarning: Converting sparse IndexedSlices to a dense Tensor of unknown shape. This may consume a large amount of memory.\n",
      "  \"Converting sparse IndexedSlices to a dense Tensor of unknown shape. \"\n"
     ]
    },
    {
     "name": "stdout",
     "output_type": "stream",
     "text": [
      "Epoch 1/6\n",
      "20000/20000 [==============================] - 4s 182us/step - loss: 0.5502 - accuracy: 0.6945\n",
      "Epoch 2/6\n",
      "20000/20000 [==============================] - 4s 182us/step - loss: 0.2182 - accuracy: 0.9177\n",
      "Epoch 3/6\n",
      "20000/20000 [==============================] - 4s 180us/step - loss: 0.0419 - accuracy: 0.9923\n",
      "Epoch 4/6\n",
      "20000/20000 [==============================] - 4s 187us/step - loss: 0.0051 - accuracy: 0.9999\n",
      "Epoch 5/6\n",
      "20000/20000 [==============================] - 4s 183us/step - loss: 0.0016 - accuracy: 1.00001s\n",
      "Epoch 6/6\n",
      "20000/20000 [==============================] - 4s 189us/step - loss: 7.8687e-04 - accuracy: 1.0000\n",
      "5000/5000 [==============================] - 0s 34us/step\n"
     ]
    },
    {
     "name": "stderr",
     "output_type": "stream",
     "text": [
      "C:\\Users\\joaon\\Anaconda3\\envs\\DL-illustrated\\lib\\site-packages\\tensorflow_core\\python\\framework\\indexed_slices.py:433: UserWarning: Converting sparse IndexedSlices to a dense Tensor of unknown shape. This may consume a large amount of memory.\n",
      "  \"Converting sparse IndexedSlices to a dense Tensor of unknown shape. \"\n"
     ]
    },
    {
     "name": "stdout",
     "output_type": "stream",
     "text": [
      "Epoch 1/2\n",
      "25000/25000 [==============================] - 5s 181us/step - loss: 0.5043 - accuracy: 0.7360\n",
      "Epoch 2/2\n",
      "25000/25000 [==============================] - 5s 184us/step - loss: 0.2073 - accuracy: 0.9220\n",
      "Wall time: 18min 30s\n"
     ]
    },
    {
     "data": {
      "text/plain": [
       "RandomizedSearchCV(cv=5, error_score=nan,\n",
       "                   estimator=<keras.wrappers.scikit_learn.KerasClassifier object at 0x000001BD2E5C76C8>,\n",
       "                   iid='deprecated', n_iter=10, n_jobs=None,\n",
       "                   param_distributions={'batch_size': [64, 128],\n",
       "                                        'dropout': [0, 0.1, 0.2, 0.3, 0.4, 0.5],\n",
       "                                        'epochs': [2, 4, 6],\n",
       "                                        'n_dense': [64, 128]},\n",
       "                   pre_dispatch='2*n_jobs', random_state=None, refit=True,\n",
       "                   return_train_score=False, scoring='roc_auc', verbose=0)"
      ]
     },
     "execution_count": 79,
     "metadata": {},
     "output_type": "execute_result"
    }
   ],
   "source": [
    "%%time\n",
    "\n",
    "rand_search.fit(x_train, y_train)"
   ]
  },
  {
   "cell_type": "code",
   "execution_count": 80,
   "metadata": {},
   "outputs": [
    {
     "data": {
      "text/plain": [
       "{'n_dense': 64, 'epochs': 2, 'dropout': 0.1, 'batch_size': 128}"
      ]
     },
     "execution_count": 80,
     "metadata": {},
     "output_type": "execute_result"
    }
   ],
   "source": [
    "rand_search.best_params_"
   ]
  },
  {
   "cell_type": "code",
   "execution_count": 81,
   "metadata": {},
   "outputs": [
    {
     "data": {
      "text/plain": [
       "0.9270258352674942"
      ]
     },
     "execution_count": 81,
     "metadata": {},
     "output_type": "execute_result"
    }
   ],
   "source": [
    "rand_search.best_score_"
   ]
  },
  {
   "cell_type": "code",
   "execution_count": 82,
   "metadata": {},
   "outputs": [
    {
     "name": "stdout",
     "output_type": "stream",
     "text": [
      "╒══════════╤══════════════╤═══════════╤═══════════╤═══════════╕\n",
      "│   epochs │   batch_size │   n_dense │   dropout │   roc_auc │\n",
      "╞══════════╪══════════════╪═══════════╪═══════════╪═══════════╡\n",
      "│        2 │          128 │        64 │       0.1 │  0.927026 │\n",
      "├──────────┼──────────────┼───────────┼───────────┼───────────┤\n",
      "│        4 │          128 │        64 │       0.3 │  0.925024 │\n",
      "├──────────┼──────────────┼───────────┼───────────┼───────────┤\n",
      "│        6 │          128 │        64 │       0.1 │  0.924337 │\n",
      "├──────────┼──────────────┼───────────┼───────────┼───────────┤\n",
      "│        6 │           64 │        64 │       0.5 │  0.924077 │\n",
      "├──────────┼──────────────┼───────────┼───────────┼───────────┤\n",
      "│        2 │          128 │       128 │       0.3 │  0.923023 │\n",
      "├──────────┼──────────────┼───────────┼───────────┼───────────┤\n",
      "│        4 │          128 │       128 │       0.5 │  0.922457 │\n",
      "├──────────┼──────────────┼───────────┼───────────┼───────────┤\n",
      "│        6 │           64 │       128 │       0.2 │  0.920405 │\n",
      "├──────────┼──────────────┼───────────┼───────────┼───────────┤\n",
      "│        2 │          128 │       128 │       0   │  0.919847 │\n",
      "├──────────┼──────────────┼───────────┼───────────┼───────────┤\n",
      "│        2 │           64 │        64 │       0.2 │  0.917303 │\n",
      "├──────────┼──────────────┼───────────┼───────────┼───────────┤\n",
      "│        2 │           64 │       128 │       0.3 │  0.911923 │\n",
      "╘══════════╧══════════════╧═══════════╧═══════════╧═══════════╛\n"
     ]
    }
   ],
   "source": [
    "# this function should have a different name...\n",
    "\n",
    "grid_search_results(rand_search.cv_results_)"
   ]
  },
  {
   "cell_type": "markdown",
   "metadata": {},
   "source": [
    "From this first run, we can reasonably assume that the best values for **`batch_size`** and **`n_dense`** are, respectively, **128** and **64**.\n",
    "\n",
    "We will now keep the same possible values for the number of `epochs` and try slightly different values for the `dropout` value."
   ]
  },
  {
   "cell_type": "markdown",
   "metadata": {},
   "source": [
    "#### 4. Define random search parameters"
   ]
  },
  {
   "cell_type": "code",
   "execution_count": 85,
   "metadata": {},
   "outputs": [],
   "source": [
    "# obtain 10 values sampled from a uniform distribution between 0.1 and 0.6 ([loc, loc + scale])\n",
    "\n",
    "#ss.uniform(loc=0.1, scale=0.5).rvs(10)"
   ]
  },
  {
   "cell_type": "code",
   "execution_count": 86,
   "metadata": {},
   "outputs": [],
   "source": [
    "epochs = [2, 4, 6]\n",
    "batch_size = [128]\n",
    "\n",
    "n_dense = [64]\n",
    "dropout = [0.1, 0.2, 0.3, 0.4, 0.5, 0.6]\n",
    "# dropout = ss.uniform(loc=0.1, scale=0.5)\n",
    "\n",
    "param_grid = {'epochs': epochs, 'batch_size': batch_size, \n",
    "              'n_dense': n_dense, 'dropout': dropout}"
   ]
  },
  {
   "cell_type": "code",
   "execution_count": 87,
   "metadata": {},
   "outputs": [],
   "source": [
    "rand_search = RandomizedSearchCV(model, param_grid, cv=5, scoring = 'roc_auc')"
   ]
  },
  {
   "cell_type": "markdown",
   "metadata": {},
   "source": [
    "#### 5. Perform random search and print results"
   ]
  },
  {
   "cell_type": "code",
   "execution_count": 88,
   "metadata": {},
   "outputs": [
    {
     "name": "stderr",
     "output_type": "stream",
     "text": [
      "C:\\Users\\joaon\\Anaconda3\\envs\\DL-illustrated\\lib\\site-packages\\tensorflow_core\\python\\framework\\indexed_slices.py:433: UserWarning: Converting sparse IndexedSlices to a dense Tensor of unknown shape. This may consume a large amount of memory.\n",
      "  \"Converting sparse IndexedSlices to a dense Tensor of unknown shape. \"\n"
     ]
    },
    {
     "name": "stdout",
     "output_type": "stream",
     "text": [
      "Epoch 1/4\n",
      "20000/20000 [==============================] - 4s 208us/step - loss: 0.5832 - accuracy: 0.6678\n",
      "Epoch 2/4\n",
      "20000/20000 [==============================] - 4s 178us/step - loss: 0.2554 - accuracy: 0.8998\n",
      "Epoch 3/4\n",
      "20000/20000 [==============================] - 4s 187us/step - loss: 0.0743 - accuracy: 0.9805\n",
      "Epoch 4/4\n",
      "20000/20000 [==============================] - 4s 198us/step - loss: 0.0137 - accuracy: 0.9987\n",
      "5000/5000 [==============================] - 0s 37us/step\n"
     ]
    },
    {
     "name": "stderr",
     "output_type": "stream",
     "text": [
      "C:\\Users\\joaon\\Anaconda3\\envs\\DL-illustrated\\lib\\site-packages\\tensorflow_core\\python\\framework\\indexed_slices.py:433: UserWarning: Converting sparse IndexedSlices to a dense Tensor of unknown shape. This may consume a large amount of memory.\n",
      "  \"Converting sparse IndexedSlices to a dense Tensor of unknown shape. \"\n"
     ]
    },
    {
     "name": "stdout",
     "output_type": "stream",
     "text": [
      "Epoch 1/4\n",
      "20000/20000 [==============================] - 4s 185us/step - loss: 0.5800 - accuracy: 0.6762\n",
      "Epoch 2/4\n",
      "20000/20000 [==============================] - 4s 191us/step - loss: 0.2603 - accuracy: 0.8973\n",
      "Epoch 3/4\n",
      "20000/20000 [==============================] - 4s 198us/step - loss: 0.0793 - accuracy: 0.9799\n",
      "Epoch 4/4\n",
      "20000/20000 [==============================] - 4s 180us/step - loss: 0.0148 - accuracy: 0.9987\n",
      "5000/5000 [==============================] - 0s 31us/step\n"
     ]
    },
    {
     "name": "stderr",
     "output_type": "stream",
     "text": [
      "C:\\Users\\joaon\\Anaconda3\\envs\\DL-illustrated\\lib\\site-packages\\tensorflow_core\\python\\framework\\indexed_slices.py:433: UserWarning: Converting sparse IndexedSlices to a dense Tensor of unknown shape. This may consume a large amount of memory.\n",
      "  \"Converting sparse IndexedSlices to a dense Tensor of unknown shape. \"\n"
     ]
    },
    {
     "name": "stdout",
     "output_type": "stream",
     "text": [
      "Epoch 1/4\n",
      "20000/20000 [==============================] - 4s 211us/step - loss: 0.5963 - accuracy: 0.6579\n",
      "Epoch 2/4\n",
      "20000/20000 [==============================] - 4s 188us/step - loss: 0.2565 - accuracy: 0.8971\n",
      "Epoch 3/4\n",
      "20000/20000 [==============================] - 4s 176us/step - loss: 0.0637 - accuracy: 0.9851\n",
      "Epoch 4/4\n",
      "20000/20000 [==============================] - 4s 176us/step - loss: 0.0117 - accuracy: 0.9990\n",
      "5000/5000 [==============================] - 0s 34us/step\n"
     ]
    },
    {
     "name": "stderr",
     "output_type": "stream",
     "text": [
      "C:\\Users\\joaon\\Anaconda3\\envs\\DL-illustrated\\lib\\site-packages\\tensorflow_core\\python\\framework\\indexed_slices.py:433: UserWarning: Converting sparse IndexedSlices to a dense Tensor of unknown shape. This may consume a large amount of memory.\n",
      "  \"Converting sparse IndexedSlices to a dense Tensor of unknown shape. \"\n"
     ]
    },
    {
     "name": "stdout",
     "output_type": "stream",
     "text": [
      "Epoch 1/4\n",
      "20000/20000 [==============================] - 4s 194us/step - loss: 0.5824 - accuracy: 0.6743\n",
      "Epoch 2/4\n",
      "20000/20000 [==============================] - 4s 193us/step - loss: 0.2533 - accuracy: 0.9006\n",
      "Epoch 3/4\n",
      "20000/20000 [==============================] - 4s 221us/step - loss: 0.0704 - accuracy: 0.9828\n",
      "Epoch 4/4\n",
      "20000/20000 [==============================] - 4s 201us/step - loss: 0.0130 - accuracy: 0.9990\n",
      "5000/5000 [==============================] - 0s 37us/step\n"
     ]
    },
    {
     "name": "stderr",
     "output_type": "stream",
     "text": [
      "C:\\Users\\joaon\\Anaconda3\\envs\\DL-illustrated\\lib\\site-packages\\tensorflow_core\\python\\framework\\indexed_slices.py:433: UserWarning: Converting sparse IndexedSlices to a dense Tensor of unknown shape. This may consume a large amount of memory.\n",
      "  \"Converting sparse IndexedSlices to a dense Tensor of unknown shape. \"\n"
     ]
    },
    {
     "name": "stdout",
     "output_type": "stream",
     "text": [
      "Epoch 1/4\n",
      "20000/20000 [==============================] - 5s 245us/step - loss: 0.5987 - accuracy: 0.6521\n",
      "Epoch 2/4\n",
      "20000/20000 [==============================] - 4s 205us/step - loss: 0.2650 - accuracy: 0.8957\n",
      "Epoch 3/4\n",
      "20000/20000 [==============================] - 5s 233us/step - loss: 0.0756 - accuracy: 0.9806\n",
      "Epoch 4/4\n",
      "20000/20000 [==============================] - 4s 196us/step - loss: 0.0138 - accuracy: 0.9984\n",
      "5000/5000 [==============================] - 0s 34us/step\n"
     ]
    },
    {
     "name": "stderr",
     "output_type": "stream",
     "text": [
      "C:\\Users\\joaon\\Anaconda3\\envs\\DL-illustrated\\lib\\site-packages\\tensorflow_core\\python\\framework\\indexed_slices.py:433: UserWarning: Converting sparse IndexedSlices to a dense Tensor of unknown shape. This may consume a large amount of memory.\n",
      "  \"Converting sparse IndexedSlices to a dense Tensor of unknown shape. \"\n"
     ]
    },
    {
     "name": "stdout",
     "output_type": "stream",
     "text": [
      "Epoch 1/6\n",
      "20000/20000 [==============================] - 4s 197us/step - loss: 0.5654 - accuracy: 0.6838\n",
      "Epoch 2/6\n",
      "20000/20000 [==============================] - 4s 190us/step - loss: 0.2382 - accuracy: 0.9069\n",
      "Epoch 3/6\n",
      "20000/20000 [==============================] - 4s 194us/step - loss: 0.0587 - accuracy: 0.9872\n",
      "Epoch 4/6\n",
      "20000/20000 [==============================] - 4s 187us/step - loss: 0.0079 - accuracy: 0.9994\n",
      "Epoch 5/6\n",
      "20000/20000 [==============================] - 4s 191us/step - loss: 0.0023 - accuracy: 1.0000\n",
      "Epoch 6/6\n",
      "20000/20000 [==============================] - 4s 219us/step - loss: 0.0010 - accuracy: 1.0000\n",
      "5000/5000 [==============================] - 0s 44us/step\n"
     ]
    },
    {
     "name": "stderr",
     "output_type": "stream",
     "text": [
      "C:\\Users\\joaon\\Anaconda3\\envs\\DL-illustrated\\lib\\site-packages\\tensorflow_core\\python\\framework\\indexed_slices.py:433: UserWarning: Converting sparse IndexedSlices to a dense Tensor of unknown shape. This may consume a large amount of memory.\n",
      "  \"Converting sparse IndexedSlices to a dense Tensor of unknown shape. \"\n"
     ]
    },
    {
     "name": "stdout",
     "output_type": "stream",
     "text": [
      "Epoch 1/6\n",
      "20000/20000 [==============================] - 5s 236us/step - loss: 0.5267 - accuracy: 0.7145\n",
      "Epoch 2/6\n",
      "20000/20000 [==============================] - 4s 192us/step - loss: 0.1950 - accuracy: 0.9293\n",
      "Epoch 3/6\n",
      "20000/20000 [==============================] - 4s 198us/step - loss: 0.0352 - accuracy: 0.9929\n",
      "Epoch 4/6\n",
      "20000/20000 [==============================] - 4s 195us/step - loss: 0.0053 - accuracy: 0.9998\n",
      "Epoch 5/6\n",
      "20000/20000 [==============================] - 4s 196us/step - loss: 0.0018 - accuracy: 0.9999\n",
      "Epoch 6/6\n",
      "20000/20000 [==============================] - 4s 203us/step - loss: 8.8764e-04 - accuracy: 1.0000\n",
      "5000/5000 [==============================] - 0s 34us/step\n"
     ]
    },
    {
     "name": "stderr",
     "output_type": "stream",
     "text": [
      "C:\\Users\\joaon\\Anaconda3\\envs\\DL-illustrated\\lib\\site-packages\\tensorflow_core\\python\\framework\\indexed_slices.py:433: UserWarning: Converting sparse IndexedSlices to a dense Tensor of unknown shape. This may consume a large amount of memory.\n",
      "  \"Converting sparse IndexedSlices to a dense Tensor of unknown shape. \"\n"
     ]
    },
    {
     "name": "stdout",
     "output_type": "stream",
     "text": [
      "Epoch 1/6\n",
      "20000/20000 [==============================] - 4s 194us/step - loss: 0.5623 - accuracy: 0.6955\n",
      "Epoch 2/6\n",
      "20000/20000 [==============================] - 4s 193us/step - loss: 0.2449 - accuracy: 0.9038\n",
      "Epoch 3/6\n",
      "20000/20000 [==============================] - 4s 185us/step - loss: 0.0632 - accuracy: 0.9845\n",
      "Epoch 4/6\n",
      "20000/20000 [==============================] - 4s 191us/step - loss: 0.0082 - accuracy: 0.9995\n",
      "Epoch 5/6\n",
      "20000/20000 [==============================] - 4s 190us/step - loss: 0.0019 - accuracy: 1.0000\n",
      "Epoch 6/6\n",
      "20000/20000 [==============================] - 4s 187us/step - loss: 9.5493e-04 - accuracy: 1.0000\n",
      "5000/5000 [==============================] - 0s 31us/step\n"
     ]
    },
    {
     "name": "stderr",
     "output_type": "stream",
     "text": [
      "C:\\Users\\joaon\\Anaconda3\\envs\\DL-illustrated\\lib\\site-packages\\tensorflow_core\\python\\framework\\indexed_slices.py:433: UserWarning: Converting sparse IndexedSlices to a dense Tensor of unknown shape. This may consume a large amount of memory.\n",
      "  \"Converting sparse IndexedSlices to a dense Tensor of unknown shape. \"\n"
     ]
    },
    {
     "name": "stdout",
     "output_type": "stream",
     "text": [
      "Epoch 1/6\n",
      "20000/20000 [==============================] - 4s 188us/step - loss: 0.5507 - accuracy: 0.7029\n",
      "Epoch 2/6\n",
      "20000/20000 [==============================] - 4s 191us/step - loss: 0.2276 - accuracy: 0.9126\n",
      "Epoch 3/6\n",
      "20000/20000 [==============================] - 4s 188us/step - loss: 0.0536 - accuracy: 0.9876\n",
      "Epoch 4/6\n",
      "20000/20000 [==============================] - 4s 190us/step - loss: 0.0069 - accuracy: 0.9995\n",
      "Epoch 5/6\n",
      "20000/20000 [==============================] - 4s 187us/step - loss: 0.0020 - accuracy: 1.0000\n",
      "Epoch 6/6\n",
      "20000/20000 [==============================] - 4s 194us/step - loss: 9.7572e-04 - accuracy: 1.0000\n",
      "5000/5000 [==============================] - 0s 31us/step\n"
     ]
    },
    {
     "name": "stderr",
     "output_type": "stream",
     "text": [
      "C:\\Users\\joaon\\Anaconda3\\envs\\DL-illustrated\\lib\\site-packages\\tensorflow_core\\python\\framework\\indexed_slices.py:433: UserWarning: Converting sparse IndexedSlices to a dense Tensor of unknown shape. This may consume a large amount of memory.\n",
      "  \"Converting sparse IndexedSlices to a dense Tensor of unknown shape. \"\n"
     ]
    },
    {
     "name": "stdout",
     "output_type": "stream",
     "text": [
      "Epoch 1/6\n",
      "20000/20000 [==============================] - 4s 200us/step - loss: 0.5564 - accuracy: 0.6914\n",
      "Epoch 2/6\n",
      "20000/20000 [==============================] - 4s 202us/step - loss: 0.2313 - accuracy: 0.9099\n",
      "Epoch 3/6\n",
      "20000/20000 [==============================] - 4s 192us/step - loss: 0.0493 - accuracy: 0.9896\n",
      "Epoch 4/6\n",
      "20000/20000 [==============================] - 4s 202us/step - loss: 0.0067 - accuracy: 0.9995\n",
      "Epoch 5/6\n",
      "20000/20000 [==============================] - 4s 200us/step - loss: 0.0018 - accuracy: 1.0000\n",
      "Epoch 6/6\n",
      "20000/20000 [==============================] - 4s 194us/step - loss: 9.3235e-04 - accuracy: 1.0000\n",
      "5000/5000 [==============================] - 0s 28us/step\n"
     ]
    },
    {
     "name": "stderr",
     "output_type": "stream",
     "text": [
      "C:\\Users\\joaon\\Anaconda3\\envs\\DL-illustrated\\lib\\site-packages\\tensorflow_core\\python\\framework\\indexed_slices.py:433: UserWarning: Converting sparse IndexedSlices to a dense Tensor of unknown shape. This may consume a large amount of memory.\n",
      "  \"Converting sparse IndexedSlices to a dense Tensor of unknown shape. \"\n"
     ]
    },
    {
     "name": "stdout",
     "output_type": "stream",
     "text": [
      "Epoch 1/6\n",
      "20000/20000 [==============================] - 4s 197us/step - loss: 0.5559 - accuracy: 0.6988\n",
      "Epoch 2/6\n",
      "20000/20000 [==============================] - 4s 194us/step - loss: 0.2306 - accuracy: 0.9118\n",
      "Epoch 3/6\n",
      "20000/20000 [==============================] - 4s 186us/step - loss: 0.0562 - accuracy: 0.9880\n",
      "Epoch 4/6\n",
      "20000/20000 [==============================] - 4s 187us/step - loss: 0.0089 - accuracy: 0.9992\n",
      "Epoch 5/6\n",
      "20000/20000 [==============================] - 4s 187us/step - loss: 0.0022 - accuracy: 1.0000\n",
      "Epoch 6/6\n",
      "20000/20000 [==============================] - 4s 191us/step - loss: 0.0011 - accuracy: 1.0000\n",
      "5000/5000 [==============================] - 0s 31us/step\n"
     ]
    },
    {
     "name": "stderr",
     "output_type": "stream",
     "text": [
      "C:\\Users\\joaon\\Anaconda3\\envs\\DL-illustrated\\lib\\site-packages\\tensorflow_core\\python\\framework\\indexed_slices.py:433: UserWarning: Converting sparse IndexedSlices to a dense Tensor of unknown shape. This may consume a large amount of memory.\n",
      "  \"Converting sparse IndexedSlices to a dense Tensor of unknown shape. \"\n"
     ]
    },
    {
     "name": "stdout",
     "output_type": "stream",
     "text": [
      "Epoch 1/6\n",
      "20000/20000 [==============================] - 4s 187us/step - loss: 0.5673 - accuracy: 0.6758\n",
      "Epoch 2/6\n",
      "20000/20000 [==============================] - 4s 191us/step - loss: 0.2352 - accuracy: 0.9088\n",
      "Epoch 3/6\n",
      "20000/20000 [==============================] - 4s 200us/step - loss: 0.0541 - accuracy: 0.9878\n",
      "Epoch 4/6\n",
      "20000/20000 [==============================] - 4s 191us/step - loss: 0.0078 - accuracy: 0.9995\n",
      "Epoch 5/6\n",
      "20000/20000 [==============================] - 4s 190us/step - loss: 0.0021 - accuracy: 1.0000\n",
      "Epoch 6/6\n",
      "20000/20000 [==============================] - 4s 196us/step - loss: 0.0011 - accuracy: 1.0000\n",
      "5000/5000 [==============================] - 0s 34us/step\n"
     ]
    },
    {
     "name": "stderr",
     "output_type": "stream",
     "text": [
      "C:\\Users\\joaon\\Anaconda3\\envs\\DL-illustrated\\lib\\site-packages\\tensorflow_core\\python\\framework\\indexed_slices.py:433: UserWarning: Converting sparse IndexedSlices to a dense Tensor of unknown shape. This may consume a large amount of memory.\n",
      "  \"Converting sparse IndexedSlices to a dense Tensor of unknown shape. \"\n"
     ]
    },
    {
     "name": "stdout",
     "output_type": "stream",
     "text": [
      "Epoch 1/6\n",
      "20000/20000 [==============================] - 4s 191us/step - loss: 0.5695 - accuracy: 0.6841\n",
      "Epoch 2/6\n",
      "20000/20000 [==============================] - 4s 198us/step - loss: 0.2285 - accuracy: 0.9123\n",
      "Epoch 3/6\n",
      "20000/20000 [==============================] - 4s 194us/step - loss: 0.0465 - accuracy: 0.9902\n",
      "Epoch 4/6\n",
      "20000/20000 [==============================] - 4s 198us/step - loss: 0.0065 - accuracy: 0.9997\n",
      "Epoch 5/6\n",
      "20000/20000 [==============================] - 4s 195us/step - loss: 0.0022 - accuracy: 1.0000\n",
      "Epoch 6/6\n",
      "20000/20000 [==============================] - 4s 194us/step - loss: 0.0011 - accuracy: 1.0000\n",
      "5000/5000 [==============================] - 0s 31us/step\n"
     ]
    },
    {
     "name": "stderr",
     "output_type": "stream",
     "text": [
      "C:\\Users\\joaon\\Anaconda3\\envs\\DL-illustrated\\lib\\site-packages\\tensorflow_core\\python\\framework\\indexed_slices.py:433: UserWarning: Converting sparse IndexedSlices to a dense Tensor of unknown shape. This may consume a large amount of memory.\n",
      "  \"Converting sparse IndexedSlices to a dense Tensor of unknown shape. \"\n"
     ]
    },
    {
     "name": "stdout",
     "output_type": "stream",
     "text": [
      "Epoch 1/6\n",
      "20000/20000 [==============================] - 4s 188us/step - loss: 0.5673 - accuracy: 0.6905\n",
      "Epoch 2/6\n",
      "20000/20000 [==============================] - 4s 189us/step - loss: 0.2418 - accuracy: 0.9071\n",
      "Epoch 3/6\n",
      "20000/20000 [==============================] - 4s 190us/step - loss: 0.0626 - accuracy: 0.9848\n",
      "Epoch 4/6\n",
      "20000/20000 [==============================] - 4s 187us/step - loss: 0.0093 - accuracy: 0.9991\n",
      "Epoch 5/6\n",
      "20000/20000 [==============================] - 4s 187us/step - loss: 0.0027 - accuracy: 0.9999\n",
      "Epoch 6/6\n",
      "20000/20000 [==============================] - 4s 195us/step - loss: 0.0011 - accuracy: 1.0000\n",
      "5000/5000 [==============================] - 0s 31us/step\n"
     ]
    },
    {
     "name": "stderr",
     "output_type": "stream",
     "text": [
      "C:\\Users\\joaon\\Anaconda3\\envs\\DL-illustrated\\lib\\site-packages\\tensorflow_core\\python\\framework\\indexed_slices.py:433: UserWarning: Converting sparse IndexedSlices to a dense Tensor of unknown shape. This may consume a large amount of memory.\n",
      "  \"Converting sparse IndexedSlices to a dense Tensor of unknown shape. \"\n"
     ]
    },
    {
     "name": "stdout",
     "output_type": "stream",
     "text": [
      "Epoch 1/6\n",
      "20000/20000 [==============================] - 4s 189us/step - loss: 0.5616 - accuracy: 0.6892\n",
      "Epoch 2/6\n",
      "20000/20000 [==============================] - 4s 190us/step - loss: 0.2275 - accuracy: 0.9115\n",
      "Epoch 3/6\n",
      "20000/20000 [==============================] - 4s 187us/step - loss: 0.0523 - accuracy: 0.9890\n",
      "Epoch 4/6\n",
      "20000/20000 [==============================] - 4s 194us/step - loss: 0.0083 - accuracy: 0.9994\n",
      "Epoch 5/6\n",
      "20000/20000 [==============================] - 4s 191us/step - loss: 0.0023 - accuracy: 0.9999\n",
      "Epoch 6/6\n",
      "20000/20000 [==============================] - 4s 198us/step - loss: 0.0012 - accuracy: 1.0000\n",
      "5000/5000 [==============================] - 0s 37us/step\n",
      "WARNING:tensorflow:Large dropout rate: 0.6 (>0.5). In TensorFlow 2.x, dropout() uses dropout rate instead of keep_prob. Please ensure that this is intended.\n"
     ]
    },
    {
     "name": "stderr",
     "output_type": "stream",
     "text": [
      "C:\\Users\\joaon\\Anaconda3\\envs\\DL-illustrated\\lib\\site-packages\\tensorflow_core\\python\\framework\\indexed_slices.py:433: UserWarning: Converting sparse IndexedSlices to a dense Tensor of unknown shape. This may consume a large amount of memory.\n",
      "  \"Converting sparse IndexedSlices to a dense Tensor of unknown shape. \"\n"
     ]
    },
    {
     "name": "stdout",
     "output_type": "stream",
     "text": [
      "Epoch 1/6\n",
      "20000/20000 [==============================] - 4s 201us/step - loss: 0.6358 - accuracy: 0.6231\n",
      "Epoch 2/6\n",
      "20000/20000 [==============================] - 4s 197us/step - loss: 0.3083 - accuracy: 0.8781\n",
      "Epoch 3/6\n",
      "20000/20000 [==============================] - 4s 196us/step - loss: 0.1115 - accuracy: 0.9679\n",
      "Epoch 4/6\n",
      "20000/20000 [==============================] - 4s 197us/step - loss: 0.0221 - accuracy: 0.9969\n",
      "Epoch 5/6\n",
      "20000/20000 [==============================] - 4s 194us/step - loss: 0.0072 - accuracy: 0.9995\n",
      "Epoch 6/6\n",
      "20000/20000 [==============================] - 4s 198us/step - loss: 0.0032 - accuracy: 0.9999\n",
      "5000/5000 [==============================] - 0s 31us/step\n",
      "WARNING:tensorflow:Large dropout rate: 0.6 (>0.5). In TensorFlow 2.x, dropout() uses dropout rate instead of keep_prob. Please ensure that this is intended.\n"
     ]
    },
    {
     "name": "stderr",
     "output_type": "stream",
     "text": [
      "C:\\Users\\joaon\\Anaconda3\\envs\\DL-illustrated\\lib\\site-packages\\tensorflow_core\\python\\framework\\indexed_slices.py:433: UserWarning: Converting sparse IndexedSlices to a dense Tensor of unknown shape. This may consume a large amount of memory.\n",
      "  \"Converting sparse IndexedSlices to a dense Tensor of unknown shape. \"\n"
     ]
    },
    {
     "name": "stdout",
     "output_type": "stream",
     "text": [
      "Epoch 1/6\n",
      "20000/20000 [==============================] - 4s 190us/step - loss: 0.6196 - accuracy: 0.6411\n",
      "Epoch 2/6\n",
      "20000/20000 [==============================] - 4s 197us/step - loss: 0.2994 - accuracy: 0.8803\n",
      "Epoch 3/6\n",
      "20000/20000 [==============================] - 4s 193us/step - loss: 0.1096 - accuracy: 0.9698\n",
      "Epoch 4/6\n",
      "20000/20000 [==============================] - 4s 190us/step - loss: 0.0205 - accuracy: 0.9975\n",
      "Epoch 5/6\n",
      "20000/20000 [==============================] - 4s 190us/step - loss: 0.0057 - accuracy: 0.9997\n",
      "Epoch 6/6\n",
      "20000/20000 [==============================] - 4s 191us/step - loss: 0.0026 - accuracy: 0.9999\n",
      "5000/5000 [==============================] - 0s 28us/step\n",
      "WARNING:tensorflow:Large dropout rate: 0.6 (>0.5). In TensorFlow 2.x, dropout() uses dropout rate instead of keep_prob. Please ensure that this is intended.\n"
     ]
    },
    {
     "name": "stderr",
     "output_type": "stream",
     "text": [
      "C:\\Users\\joaon\\Anaconda3\\envs\\DL-illustrated\\lib\\site-packages\\tensorflow_core\\python\\framework\\indexed_slices.py:433: UserWarning: Converting sparse IndexedSlices to a dense Tensor of unknown shape. This may consume a large amount of memory.\n",
      "  \"Converting sparse IndexedSlices to a dense Tensor of unknown shape. \"\n"
     ]
    },
    {
     "name": "stdout",
     "output_type": "stream",
     "text": [
      "Epoch 1/6\n",
      "20000/20000 [==============================] - 4s 191us/step - loss: 0.6003 - accuracy: 0.6575\n",
      "Epoch 2/6\n",
      "20000/20000 [==============================] - 4s 191us/step - loss: 0.2762 - accuracy: 0.8899\n",
      "Epoch 3/6\n",
      "20000/20000 [==============================] - 4s 206us/step - loss: 0.0914 - accuracy: 0.9768\n",
      "Epoch 4/6\n",
      "20000/20000 [==============================] - 5s 227us/step - loss: 0.0200 - accuracy: 0.9977\n",
      "Epoch 5/6\n",
      "20000/20000 [==============================] - 4s 222us/step - loss: 0.0064 - accuracy: 0.9996\n",
      "Epoch 6/6\n",
      "20000/20000 [==============================] - 4s 194us/step - loss: 0.0032 - accuracy: 0.9998\n",
      "5000/5000 [==============================] - 0s 28us/step\n",
      "WARNING:tensorflow:Large dropout rate: 0.6 (>0.5). In TensorFlow 2.x, dropout() uses dropout rate instead of keep_prob. Please ensure that this is intended.\n"
     ]
    },
    {
     "name": "stderr",
     "output_type": "stream",
     "text": [
      "C:\\Users\\joaon\\Anaconda3\\envs\\DL-illustrated\\lib\\site-packages\\tensorflow_core\\python\\framework\\indexed_slices.py:433: UserWarning: Converting sparse IndexedSlices to a dense Tensor of unknown shape. This may consume a large amount of memory.\n",
      "  \"Converting sparse IndexedSlices to a dense Tensor of unknown shape. \"\n"
     ]
    },
    {
     "name": "stdout",
     "output_type": "stream",
     "text": [
      "Epoch 1/6\n",
      "20000/20000 [==============================] - 5s 238us/step - loss: 0.6073 - accuracy: 0.6452\n",
      "Epoch 2/6\n",
      "20000/20000 [==============================] - 4s 196us/step - loss: 0.2718 - accuracy: 0.8930\n",
      "Epoch 3/6\n",
      "20000/20000 [==============================] - 4s 203us/step - loss: 0.0814 - accuracy: 0.9790\n",
      "Epoch 4/6\n",
      "20000/20000 [==============================] - 6s 294us/step - loss: 0.0154 - accuracy: 0.9984\n",
      "Epoch 5/6\n",
      "20000/20000 [==============================] - 4s 212us/step - loss: 0.0058 - accuracy: 0.9997\n",
      "Epoch 6/6\n",
      "20000/20000 [==============================] - 4s 196us/step - loss: 0.0029 - accuracy: 0.9999\n",
      "5000/5000 [==============================] - 0s 34us/step\n",
      "WARNING:tensorflow:Large dropout rate: 0.6 (>0.5). In TensorFlow 2.x, dropout() uses dropout rate instead of keep_prob. Please ensure that this is intended.\n"
     ]
    },
    {
     "name": "stderr",
     "output_type": "stream",
     "text": [
      "C:\\Users\\joaon\\Anaconda3\\envs\\DL-illustrated\\lib\\site-packages\\tensorflow_core\\python\\framework\\indexed_slices.py:433: UserWarning: Converting sparse IndexedSlices to a dense Tensor of unknown shape. This may consume a large amount of memory.\n",
      "  \"Converting sparse IndexedSlices to a dense Tensor of unknown shape. \"\n"
     ]
    },
    {
     "name": "stdout",
     "output_type": "stream",
     "text": [
      "Epoch 1/6\n",
      "20000/20000 [==============================] - 4s 194us/step - loss: 0.5859 - accuracy: 0.6682\n",
      "Epoch 2/6\n",
      "20000/20000 [==============================] - 4s 193us/step - loss: 0.2636 - accuracy: 0.8977\n",
      "Epoch 3/6\n",
      "20000/20000 [==============================] - 4s 187us/step - loss: 0.0806 - accuracy: 0.9798\n",
      "Epoch 4/6\n",
      "20000/20000 [==============================] - 4s 190us/step - loss: 0.0164 - accuracy: 0.9984\n",
      "Epoch 5/6\n",
      "20000/20000 [==============================] - 4s 189us/step - loss: 0.0058 - accuracy: 0.9998\n",
      "Epoch 6/6\n",
      "20000/20000 [==============================] - 4s 196us/step - loss: 0.0028 - accuracy: 1.0000\n",
      "5000/5000 [==============================] - 0s 31us/step\n"
     ]
    },
    {
     "name": "stderr",
     "output_type": "stream",
     "text": [
      "C:\\Users\\joaon\\Anaconda3\\envs\\DL-illustrated\\lib\\site-packages\\tensorflow_core\\python\\framework\\indexed_slices.py:433: UserWarning: Converting sparse IndexedSlices to a dense Tensor of unknown shape. This may consume a large amount of memory.\n",
      "  \"Converting sparse IndexedSlices to a dense Tensor of unknown shape. \"\n"
     ]
    },
    {
     "name": "stdout",
     "output_type": "stream",
     "text": [
      "Epoch 1/2\n",
      "20000/20000 [==============================] - 4s 198us/step - loss: 0.5483 - accuracy: 0.6966\n",
      "Epoch 2/2\n",
      "20000/20000 [==============================] - 4s 195us/step - loss: 0.2313 - accuracy: 0.9125\n",
      "5000/5000 [==============================] - 0s 31us/step\n"
     ]
    },
    {
     "name": "stderr",
     "output_type": "stream",
     "text": [
      "C:\\Users\\joaon\\Anaconda3\\envs\\DL-illustrated\\lib\\site-packages\\tensorflow_core\\python\\framework\\indexed_slices.py:433: UserWarning: Converting sparse IndexedSlices to a dense Tensor of unknown shape. This may consume a large amount of memory.\n",
      "  \"Converting sparse IndexedSlices to a dense Tensor of unknown shape. \"\n"
     ]
    },
    {
     "name": "stdout",
     "output_type": "stream",
     "text": [
      "Epoch 1/2\n",
      "20000/20000 [==============================] - 4s 190us/step - loss: 0.5383 - accuracy: 0.7113\n",
      "Epoch 2/2\n",
      "20000/20000 [==============================] - 4s 196us/step - loss: 0.2126 - accuracy: 0.9182\n",
      "5000/5000 [==============================] - 0s 37us/step\n"
     ]
    },
    {
     "name": "stderr",
     "output_type": "stream",
     "text": [
      "C:\\Users\\joaon\\Anaconda3\\envs\\DL-illustrated\\lib\\site-packages\\tensorflow_core\\python\\framework\\indexed_slices.py:433: UserWarning: Converting sparse IndexedSlices to a dense Tensor of unknown shape. This may consume a large amount of memory.\n",
      "  \"Converting sparse IndexedSlices to a dense Tensor of unknown shape. \"\n"
     ]
    },
    {
     "name": "stdout",
     "output_type": "stream",
     "text": [
      "Epoch 1/2\n",
      "20000/20000 [==============================] - 4s 196us/step - loss: 0.5614 - accuracy: 0.6926\n",
      "Epoch 2/2\n",
      "20000/20000 [==============================] - 4s 193us/step - loss: 0.2396 - accuracy: 0.9060\n",
      "5000/5000 [==============================] - 0s 31us/step\n"
     ]
    },
    {
     "name": "stderr",
     "output_type": "stream",
     "text": [
      "C:\\Users\\joaon\\Anaconda3\\envs\\DL-illustrated\\lib\\site-packages\\tensorflow_core\\python\\framework\\indexed_slices.py:433: UserWarning: Converting sparse IndexedSlices to a dense Tensor of unknown shape. This may consume a large amount of memory.\n",
      "  \"Converting sparse IndexedSlices to a dense Tensor of unknown shape. \"\n"
     ]
    },
    {
     "name": "stdout",
     "output_type": "stream",
     "text": [
      "Epoch 1/2\n",
      "20000/20000 [==============================] - 4s 191us/step - loss: 0.5529 - accuracy: 0.7000\n",
      "Epoch 2/2\n",
      "20000/20000 [==============================] - 4s 193us/step - loss: 0.2305 - accuracy: 0.9105\n",
      "5000/5000 [==============================] - 0s 34us/step\n"
     ]
    },
    {
     "name": "stderr",
     "output_type": "stream",
     "text": [
      "C:\\Users\\joaon\\Anaconda3\\envs\\DL-illustrated\\lib\\site-packages\\tensorflow_core\\python\\framework\\indexed_slices.py:433: UserWarning: Converting sparse IndexedSlices to a dense Tensor of unknown shape. This may consume a large amount of memory.\n",
      "  \"Converting sparse IndexedSlices to a dense Tensor of unknown shape. \"\n"
     ]
    },
    {
     "name": "stdout",
     "output_type": "stream",
     "text": [
      "Epoch 1/2\n",
      "20000/20000 [==============================] - 4s 194us/step - loss: 0.5515 - accuracy: 0.6974\n",
      "Epoch 2/2\n",
      "20000/20000 [==============================] - 4s 188us/step - loss: 0.2295 - accuracy: 0.9131\n",
      "5000/5000 [==============================] - 0s 34us/step\n"
     ]
    },
    {
     "name": "stderr",
     "output_type": "stream",
     "text": [
      "C:\\Users\\joaon\\Anaconda3\\envs\\DL-illustrated\\lib\\site-packages\\tensorflow_core\\python\\framework\\indexed_slices.py:433: UserWarning: Converting sparse IndexedSlices to a dense Tensor of unknown shape. This may consume a large amount of memory.\n",
      "  \"Converting sparse IndexedSlices to a dense Tensor of unknown shape. \"\n"
     ]
    },
    {
     "name": "stdout",
     "output_type": "stream",
     "text": [
      "Epoch 1/2\n",
      "20000/20000 [==============================] - 4s 194us/step - loss: 0.5883 - accuracy: 0.6643\n",
      "Epoch 2/2\n",
      "20000/20000 [==============================] - 4s 191us/step - loss: 0.2628 - accuracy: 0.8976\n",
      "5000/5000 [==============================] - 0s 37us/step\n"
     ]
    },
    {
     "name": "stderr",
     "output_type": "stream",
     "text": [
      "C:\\Users\\joaon\\Anaconda3\\envs\\DL-illustrated\\lib\\site-packages\\tensorflow_core\\python\\framework\\indexed_slices.py:433: UserWarning: Converting sparse IndexedSlices to a dense Tensor of unknown shape. This may consume a large amount of memory.\n",
      "  \"Converting sparse IndexedSlices to a dense Tensor of unknown shape. \"\n"
     ]
    },
    {
     "name": "stdout",
     "output_type": "stream",
     "text": [
      "Epoch 1/2\n",
      "20000/20000 [==============================] - 4s 191us/step - loss: 0.5807 - accuracy: 0.6669\n",
      "Epoch 2/2\n",
      "20000/20000 [==============================] - 4s 187us/step - loss: 0.2595 - accuracy: 0.8989\n",
      "5000/5000 [==============================] - 0s 31us/step\n"
     ]
    },
    {
     "name": "stderr",
     "output_type": "stream",
     "text": [
      "C:\\Users\\joaon\\Anaconda3\\envs\\DL-illustrated\\lib\\site-packages\\tensorflow_core\\python\\framework\\indexed_slices.py:433: UserWarning: Converting sparse IndexedSlices to a dense Tensor of unknown shape. This may consume a large amount of memory.\n",
      "  \"Converting sparse IndexedSlices to a dense Tensor of unknown shape. \"\n"
     ]
    },
    {
     "name": "stdout",
     "output_type": "stream",
     "text": [
      "Epoch 1/2\n",
      "20000/20000 [==============================] - 4s 194us/step - loss: 0.6171 - accuracy: 0.64771s\n",
      "Epoch 2/2\n",
      "20000/20000 [==============================] - 4s 198us/step - loss: 0.2898 - accuracy: 0.8855\n",
      "5000/5000 [==============================] - 0s 28us/step\n"
     ]
    },
    {
     "name": "stderr",
     "output_type": "stream",
     "text": [
      "C:\\Users\\joaon\\Anaconda3\\envs\\DL-illustrated\\lib\\site-packages\\tensorflow_core\\python\\framework\\indexed_slices.py:433: UserWarning: Converting sparse IndexedSlices to a dense Tensor of unknown shape. This may consume a large amount of memory.\n",
      "  \"Converting sparse IndexedSlices to a dense Tensor of unknown shape. \"\n"
     ]
    },
    {
     "name": "stdout",
     "output_type": "stream",
     "text": [
      "Epoch 1/2\n",
      "20000/20000 [==============================] - 4s 195us/step - loss: 0.5879 - accuracy: 0.6621\n",
      "Epoch 2/2\n",
      "20000/20000 [==============================] - 4s 191us/step - loss: 0.2616 - accuracy: 0.8975\n",
      "5000/5000 [==============================] - 0s 28us/step\n"
     ]
    },
    {
     "name": "stderr",
     "output_type": "stream",
     "text": [
      "C:\\Users\\joaon\\Anaconda3\\envs\\DL-illustrated\\lib\\site-packages\\tensorflow_core\\python\\framework\\indexed_slices.py:433: UserWarning: Converting sparse IndexedSlices to a dense Tensor of unknown shape. This may consume a large amount of memory.\n",
      "  \"Converting sparse IndexedSlices to a dense Tensor of unknown shape. \"\n"
     ]
    },
    {
     "name": "stdout",
     "output_type": "stream",
     "text": [
      "Epoch 1/2\n",
      "20000/20000 [==============================] - 4s 194us/step - loss: 0.5966 - accuracy: 0.6586\n",
      "Epoch 2/2\n",
      "20000/20000 [==============================] - 4s 190us/step - loss: 0.2783 - accuracy: 0.8894\n",
      "5000/5000 [==============================] - 0s 31us/step\n"
     ]
    },
    {
     "name": "stderr",
     "output_type": "stream",
     "text": [
      "C:\\Users\\joaon\\Anaconda3\\envs\\DL-illustrated\\lib\\site-packages\\tensorflow_core\\python\\framework\\indexed_slices.py:433: UserWarning: Converting sparse IndexedSlices to a dense Tensor of unknown shape. This may consume a large amount of memory.\n",
      "  \"Converting sparse IndexedSlices to a dense Tensor of unknown shape. \"\n"
     ]
    },
    {
     "name": "stdout",
     "output_type": "stream",
     "text": [
      "Epoch 1/2\n",
      "20000/20000 [==============================] - 4s 197us/step - loss: 0.5700 - accuracy: 0.6838\n",
      "Epoch 2/2\n",
      "20000/20000 [==============================] - 4s 188us/step - loss: 0.2323 - accuracy: 0.9093\n",
      "5000/5000 [==============================] - 0s 34us/step\n"
     ]
    },
    {
     "name": "stderr",
     "output_type": "stream",
     "text": [
      "C:\\Users\\joaon\\Anaconda3\\envs\\DL-illustrated\\lib\\site-packages\\tensorflow_core\\python\\framework\\indexed_slices.py:433: UserWarning: Converting sparse IndexedSlices to a dense Tensor of unknown shape. This may consume a large amount of memory.\n",
      "  \"Converting sparse IndexedSlices to a dense Tensor of unknown shape. \"\n"
     ]
    },
    {
     "name": "stdout",
     "output_type": "stream",
     "text": [
      "Epoch 1/2\n",
      "20000/20000 [==============================] - 4s 193us/step - loss: 0.5418 - accuracy: 0.7033\n",
      "Epoch 2/2\n",
      "20000/20000 [==============================] - 4s 190us/step - loss: 0.2079 - accuracy: 0.9224\n",
      "5000/5000 [==============================] - 0s 31us/step\n"
     ]
    },
    {
     "name": "stderr",
     "output_type": "stream",
     "text": [
      "C:\\Users\\joaon\\Anaconda3\\envs\\DL-illustrated\\lib\\site-packages\\tensorflow_core\\python\\framework\\indexed_slices.py:433: UserWarning: Converting sparse IndexedSlices to a dense Tensor of unknown shape. This may consume a large amount of memory.\n",
      "  \"Converting sparse IndexedSlices to a dense Tensor of unknown shape. \"\n"
     ]
    },
    {
     "name": "stdout",
     "output_type": "stream",
     "text": [
      "Epoch 1/2\n",
      "20000/20000 [==============================] - 4s 191us/step - loss: 0.5410 - accuracy: 0.6993\n",
      "Epoch 2/2\n",
      "20000/20000 [==============================] - 4s 186us/step - loss: 0.2056 - accuracy: 0.9236\n",
      "5000/5000 [==============================] - 0s 28us/step\n"
     ]
    },
    {
     "name": "stderr",
     "output_type": "stream",
     "text": [
      "C:\\Users\\joaon\\Anaconda3\\envs\\DL-illustrated\\lib\\site-packages\\tensorflow_core\\python\\framework\\indexed_slices.py:433: UserWarning: Converting sparse IndexedSlices to a dense Tensor of unknown shape. This may consume a large amount of memory.\n",
      "  \"Converting sparse IndexedSlices to a dense Tensor of unknown shape. \"\n"
     ]
    },
    {
     "name": "stdout",
     "output_type": "stream",
     "text": [
      "Epoch 1/2\n",
      "20000/20000 [==============================] - 4s 190us/step - loss: 0.5249 - accuracy: 0.7178\n",
      "Epoch 2/2\n",
      "20000/20000 [==============================] - 4s 188us/step - loss: 0.2021 - accuracy: 0.9244\n",
      "5000/5000 [==============================] - 0s 28us/step\n"
     ]
    },
    {
     "name": "stderr",
     "output_type": "stream",
     "text": [
      "C:\\Users\\joaon\\Anaconda3\\envs\\DL-illustrated\\lib\\site-packages\\tensorflow_core\\python\\framework\\indexed_slices.py:433: UserWarning: Converting sparse IndexedSlices to a dense Tensor of unknown shape. This may consume a large amount of memory.\n",
      "  \"Converting sparse IndexedSlices to a dense Tensor of unknown shape. \"\n"
     ]
    },
    {
     "name": "stdout",
     "output_type": "stream",
     "text": [
      "Epoch 1/2\n",
      "20000/20000 [==============================] - 4s 189us/step - loss: 0.5383 - accuracy: 0.7107\n",
      "Epoch 2/2\n",
      "20000/20000 [==============================] - 4s 198us/step - loss: 0.2018 - accuracy: 0.9231\n",
      "5000/5000 [==============================] - 0s 37us/step\n"
     ]
    },
    {
     "name": "stderr",
     "output_type": "stream",
     "text": [
      "C:\\Users\\joaon\\Anaconda3\\envs\\DL-illustrated\\lib\\site-packages\\tensorflow_core\\python\\framework\\indexed_slices.py:433: UserWarning: Converting sparse IndexedSlices to a dense Tensor of unknown shape. This may consume a large amount of memory.\n",
      "  \"Converting sparse IndexedSlices to a dense Tensor of unknown shape. \"\n"
     ]
    },
    {
     "name": "stdout",
     "output_type": "stream",
     "text": [
      "Epoch 1/4\n",
      "20000/20000 [==============================] - 4s 200us/step - loss: 0.5841 - accuracy: 0.6718\n",
      "Epoch 2/4\n",
      "20000/20000 [==============================] - 4s 193us/step - loss: 0.2706 - accuracy: 0.8953\n",
      "Epoch 3/4\n",
      "20000/20000 [==============================] - 4s 189us/step - loss: 0.0934 - accuracy: 0.9753\n",
      "Epoch 4/4\n",
      "20000/20000 [==============================] - 4s 191us/step - loss: 0.0212 - accuracy: 0.9973\n",
      "5000/5000 [==============================] - 0s 31us/step\n"
     ]
    },
    {
     "name": "stderr",
     "output_type": "stream",
     "text": [
      "C:\\Users\\joaon\\Anaconda3\\envs\\DL-illustrated\\lib\\site-packages\\tensorflow_core\\python\\framework\\indexed_slices.py:433: UserWarning: Converting sparse IndexedSlices to a dense Tensor of unknown shape. This may consume a large amount of memory.\n",
      "  \"Converting sparse IndexedSlices to a dense Tensor of unknown shape. \"\n"
     ]
    },
    {
     "name": "stdout",
     "output_type": "stream",
     "text": [
      "Epoch 1/4\n",
      "20000/20000 [==============================] - 4s 192us/step - loss: 0.5915 - accuracy: 0.6681\n",
      "Epoch 2/4\n",
      "20000/20000 [==============================] - 4s 203us/step - loss: 0.2721 - accuracy: 0.8921\n",
      "Epoch 3/4\n",
      "20000/20000 [==============================] - 4s 190us/step - loss: 0.0896 - accuracy: 0.9763\n",
      "Epoch 4/4\n",
      "20000/20000 [==============================] - 4s 191us/step - loss: 0.0179 - accuracy: 0.9978\n",
      "5000/5000 [==============================] - 0s 34us/step\n"
     ]
    },
    {
     "name": "stderr",
     "output_type": "stream",
     "text": [
      "C:\\Users\\joaon\\Anaconda3\\envs\\DL-illustrated\\lib\\site-packages\\tensorflow_core\\python\\framework\\indexed_slices.py:433: UserWarning: Converting sparse IndexedSlices to a dense Tensor of unknown shape. This may consume a large amount of memory.\n",
      "  \"Converting sparse IndexedSlices to a dense Tensor of unknown shape. \"\n"
     ]
    },
    {
     "name": "stdout",
     "output_type": "stream",
     "text": [
      "Epoch 1/4\n",
      "20000/20000 [==============================] - 4s 189us/step - loss: 0.6086 - accuracy: 0.6475\n",
      "Epoch 2/4\n",
      "20000/20000 [==============================] - 4s 191us/step - loss: 0.2841 - accuracy: 0.8874\n",
      "Epoch 3/4\n",
      "20000/20000 [==============================] - 4s 189us/step - loss: 0.1032 - accuracy: 0.9718\n",
      "Epoch 4/4\n",
      "20000/20000 [==============================] - 4s 191us/step - loss: 0.0221 - accuracy: 0.9967\n",
      "5000/5000 [==============================] - 0s 31us/step\n"
     ]
    },
    {
     "name": "stderr",
     "output_type": "stream",
     "text": [
      "C:\\Users\\joaon\\Anaconda3\\envs\\DL-illustrated\\lib\\site-packages\\tensorflow_core\\python\\framework\\indexed_slices.py:433: UserWarning: Converting sparse IndexedSlices to a dense Tensor of unknown shape. This may consume a large amount of memory.\n",
      "  \"Converting sparse IndexedSlices to a dense Tensor of unknown shape. \"\n"
     ]
    },
    {
     "name": "stdout",
     "output_type": "stream",
     "text": [
      "Epoch 1/4\n",
      "20000/20000 [==============================] - 4s 190us/step - loss: 0.6072 - accuracy: 0.6480\n",
      "Epoch 2/4\n",
      "20000/20000 [==============================] - 4s 187us/step - loss: 0.2835 - accuracy: 0.8852\n",
      "Epoch 3/4\n",
      "20000/20000 [==============================] - 4s 186us/step - loss: 0.0941 - accuracy: 0.9733\n",
      "Epoch 4/4\n",
      "20000/20000 [==============================] - 4s 194us/step - loss: 0.0196 - accuracy: 0.9972\n",
      "5000/5000 [==============================] - 0s 31us/step\n"
     ]
    },
    {
     "name": "stderr",
     "output_type": "stream",
     "text": [
      "C:\\Users\\joaon\\Anaconda3\\envs\\DL-illustrated\\lib\\site-packages\\tensorflow_core\\python\\framework\\indexed_slices.py:433: UserWarning: Converting sparse IndexedSlices to a dense Tensor of unknown shape. This may consume a large amount of memory.\n",
      "  \"Converting sparse IndexedSlices to a dense Tensor of unknown shape. \"\n"
     ]
    },
    {
     "name": "stdout",
     "output_type": "stream",
     "text": [
      "Epoch 1/4\n",
      "20000/20000 [==============================] - 4s 191us/step - loss: 0.5929 - accuracy: 0.6649\n",
      "Epoch 2/4\n",
      "20000/20000 [==============================] - 4s 187us/step - loss: 0.2755 - accuracy: 0.8931\n",
      "Epoch 3/4\n",
      "20000/20000 [==============================] - 4s 197us/step - loss: 0.0950 - accuracy: 0.9736\n",
      "Epoch 4/4\n",
      "20000/20000 [==============================] - 4s 191us/step - loss: 0.0200 - accuracy: 0.9973\n",
      "5000/5000 [==============================] - 0s 28us/step\n"
     ]
    },
    {
     "name": "stderr",
     "output_type": "stream",
     "text": [
      "C:\\Users\\joaon\\Anaconda3\\envs\\DL-illustrated\\lib\\site-packages\\tensorflow_core\\python\\framework\\indexed_slices.py:433: UserWarning: Converting sparse IndexedSlices to a dense Tensor of unknown shape. This may consume a large amount of memory.\n",
      "  \"Converting sparse IndexedSlices to a dense Tensor of unknown shape. \"\n"
     ]
    },
    {
     "name": "stdout",
     "output_type": "stream",
     "text": [
      "Epoch 1/2\n",
      "20000/20000 [==============================] - 4s 198us/step - loss: 0.6033 - accuracy: 0.6431\n",
      "Epoch 2/2\n",
      "20000/20000 [==============================] - 4s 191us/step - loss: 0.2719 - accuracy: 0.8910\n",
      "5000/5000 [==============================] - 0s 31us/step\n"
     ]
    },
    {
     "name": "stderr",
     "output_type": "stream",
     "text": [
      "C:\\Users\\joaon\\Anaconda3\\envs\\DL-illustrated\\lib\\site-packages\\tensorflow_core\\python\\framework\\indexed_slices.py:433: UserWarning: Converting sparse IndexedSlices to a dense Tensor of unknown shape. This may consume a large amount of memory.\n",
      "  \"Converting sparse IndexedSlices to a dense Tensor of unknown shape. \"\n"
     ]
    },
    {
     "name": "stdout",
     "output_type": "stream",
     "text": [
      "Epoch 1/2\n",
      "20000/20000 [==============================] - 4s 194us/step - loss: 0.5926 - accuracy: 0.6615\n",
      "Epoch 2/2\n",
      "20000/20000 [==============================] - 4s 184us/step - loss: 0.2564 - accuracy: 0.8992\n",
      "5000/5000 [==============================] - 0s 34us/step\n"
     ]
    },
    {
     "name": "stderr",
     "output_type": "stream",
     "text": [
      "C:\\Users\\joaon\\Anaconda3\\envs\\DL-illustrated\\lib\\site-packages\\tensorflow_core\\python\\framework\\indexed_slices.py:433: UserWarning: Converting sparse IndexedSlices to a dense Tensor of unknown shape. This may consume a large amount of memory.\n",
      "  \"Converting sparse IndexedSlices to a dense Tensor of unknown shape. \"\n"
     ]
    },
    {
     "name": "stdout",
     "output_type": "stream",
     "text": [
      "Epoch 1/2\n",
      "20000/20000 [==============================] - 4s 191us/step - loss: 0.5685 - accuracy: 0.6750\n",
      "Epoch 2/2\n",
      "20000/20000 [==============================] - 4s 187us/step - loss: 0.2350 - accuracy: 0.9082\n",
      "5000/5000 [==============================] - 0s 28us/step\n"
     ]
    },
    {
     "name": "stderr",
     "output_type": "stream",
     "text": [
      "C:\\Users\\joaon\\Anaconda3\\envs\\DL-illustrated\\lib\\site-packages\\tensorflow_core\\python\\framework\\indexed_slices.py:433: UserWarning: Converting sparse IndexedSlices to a dense Tensor of unknown shape. This may consume a large amount of memory.\n",
      "  \"Converting sparse IndexedSlices to a dense Tensor of unknown shape. \"\n"
     ]
    },
    {
     "name": "stdout",
     "output_type": "stream",
     "text": [
      "Epoch 1/2\n",
      "20000/20000 [==============================] - 4s 191us/step - loss: 0.5767 - accuracy: 0.6702\n",
      "Epoch 2/2\n",
      "20000/20000 [==============================] - 4s 187us/step - loss: 0.2396 - accuracy: 0.9070\n",
      "5000/5000 [==============================] - 0s 28us/step\n"
     ]
    },
    {
     "name": "stderr",
     "output_type": "stream",
     "text": [
      "C:\\Users\\joaon\\Anaconda3\\envs\\DL-illustrated\\lib\\site-packages\\tensorflow_core\\python\\framework\\indexed_slices.py:433: UserWarning: Converting sparse IndexedSlices to a dense Tensor of unknown shape. This may consume a large amount of memory.\n",
      "  \"Converting sparse IndexedSlices to a dense Tensor of unknown shape. \"\n"
     ]
    },
    {
     "name": "stdout",
     "output_type": "stream",
     "text": [
      "Epoch 1/2\n",
      "20000/20000 [==============================] - 4s 191us/step - loss: 0.5798 - accuracy: 0.6743\n",
      "Epoch 2/2\n",
      "20000/20000 [==============================] - 4s 189us/step - loss: 0.2506 - accuracy: 0.9021\n",
      "5000/5000 [==============================] - 0s 31us/step\n"
     ]
    },
    {
     "name": "stderr",
     "output_type": "stream",
     "text": [
      "C:\\Users\\joaon\\Anaconda3\\envs\\DL-illustrated\\lib\\site-packages\\tensorflow_core\\python\\framework\\indexed_slices.py:433: UserWarning: Converting sparse IndexedSlices to a dense Tensor of unknown shape. This may consume a large amount of memory.\n",
      "  \"Converting sparse IndexedSlices to a dense Tensor of unknown shape. \"\n"
     ]
    },
    {
     "name": "stdout",
     "output_type": "stream",
     "text": [
      "Epoch 1/4\n",
      "20000/20000 [==============================] - 4s 200us/step - loss: 0.5462 - accuracy: 0.6998\n",
      "Epoch 2/4\n",
      "20000/20000 [==============================] - 4s 194us/step - loss: 0.2215 - accuracy: 0.9142\n",
      "Epoch 3/4\n",
      "20000/20000 [==============================] - 4s 187us/step - loss: 0.0493 - accuracy: 0.9903\n",
      "Epoch 4/4\n",
      "20000/20000 [==============================] - 4s 209us/step - loss: 0.0063 - accuracy: 0.9997\n",
      "5000/5000 [==============================] - 0s 41us/step\n"
     ]
    },
    {
     "name": "stderr",
     "output_type": "stream",
     "text": [
      "C:\\Users\\joaon\\Anaconda3\\envs\\DL-illustrated\\lib\\site-packages\\tensorflow_core\\python\\framework\\indexed_slices.py:433: UserWarning: Converting sparse IndexedSlices to a dense Tensor of unknown shape. This may consume a large amount of memory.\n",
      "  \"Converting sparse IndexedSlices to a dense Tensor of unknown shape. \"\n"
     ]
    },
    {
     "name": "stdout",
     "output_type": "stream",
     "text": [
      "Epoch 1/4\n",
      "20000/20000 [==============================] - 5s 266us/step - loss: 0.5153 - accuracy: 0.7265\n",
      "Epoch 2/4\n",
      "20000/20000 [==============================] - 4s 204us/step - loss: 0.1929 - accuracy: 0.9302\n",
      "Epoch 3/4\n",
      "20000/20000 [==============================] - 4s 191us/step - loss: 0.0328 - accuracy: 0.9950\n",
      "Epoch 4/4\n",
      "20000/20000 [==============================] - 4s 194us/step - loss: 0.0051 - accuracy: 0.9998\n",
      "5000/5000 [==============================] - 0s 31us/step\n"
     ]
    },
    {
     "name": "stderr",
     "output_type": "stream",
     "text": [
      "C:\\Users\\joaon\\Anaconda3\\envs\\DL-illustrated\\lib\\site-packages\\tensorflow_core\\python\\framework\\indexed_slices.py:433: UserWarning: Converting sparse IndexedSlices to a dense Tensor of unknown shape. This may consume a large amount of memory.\n",
      "  \"Converting sparse IndexedSlices to a dense Tensor of unknown shape. \"\n"
     ]
    },
    {
     "name": "stdout",
     "output_type": "stream",
     "text": [
      "Epoch 1/4\n",
      "20000/20000 [==============================] - 4s 188us/step - loss: 0.5322 - accuracy: 0.7169\n",
      "Epoch 2/4\n",
      "20000/20000 [==============================] - 4s 189us/step - loss: 0.2070 - accuracy: 0.9218\n",
      "Epoch 3/4\n",
      "20000/20000 [==============================] - 4s 185us/step - loss: 0.0362 - accuracy: 0.9940\n",
      "Epoch 4/4\n",
      "20000/20000 [==============================] - 4s 189us/step - loss: 0.0050 - accuracy: 0.9997\n",
      "5000/5000 [==============================] - 0s 31us/step\n"
     ]
    },
    {
     "name": "stderr",
     "output_type": "stream",
     "text": [
      "C:\\Users\\joaon\\Anaconda3\\envs\\DL-illustrated\\lib\\site-packages\\tensorflow_core\\python\\framework\\indexed_slices.py:433: UserWarning: Converting sparse IndexedSlices to a dense Tensor of unknown shape. This may consume a large amount of memory.\n",
      "  \"Converting sparse IndexedSlices to a dense Tensor of unknown shape. \"\n"
     ]
    },
    {
     "name": "stdout",
     "output_type": "stream",
     "text": [
      "Epoch 1/4\n",
      "20000/20000 [==============================] - 4s 190us/step - loss: 0.5218 - accuracy: 0.7240\n",
      "Epoch 2/4\n",
      "20000/20000 [==============================] - 4s 187us/step - loss: 0.2051 - accuracy: 0.9216\n",
      "Epoch 3/4\n",
      "20000/20000 [==============================] - 4s 189us/step - loss: 0.0387 - accuracy: 0.9937\n",
      "Epoch 4/4\n",
      "20000/20000 [==============================] - 4s 188us/step - loss: 0.0058 - accuracy: 0.9997\n",
      "5000/5000 [==============================] - 0s 28us/step\n"
     ]
    },
    {
     "name": "stderr",
     "output_type": "stream",
     "text": [
      "C:\\Users\\joaon\\Anaconda3\\envs\\DL-illustrated\\lib\\site-packages\\tensorflow_core\\python\\framework\\indexed_slices.py:433: UserWarning: Converting sparse IndexedSlices to a dense Tensor of unknown shape. This may consume a large amount of memory.\n",
      "  \"Converting sparse IndexedSlices to a dense Tensor of unknown shape. \"\n"
     ]
    },
    {
     "name": "stdout",
     "output_type": "stream",
     "text": [
      "Epoch 1/4\n",
      "20000/20000 [==============================] - 4s 192us/step - loss: 0.5484 - accuracy: 0.7053\n",
      "Epoch 2/4\n",
      "20000/20000 [==============================] - 4s 194us/step - loss: 0.2205 - accuracy: 0.9148\n",
      "Epoch 3/4\n",
      "20000/20000 [==============================] - 4s 187us/step - loss: 0.0452 - accuracy: 0.9911\n",
      "Epoch 4/4\n",
      "20000/20000 [==============================] - 4s 202us/step - loss: 0.0058 - accuracy: 0.9997\n",
      "5000/5000 [==============================] - 0s 31us/step\n"
     ]
    },
    {
     "name": "stderr",
     "output_type": "stream",
     "text": [
      "C:\\Users\\joaon\\Anaconda3\\envs\\DL-illustrated\\lib\\site-packages\\tensorflow_core\\python\\framework\\indexed_slices.py:433: UserWarning: Converting sparse IndexedSlices to a dense Tensor of unknown shape. This may consume a large amount of memory.\n",
      "  \"Converting sparse IndexedSlices to a dense Tensor of unknown shape. \"\n"
     ]
    },
    {
     "name": "stdout",
     "output_type": "stream",
     "text": [
      "Epoch 1/2\n",
      "25000/25000 [==============================] - 5s 188us/step - loss: 0.5300 - accuracy: 0.7145\n",
      "Epoch 2/2\n",
      "25000/25000 [==============================] - 5s 195us/step - loss: 0.2381 - accuracy: 0.9091\n",
      "Wall time: 13min 22s\n"
     ]
    },
    {
     "data": {
      "text/plain": [
       "RandomizedSearchCV(cv=5, error_score=nan,\n",
       "                   estimator=<keras.wrappers.scikit_learn.KerasClassifier object at 0x000001BD2E5C76C8>,\n",
       "                   iid='deprecated', n_iter=10, n_jobs=None,\n",
       "                   param_distributions={'batch_size': [128],\n",
       "                                        'dropout': [0.1, 0.2, 0.3, 0.4, 0.5,\n",
       "                                                    0.6],\n",
       "                                        'epochs': [2, 4, 6], 'n_dense': [64]},\n",
       "                   pre_dispatch='2*n_jobs', random_state=None, refit=True,\n",
       "                   return_train_score=False, scoring='roc_auc', verbose=0)"
      ]
     },
     "execution_count": 88,
     "metadata": {},
     "output_type": "execute_result"
    }
   ],
   "source": [
    "%%time\n",
    "\n",
    "rand_search.fit(x_train, y_train)"
   ]
  },
  {
   "cell_type": "code",
   "execution_count": 89,
   "metadata": {},
   "outputs": [
    {
     "data": {
      "text/plain": [
       "{'n_dense': 64, 'epochs': 2, 'dropout': 0.5, 'batch_size': 128}"
      ]
     },
     "execution_count": 89,
     "metadata": {},
     "output_type": "execute_result"
    }
   ],
   "source": [
    "rand_search.best_params_"
   ]
  },
  {
   "cell_type": "code",
   "execution_count": 90,
   "metadata": {},
   "outputs": [
    {
     "data": {
      "text/plain": [
       "0.9318239050957734"
      ]
     },
     "execution_count": 90,
     "metadata": {},
     "output_type": "execute_result"
    }
   ],
   "source": [
    "rand_search.best_score_"
   ]
  },
  {
   "cell_type": "code",
   "execution_count": 91,
   "metadata": {},
   "outputs": [
    {
     "name": "stdout",
     "output_type": "stream",
     "text": [
      "╒══════════╤══════════════╤═══════════╤═══════════╤═══════════╕\n",
      "│   epochs │   batch_size │   n_dense │   dropout │   roc_auc │\n",
      "╞══════════╪══════════════╪═══════════╪═══════════╪═══════════╡\n",
      "│        2 │          128 │        64 │       0.5 │  0.931824 │\n",
      "├──────────┼──────────────┼───────────┼───────────┼───────────┤\n",
      "│        2 │          128 │        64 │       0.4 │  0.929686 │\n",
      "├──────────┼──────────────┼───────────┼───────────┼───────────┤\n",
      "│        2 │          128 │        64 │       0.2 │  0.92927  │\n",
      "├──────────┼──────────────┼───────────┼───────────┼───────────┤\n",
      "│        2 │          128 │        64 │       0.1 │  0.927133 │\n",
      "├──────────┼──────────────┼───────────┼───────────┼───────────┤\n",
      "│        6 │          128 │        64 │       0.6 │  0.925528 │\n",
      "├──────────┼──────────────┼───────────┼───────────┼───────────┤\n",
      "│        6 │          128 │        64 │       0.2 │  0.924949 │\n",
      "├──────────┼──────────────┼───────────┼───────────┼───────────┤\n",
      "│        6 │          128 │        64 │       0.3 │  0.924874 │\n",
      "├──────────┼──────────────┼───────────┼───────────┼───────────┤\n",
      "│        4 │          128 │        64 │       0.5 │  0.924483 │\n",
      "├──────────┼──────────────┼───────────┼───────────┼───────────┤\n",
      "│        4 │          128 │        64 │       0.6 │  0.924341 │\n",
      "├──────────┼──────────────┼───────────┼───────────┼───────────┤\n",
      "│        4 │          128 │        64 │       0.1 │  0.924257 │\n",
      "╘══════════╧══════════════╧═══════════╧═══════════╧═══════════╛\n"
     ]
    }
   ],
   "source": [
    "# this function should have a different name...\n",
    "\n",
    "grid_search_results(rand_search.cv_results_)"
   ]
  },
  {
   "cell_type": "markdown",
   "metadata": {},
   "source": [
    "The value **2** for the number of **`epochs`** seems to be the best.\n",
    "\n",
    "We can focus only on the `dropout` value."
   ]
  },
  {
   "cell_type": "markdown",
   "metadata": {},
   "source": [
    "#### 5. Define random search parameters"
   ]
  },
  {
   "cell_type": "code",
   "execution_count": 92,
   "metadata": {},
   "outputs": [],
   "source": [
    "epochs = [2]\n",
    "batch_size = [128]\n",
    "\n",
    "n_dense = [64]\n",
    "dropout = [0.2, 0.3, 0.4, 0.5, 0.6, 0.7, 0.8]\n",
    "\n",
    "param_grid = {'epochs': epochs, 'batch_size': batch_size, \n",
    "              'n_dense': n_dense, 'dropout': dropout}"
   ]
  },
  {
   "cell_type": "code",
   "execution_count": 93,
   "metadata": {},
   "outputs": [],
   "source": [
    "rand_search = RandomizedSearchCV(model, param_grid, cv=5, scoring = 'roc_auc')"
   ]
  },
  {
   "cell_type": "markdown",
   "metadata": {},
   "source": [
    "#### 7. Perform random search and print results"
   ]
  },
  {
   "cell_type": "code",
   "execution_count": 94,
   "metadata": {},
   "outputs": [
    {
     "name": "stderr",
     "output_type": "stream",
     "text": [
      "C:\\Users\\joaon\\Anaconda3\\envs\\DL-illustrated\\lib\\site-packages\\sklearn\\model_selection\\_search.py:281: UserWarning: The total space of parameters 7 is smaller than n_iter=10. Running 7 iterations. For exhaustive searches, use GridSearchCV.\n",
      "  % (grid_size, self.n_iter, grid_size), UserWarning)\n",
      "C:\\Users\\joaon\\Anaconda3\\envs\\DL-illustrated\\lib\\site-packages\\tensorflow_core\\python\\framework\\indexed_slices.py:433: UserWarning: Converting sparse IndexedSlices to a dense Tensor of unknown shape. This may consume a large amount of memory.\n",
      "  \"Converting sparse IndexedSlices to a dense Tensor of unknown shape. \"\n"
     ]
    },
    {
     "name": "stdout",
     "output_type": "stream",
     "text": [
      "Epoch 1/2\n",
      "20000/20000 [==============================] - 4s 204us/step - loss: 0.5304 - accuracy: 0.7127\n",
      "Epoch 2/2\n",
      "20000/20000 [==============================] - 4s 183us/step - loss: 0.2033 - accuracy: 0.9237\n",
      "5000/5000 [==============================] - 0s 44us/step\n"
     ]
    },
    {
     "name": "stderr",
     "output_type": "stream",
     "text": [
      "C:\\Users\\joaon\\Anaconda3\\envs\\DL-illustrated\\lib\\site-packages\\tensorflow_core\\python\\framework\\indexed_slices.py:433: UserWarning: Converting sparse IndexedSlices to a dense Tensor of unknown shape. This may consume a large amount of memory.\n",
      "  \"Converting sparse IndexedSlices to a dense Tensor of unknown shape. \"\n"
     ]
    },
    {
     "name": "stdout",
     "output_type": "stream",
     "text": [
      "Epoch 1/2\n",
      "20000/20000 [==============================] - 4s 186us/step - loss: 0.5460 - accuracy: 0.7032\n",
      "Epoch 2/2\n",
      "20000/20000 [==============================] - 4s 185us/step - loss: 0.2155 - accuracy: 0.9169\n",
      "5000/5000 [==============================] - 0s 31us/step\n"
     ]
    },
    {
     "name": "stderr",
     "output_type": "stream",
     "text": [
      "C:\\Users\\joaon\\Anaconda3\\envs\\DL-illustrated\\lib\\site-packages\\tensorflow_core\\python\\framework\\indexed_slices.py:433: UserWarning: Converting sparse IndexedSlices to a dense Tensor of unknown shape. This may consume a large amount of memory.\n",
      "  \"Converting sparse IndexedSlices to a dense Tensor of unknown shape. \"\n"
     ]
    },
    {
     "name": "stdout",
     "output_type": "stream",
     "text": [
      "Epoch 1/2\n",
      "20000/20000 [==============================] - 4s 219us/step - loss: 0.5443 - accuracy: 0.7046\n",
      "Epoch 2/2\n",
      "20000/20000 [==============================] - 4s 177us/step - loss: 0.2130 - accuracy: 0.9193\n",
      "5000/5000 [==============================] - 0s 31us/step\n"
     ]
    },
    {
     "name": "stderr",
     "output_type": "stream",
     "text": [
      "C:\\Users\\joaon\\Anaconda3\\envs\\DL-illustrated\\lib\\site-packages\\tensorflow_core\\python\\framework\\indexed_slices.py:433: UserWarning: Converting sparse IndexedSlices to a dense Tensor of unknown shape. This may consume a large amount of memory.\n",
      "  \"Converting sparse IndexedSlices to a dense Tensor of unknown shape. \"\n"
     ]
    },
    {
     "name": "stdout",
     "output_type": "stream",
     "text": [
      "Epoch 1/2\n",
      "20000/20000 [==============================] - 4s 195us/step - loss: 0.5433 - accuracy: 0.6991\n",
      "Epoch 2/2\n",
      "20000/20000 [==============================] - 4s 190us/step - loss: 0.2074 - accuracy: 0.9216\n",
      "5000/5000 [==============================] - 0s 41us/step\n"
     ]
    },
    {
     "name": "stderr",
     "output_type": "stream",
     "text": [
      "C:\\Users\\joaon\\Anaconda3\\envs\\DL-illustrated\\lib\\site-packages\\tensorflow_core\\python\\framework\\indexed_slices.py:433: UserWarning: Converting sparse IndexedSlices to a dense Tensor of unknown shape. This may consume a large amount of memory.\n",
      "  \"Converting sparse IndexedSlices to a dense Tensor of unknown shape. \"\n"
     ]
    },
    {
     "name": "stdout",
     "output_type": "stream",
     "text": [
      "Epoch 1/2\n",
      "20000/20000 [==============================] - 4s 213us/step - loss: 0.5395 - accuracy: 0.7002\n",
      "Epoch 2/2\n",
      "20000/20000 [==============================] - 4s 210us/step - loss: 0.2110 - accuracy: 0.9225\n",
      "5000/5000 [==============================] - 0s 37us/step\n"
     ]
    },
    {
     "name": "stderr",
     "output_type": "stream",
     "text": [
      "C:\\Users\\joaon\\Anaconda3\\envs\\DL-illustrated\\lib\\site-packages\\tensorflow_core\\python\\framework\\indexed_slices.py:433: UserWarning: Converting sparse IndexedSlices to a dense Tensor of unknown shape. This may consume a large amount of memory.\n",
      "  \"Converting sparse IndexedSlices to a dense Tensor of unknown shape. \"\n"
     ]
    },
    {
     "name": "stdout",
     "output_type": "stream",
     "text": [
      "Epoch 1/2\n",
      "20000/20000 [==============================] - 4s 201us/step - loss: 0.5474 - accuracy: 0.7010\n",
      "Epoch 2/2\n",
      "20000/20000 [==============================] - 4s 203us/step - loss: 0.2276 - accuracy: 0.9138\n",
      "5000/5000 [==============================] - 0s 31us/step\n"
     ]
    },
    {
     "name": "stderr",
     "output_type": "stream",
     "text": [
      "C:\\Users\\joaon\\Anaconda3\\envs\\DL-illustrated\\lib\\site-packages\\tensorflow_core\\python\\framework\\indexed_slices.py:433: UserWarning: Converting sparse IndexedSlices to a dense Tensor of unknown shape. This may consume a large amount of memory.\n",
      "  \"Converting sparse IndexedSlices to a dense Tensor of unknown shape. \"\n"
     ]
    },
    {
     "name": "stdout",
     "output_type": "stream",
     "text": [
      "Epoch 1/2\n",
      "20000/20000 [==============================] - 5s 229us/step - loss: 0.5489 - accuracy: 0.6944\n",
      "Epoch 2/2\n",
      "20000/20000 [==============================] - 4s 211us/step - loss: 0.2214 - accuracy: 0.9141\n",
      "5000/5000 [==============================] - 0s 37us/step\n"
     ]
    },
    {
     "name": "stderr",
     "output_type": "stream",
     "text": [
      "C:\\Users\\joaon\\Anaconda3\\envs\\DL-illustrated\\lib\\site-packages\\tensorflow_core\\python\\framework\\indexed_slices.py:433: UserWarning: Converting sparse IndexedSlices to a dense Tensor of unknown shape. This may consume a large amount of memory.\n",
      "  \"Converting sparse IndexedSlices to a dense Tensor of unknown shape. \"\n"
     ]
    },
    {
     "name": "stdout",
     "output_type": "stream",
     "text": [
      "Epoch 1/2\n",
      "20000/20000 [==============================] - 4s 198us/step - loss: 0.5544 - accuracy: 0.6955\n",
      "Epoch 2/2\n",
      "20000/20000 [==============================] - 4s 195us/step - loss: 0.2245 - accuracy: 0.9143\n",
      "5000/5000 [==============================] - 0s 31us/step\n"
     ]
    },
    {
     "name": "stderr",
     "output_type": "stream",
     "text": [
      "C:\\Users\\joaon\\Anaconda3\\envs\\DL-illustrated\\lib\\site-packages\\tensorflow_core\\python\\framework\\indexed_slices.py:433: UserWarning: Converting sparse IndexedSlices to a dense Tensor of unknown shape. This may consume a large amount of memory.\n",
      "  \"Converting sparse IndexedSlices to a dense Tensor of unknown shape. \"\n"
     ]
    },
    {
     "name": "stdout",
     "output_type": "stream",
     "text": [
      "Epoch 1/2\n",
      "20000/20000 [==============================] - 4s 198us/step - loss: 0.5584 - accuracy: 0.6876\n",
      "Epoch 2/2\n",
      "20000/20000 [==============================] - 4s 209us/step - loss: 0.2289 - accuracy: 0.9110\n",
      "5000/5000 [==============================] - 0s 41us/step\n"
     ]
    },
    {
     "name": "stderr",
     "output_type": "stream",
     "text": [
      "C:\\Users\\joaon\\Anaconda3\\envs\\DL-illustrated\\lib\\site-packages\\tensorflow_core\\python\\framework\\indexed_slices.py:433: UserWarning: Converting sparse IndexedSlices to a dense Tensor of unknown shape. This may consume a large amount of memory.\n",
      "  \"Converting sparse IndexedSlices to a dense Tensor of unknown shape. \"\n"
     ]
    },
    {
     "name": "stdout",
     "output_type": "stream",
     "text": [
      "Epoch 1/2\n",
      "20000/20000 [==============================] - 4s 206us/step - loss: 0.5525 - accuracy: 0.6970\n",
      "Epoch 2/2\n",
      "20000/20000 [==============================] - 4s 204us/step - loss: 0.2297 - accuracy: 0.9122\n",
      "5000/5000 [==============================] - 0s 31us/step\n"
     ]
    },
    {
     "name": "stderr",
     "output_type": "stream",
     "text": [
      "C:\\Users\\joaon\\Anaconda3\\envs\\DL-illustrated\\lib\\site-packages\\tensorflow_core\\python\\framework\\indexed_slices.py:433: UserWarning: Converting sparse IndexedSlices to a dense Tensor of unknown shape. This may consume a large amount of memory.\n",
      "  \"Converting sparse IndexedSlices to a dense Tensor of unknown shape. \"\n"
     ]
    },
    {
     "name": "stdout",
     "output_type": "stream",
     "text": [
      "Epoch 1/2\n",
      "20000/20000 [==============================] - 4s 211us/step - loss: 0.5767 - accuracy: 0.6722\n",
      "Epoch 2/2\n",
      "20000/20000 [==============================] - 4s 208us/step - loss: 0.2471 - accuracy: 0.9039\n",
      "5000/5000 [==============================] - 0s 41us/step\n"
     ]
    },
    {
     "name": "stderr",
     "output_type": "stream",
     "text": [
      "C:\\Users\\joaon\\Anaconda3\\envs\\DL-illustrated\\lib\\site-packages\\tensorflow_core\\python\\framework\\indexed_slices.py:433: UserWarning: Converting sparse IndexedSlices to a dense Tensor of unknown shape. This may consume a large amount of memory.\n",
      "  \"Converting sparse IndexedSlices to a dense Tensor of unknown shape. \"\n"
     ]
    },
    {
     "name": "stdout",
     "output_type": "stream",
     "text": [
      "Epoch 1/2\n",
      "20000/20000 [==============================] - 4s 204us/step - loss: 0.5672 - accuracy: 0.6901\n",
      "Epoch 2/2\n",
      "20000/20000 [==============================] - 4s 196us/step - loss: 0.2522 - accuracy: 0.9031\n",
      "5000/5000 [==============================] - 0s 34us/step\n"
     ]
    },
    {
     "name": "stderr",
     "output_type": "stream",
     "text": [
      "C:\\Users\\joaon\\Anaconda3\\envs\\DL-illustrated\\lib\\site-packages\\tensorflow_core\\python\\framework\\indexed_slices.py:433: UserWarning: Converting sparse IndexedSlices to a dense Tensor of unknown shape. This may consume a large amount of memory.\n",
      "  \"Converting sparse IndexedSlices to a dense Tensor of unknown shape. \"\n"
     ]
    },
    {
     "name": "stdout",
     "output_type": "stream",
     "text": [
      "Epoch 1/2\n",
      "20000/20000 [==============================] - 4s 205us/step - loss: 0.5594 - accuracy: 0.6969\n",
      "Epoch 2/2\n",
      "20000/20000 [==============================] - 4s 206us/step - loss: 0.2347 - accuracy: 0.9110\n",
      "5000/5000 [==============================] - 0s 44us/step\n"
     ]
    },
    {
     "name": "stderr",
     "output_type": "stream",
     "text": [
      "C:\\Users\\joaon\\Anaconda3\\envs\\DL-illustrated\\lib\\site-packages\\tensorflow_core\\python\\framework\\indexed_slices.py:433: UserWarning: Converting sparse IndexedSlices to a dense Tensor of unknown shape. This may consume a large amount of memory.\n",
      "  \"Converting sparse IndexedSlices to a dense Tensor of unknown shape. \"\n"
     ]
    },
    {
     "name": "stdout",
     "output_type": "stream",
     "text": [
      "Epoch 1/2\n",
      "20000/20000 [==============================] - 4s 219us/step - loss: 0.6047 - accuracy: 0.6539\n",
      "Epoch 2/2\n",
      "20000/20000 [==============================] - 5s 234us/step - loss: 0.2729 - accuracy: 0.8928\n",
      "5000/5000 [==============================] - 0s 37us/step\n"
     ]
    },
    {
     "name": "stderr",
     "output_type": "stream",
     "text": [
      "C:\\Users\\joaon\\Anaconda3\\envs\\DL-illustrated\\lib\\site-packages\\tensorflow_core\\python\\framework\\indexed_slices.py:433: UserWarning: Converting sparse IndexedSlices to a dense Tensor of unknown shape. This may consume a large amount of memory.\n",
      "  \"Converting sparse IndexedSlices to a dense Tensor of unknown shape. \"\n"
     ]
    },
    {
     "name": "stdout",
     "output_type": "stream",
     "text": [
      "Epoch 1/2\n",
      "20000/20000 [==============================] - 4s 218us/step - loss: 0.5687 - accuracy: 0.6833\n",
      "Epoch 2/2\n",
      "20000/20000 [==============================] - 4s 223us/step - loss: 0.2398 - accuracy: 0.9087\n",
      "5000/5000 [==============================] - 0s 44us/step\n"
     ]
    },
    {
     "name": "stderr",
     "output_type": "stream",
     "text": [
      "C:\\Users\\joaon\\Anaconda3\\envs\\DL-illustrated\\lib\\site-packages\\tensorflow_core\\python\\framework\\indexed_slices.py:433: UserWarning: Converting sparse IndexedSlices to a dense Tensor of unknown shape. This may consume a large amount of memory.\n",
      "  \"Converting sparse IndexedSlices to a dense Tensor of unknown shape. \"\n"
     ]
    },
    {
     "name": "stdout",
     "output_type": "stream",
     "text": [
      "Epoch 1/2\n",
      "20000/20000 [==============================] - 4s 195us/step - loss: 0.5704 - accuracy: 0.6812\n",
      "Epoch 2/2\n",
      "20000/20000 [==============================] - 5s 244us/step - loss: 0.2488 - accuracy: 0.9019\n",
      "5000/5000 [==============================] - 0s 41us/step\n"
     ]
    },
    {
     "name": "stderr",
     "output_type": "stream",
     "text": [
      "C:\\Users\\joaon\\Anaconda3\\envs\\DL-illustrated\\lib\\site-packages\\tensorflow_core\\python\\framework\\indexed_slices.py:433: UserWarning: Converting sparse IndexedSlices to a dense Tensor of unknown shape. This may consume a large amount of memory.\n",
      "  \"Converting sparse IndexedSlices to a dense Tensor of unknown shape. \"\n"
     ]
    },
    {
     "name": "stdout",
     "output_type": "stream",
     "text": [
      "Epoch 1/2\n",
      "20000/20000 [==============================] - 4s 224us/step - loss: 0.5620 - accuracy: 0.6832\n",
      "Epoch 2/2\n",
      "20000/20000 [==============================] - 5s 229us/step - loss: 0.2455 - accuracy: 0.9067\n",
      "5000/5000 [==============================] - 0s 31us/step\n"
     ]
    },
    {
     "name": "stderr",
     "output_type": "stream",
     "text": [
      "C:\\Users\\joaon\\Anaconda3\\envs\\DL-illustrated\\lib\\site-packages\\tensorflow_core\\python\\framework\\indexed_slices.py:433: UserWarning: Converting sparse IndexedSlices to a dense Tensor of unknown shape. This may consume a large amount of memory.\n",
      "  \"Converting sparse IndexedSlices to a dense Tensor of unknown shape. \"\n"
     ]
    },
    {
     "name": "stdout",
     "output_type": "stream",
     "text": [
      "Epoch 1/2\n",
      "20000/20000 [==============================] - 5s 229us/step - loss: 0.5736 - accuracy: 0.6772\n",
      "Epoch 2/2\n",
      "20000/20000 [==============================] - 4s 203us/step - loss: 0.2554 - accuracy: 0.9015\n",
      "5000/5000 [==============================] - 0s 34us/step\n"
     ]
    },
    {
     "name": "stderr",
     "output_type": "stream",
     "text": [
      "C:\\Users\\joaon\\Anaconda3\\envs\\DL-illustrated\\lib\\site-packages\\tensorflow_core\\python\\framework\\indexed_slices.py:433: UserWarning: Converting sparse IndexedSlices to a dense Tensor of unknown shape. This may consume a large amount of memory.\n",
      "  \"Converting sparse IndexedSlices to a dense Tensor of unknown shape. \"\n"
     ]
    },
    {
     "name": "stdout",
     "output_type": "stream",
     "text": [
      "Epoch 1/2\n",
      "20000/20000 [==============================] - 5s 237us/step - loss: 0.5906 - accuracy: 0.6641\n",
      "Epoch 2/2\n",
      "20000/20000 [==============================] - 5s 238us/step - loss: 0.2686 - accuracy: 0.8946\n",
      "5000/5000 [==============================] - 0s 34us/step\n"
     ]
    },
    {
     "name": "stderr",
     "output_type": "stream",
     "text": [
      "C:\\Users\\joaon\\Anaconda3\\envs\\DL-illustrated\\lib\\site-packages\\tensorflow_core\\python\\framework\\indexed_slices.py:433: UserWarning: Converting sparse IndexedSlices to a dense Tensor of unknown shape. This may consume a large amount of memory.\n",
      "  \"Converting sparse IndexedSlices to a dense Tensor of unknown shape. \"\n"
     ]
    },
    {
     "name": "stdout",
     "output_type": "stream",
     "text": [
      "Epoch 1/2\n",
      "20000/20000 [==============================] - 4s 220us/step - loss: 0.5891 - accuracy: 0.6627\n",
      "Epoch 2/2\n",
      "20000/20000 [==============================] - 4s 205us/step - loss: 0.2675 - accuracy: 0.8942\n",
      "5000/5000 [==============================] - 0s 34us/step\n"
     ]
    },
    {
     "name": "stderr",
     "output_type": "stream",
     "text": [
      "C:\\Users\\joaon\\Anaconda3\\envs\\DL-illustrated\\lib\\site-packages\\tensorflow_core\\python\\framework\\indexed_slices.py:433: UserWarning: Converting sparse IndexedSlices to a dense Tensor of unknown shape. This may consume a large amount of memory.\n",
      "  \"Converting sparse IndexedSlices to a dense Tensor of unknown shape. \"\n"
     ]
    },
    {
     "name": "stdout",
     "output_type": "stream",
     "text": [
      "Epoch 1/2\n",
      "20000/20000 [==============================] - 5s 231us/step - loss: 0.5920 - accuracy: 0.6651\n",
      "Epoch 2/2\n",
      "20000/20000 [==============================] - 4s 224us/step - loss: 0.2681 - accuracy: 0.8935\n",
      "5000/5000 [==============================] - 0s 41us/step\n"
     ]
    },
    {
     "name": "stderr",
     "output_type": "stream",
     "text": [
      "C:\\Users\\joaon\\Anaconda3\\envs\\DL-illustrated\\lib\\site-packages\\tensorflow_core\\python\\framework\\indexed_slices.py:433: UserWarning: Converting sparse IndexedSlices to a dense Tensor of unknown shape. This may consume a large amount of memory.\n",
      "  \"Converting sparse IndexedSlices to a dense Tensor of unknown shape. \"\n"
     ]
    },
    {
     "name": "stdout",
     "output_type": "stream",
     "text": [
      "Epoch 1/2\n",
      "20000/20000 [==============================] - 4s 219us/step - loss: 0.6106 - accuracy: 0.6467\n",
      "Epoch 2/2\n",
      "20000/20000 [==============================] - 4s 202us/step - loss: 0.2895 - accuracy: 0.8858\n",
      "5000/5000 [==============================] - 0s 37us/step\n"
     ]
    },
    {
     "name": "stderr",
     "output_type": "stream",
     "text": [
      "C:\\Users\\joaon\\Anaconda3\\envs\\DL-illustrated\\lib\\site-packages\\tensorflow_core\\python\\framework\\indexed_slices.py:433: UserWarning: Converting sparse IndexedSlices to a dense Tensor of unknown shape. This may consume a large amount of memory.\n",
      "  \"Converting sparse IndexedSlices to a dense Tensor of unknown shape. \"\n"
     ]
    },
    {
     "name": "stdout",
     "output_type": "stream",
     "text": [
      "Epoch 1/2\n",
      "20000/20000 [==============================] - 5s 234us/step - loss: 0.6142 - accuracy: 0.6417\n",
      "Epoch 2/2\n",
      "20000/20000 [==============================] - 4s 219us/step - loss: 0.2886 - accuracy: 0.8852\n",
      "5000/5000 [==============================] - 0s 44us/step\n"
     ]
    },
    {
     "name": "stderr",
     "output_type": "stream",
     "text": [
      "C:\\Users\\joaon\\Anaconda3\\envs\\DL-illustrated\\lib\\site-packages\\tensorflow_core\\python\\framework\\indexed_slices.py:433: UserWarning: Converting sparse IndexedSlices to a dense Tensor of unknown shape. This may consume a large amount of memory.\n",
      "  \"Converting sparse IndexedSlices to a dense Tensor of unknown shape. \"\n"
     ]
    },
    {
     "name": "stdout",
     "output_type": "stream",
     "text": [
      "Epoch 1/2\n",
      "20000/20000 [==============================] - 5s 233us/step - loss: 0.6012 - accuracy: 0.6528\n",
      "Epoch 2/2\n",
      "20000/20000 [==============================] - 4s 216us/step - loss: 0.2785 - accuracy: 0.8899\n",
      "5000/5000 [==============================] - 0s 31us/step\n"
     ]
    },
    {
     "name": "stderr",
     "output_type": "stream",
     "text": [
      "C:\\Users\\joaon\\Anaconda3\\envs\\DL-illustrated\\lib\\site-packages\\tensorflow_core\\python\\framework\\indexed_slices.py:433: UserWarning: Converting sparse IndexedSlices to a dense Tensor of unknown shape. This may consume a large amount of memory.\n",
      "  \"Converting sparse IndexedSlices to a dense Tensor of unknown shape. \"\n"
     ]
    },
    {
     "name": "stdout",
     "output_type": "stream",
     "text": [
      "Epoch 1/2\n",
      "20000/20000 [==============================] - 4s 218us/step - loss: 0.6093 - accuracy: 0.6449\n",
      "Epoch 2/2\n",
      "20000/20000 [==============================] - 4s 209us/step - loss: 0.2897 - accuracy: 0.8845\n",
      "5000/5000 [==============================] - 0s 34us/step\n"
     ]
    },
    {
     "name": "stderr",
     "output_type": "stream",
     "text": [
      "C:\\Users\\joaon\\Anaconda3\\envs\\DL-illustrated\\lib\\site-packages\\tensorflow_core\\python\\framework\\indexed_slices.py:433: UserWarning: Converting sparse IndexedSlices to a dense Tensor of unknown shape. This may consume a large amount of memory.\n",
      "  \"Converting sparse IndexedSlices to a dense Tensor of unknown shape. \"\n"
     ]
    },
    {
     "name": "stdout",
     "output_type": "stream",
     "text": [
      "Epoch 1/2\n",
      "20000/20000 [==============================] - 4s 220us/step - loss: 0.6198 - accuracy: 0.6413\n",
      "Epoch 2/2\n",
      "20000/20000 [==============================] - 4s 220us/step - loss: 0.3019 - accuracy: 0.8805\n",
      "5000/5000 [==============================] - 0s 31us/step\n"
     ]
    },
    {
     "name": "stderr",
     "output_type": "stream",
     "text": [
      "C:\\Users\\joaon\\Anaconda3\\envs\\DL-illustrated\\lib\\site-packages\\tensorflow_core\\python\\framework\\indexed_slices.py:433: UserWarning: Converting sparse IndexedSlices to a dense Tensor of unknown shape. This may consume a large amount of memory.\n",
      "  \"Converting sparse IndexedSlices to a dense Tensor of unknown shape. \"\n"
     ]
    },
    {
     "name": "stdout",
     "output_type": "stream",
     "text": [
      "Epoch 1/2\n",
      "20000/20000 [==============================] - 4s 188us/step - loss: 0.6257 - accuracy: 0.6288\n",
      "Epoch 2/2\n",
      "20000/20000 [==============================] - 4s 194us/step - loss: 0.3102 - accuracy: 0.8766\n",
      "5000/5000 [==============================] - 0s 28us/step\n"
     ]
    },
    {
     "name": "stderr",
     "output_type": "stream",
     "text": [
      "C:\\Users\\joaon\\Anaconda3\\envs\\DL-illustrated\\lib\\site-packages\\tensorflow_core\\python\\framework\\indexed_slices.py:433: UserWarning: Converting sparse IndexedSlices to a dense Tensor of unknown shape. This may consume a large amount of memory.\n",
      "  \"Converting sparse IndexedSlices to a dense Tensor of unknown shape. \"\n"
     ]
    },
    {
     "name": "stdout",
     "output_type": "stream",
     "text": [
      "Epoch 1/2\n",
      "20000/20000 [==============================] - 4s 211us/step - loss: 0.6333 - accuracy: 0.6263\n",
      "Epoch 2/2\n",
      "20000/20000 [==============================] - 5s 253us/step - loss: 0.3169 - accuracy: 0.8748\n",
      "5000/5000 [==============================] - 0s 41us/step\n"
     ]
    },
    {
     "name": "stderr",
     "output_type": "stream",
     "text": [
      "C:\\Users\\joaon\\Anaconda3\\envs\\DL-illustrated\\lib\\site-packages\\tensorflow_core\\python\\framework\\indexed_slices.py:433: UserWarning: Converting sparse IndexedSlices to a dense Tensor of unknown shape. This may consume a large amount of memory.\n",
      "  \"Converting sparse IndexedSlices to a dense Tensor of unknown shape. \"\n"
     ]
    },
    {
     "name": "stdout",
     "output_type": "stream",
     "text": [
      "Epoch 1/2\n",
      "20000/20000 [==============================] - 4s 220us/step - loss: 0.6369 - accuracy: 0.6172\n",
      "Epoch 2/2\n",
      "20000/20000 [==============================] - 5s 255us/step - loss: 0.3159 - accuracy: 0.8727\n",
      "5000/5000 [==============================] - 0s 44us/step\n"
     ]
    },
    {
     "name": "stderr",
     "output_type": "stream",
     "text": [
      "C:\\Users\\joaon\\Anaconda3\\envs\\DL-illustrated\\lib\\site-packages\\tensorflow_core\\python\\framework\\indexed_slices.py:433: UserWarning: Converting sparse IndexedSlices to a dense Tensor of unknown shape. This may consume a large amount of memory.\n",
      "  \"Converting sparse IndexedSlices to a dense Tensor of unknown shape. \"\n"
     ]
    },
    {
     "name": "stdout",
     "output_type": "stream",
     "text": [
      "Epoch 1/2\n",
      "20000/20000 [==============================] - 5s 228us/step - loss: 0.6378 - accuracy: 0.6205\n",
      "Epoch 2/2\n",
      "20000/20000 [==============================] - 4s 192us/step - loss: 0.3068 - accuracy: 0.8806\n",
      "5000/5000 [==============================] - 0s 31us/step\n"
     ]
    },
    {
     "name": "stderr",
     "output_type": "stream",
     "text": [
      "C:\\Users\\joaon\\Anaconda3\\envs\\DL-illustrated\\lib\\site-packages\\tensorflow_core\\python\\framework\\indexed_slices.py:433: UserWarning: Converting sparse IndexedSlices to a dense Tensor of unknown shape. This may consume a large amount of memory.\n",
      "  \"Converting sparse IndexedSlices to a dense Tensor of unknown shape. \"\n"
     ]
    },
    {
     "name": "stdout",
     "output_type": "stream",
     "text": [
      "Epoch 1/2\n",
      "20000/20000 [==============================] - 4s 218us/step - loss: 0.6767 - accuracy: 0.5602\n",
      "Epoch 2/2\n",
      "20000/20000 [==============================] - 4s 212us/step - loss: 0.3631 - accuracy: 0.8492\n",
      "5000/5000 [==============================] - 0s 37us/step\n"
     ]
    },
    {
     "name": "stderr",
     "output_type": "stream",
     "text": [
      "C:\\Users\\joaon\\Anaconda3\\envs\\DL-illustrated\\lib\\site-packages\\tensorflow_core\\python\\framework\\indexed_slices.py:433: UserWarning: Converting sparse IndexedSlices to a dense Tensor of unknown shape. This may consume a large amount of memory.\n",
      "  \"Converting sparse IndexedSlices to a dense Tensor of unknown shape. \"\n"
     ]
    },
    {
     "name": "stdout",
     "output_type": "stream",
     "text": [
      "Epoch 1/2\n",
      "20000/20000 [==============================] - 4s 195us/step - loss: 0.6715 - accuracy: 0.5756\n",
      "Epoch 2/2\n",
      "20000/20000 [==============================] - 4s 187us/step - loss: 0.3640 - accuracy: 0.8515\n",
      "5000/5000 [==============================] - 0s 31us/step\n"
     ]
    },
    {
     "name": "stderr",
     "output_type": "stream",
     "text": [
      "C:\\Users\\joaon\\Anaconda3\\envs\\DL-illustrated\\lib\\site-packages\\tensorflow_core\\python\\framework\\indexed_slices.py:433: UserWarning: Converting sparse IndexedSlices to a dense Tensor of unknown shape. This may consume a large amount of memory.\n",
      "  \"Converting sparse IndexedSlices to a dense Tensor of unknown shape. \"\n"
     ]
    },
    {
     "name": "stdout",
     "output_type": "stream",
     "text": [
      "Epoch 1/2\n",
      "20000/20000 [==============================] - 4s 195us/step - loss: 0.6515 - accuracy: 0.5975\n",
      "Epoch 2/2\n",
      "20000/20000 [==============================] - 4s 184us/step - loss: 0.3412 - accuracy: 0.8658\n",
      "5000/5000 [==============================] - 0s 31us/step\n"
     ]
    },
    {
     "name": "stderr",
     "output_type": "stream",
     "text": [
      "C:\\Users\\joaon\\Anaconda3\\envs\\DL-illustrated\\lib\\site-packages\\tensorflow_core\\python\\framework\\indexed_slices.py:433: UserWarning: Converting sparse IndexedSlices to a dense Tensor of unknown shape. This may consume a large amount of memory.\n",
      "  \"Converting sparse IndexedSlices to a dense Tensor of unknown shape. \"\n"
     ]
    },
    {
     "name": "stdout",
     "output_type": "stream",
     "text": [
      "Epoch 1/2\n",
      "20000/20000 [==============================] - 4s 197us/step - loss: 0.6459 - accuracy: 0.6058\n",
      "Epoch 2/2\n",
      "20000/20000 [==============================] - 4s 213us/step - loss: 0.3482 - accuracy: 0.8621\n",
      "5000/5000 [==============================] - 0s 37us/step\n"
     ]
    },
    {
     "name": "stderr",
     "output_type": "stream",
     "text": [
      "C:\\Users\\joaon\\Anaconda3\\envs\\DL-illustrated\\lib\\site-packages\\tensorflow_core\\python\\framework\\indexed_slices.py:433: UserWarning: Converting sparse IndexedSlices to a dense Tensor of unknown shape. This may consume a large amount of memory.\n",
      "  \"Converting sparse IndexedSlices to a dense Tensor of unknown shape. \"\n"
     ]
    },
    {
     "name": "stdout",
     "output_type": "stream",
     "text": [
      "Epoch 1/2\n",
      "20000/20000 [==============================] - 5s 227us/step - loss: 0.6609 - accuracy: 0.5911\n",
      "Epoch 2/2\n",
      "20000/20000 [==============================] - 4s 213us/step - loss: 0.3607 - accuracy: 0.8543\n",
      "5000/5000 [==============================] - 0s 34us/step\n"
     ]
    },
    {
     "name": "stderr",
     "output_type": "stream",
     "text": [
      "C:\\Users\\joaon\\Anaconda3\\envs\\DL-illustrated\\lib\\site-packages\\tensorflow_core\\python\\framework\\indexed_slices.py:433: UserWarning: Converting sparse IndexedSlices to a dense Tensor of unknown shape. This may consume a large amount of memory.\n",
      "  \"Converting sparse IndexedSlices to a dense Tensor of unknown shape. \"\n"
     ]
    },
    {
     "name": "stdout",
     "output_type": "stream",
     "text": [
      "Epoch 1/2\n",
      "25000/25000 [==============================] - 5s 212us/step - loss: 0.6266 - accuracy: 0.6218\n",
      "Epoch 2/2\n",
      "25000/25000 [==============================] - 6s 229us/step - loss: 0.3228 - accuracy: 0.8708\n",
      "Wall time: 5min 47s\n"
     ]
    },
    {
     "data": {
      "text/plain": [
       "RandomizedSearchCV(cv=5, error_score=nan,\n",
       "                   estimator=<keras.wrappers.scikit_learn.KerasClassifier object at 0x000001BD2E5C76C8>,\n",
       "                   iid='deprecated', n_iter=10, n_jobs=None,\n",
       "                   param_distributions={'batch_size': [128],\n",
       "                                        'dropout': [0.2, 0.3, 0.4, 0.5, 0.6,\n",
       "                                                    0.7, 0.8],\n",
       "                                        'epochs': [2], 'n_dense': [64]},\n",
       "                   pre_dispatch='2*n_jobs', random_state=None, refit=True,\n",
       "                   return_train_score=False, scoring='roc_auc', verbose=0)"
      ]
     },
     "execution_count": 94,
     "metadata": {},
     "output_type": "execute_result"
    }
   ],
   "source": [
    "%%time\n",
    "\n",
    "rand_search.fit(x_train, y_train)"
   ]
  },
  {
   "cell_type": "code",
   "execution_count": 95,
   "metadata": {},
   "outputs": [
    {
     "data": {
      "text/plain": [
       "{'n_dense': 64, 'epochs': 2, 'dropout': 0.8, 'batch_size': 128}"
      ]
     },
     "execution_count": 95,
     "metadata": {},
     "output_type": "execute_result"
    }
   ],
   "source": [
    "rand_search.best_params_"
   ]
  },
  {
   "cell_type": "code",
   "execution_count": 96,
   "metadata": {},
   "outputs": [
    {
     "data": {
      "text/plain": [
       "0.931809343846745"
      ]
     },
     "execution_count": 96,
     "metadata": {},
     "output_type": "execute_result"
    }
   ],
   "source": [
    "rand_search.best_score_"
   ]
  },
  {
   "cell_type": "code",
   "execution_count": 97,
   "metadata": {},
   "outputs": [
    {
     "name": "stdout",
     "output_type": "stream",
     "text": [
      "╒══════════╤══════════════╤═══════════╤═══════════╤═══════════╕\n",
      "│   epochs │   batch_size │   n_dense │   dropout │   roc_auc │\n",
      "╞══════════╪══════════════╪═══════════╪═══════════╪═══════════╡\n",
      "│        2 │          128 │        64 │       0.8 │  0.931809 │\n",
      "├──────────┼──────────────┼───────────┼───────────┼───────────┤\n",
      "│        2 │          128 │        64 │       0.6 │  0.931699 │\n",
      "├──────────┼──────────────┼───────────┼───────────┼───────────┤\n",
      "│        2 │          128 │        64 │       0.7 │  0.931128 │\n",
      "├──────────┼──────────────┼───────────┼───────────┼───────────┤\n",
      "│        2 │          128 │        64 │       0.4 │  0.929987 │\n",
      "├──────────┼──────────────┼───────────┼───────────┼───────────┤\n",
      "│        2 │          128 │        64 │       0.5 │  0.929799 │\n",
      "├──────────┼──────────────┼───────────┼───────────┼───────────┤\n",
      "│        2 │          128 │        64 │       0.3 │  0.92869  │\n",
      "├──────────┼──────────────┼───────────┼───────────┼───────────┤\n",
      "│        2 │          128 │        64 │       0.2 │  0.925391 │\n",
      "╘══════════╧══════════════╧═══════════╧═══════════╧═══════════╛\n"
     ]
    }
   ],
   "source": [
    "# this function should have a different name...\n",
    "\n",
    "grid_search_results(rand_search.cv_results_)"
   ]
  },
  {
   "cell_type": "markdown",
   "metadata": {},
   "source": [
    "This time, the value 0.8 for `dropout` seems to allow to achieve the best result. Anyway, all values from 0.4 to 0.8 seem to allow for a good performance of our model."
   ]
  },
  {
   "cell_type": "markdown",
   "metadata": {},
   "source": [
    "Even with a random search, this hyperparameter tuning task seems to be quite time consuming.\n",
    "\n",
    "We can move to the **cloud** to see if we can complete the hyperparameter tuning in less time. With this improvement in computing resources, we can also try to tune **more complex models**. This will be our **step 3**."
   ]
  },
  {
   "cell_type": "markdown",
   "metadata": {},
   "source": [
    "### Step 3"
   ]
  },
  {
   "cell_type": "code",
   "execution_count": null,
   "metadata": {},
   "outputs": [],
   "source": []
  }
 ],
 "metadata": {
  "kernelspec": {
   "display_name": "Python 3",
   "language": "python",
   "name": "python3"
  },
  "language_info": {
   "codemirror_mode": {
    "name": "ipython",
    "version": 3
   },
   "file_extension": ".py",
   "mimetype": "text/x-python",
   "name": "python",
   "nbconvert_exporter": "python",
   "pygments_lexer": "ipython3",
   "version": "3.7.6"
  }
 },
 "nbformat": 4,
 "nbformat_minor": 4
}
