{
 "cells": [
  {
   "cell_type": "markdown",
   "metadata": {},
   "source": [
    "# Hyperparameter Tuning"
   ]
  },
  {
   "cell_type": "markdown",
   "metadata": {},
   "source": [
    "In this project we will test different approaches to hyperparameter tuning.\n",
    "\n",
    "We will use some of the models we've created in the [Text Classification with Neural Networks](https://github.com/j-n-t/natural_language_processing/blob/master/Text%20Classification%20with%20Neural%20Networks.ipynb) notebook and will try to improve their performance.\n",
    "\n",
    "In order to do that, we will test the following methods:\n",
    "\n",
    "* **Grid Search**\n",
    "* **Random Search**"
   ]
  },
  {
   "cell_type": "markdown",
   "metadata": {},
   "source": [
    "### Step 1"
   ]
  },
  {
   "cell_type": "markdown",
   "metadata": {},
   "source": [
    "#### 1. Perform initial imports"
   ]
  },
  {
   "cell_type": "code",
   "execution_count": 1,
   "metadata": {},
   "outputs": [
    {
     "name": "stderr",
     "output_type": "stream",
     "text": [
      "Using TensorFlow backend.\n"
     ]
    }
   ],
   "source": [
    "import keras\n",
    "from keras.datasets import imdb\n",
    "from keras.preprocessing.sequence import pad_sequences\n",
    "from keras.models import Sequential\n",
    "from keras.layers import Dense, Flatten, Dropout\n",
    "from keras.layers import Embedding\n",
    "from keras.layers import SpatialDropout1D, Conv1D, GlobalMaxPooling1D\n",
    "from keras.layers import LSTM\n",
    "from keras.layers.wrappers import Bidirectional\n",
    "from keras.callbacks import ModelCheckpoint\n",
    "from keras.wrappers.scikit_learn import KerasClassifier\n",
    "\n",
    "from sklearn.model_selection import GridSearchCV\n",
    "\n",
    "import os\n",
    "\n",
    "import numpy as np\n",
    "import pandas as pd"
   ]
  },
  {
   "cell_type": "markdown",
   "metadata": {},
   "source": [
    "#### 2. Load data"
   ]
  },
  {
   "cell_type": "code",
   "execution_count": 2,
   "metadata": {},
   "outputs": [],
   "source": [
    "# create function to load data\n",
    "\n",
    "def load_data(n_unique_words):\n",
    "    (x_train, y_train), (x_test, y_test) = imdb.load_data(num_words=n_unique_words)\n",
    "    return (x_train, y_train), (x_test, y_test)"
   ]
  },
  {
   "cell_type": "code",
   "execution_count": 3,
   "metadata": {},
   "outputs": [],
   "source": [
    "n_unique_words = 10000 #number of most frequent words to consider\n",
    "\n",
    "(x_train, y_train), (x_test, y_test) = load_data(n_unique_words)"
   ]
  },
  {
   "cell_type": "code",
   "execution_count": 4,
   "metadata": {},
   "outputs": [
    {
     "data": {
      "text/plain": [
       "218"
      ]
     },
     "execution_count": 4,
     "metadata": {},
     "output_type": "execute_result"
    }
   ],
   "source": [
    "len(x_train[0])"
   ]
  },
  {
   "cell_type": "markdown",
   "metadata": {},
   "source": [
    "#### 3. Preprocess data"
   ]
  },
  {
   "cell_type": "code",
   "execution_count": 5,
   "metadata": {},
   "outputs": [],
   "source": [
    "# create function to preprocess data\n",
    "\n",
    "def preprocess_data(x_train, x_test, max_review_length, pad_type, trunc_type):\n",
    "    x_train = pad_sequences(x_train, maxlen=max_review_length, \n",
    "                            padding=pad_type, truncating=trunc_type, value=0)\n",
    "\n",
    "    x_test = pad_sequences(x_test, maxlen=max_review_length, \n",
    "                           padding=pad_type, truncating=trunc_type, value=0)\n",
    "    \n",
    "    return x_train, x_test"
   ]
  },
  {
   "cell_type": "code",
   "execution_count": 6,
   "metadata": {},
   "outputs": [],
   "source": [
    "max_review_length = 100 #maximum review length of 100 words\n",
    "pad_type = 'pre' #add padding characters to the start of every review < 100 words\n",
    "trunc_type = 'pre' #remove words from the beginning of every review > 100 words\n",
    "\n",
    "x_train, x_test = preprocess_data(x_train, x_test, max_review_length, pad_type, trunc_type)"
   ]
  },
  {
   "cell_type": "code",
   "execution_count": 7,
   "metadata": {},
   "outputs": [
    {
     "data": {
      "text/plain": [
       "array([1415,   33,    6,   22,   12,  215,   28,   77,   52,    5,   14,\n",
       "        407,   16,   82,    2,    8,    4,  107,  117, 5952,   15,  256,\n",
       "          4,    2,    7, 3766,    5,  723,   36,   71,   43,  530,  476,\n",
       "         26,  400,  317,   46,    7,    4,    2, 1029,   13,  104,   88,\n",
       "          4,  381,   15,  297,   98,   32, 2071,   56,   26,  141,    6,\n",
       "        194, 7486,   18,    4,  226,   22,   21,  134,  476,   26,  480,\n",
       "          5,  144,   30, 5535,   18,   51,   36,   28,  224,   92,   25,\n",
       "        104,    4,  226,   65,   16,   38, 1334,   88,   12,   16,  283,\n",
       "          5,   16, 4472,  113,  103,   32,   15,   16, 5345,   19,  178,\n",
       "         32])"
      ]
     },
     "execution_count": 7,
     "metadata": {},
     "output_type": "execute_result"
    }
   ],
   "source": [
    "x_train[0]"
   ]
  },
  {
   "cell_type": "code",
   "execution_count": 8,
   "metadata": {},
   "outputs": [
    {
     "data": {
      "text/plain": [
       "100"
      ]
     },
     "execution_count": 8,
     "metadata": {},
     "output_type": "execute_result"
    }
   ],
   "source": [
    "len(x_train[0])"
   ]
  },
  {
   "cell_type": "markdown",
   "metadata": {},
   "source": [
    "#### 4. Design and compile model"
   ]
  },
  {
   "cell_type": "code",
   "execution_count": 9,
   "metadata": {},
   "outputs": [],
   "source": [
    "def create_model(dropout=0.5, n_dense=64):\n",
    "\n",
    "    model = Sequential(name='model_dense')\n",
    "    \n",
    "    model.add(Embedding(10000, 64, input_length=100))\n",
    "    model.add(Flatten())\n",
    "    \n",
    "    model.add(Dense(n_dense, activation='relu'))\n",
    "    model.add(Dropout(dropout))\n",
    "    \n",
    "    model.add(Dense(1, activation='sigmoid'))\n",
    "    \n",
    "    model.compile(loss='binary_crossentropy', optimizer='adam', metrics=['accuracy'])\n",
    "    \n",
    "    return model"
   ]
  },
  {
   "cell_type": "markdown",
   "metadata": {},
   "source": [
    "#### 5. Create model"
   ]
  },
  {
   "cell_type": "code",
   "execution_count": 10,
   "metadata": {},
   "outputs": [],
   "source": [
    "model = KerasClassifier(build_fn=create_model, verbose=1)"
   ]
  },
  {
   "cell_type": "markdown",
   "metadata": {},
   "source": [
    "#### 6. Define grid search parameters: `epochs` and `batch_size`"
   ]
  },
  {
   "cell_type": "code",
   "execution_count": 11,
   "metadata": {},
   "outputs": [],
   "source": [
    "epochs = [4, 6]\n",
    "batch_size = [64, 128]\n",
    "\n",
    "param_grid = {'batch_size': batch_size, 'epochs': epochs}"
   ]
  },
  {
   "cell_type": "code",
   "execution_count": 12,
   "metadata": {},
   "outputs": [
    {
     "data": {
      "text/plain": [
       "{'batch_size': [64, 128], 'epochs': [4, 6]}"
      ]
     },
     "execution_count": 12,
     "metadata": {},
     "output_type": "execute_result"
    }
   ],
   "source": [
    "param_grid"
   ]
  },
  {
   "cell_type": "code",
   "execution_count": 13,
   "metadata": {},
   "outputs": [],
   "source": [
    "grid_search = GridSearchCV(model, param_grid, cv=3, scoring = 'roc_auc')"
   ]
  },
  {
   "cell_type": "markdown",
   "metadata": {},
   "source": [
    "#### 7. Perform grid search and print results"
   ]
  },
  {
   "cell_type": "code",
   "execution_count": 14,
   "metadata": {},
   "outputs": [
    {
     "name": "stderr",
     "output_type": "stream",
     "text": [
      "C:\\Users\\joaon\\Anaconda3\\envs\\DL-illustrated\\lib\\site-packages\\tensorflow_core\\python\\framework\\indexed_slices.py:433: UserWarning: Converting sparse IndexedSlices to a dense Tensor of unknown shape. This may consume a large amount of memory.\n",
      "  \"Converting sparse IndexedSlices to a dense Tensor of unknown shape. \"\n"
     ]
    },
    {
     "name": "stdout",
     "output_type": "stream",
     "text": [
      "Epoch 1/4\n",
      "16666/16666 [==============================] - 6s 349us/step - loss: 0.5079 - accuracy: 0.7365\n",
      "Epoch 2/4\n",
      "16666/16666 [==============================] - 5s 316us/step - loss: 0.1757 - accuracy: 0.9372\n",
      "Epoch 3/4\n",
      "16666/16666 [==============================] - 5s 316us/step - loss: 0.0286 - accuracy: 0.9951\n",
      "Epoch 4/4\n",
      "16666/16666 [==============================] - 5s 326us/step - loss: 0.0051 - accuracy: 0.9998\n",
      "8334/8334 [==============================] - 0s 32us/step\n"
     ]
    },
    {
     "name": "stderr",
     "output_type": "stream",
     "text": [
      "C:\\Users\\joaon\\Anaconda3\\envs\\DL-illustrated\\lib\\site-packages\\tensorflow_core\\python\\framework\\indexed_slices.py:433: UserWarning: Converting sparse IndexedSlices to a dense Tensor of unknown shape. This may consume a large amount of memory.\n",
      "  \"Converting sparse IndexedSlices to a dense Tensor of unknown shape. \"\n"
     ]
    },
    {
     "name": "stdout",
     "output_type": "stream",
     "text": [
      "Epoch 1/4\n",
      "16667/16667 [==============================] - 5s 325us/step - loss: 0.5050 - accuracy: 0.7350\n",
      "Epoch 2/4\n",
      "16667/16667 [==============================] - 6s 340us/step - loss: 0.1725 - accuracy: 0.9356\n",
      "Epoch 3/4\n",
      "16667/16667 [==============================] - 5s 326us/step - loss: 0.0239 - accuracy: 0.9966\n",
      "Epoch 4/4\n",
      "16667/16667 [==============================] - 5s 329us/step - loss: 0.0047 - accuracy: 0.9999\n",
      "8333/8333 [==============================] - 0s 34us/step\n"
     ]
    },
    {
     "name": "stderr",
     "output_type": "stream",
     "text": [
      "C:\\Users\\joaon\\Anaconda3\\envs\\DL-illustrated\\lib\\site-packages\\tensorflow_core\\python\\framework\\indexed_slices.py:433: UserWarning: Converting sparse IndexedSlices to a dense Tensor of unknown shape. This may consume a large amount of memory.\n",
      "  \"Converting sparse IndexedSlices to a dense Tensor of unknown shape. \"\n"
     ]
    },
    {
     "name": "stdout",
     "output_type": "stream",
     "text": [
      "Epoch 1/4\n",
      "16667/16667 [==============================] - 5s 314us/step - loss: 0.5151 - accuracy: 0.7240\n",
      "Epoch 2/4\n",
      "16667/16667 [==============================] - 5s 321us/step - loss: 0.1790 - accuracy: 0.9344\n",
      "Epoch 3/4\n",
      "16667/16667 [==============================] - 6s 375us/step - loss: 0.0274 - accuracy: 0.9947\n",
      "Epoch 4/4\n",
      "16667/16667 [==============================] - 6s 379us/step - loss: 0.0053 - accuracy: 0.9998\n",
      "8333/8333 [==============================] - 0s 51us/step\n"
     ]
    },
    {
     "name": "stderr",
     "output_type": "stream",
     "text": [
      "C:\\Users\\joaon\\Anaconda3\\envs\\DL-illustrated\\lib\\site-packages\\tensorflow_core\\python\\framework\\indexed_slices.py:433: UserWarning: Converting sparse IndexedSlices to a dense Tensor of unknown shape. This may consume a large amount of memory.\n",
      "  \"Converting sparse IndexedSlices to a dense Tensor of unknown shape. \"\n"
     ]
    },
    {
     "name": "stdout",
     "output_type": "stream",
     "text": [
      "Epoch 1/6\n",
      "16666/16666 [==============================] - 6s 387us/step - loss: 0.5089 - accuracy: 0.7303\n",
      "Epoch 2/6\n",
      "16666/16666 [==============================] - 6s 352us/step - loss: 0.1744 - accuracy: 0.9365\n",
      "Epoch 3/6\n",
      "16666/16666 [==============================] - 6s 345us/step - loss: 0.0272 - accuracy: 0.9951\n",
      "Epoch 4/6\n",
      "16666/16666 [==============================] - 6s 338us/step - loss: 0.0055 - accuracy: 0.9996\n",
      "Epoch 5/6\n",
      "16666/16666 [==============================] - 6s 337us/step - loss: 0.0020 - accuracy: 1.0000\n",
      "Epoch 6/6\n",
      "16666/16666 [==============================] - 6s 336us/step - loss: 0.0012 - accuracy: 1.0000\n",
      "8334/8334 [==============================] - 0s 36us/step\n"
     ]
    },
    {
     "name": "stderr",
     "output_type": "stream",
     "text": [
      "C:\\Users\\joaon\\Anaconda3\\envs\\DL-illustrated\\lib\\site-packages\\tensorflow_core\\python\\framework\\indexed_slices.py:433: UserWarning: Converting sparse IndexedSlices to a dense Tensor of unknown shape. This may consume a large amount of memory.\n",
      "  \"Converting sparse IndexedSlices to a dense Tensor of unknown shape. \"\n"
     ]
    },
    {
     "name": "stdout",
     "output_type": "stream",
     "text": [
      "Epoch 1/6\n",
      "16667/16667 [==============================] - 5s 320us/step - loss: 0.5215 - accuracy: 0.7216\n",
      "Epoch 2/6\n",
      "16667/16667 [==============================] - 5s 318us/step - loss: 0.1839 - accuracy: 0.9332\n",
      "Epoch 3/6\n",
      "16667/16667 [==============================] - 6s 334us/step - loss: 0.0299 - accuracy: 0.9948\n",
      "Epoch 4/6\n",
      "16667/16667 [==============================] - 5s 325us/step - loss: 0.0056 - accuracy: 0.9998\n",
      "Epoch 5/6\n",
      "16667/16667 [==============================] - 5s 319us/step - loss: 0.0023 - accuracy: 1.0000\n",
      "Epoch 6/6\n",
      "16667/16667 [==============================] - 6s 333us/step - loss: 0.0012 - accuracy: 1.0000\n",
      "8333/8333 [==============================] - 0s 34us/step\n"
     ]
    },
    {
     "name": "stderr",
     "output_type": "stream",
     "text": [
      "C:\\Users\\joaon\\Anaconda3\\envs\\DL-illustrated\\lib\\site-packages\\tensorflow_core\\python\\framework\\indexed_slices.py:433: UserWarning: Converting sparse IndexedSlices to a dense Tensor of unknown shape. This may consume a large amount of memory.\n",
      "  \"Converting sparse IndexedSlices to a dense Tensor of unknown shape. \"\n"
     ]
    },
    {
     "name": "stdout",
     "output_type": "stream",
     "text": [
      "Epoch 1/6\n",
      "16667/16667 [==============================] - 6s 377us/step - loss: 0.5168 - accuracy: 0.7266\n",
      "Epoch 2/6\n",
      "16667/16667 [==============================] - 6s 368us/step - loss: 0.1790 - accuracy: 0.9359\n",
      "Epoch 3/6\n",
      "16667/16667 [==============================] - 6s 362us/step - loss: 0.0273 - accuracy: 0.9953\n",
      "Epoch 4/6\n",
      "16667/16667 [==============================] - 6s 336us/step - loss: 0.0059 - accuracy: 0.9996\n",
      "Epoch 5/6\n",
      "16667/16667 [==============================] - 5s 330us/step - loss: 0.0021 - accuracy: 1.0000\n",
      "Epoch 6/6\n",
      "16667/16667 [==============================] - 6s 334us/step - loss: 0.0013 - accuracy: 0.9999\n",
      "8333/8333 [==============================] - 0s 36us/step\n"
     ]
    },
    {
     "name": "stderr",
     "output_type": "stream",
     "text": [
      "C:\\Users\\joaon\\Anaconda3\\envs\\DL-illustrated\\lib\\site-packages\\tensorflow_core\\python\\framework\\indexed_slices.py:433: UserWarning: Converting sparse IndexedSlices to a dense Tensor of unknown shape. This may consume a large amount of memory.\n",
      "  \"Converting sparse IndexedSlices to a dense Tensor of unknown shape. \"\n"
     ]
    },
    {
     "name": "stdout",
     "output_type": "stream",
     "text": [
      "Epoch 1/4\n",
      "16666/16666 [==============================] - 3s 189us/step - loss: 0.5810 - accuracy: 0.6734\n",
      "Epoch 2/4\n",
      "16666/16666 [==============================] - 3s 181us/step - loss: 0.2362 - accuracy: 0.9080\n",
      "Epoch 3/4\n",
      "16666/16666 [==============================] - 3s 186us/step - loss: 0.0582 - accuracy: 0.9868\n",
      "Epoch 4/4\n",
      "16666/16666 [==============================] - 3s 187us/step - loss: 0.0117 - accuracy: 0.9993\n",
      "8334/8334 [==============================] - 0s 24us/step\n"
     ]
    },
    {
     "name": "stderr",
     "output_type": "stream",
     "text": [
      "C:\\Users\\joaon\\Anaconda3\\envs\\DL-illustrated\\lib\\site-packages\\tensorflow_core\\python\\framework\\indexed_slices.py:433: UserWarning: Converting sparse IndexedSlices to a dense Tensor of unknown shape. This may consume a large amount of memory.\n",
      "  \"Converting sparse IndexedSlices to a dense Tensor of unknown shape. \"\n"
     ]
    },
    {
     "name": "stdout",
     "output_type": "stream",
     "text": [
      "Epoch 1/4\n",
      "16667/16667 [==============================] - 3s 186us/step - loss: 0.5759 - accuracy: 0.6837\n",
      "Epoch 2/4\n",
      "16667/16667 [==============================] - 3s 184us/step - loss: 0.2335 - accuracy: 0.9102\n",
      "Epoch 3/4\n",
      "16667/16667 [==============================] - 3s 187us/step - loss: 0.0580 - accuracy: 0.9881\n",
      "Epoch 4/4\n",
      "16667/16667 [==============================] - 3s 183us/step - loss: 0.0130 - accuracy: 0.9991\n",
      "8333/8333 [==============================] - 0s 30us/step\n"
     ]
    },
    {
     "name": "stderr",
     "output_type": "stream",
     "text": [
      "C:\\Users\\joaon\\Anaconda3\\envs\\DL-illustrated\\lib\\site-packages\\tensorflow_core\\python\\framework\\indexed_slices.py:433: UserWarning: Converting sparse IndexedSlices to a dense Tensor of unknown shape. This may consume a large amount of memory.\n",
      "  \"Converting sparse IndexedSlices to a dense Tensor of unknown shape. \"\n"
     ]
    },
    {
     "name": "stdout",
     "output_type": "stream",
     "text": [
      "Epoch 1/4\n",
      "16667/16667 [==============================] - 3s 187us/step - loss: 0.5677 - accuracy: 0.6861\n",
      "Epoch 2/4\n",
      "16667/16667 [==============================] - 3s 183us/step - loss: 0.2265 - accuracy: 0.9142\n",
      "Epoch 3/4\n",
      "16667/16667 [==============================] - 3s 185us/step - loss: 0.0553 - accuracy: 0.9884\n",
      "Epoch 4/4\n",
      "16667/16667 [==============================] - 3s 181us/step - loss: 0.0119 - accuracy: 0.9992\n",
      "8333/8333 [==============================] - 0s 26us/step\n"
     ]
    },
    {
     "name": "stderr",
     "output_type": "stream",
     "text": [
      "C:\\Users\\joaon\\Anaconda3\\envs\\DL-illustrated\\lib\\site-packages\\tensorflow_core\\python\\framework\\indexed_slices.py:433: UserWarning: Converting sparse IndexedSlices to a dense Tensor of unknown shape. This may consume a large amount of memory.\n",
      "  \"Converting sparse IndexedSlices to a dense Tensor of unknown shape. \"\n"
     ]
    },
    {
     "name": "stdout",
     "output_type": "stream",
     "text": [
      "Epoch 1/6\n",
      "16666/16666 [==============================] - 3s 185us/step - loss: 0.5651 - accuracy: 0.6900\n",
      "Epoch 2/6\n",
      "16666/16666 [==============================] - 3s 189us/step - loss: 0.2260 - accuracy: 0.9150\n",
      "Epoch 3/6\n",
      "16666/16666 [==============================] - 3s 183us/step - loss: 0.0553 - accuracy: 0.9894\n",
      "Epoch 4/6\n",
      "16666/16666 [==============================] - 3s 180us/step - loss: 0.0118 - accuracy: 0.9993\n",
      "Epoch 5/6\n",
      "16666/16666 [==============================] - 3s 185us/step - loss: 0.0043 - accuracy: 1.0000\n",
      "Epoch 6/6\n",
      "16666/16666 [==============================] - 3s 188us/step - loss: 0.0026 - accuracy: 1.0000\n",
      "8334/8334 [==============================] - 0s 26us/step\n"
     ]
    },
    {
     "name": "stderr",
     "output_type": "stream",
     "text": [
      "C:\\Users\\joaon\\Anaconda3\\envs\\DL-illustrated\\lib\\site-packages\\tensorflow_core\\python\\framework\\indexed_slices.py:433: UserWarning: Converting sparse IndexedSlices to a dense Tensor of unknown shape. This may consume a large amount of memory.\n",
      "  \"Converting sparse IndexedSlices to a dense Tensor of unknown shape. \"\n"
     ]
    },
    {
     "name": "stdout",
     "output_type": "stream",
     "text": [
      "Epoch 1/6\n",
      "16667/16667 [==============================] - 3s 188us/step - loss: 0.5765 - accuracy: 0.6783\n",
      "Epoch 2/6\n",
      "16667/16667 [==============================] - 3s 183us/step - loss: 0.2367 - accuracy: 0.9084\n",
      "Epoch 3/6\n",
      "16667/16667 [==============================] - 3s 185us/step - loss: 0.0569 - accuracy: 0.9895\n",
      "Epoch 4/6\n",
      "16667/16667 [==============================] - 3s 187us/step - loss: 0.0128 - accuracy: 0.9993\n",
      "Epoch 5/6\n",
      "16667/16667 [==============================] - 3s 184us/step - loss: 0.0047 - accuracy: 1.0000\n",
      "Epoch 6/6\n",
      "16667/16667 [==============================] - 3s 181us/step - loss: 0.0027 - accuracy: 1.0000\n",
      "8333/8333 [==============================] - 0s 28us/step\n"
     ]
    },
    {
     "name": "stderr",
     "output_type": "stream",
     "text": [
      "C:\\Users\\joaon\\Anaconda3\\envs\\DL-illustrated\\lib\\site-packages\\tensorflow_core\\python\\framework\\indexed_slices.py:433: UserWarning: Converting sparse IndexedSlices to a dense Tensor of unknown shape. This may consume a large amount of memory.\n",
      "  \"Converting sparse IndexedSlices to a dense Tensor of unknown shape. \"\n"
     ]
    },
    {
     "name": "stdout",
     "output_type": "stream",
     "text": [
      "Epoch 1/6\n",
      "16667/16667 [==============================] - 3s 184us/step - loss: 0.5774 - accuracy: 0.6834\n",
      "Epoch 2/6\n",
      "16667/16667 [==============================] - 3s 180us/step - loss: 0.2342 - accuracy: 0.9085\n",
      "Epoch 3/6\n",
      "16667/16667 [==============================] - 3s 180us/step - loss: 0.0565 - accuracy: 0.9883\n",
      "Epoch 4/6\n",
      "16667/16667 [==============================] - 3s 199us/step - loss: 0.0120 - accuracy: 0.9993\n",
      "Epoch 5/6\n",
      "16667/16667 [==============================] - 4s 234us/step - loss: 0.0045 - accuracy: 0.9999\n",
      "Epoch 6/6\n",
      "16667/16667 [==============================] - 4s 222us/step - loss: 0.0026 - accuracy: 0.9999\n",
      "8333/8333 [==============================] - 0s 26us/step\n"
     ]
    },
    {
     "name": "stderr",
     "output_type": "stream",
     "text": [
      "C:\\Users\\joaon\\Anaconda3\\envs\\DL-illustrated\\lib\\site-packages\\tensorflow_core\\python\\framework\\indexed_slices.py:433: UserWarning: Converting sparse IndexedSlices to a dense Tensor of unknown shape. This may consume a large amount of memory.\n",
      "  \"Converting sparse IndexedSlices to a dense Tensor of unknown shape. \"\n"
     ]
    },
    {
     "name": "stdout",
     "output_type": "stream",
     "text": [
      "Epoch 1/4\n",
      "25000/25000 [==============================] - 5s 184us/step - loss: 0.5067 - accuracy: 0.7274\n",
      "Epoch 2/4\n",
      "25000/25000 [==============================] - 5s 182us/step - loss: 0.2070 - accuracy: 0.9233\n",
      "Epoch 3/4\n",
      "25000/25000 [==============================] - 5s 185us/step - loss: 0.0533 - accuracy: 0.9876\n",
      "Epoch 4/4\n",
      "25000/25000 [==============================] - 5s 185us/step - loss: 0.0099 - accuracy: 0.9991\n"
     ]
    },
    {
     "data": {
      "text/plain": [
       "GridSearchCV(cv=3, error_score=nan,\n",
       "             estimator=<keras.wrappers.scikit_learn.KerasClassifier object at 0x0000021297ED7048>,\n",
       "             iid='deprecated', n_jobs=None,\n",
       "             param_grid={'batch_size': [64, 128], 'epochs': [4, 6]},\n",
       "             pre_dispatch='2*n_jobs', refit=True, return_train_score=False,\n",
       "             scoring='roc_auc', verbose=0)"
      ]
     },
     "execution_count": 14,
     "metadata": {},
     "output_type": "execute_result"
    }
   ],
   "source": [
    "grid_search.fit(x_train, y_train)"
   ]
  },
  {
   "cell_type": "code",
   "execution_count": 15,
   "metadata": {},
   "outputs": [
    {
     "data": {
      "text/plain": [
       "{'batch_size': 128, 'epochs': 4}"
      ]
     },
     "execution_count": 15,
     "metadata": {},
     "output_type": "execute_result"
    }
   ],
   "source": [
    "grid_search.best_params_"
   ]
  },
  {
   "cell_type": "code",
   "execution_count": 18,
   "metadata": {},
   "outputs": [],
   "source": [
    "# create function to print results\n",
    "\n",
    "import tabulate\n",
    "\n",
    "def grid_search_results(cvres):\n",
    "    \n",
    "    columns = []\n",
    "    table = []\n",
    "    \n",
    "    for key in param_grid.keys():\n",
    "\n",
    "        columns.append(key)\n",
    "    \n",
    "    columns.append(grid_search.scoring)\n",
    "\n",
    "    for mean_score, params in sorted(zip(cvres['mean_test_score'], cvres['params']), reverse=True):\n",
    "        \n",
    "        row = []\n",
    "\n",
    "        for key in param_grid.keys():\n",
    "            \n",
    "            row.append(params[key])\n",
    "        \n",
    "        row.append(mean_score)\n",
    "        table.append(row)\n",
    "            \n",
    "    print(tabulate.tabulate(table, headers=columns))"
   ]
  },
  {
   "cell_type": "code",
   "execution_count": 19,
   "metadata": {},
   "outputs": [
    {
     "name": "stdout",
     "output_type": "stream",
     "text": [
      "  batch_size    epochs    roc_auc\n",
      "------------  --------  ---------\n",
      "         128         4   0.921958\n",
      "         128         6   0.921423\n",
      "          64         6   0.921402\n",
      "          64         4   0.920898\n"
     ]
    }
   ],
   "source": [
    "grid_search_results(grid_search.cv_results_)"
   ]
  },
  {
   "cell_type": "markdown",
   "metadata": {},
   "source": [
    "#### 8. Create model"
   ]
  },
  {
   "cell_type": "code",
   "execution_count": 20,
   "metadata": {},
   "outputs": [],
   "source": [
    "model = KerasClassifier(build_fn=create_model, epochs=4, batch_size=128, verbose=1)"
   ]
  },
  {
   "cell_type": "markdown",
   "metadata": {},
   "source": [
    "#### 9. Define grid search parameters: `n_dense` and `dropout`"
   ]
  },
  {
   "cell_type": "code",
   "execution_count": 21,
   "metadata": {},
   "outputs": [],
   "source": [
    "n_dense = [64, 128]\n",
    "dropout = [0.2, 0.5]\n",
    "\n",
    "param_grid = {'n_dense': n_dense, 'dropout': dropout}"
   ]
  },
  {
   "cell_type": "code",
   "execution_count": 22,
   "metadata": {},
   "outputs": [
    {
     "data": {
      "text/plain": [
       "{'n_dense': [64, 128], 'dropout': [0.2, 0.5]}"
      ]
     },
     "execution_count": 22,
     "metadata": {},
     "output_type": "execute_result"
    }
   ],
   "source": [
    "param_grid"
   ]
  },
  {
   "cell_type": "code",
   "execution_count": 23,
   "metadata": {},
   "outputs": [],
   "source": [
    "grid_search = GridSearchCV(model, param_grid, cv=3, scoring = 'roc_auc')"
   ]
  },
  {
   "cell_type": "markdown",
   "metadata": {},
   "source": [
    "#### 10. Perform grid search and print results"
   ]
  },
  {
   "cell_type": "code",
   "execution_count": 24,
   "metadata": {},
   "outputs": [
    {
     "name": "stderr",
     "output_type": "stream",
     "text": [
      "C:\\Users\\joaon\\Anaconda3\\envs\\DL-illustrated\\lib\\site-packages\\tensorflow_core\\python\\framework\\indexed_slices.py:433: UserWarning: Converting sparse IndexedSlices to a dense Tensor of unknown shape. This may consume a large amount of memory.\n",
      "  \"Converting sparse IndexedSlices to a dense Tensor of unknown shape. \"\n"
     ]
    },
    {
     "name": "stdout",
     "output_type": "stream",
     "text": [
      "Epoch 1/4\n",
      "16666/16666 [==============================] - 3s 196us/step - loss: 0.5455 - accuracy: 0.7014\n",
      "Epoch 2/4\n",
      "16666/16666 [==============================] - 3s 180us/step - loss: 0.1944 - accuracy: 0.9301\n",
      "Epoch 3/4\n",
      "16666/16666 [==============================] - 3s 168us/step - loss: 0.0329 - accuracy: 0.9956\n",
      "Epoch 4/4\n",
      "16666/16666 [==============================] - 3s 190us/step - loss: 0.0057 - accuracy: 0.9998\n",
      "8334/8334 [==============================] - 0s 30us/step\n"
     ]
    },
    {
     "name": "stderr",
     "output_type": "stream",
     "text": [
      "C:\\Users\\joaon\\Anaconda3\\envs\\DL-illustrated\\lib\\site-packages\\tensorflow_core\\python\\framework\\indexed_slices.py:433: UserWarning: Converting sparse IndexedSlices to a dense Tensor of unknown shape. This may consume a large amount of memory.\n",
      "  \"Converting sparse IndexedSlices to a dense Tensor of unknown shape. \"\n"
     ]
    },
    {
     "name": "stdout",
     "output_type": "stream",
     "text": [
      "Epoch 1/4\n",
      "16667/16667 [==============================] - 3s 188us/step - loss: 0.5372 - accuracy: 0.7077\n",
      "Epoch 2/4\n",
      "16667/16667 [==============================] - 3s 181us/step - loss: 0.1915 - accuracy: 0.9297\n",
      "Epoch 3/4\n",
      "16667/16667 [==============================] - 3s 171us/step - loss: 0.0326 - accuracy: 0.9954\n",
      "Epoch 4/4\n",
      "16667/16667 [==============================] - 3s 178us/step - loss: 0.0062 - accuracy: 0.9999\n",
      "8333/8333 [==============================] - 0s 26us/step\n"
     ]
    },
    {
     "name": "stderr",
     "output_type": "stream",
     "text": [
      "C:\\Users\\joaon\\Anaconda3\\envs\\DL-illustrated\\lib\\site-packages\\tensorflow_core\\python\\framework\\indexed_slices.py:433: UserWarning: Converting sparse IndexedSlices to a dense Tensor of unknown shape. This may consume a large amount of memory.\n",
      "  \"Converting sparse IndexedSlices to a dense Tensor of unknown shape. \"\n"
     ]
    },
    {
     "name": "stdout",
     "output_type": "stream",
     "text": [
      "Epoch 1/4\n",
      "16667/16667 [==============================] - 3s 178us/step - loss: 0.5380 - accuracy: 0.7103\n",
      "Epoch 2/4\n",
      "16667/16667 [==============================] - 3s 172us/step - loss: 0.1922 - accuracy: 0.9293\n",
      "Epoch 3/4\n",
      "16667/16667 [==============================] - 3s 170us/step - loss: 0.0322 - accuracy: 0.9953\n",
      "Epoch 4/4\n",
      "16667/16667 [==============================] - 3s 170us/step - loss: 0.0062 - accuracy: 0.9998\n",
      "8333/8333 [==============================] - 0s 24us/step\n"
     ]
    },
    {
     "name": "stderr",
     "output_type": "stream",
     "text": [
      "C:\\Users\\joaon\\Anaconda3\\envs\\DL-illustrated\\lib\\site-packages\\tensorflow_core\\python\\framework\\indexed_slices.py:433: UserWarning: Converting sparse IndexedSlices to a dense Tensor of unknown shape. This may consume a large amount of memory.\n",
      "  \"Converting sparse IndexedSlices to a dense Tensor of unknown shape. \"\n"
     ]
    },
    {
     "name": "stdout",
     "output_type": "stream",
     "text": [
      "Epoch 1/4\n",
      "16666/16666 [==============================] - 4s 226us/step - loss: 0.5131 - accuracy: 0.7290\n",
      "Epoch 2/4\n",
      "16666/16666 [==============================] - 4s 248us/step - loss: 0.1598 - accuracy: 0.9451\n",
      "Epoch 3/4\n",
      "16666/16666 [==============================] - 4s 227us/step - loss: 0.0208 - accuracy: 0.9973\n",
      "Epoch 4/4\n",
      "16666/16666 [==============================] - 4s 215us/step - loss: 0.0034 - accuracy: 1.0000\n",
      "8334/8334 [==============================] - 0s 36us/step\n"
     ]
    },
    {
     "name": "stderr",
     "output_type": "stream",
     "text": [
      "C:\\Users\\joaon\\Anaconda3\\envs\\DL-illustrated\\lib\\site-packages\\tensorflow_core\\python\\framework\\indexed_slices.py:433: UserWarning: Converting sparse IndexedSlices to a dense Tensor of unknown shape. This may consume a large amount of memory.\n",
      "  \"Converting sparse IndexedSlices to a dense Tensor of unknown shape. \"\n"
     ]
    },
    {
     "name": "stdout",
     "output_type": "stream",
     "text": [
      "Epoch 1/4\n",
      "16667/16667 [==============================] - 4s 242us/step - loss: 0.5351 - accuracy: 0.7116\n",
      "Epoch 2/4\n",
      "16667/16667 [==============================] - 4s 238us/step - loss: 0.1723 - accuracy: 0.9383\n",
      "Epoch 3/4\n",
      "16667/16667 [==============================] - 4s 241us/step - loss: 0.0216 - accuracy: 0.9972\n",
      "Epoch 4/4\n",
      "16667/16667 [==============================] - 4s 239us/step - loss: 0.0035 - accuracy: 0.9999\n",
      "8333/8333 [==============================] - 0s 32us/step\n"
     ]
    },
    {
     "name": "stderr",
     "output_type": "stream",
     "text": [
      "C:\\Users\\joaon\\Anaconda3\\envs\\DL-illustrated\\lib\\site-packages\\tensorflow_core\\python\\framework\\indexed_slices.py:433: UserWarning: Converting sparse IndexedSlices to a dense Tensor of unknown shape. This may consume a large amount of memory.\n",
      "  \"Converting sparse IndexedSlices to a dense Tensor of unknown shape. \"\n"
     ]
    },
    {
     "name": "stdout",
     "output_type": "stream",
     "text": [
      "Epoch 1/4\n",
      "16667/16667 [==============================] - 4s 236us/step - loss: 0.5335 - accuracy: 0.7091\n",
      "Epoch 2/4\n",
      "16667/16667 [==============================] - 4s 254us/step - loss: 0.1694 - accuracy: 0.9387\n",
      "Epoch 3/4\n",
      "16667/16667 [==============================] - 4s 249us/step - loss: 0.0204 - accuracy: 0.9972\n",
      "Epoch 4/4\n",
      "16667/16667 [==============================] - 4s 242us/step - loss: 0.0033 - accuracy: 0.9999\n",
      "8333/8333 [==============================] - 0s 34us/step\n"
     ]
    },
    {
     "name": "stderr",
     "output_type": "stream",
     "text": [
      "C:\\Users\\joaon\\Anaconda3\\envs\\DL-illustrated\\lib\\site-packages\\tensorflow_core\\python\\framework\\indexed_slices.py:433: UserWarning: Converting sparse IndexedSlices to a dense Tensor of unknown shape. This may consume a large amount of memory.\n",
      "  \"Converting sparse IndexedSlices to a dense Tensor of unknown shape. \"\n"
     ]
    },
    {
     "name": "stdout",
     "output_type": "stream",
     "text": [
      "Epoch 1/4\n",
      "16666/16666 [==============================] - 3s 186us/step - loss: 0.5649 - accuracy: 0.6876\n",
      "Epoch 2/4\n",
      "16666/16666 [==============================] - 3s 187us/step - loss: 0.2260 - accuracy: 0.9138\n",
      "Epoch 3/4\n",
      "16666/16666 [==============================] - 4s 229us/step - loss: 0.0523 - accuracy: 0.9900\n",
      "Epoch 4/4\n",
      "16666/16666 [==============================] - 4s 220us/step - loss: 0.0112 - accuracy: 0.9993\n",
      "8334/8334 [==============================] - 0s 34us/step\n"
     ]
    },
    {
     "name": "stderr",
     "output_type": "stream",
     "text": [
      "C:\\Users\\joaon\\Anaconda3\\envs\\DL-illustrated\\lib\\site-packages\\tensorflow_core\\python\\framework\\indexed_slices.py:433: UserWarning: Converting sparse IndexedSlices to a dense Tensor of unknown shape. This may consume a large amount of memory.\n",
      "  \"Converting sparse IndexedSlices to a dense Tensor of unknown shape. \"\n"
     ]
    },
    {
     "name": "stdout",
     "output_type": "stream",
     "text": [
      "Epoch 1/4\n",
      "16667/16667 [==============================] - 3s 181us/step - loss: 0.5665 - accuracy: 0.6893\n",
      "Epoch 2/4\n",
      "16667/16667 [==============================] - 3s 177us/step - loss: 0.2271 - accuracy: 0.9127\n",
      "Epoch 3/4\n",
      "16667/16667 [==============================] - 3s 176us/step - loss: 0.0566 - accuracy: 0.9889\n",
      "Epoch 4/4\n",
      "16667/16667 [==============================] - 3s 179us/step - loss: 0.0120 - accuracy: 0.9993\n",
      "8333/8333 [==============================] - 0s 26us/step\n"
     ]
    },
    {
     "name": "stderr",
     "output_type": "stream",
     "text": [
      "C:\\Users\\joaon\\Anaconda3\\envs\\DL-illustrated\\lib\\site-packages\\tensorflow_core\\python\\framework\\indexed_slices.py:433: UserWarning: Converting sparse IndexedSlices to a dense Tensor of unknown shape. This may consume a large amount of memory.\n",
      "  \"Converting sparse IndexedSlices to a dense Tensor of unknown shape. \"\n"
     ]
    },
    {
     "name": "stdout",
     "output_type": "stream",
     "text": [
      "Epoch 1/4\n",
      "16667/16667 [==============================] - 3s 191us/step - loss: 0.5737 - accuracy: 0.6829\n",
      "Epoch 2/4\n",
      "16667/16667 [==============================] - 3s 192us/step - loss: 0.2357 - accuracy: 0.9089\n",
      "Epoch 3/4\n",
      "16667/16667 [==============================] - 3s 180us/step - loss: 0.0570 - accuracy: 0.9882\n",
      "Epoch 4/4\n",
      "16667/16667 [==============================] - 3s 184us/step - loss: 0.0134 - accuracy: 0.9993\n",
      "8333/8333 [==============================] - 0s 24us/step\n"
     ]
    },
    {
     "name": "stderr",
     "output_type": "stream",
     "text": [
      "C:\\Users\\joaon\\Anaconda3\\envs\\DL-illustrated\\lib\\site-packages\\tensorflow_core\\python\\framework\\indexed_slices.py:433: UserWarning: Converting sparse IndexedSlices to a dense Tensor of unknown shape. This may consume a large amount of memory.\n",
      "  \"Converting sparse IndexedSlices to a dense Tensor of unknown shape. \"\n"
     ]
    },
    {
     "name": "stdout",
     "output_type": "stream",
     "text": [
      "Epoch 1/4\n",
      "16666/16666 [==============================] - 4s 236us/step - loss: 0.5489 - accuracy: 0.6980\n",
      "Epoch 2/4\n",
      "16666/16666 [==============================] - 4s 232us/step - loss: 0.2010 - accuracy: 0.9257\n",
      "Epoch 3/4\n",
      "16666/16666 [==============================] - 4s 232us/step - loss: 0.0329 - accuracy: 0.9952\n",
      "Epoch 4/4\n",
      "16666/16666 [==============================] - 4s 235us/step - loss: 0.0061 - accuracy: 0.9997\n",
      "8334/8334 [==============================] - 0s 34us/step\n"
     ]
    },
    {
     "name": "stderr",
     "output_type": "stream",
     "text": [
      "C:\\Users\\joaon\\Anaconda3\\envs\\DL-illustrated\\lib\\site-packages\\tensorflow_core\\python\\framework\\indexed_slices.py:433: UserWarning: Converting sparse IndexedSlices to a dense Tensor of unknown shape. This may consume a large amount of memory.\n",
      "  \"Converting sparse IndexedSlices to a dense Tensor of unknown shape. \"\n"
     ]
    },
    {
     "name": "stdout",
     "output_type": "stream",
     "text": [
      "Epoch 1/4\n",
      "16667/16667 [==============================] - 4s 246us/step - loss: 0.5602 - accuracy: 0.6959\n",
      "Epoch 2/4\n",
      "16667/16667 [==============================] - 4s 232us/step - loss: 0.2053 - accuracy: 0.9237\n",
      "Epoch 3/4\n",
      "16667/16667 [==============================] - 4s 231us/step - loss: 0.0359 - accuracy: 0.9936\n",
      "Epoch 4/4\n",
      "16667/16667 [==============================] - 4s 237us/step - loss: 0.0062 - accuracy: 0.9999\n",
      "8333/8333 [==============================] - 0s 36us/step\n"
     ]
    },
    {
     "name": "stderr",
     "output_type": "stream",
     "text": [
      "C:\\Users\\joaon\\Anaconda3\\envs\\DL-illustrated\\lib\\site-packages\\tensorflow_core\\python\\framework\\indexed_slices.py:433: UserWarning: Converting sparse IndexedSlices to a dense Tensor of unknown shape. This may consume a large amount of memory.\n",
      "  \"Converting sparse IndexedSlices to a dense Tensor of unknown shape. \"\n"
     ]
    },
    {
     "name": "stdout",
     "output_type": "stream",
     "text": [
      "Epoch 1/4\n",
      "16667/16667 [==============================] - 4s 236us/step - loss: 0.5512 - accuracy: 0.6965\n",
      "Epoch 2/4\n",
      "16667/16667 [==============================] - 4s 238us/step - loss: 0.1985 - accuracy: 0.9246\n",
      "Epoch 3/4\n",
      "16667/16667 [==============================] - 4s 232us/step - loss: 0.0322 - accuracy: 0.9951\n",
      "Epoch 4/4\n",
      "16667/16667 [==============================] - 4s 233us/step - loss: 0.0065 - accuracy: 0.9995\n",
      "8333/8333 [==============================] - 0s 32us/step\n"
     ]
    },
    {
     "name": "stderr",
     "output_type": "stream",
     "text": [
      "C:\\Users\\joaon\\Anaconda3\\envs\\DL-illustrated\\lib\\site-packages\\tensorflow_core\\python\\framework\\indexed_slices.py:433: UserWarning: Converting sparse IndexedSlices to a dense Tensor of unknown shape. This may consume a large amount of memory.\n",
      "  \"Converting sparse IndexedSlices to a dense Tensor of unknown shape. \"\n"
     ]
    },
    {
     "name": "stdout",
     "output_type": "stream",
     "text": [
      "Epoch 1/4\n",
      "25000/25000 [==============================] - 5s 182us/step - loss: 0.4999 - accuracy: 0.7384\n",
      "Epoch 2/4\n",
      "25000/25000 [==============================] - 5s 184us/step - loss: 0.2044 - accuracy: 0.9232\n",
      "Epoch 3/4\n",
      "25000/25000 [==============================] - 4s 179us/step - loss: 0.0520 - accuracy: 0.9882\n",
      "Epoch 4/4\n",
      "25000/25000 [==============================] - 5s 183us/step - loss: 0.0103 - accuracy: 0.9993\n",
      "Wall time: 3min 18s\n"
     ]
    },
    {
     "data": {
      "text/plain": [
       "GridSearchCV(cv=3, error_score=nan,\n",
       "             estimator=<keras.wrappers.scikit_learn.KerasClassifier object at 0x000002128BA2BD48>,\n",
       "             iid='deprecated', n_jobs=None,\n",
       "             param_grid={'dropout': [0.2, 0.5], 'n_dense': [64, 128]},\n",
       "             pre_dispatch='2*n_jobs', refit=True, return_train_score=False,\n",
       "             scoring='roc_auc', verbose=0)"
      ]
     },
     "execution_count": 24,
     "metadata": {},
     "output_type": "execute_result"
    }
   ],
   "source": [
    "%%time\n",
    "\n",
    "grid_search.fit(x_train, y_train)"
   ]
  },
  {
   "cell_type": "code",
   "execution_count": 25,
   "metadata": {},
   "outputs": [
    {
     "data": {
      "text/plain": [
       "{'dropout': 0.5, 'n_dense': 64}"
      ]
     },
     "execution_count": 25,
     "metadata": {},
     "output_type": "execute_result"
    }
   ],
   "source": [
    "grid_search.best_params_"
   ]
  },
  {
   "cell_type": "code",
   "execution_count": 28,
   "metadata": {},
   "outputs": [
    {
     "name": "stdout",
     "output_type": "stream",
     "text": [
      "  n_dense    dropout    roc_auc\n",
      "---------  ---------  ---------\n",
      "       64        0.5   0.921133\n",
      "       64        0.2   0.919806\n",
      "      128        0.5   0.919114\n",
      "      128        0.2   0.917623\n"
     ]
    }
   ],
   "source": [
    "grid_search_results(grid_search.cv_results_)"
   ]
  },
  {
   "cell_type": "code",
   "execution_count": null,
   "metadata": {},
   "outputs": [],
   "source": [
    "# --> fazer gridsearch com os 4 parâmetros simultaneamente? (epochs, batch_size, n_dense e dropout)\n",
    "\n",
    "# --> ver q demora mto tempo e optar por random search?"
   ]
  },
  {
   "cell_type": "code",
   "execution_count": 30,
   "metadata": {},
   "outputs": [
    {
     "data": {
      "text/plain": [
       "4"
      ]
     },
     "execution_count": 30,
     "metadata": {},
     "output_type": "execute_result"
    }
   ],
   "source": [
    "import multiprocessing\n",
    "\n",
    "# number of cores\n",
    "multiprocessing.cpu_count()"
   ]
  },
  {
   "cell_type": "code",
   "execution_count": 36,
   "metadata": {},
   "outputs": [],
   "source": [
    "# n_jobs=-1 is the same as n_jobs=4 in this case \n",
    "\n",
    "grid_search = GridSearchCV(model, param_grid, n_jobs=-1, cv=3, scoring = 'roc_auc')"
   ]
  },
  {
   "cell_type": "code",
   "execution_count": 37,
   "metadata": {},
   "outputs": [
    {
     "name": "stderr",
     "output_type": "stream",
     "text": [
      "C:\\Users\\joaon\\Anaconda3\\envs\\DL-illustrated\\lib\\site-packages\\tensorflow_core\\python\\framework\\indexed_slices.py:433: UserWarning: Converting sparse IndexedSlices to a dense Tensor of unknown shape. This may consume a large amount of memory.\n",
      "  \"Converting sparse IndexedSlices to a dense Tensor of unknown shape. \"\n"
     ]
    },
    {
     "name": "stdout",
     "output_type": "stream",
     "text": [
      "Epoch 1/4\n",
      "25000/25000 [==============================] - 5s 207us/step - loss: 0.5005 - accuracy: 0.7360\n",
      "Epoch 2/4\n",
      "25000/25000 [==============================] - 5s 191us/step - loss: 0.2015 - accuracy: 0.9257\n",
      "Epoch 3/4\n",
      "25000/25000 [==============================] - 5s 189us/step - loss: 0.0498 - accuracy: 0.9882\n",
      "Epoch 4/4\n",
      "25000/25000 [==============================] - 5s 189us/step - loss: 0.0091 - accuracy: 0.9994\n",
      "Wall time: 3min 4s\n"
     ]
    },
    {
     "data": {
      "text/plain": [
       "GridSearchCV(cv=3, error_score=nan,\n",
       "             estimator=<keras.wrappers.scikit_learn.KerasClassifier object at 0x000002128BA2BD48>,\n",
       "             iid='deprecated', n_jobs=-1,\n",
       "             param_grid={'dropout': [0.2, 0.5], 'n_dense': [64, 128]},\n",
       "             pre_dispatch='2*n_jobs', refit=True, return_train_score=False,\n",
       "             scoring='roc_auc', verbose=0)"
      ]
     },
     "execution_count": 37,
     "metadata": {},
     "output_type": "execute_result"
    }
   ],
   "source": [
    "%%time\n",
    "\n",
    "grid_search.fit(x_train, y_train)"
   ]
  },
  {
   "cell_type": "code",
   "execution_count": null,
   "metadata": {},
   "outputs": [],
   "source": [
    "# full progress output only on the terminal window and not on the notebook itself\n",
    "# This may also interfere with the main neural network training process... Let's not use it..."
   ]
  },
  {
   "cell_type": "code",
   "execution_count": null,
   "metadata": {},
   "outputs": [],
   "source": []
  },
  {
   "cell_type": "markdown",
   "metadata": {},
   "source": [
    "#### 11. Create model"
   ]
  },
  {
   "cell_type": "code",
   "execution_count": 42,
   "metadata": {},
   "outputs": [],
   "source": [
    "model = KerasClassifier(build_fn=create_model, verbose=1)"
   ]
  },
  {
   "cell_type": "markdown",
   "metadata": {},
   "source": [
    "#### 12. Define grid search parameters: `epochs`, `batch_size`, `n_dense` and `dropout`"
   ]
  },
  {
   "cell_type": "code",
   "execution_count": 43,
   "metadata": {},
   "outputs": [],
   "source": [
    "epochs = [4, 6]\n",
    "batch_size = [64, 128]\n",
    "\n",
    "n_dense = [64, 128]\n",
    "dropout = [0.2, 0.5]\n",
    "\n",
    "param_grid = {'epochs': epochs, 'batch_size': batch_size, 'n_dense': n_dense, 'dropout': dropout}"
   ]
  },
  {
   "cell_type": "code",
   "execution_count": 44,
   "metadata": {},
   "outputs": [
    {
     "data": {
      "text/plain": [
       "{'epochs': [4, 6],\n",
       " 'batch_size': [64, 128],\n",
       " 'n_dense': [64, 128],\n",
       " 'dropout': [0.2, 0.5]}"
      ]
     },
     "execution_count": 44,
     "metadata": {},
     "output_type": "execute_result"
    }
   ],
   "source": [
    "param_grid"
   ]
  },
  {
   "cell_type": "code",
   "execution_count": 45,
   "metadata": {},
   "outputs": [],
   "source": [
    "grid_search = GridSearchCV(model, param_grid, cv=3, scoring = 'roc_auc')"
   ]
  },
  {
   "cell_type": "markdown",
   "metadata": {},
   "source": [
    "#### 13. Perform grid search and print results"
   ]
  },
  {
   "cell_type": "code",
   "execution_count": 46,
   "metadata": {},
   "outputs": [
    {
     "name": "stderr",
     "output_type": "stream",
     "text": [
      "C:\\Users\\joaon\\Anaconda3\\envs\\DL-illustrated\\lib\\site-packages\\tensorflow_core\\python\\framework\\indexed_slices.py:433: UserWarning: Converting sparse IndexedSlices to a dense Tensor of unknown shape. This may consume a large amount of memory.\n",
      "  \"Converting sparse IndexedSlices to a dense Tensor of unknown shape. \"\n"
     ]
    },
    {
     "name": "stdout",
     "output_type": "stream",
     "text": [
      "Epoch 1/4\n",
      "16666/16666 [==============================] - 6s 375us/step - loss: 0.4827 - accuracy: 0.7482\n",
      "Epoch 2/4\n",
      "16666/16666 [==============================] - 6s 340us/step - loss: 0.1347 - accuracy: 0.9560\n",
      "Epoch 3/4\n",
      "16666/16666 [==============================] - 5s 325us/step - loss: 0.0146 - accuracy: 0.9984\n",
      "Epoch 4/4\n",
      "16666/16666 [==============================] - 5s 325us/step - loss: 0.0023 - accuracy: 0.9999\n",
      "8334/8334 [==============================] - 0s 34us/step\n"
     ]
    },
    {
     "name": "stderr",
     "output_type": "stream",
     "text": [
      "C:\\Users\\joaon\\Anaconda3\\envs\\DL-illustrated\\lib\\site-packages\\tensorflow_core\\python\\framework\\indexed_slices.py:433: UserWarning: Converting sparse IndexedSlices to a dense Tensor of unknown shape. This may consume a large amount of memory.\n",
      "  \"Converting sparse IndexedSlices to a dense Tensor of unknown shape. \"\n"
     ]
    },
    {
     "name": "stdout",
     "output_type": "stream",
     "text": [
      "Epoch 1/4\n",
      "16667/16667 [==============================] - 5s 311us/step - loss: 0.4880 - accuracy: 0.7467\n",
      "Epoch 2/4\n",
      "16667/16667 [==============================] - 5s 309us/step - loss: 0.1400 - accuracy: 0.9504\n",
      "Epoch 3/4\n",
      "16667/16667 [==============================] - 5s 310us/step - loss: 0.0160 - accuracy: 0.9977\n",
      "Epoch 4/4\n",
      "16667/16667 [==============================] - 5s 312us/step - loss: 0.0024 - accuracy: 1.0000\n",
      "8333/8333 [==============================] - 0s 36us/step\n"
     ]
    },
    {
     "name": "stderr",
     "output_type": "stream",
     "text": [
      "C:\\Users\\joaon\\Anaconda3\\envs\\DL-illustrated\\lib\\site-packages\\tensorflow_core\\python\\framework\\indexed_slices.py:433: UserWarning: Converting sparse IndexedSlices to a dense Tensor of unknown shape. This may consume a large amount of memory.\n",
      "  \"Converting sparse IndexedSlices to a dense Tensor of unknown shape. \"\n"
     ]
    },
    {
     "name": "stdout",
     "output_type": "stream",
     "text": [
      "Epoch 1/4\n",
      "16667/16667 [==============================] - 5s 313us/step - loss: 0.4827 - accuracy: 0.7520\n",
      "Epoch 2/4\n",
      "16667/16667 [==============================] - 5s 313us/step - loss: 0.1361 - accuracy: 0.9535\n",
      "Epoch 3/4\n",
      "16667/16667 [==============================] - 6s 335us/step - loss: 0.0145 - accuracy: 0.9983\n",
      "Epoch 4/4\n",
      "16667/16667 [==============================] - 5s 328us/step - loss: 0.0025 - accuracy: 0.9999\n",
      "8333/8333 [==============================] - 0s 37us/step\n"
     ]
    },
    {
     "name": "stderr",
     "output_type": "stream",
     "text": [
      "C:\\Users\\joaon\\Anaconda3\\envs\\DL-illustrated\\lib\\site-packages\\tensorflow_core\\python\\framework\\indexed_slices.py:433: UserWarning: Converting sparse IndexedSlices to a dense Tensor of unknown shape. This may consume a large amount of memory.\n",
      "  \"Converting sparse IndexedSlices to a dense Tensor of unknown shape. \"\n"
     ]
    },
    {
     "name": "stdout",
     "output_type": "stream",
     "text": [
      "Epoch 1/4\n",
      "16666/16666 [==============================] - 7s 423us/step - loss: 0.4861 - accuracy: 0.7442\n",
      "Epoch 2/4\n",
      "16666/16666 [==============================] - 7s 420us/step - loss: 0.1215 - accuracy: 0.9585\n",
      "Epoch 3/4\n",
      "16666/16666 [==============================] - 7s 409us/step - loss: 0.0102 - accuracy: 0.9986\n",
      "Epoch 4/4\n",
      "16666/16666 [==============================] - 7s 413us/step - loss: 0.0013 - accuracy: 1.0000\n",
      "8334/8334 [==============================] - 0s 43us/step\n"
     ]
    },
    {
     "name": "stderr",
     "output_type": "stream",
     "text": [
      "C:\\Users\\joaon\\Anaconda3\\envs\\DL-illustrated\\lib\\site-packages\\tensorflow_core\\python\\framework\\indexed_slices.py:433: UserWarning: Converting sparse IndexedSlices to a dense Tensor of unknown shape. This may consume a large amount of memory.\n",
      "  \"Converting sparse IndexedSlices to a dense Tensor of unknown shape. \"\n"
     ]
    },
    {
     "name": "stdout",
     "output_type": "stream",
     "text": [
      "Epoch 1/4\n",
      "16667/16667 [==============================] - 7s 411us/step - loss: 0.4829 - accuracy: 0.7456\n",
      "Epoch 2/4\n",
      "16667/16667 [==============================] - 7s 413us/step - loss: 0.1227 - accuracy: 0.9579\n",
      "Epoch 3/4\n",
      "16667/16667 [==============================] - 7s 413us/step - loss: 0.0110 - accuracy: 0.9985\n",
      "Epoch 4/4\n",
      "16667/16667 [==============================] - 7s 411us/step - loss: 0.0015 - accuracy: 1.0000\n",
      "8333/8333 [==============================] - 0s 43us/step\n"
     ]
    },
    {
     "name": "stderr",
     "output_type": "stream",
     "text": [
      "C:\\Users\\joaon\\Anaconda3\\envs\\DL-illustrated\\lib\\site-packages\\tensorflow_core\\python\\framework\\indexed_slices.py:433: UserWarning: Converting sparse IndexedSlices to a dense Tensor of unknown shape. This may consume a large amount of memory.\n",
      "  \"Converting sparse IndexedSlices to a dense Tensor of unknown shape. \"\n"
     ]
    },
    {
     "name": "stdout",
     "output_type": "stream",
     "text": [
      "Epoch 1/4\n",
      "16667/16667 [==============================] - 7s 415us/step - loss: 0.4785 - accuracy: 0.7511\n",
      "Epoch 2/4\n",
      "16667/16667 [==============================] - 7s 418us/step - loss: 0.1234 - accuracy: 0.9574\n",
      "Epoch 3/4\n",
      "16667/16667 [==============================] - 7s 425us/step - loss: 0.0104 - accuracy: 0.9986\n",
      "Epoch 4/4\n",
      "16667/16667 [==============================] - 7s 412us/step - loss: 0.0014 - accuracy: 0.9999\n",
      "8333/8333 [==============================] - 0s 43us/step\n"
     ]
    },
    {
     "name": "stderr",
     "output_type": "stream",
     "text": [
      "C:\\Users\\joaon\\Anaconda3\\envs\\DL-illustrated\\lib\\site-packages\\tensorflow_core\\python\\framework\\indexed_slices.py:433: UserWarning: Converting sparse IndexedSlices to a dense Tensor of unknown shape. This may consume a large amount of memory.\n",
      "  \"Converting sparse IndexedSlices to a dense Tensor of unknown shape. \"\n"
     ]
    },
    {
     "name": "stdout",
     "output_type": "stream",
     "text": [
      "Epoch 1/6\n",
      "16666/16666 [==============================] - 6s 331us/step - loss: 0.4867 - accuracy: 0.7471\n",
      "Epoch 2/6\n",
      "16666/16666 [==============================] - 5s 329us/step - loss: 0.1369 - accuracy: 0.9567\n",
      "Epoch 3/6\n",
      "16666/16666 [==============================] - 5s 324us/step - loss: 0.0154 - accuracy: 0.9982\n",
      "Epoch 4/6\n",
      "16666/16666 [==============================] - 6s 335us/step - loss: 0.0023 - accuracy: 1.0000\n",
      "Epoch 5/6\n",
      "16666/16666 [==============================] - 6s 337us/step - loss: 0.0011 - accuracy: 1.0000\n",
      "Epoch 6/6\n",
      "16666/16666 [==============================] - 6s 331us/step - loss: 6.0139e-04 - accuracy: 1.0000\n",
      "8334/8334 [==============================] - 0s 37us/step\n"
     ]
    },
    {
     "name": "stderr",
     "output_type": "stream",
     "text": [
      "C:\\Users\\joaon\\Anaconda3\\envs\\DL-illustrated\\lib\\site-packages\\tensorflow_core\\python\\framework\\indexed_slices.py:433: UserWarning: Converting sparse IndexedSlices to a dense Tensor of unknown shape. This may consume a large amount of memory.\n",
      "  \"Converting sparse IndexedSlices to a dense Tensor of unknown shape. \"\n"
     ]
    },
    {
     "name": "stdout",
     "output_type": "stream",
     "text": [
      "Epoch 1/6\n",
      "16667/16667 [==============================] - 6s 338us/step - loss: 0.4853 - accuracy: 0.7471\n",
      "Epoch 2/6\n",
      "16667/16667 [==============================] - 6s 339us/step - loss: 0.1405 - accuracy: 0.9518\n",
      "Epoch 3/6\n",
      "16667/16667 [==============================] - 6s 342us/step - loss: 0.0151 - accuracy: 0.9983\n",
      "Epoch 4/6\n",
      "16667/16667 [==============================] - 6s 336us/step - loss: 0.0024 - accuracy: 1.0000\n",
      "Epoch 5/6\n",
      "16667/16667 [==============================] - 6s 333us/step - loss: 0.0010 - accuracy: 1.0000\n",
      "Epoch 6/6\n",
      "16667/16667 [==============================] - 5s 327us/step - loss: 6.2597e-04 - accuracy: 1.0000\n",
      "8333/8333 [==============================] - 0s 39us/step\n"
     ]
    },
    {
     "name": "stderr",
     "output_type": "stream",
     "text": [
      "C:\\Users\\joaon\\Anaconda3\\envs\\DL-illustrated\\lib\\site-packages\\tensorflow_core\\python\\framework\\indexed_slices.py:433: UserWarning: Converting sparse IndexedSlices to a dense Tensor of unknown shape. This may consume a large amount of memory.\n",
      "  \"Converting sparse IndexedSlices to a dense Tensor of unknown shape. \"\n"
     ]
    },
    {
     "name": "stdout",
     "output_type": "stream",
     "text": [
      "Epoch 1/6\n",
      "16667/16667 [==============================] - 6s 341us/step - loss: 0.4827 - accuracy: 0.7502\n",
      "Epoch 2/6\n",
      "16667/16667 [==============================] - 6s 333us/step - loss: 0.1434 - accuracy: 0.95010s - loss: 0.1\n",
      "Epoch 3/6\n",
      "16667/16667 [==============================] - 6s 332us/step - loss: 0.0159 - accuracy: 0.9975\n",
      "Epoch 4/6\n",
      "16667/16667 [==============================] - 6s 344us/step - loss: 0.0023 - accuracy: 1.0000\n",
      "Epoch 5/6\n",
      "16667/16667 [==============================] - 6s 336us/step - loss: 9.7384e-04 - accuracy: 1.0000\n",
      "Epoch 6/6\n",
      "16667/16667 [==============================] - 5s 330us/step - loss: 6.0072e-04 - accuracy: 1.0000\n",
      "8333/8333 [==============================] - 0s 34us/step\n"
     ]
    },
    {
     "name": "stderr",
     "output_type": "stream",
     "text": [
      "C:\\Users\\joaon\\Anaconda3\\envs\\DL-illustrated\\lib\\site-packages\\tensorflow_core\\python\\framework\\indexed_slices.py:433: UserWarning: Converting sparse IndexedSlices to a dense Tensor of unknown shape. This may consume a large amount of memory.\n",
      "  \"Converting sparse IndexedSlices to a dense Tensor of unknown shape. \"\n"
     ]
    },
    {
     "name": "stdout",
     "output_type": "stream",
     "text": [
      "Epoch 1/6\n",
      "16666/16666 [==============================] - 7s 434us/step - loss: 0.4780 - accuracy: 0.7497\n",
      "Epoch 2/6\n",
      "16666/16666 [==============================] - 7s 436us/step - loss: 0.1209 - accuracy: 0.9600\n",
      "Epoch 3/6\n",
      "16666/16666 [==============================] - 7s 422us/step - loss: 0.0100 - accuracy: 0.9989\n",
      "Epoch 4/6\n",
      "16666/16666 [==============================] - 7s 419us/step - loss: 0.0013 - accuracy: 1.0000\n",
      "Epoch 5/6\n",
      "16666/16666 [==============================] - 7s 419us/step - loss: 6.1147e-04 - accuracy: 1.0000\n",
      "Epoch 6/6\n",
      "16666/16666 [==============================] - 7s 419us/step - loss: 3.7501e-04 - accuracy: 1.0000\n",
      "8334/8334 [==============================] - 0s 43us/step\n"
     ]
    },
    {
     "name": "stderr",
     "output_type": "stream",
     "text": [
      "C:\\Users\\joaon\\Anaconda3\\envs\\DL-illustrated\\lib\\site-packages\\tensorflow_core\\python\\framework\\indexed_slices.py:433: UserWarning: Converting sparse IndexedSlices to a dense Tensor of unknown shape. This may consume a large amount of memory.\n",
      "  \"Converting sparse IndexedSlices to a dense Tensor of unknown shape. \"\n"
     ]
    },
    {
     "name": "stdout",
     "output_type": "stream",
     "text": [
      "Epoch 1/6\n",
      "16667/16667 [==============================] - 8s 466us/step - loss: 0.4808 - accuracy: 0.7493\n",
      "Epoch 2/6\n",
      "16667/16667 [==============================] - 8s 472us/step - loss: 0.1202 - accuracy: 0.9586\n",
      "Epoch 3/6\n",
      "16667/16667 [==============================] - 7s 416us/step - loss: 0.0099 - accuracy: 0.9990\n",
      "Epoch 4/6\n",
      "16667/16667 [==============================] - 7s 426us/step - loss: 0.0013 - accuracy: 1.0000\n",
      "Epoch 5/6\n",
      "16667/16667 [==============================] - 7s 442us/step - loss: 5.8825e-04 - accuracy: 1.0000\n",
      "Epoch 6/6\n",
      "16667/16667 [==============================] - 7s 416us/step - loss: 3.6579e-04 - accuracy: 1.0000\n",
      "8333/8333 [==============================] - 0s 45us/step\n"
     ]
    },
    {
     "name": "stderr",
     "output_type": "stream",
     "text": [
      "C:\\Users\\joaon\\Anaconda3\\envs\\DL-illustrated\\lib\\site-packages\\tensorflow_core\\python\\framework\\indexed_slices.py:433: UserWarning: Converting sparse IndexedSlices to a dense Tensor of unknown shape. This may consume a large amount of memory.\n",
      "  \"Converting sparse IndexedSlices to a dense Tensor of unknown shape. \"\n"
     ]
    },
    {
     "name": "stdout",
     "output_type": "stream",
     "text": [
      "Epoch 1/6\n",
      "16667/16667 [==============================] - 7s 411us/step - loss: 0.4808 - accuracy: 0.7533\n",
      "Epoch 2/6\n",
      "16667/16667 [==============================] - 7s 413us/step - loss: 0.1203 - accuracy: 0.9589\n",
      "Epoch 3/6\n",
      "16667/16667 [==============================] - 7s 411us/step - loss: 0.0110 - accuracy: 0.9985\n",
      "Epoch 4/6\n",
      "16667/16667 [==============================] - 7s 422us/step - loss: 0.0014 - accuracy: 1.0000\n",
      "Epoch 5/6\n",
      "16667/16667 [==============================] - 7s 442us/step - loss: 5.8452e-04 - accuracy: 1.0000\n",
      "Epoch 6/6\n",
      "16667/16667 [==============================] - 7s 417us/step - loss: 3.6763e-04 - accuracy: 1.0000\n",
      "8333/8333 [==============================] - 0s 45us/step\n"
     ]
    },
    {
     "name": "stderr",
     "output_type": "stream",
     "text": [
      "C:\\Users\\joaon\\Anaconda3\\envs\\DL-illustrated\\lib\\site-packages\\tensorflow_core\\python\\framework\\indexed_slices.py:433: UserWarning: Converting sparse IndexedSlices to a dense Tensor of unknown shape. This may consume a large amount of memory.\n",
      "  \"Converting sparse IndexedSlices to a dense Tensor of unknown shape. \"\n"
     ]
    },
    {
     "name": "stdout",
     "output_type": "stream",
     "text": [
      "Epoch 1/4\n",
      "16666/16666 [==============================] - 5s 329us/step - loss: 0.5094 - accuracy: 0.7305\n",
      "Epoch 2/4\n",
      "16666/16666 [==============================] - 6s 339us/step - loss: 0.1806 - accuracy: 0.9348\n",
      "Epoch 3/4\n",
      "16666/16666 [==============================] - 6s 334us/step - loss: 0.0268 - accuracy: 0.9953\n",
      "Epoch 4/4\n",
      "16666/16666 [==============================] - 5s 329us/step - loss: 0.0050 - accuracy: 0.9997\n",
      "8334/8334 [==============================] - 0s 37us/step\n"
     ]
    },
    {
     "name": "stderr",
     "output_type": "stream",
     "text": [
      "C:\\Users\\joaon\\Anaconda3\\envs\\DL-illustrated\\lib\\site-packages\\tensorflow_core\\python\\framework\\indexed_slices.py:433: UserWarning: Converting sparse IndexedSlices to a dense Tensor of unknown shape. This may consume a large amount of memory.\n",
      "  \"Converting sparse IndexedSlices to a dense Tensor of unknown shape. \"\n"
     ]
    },
    {
     "name": "stdout",
     "output_type": "stream",
     "text": [
      "Epoch 1/4\n",
      "16667/16667 [==============================] - 5s 330us/step - loss: 0.5111 - accuracy: 0.7286\n",
      "Epoch 2/4\n",
      "16667/16667 [==============================] - 5s 326us/step - loss: 0.1755 - accuracy: 0.9380\n",
      "Epoch 3/4\n",
      "16667/16667 [==============================] - 5s 329us/step - loss: 0.0260 - accuracy: 0.9956\n",
      "Epoch 4/4\n",
      "16667/16667 [==============================] - 6s 332us/step - loss: 0.0050 - accuracy: 0.9998\n",
      "8333/8333 [==============================] - 0s 37us/step\n"
     ]
    },
    {
     "name": "stderr",
     "output_type": "stream",
     "text": [
      "C:\\Users\\joaon\\Anaconda3\\envs\\DL-illustrated\\lib\\site-packages\\tensorflow_core\\python\\framework\\indexed_slices.py:433: UserWarning: Converting sparse IndexedSlices to a dense Tensor of unknown shape. This may consume a large amount of memory.\n",
      "  \"Converting sparse IndexedSlices to a dense Tensor of unknown shape. \"\n"
     ]
    },
    {
     "name": "stdout",
     "output_type": "stream",
     "text": [
      "Epoch 1/4\n",
      "16667/16667 [==============================] - 6s 335us/step - loss: 0.5210 - accuracy: 0.7181\n",
      "Epoch 2/4\n",
      "16667/16667 [==============================] - 6s 332us/step - loss: 0.1817 - accuracy: 0.9339\n",
      "Epoch 3/4\n",
      "16667/16667 [==============================] - 6s 331us/step - loss: 0.0296 - accuracy: 0.9941\n",
      "Epoch 4/4\n",
      "16667/16667 [==============================] - 5s 327us/step - loss: 0.0054 - accuracy: 0.9998\n",
      "8333/8333 [==============================] - 0s 37us/step\n"
     ]
    },
    {
     "name": "stderr",
     "output_type": "stream",
     "text": [
      "C:\\Users\\joaon\\Anaconda3\\envs\\DL-illustrated\\lib\\site-packages\\tensorflow_core\\python\\framework\\indexed_slices.py:433: UserWarning: Converting sparse IndexedSlices to a dense Tensor of unknown shape. This may consume a large amount of memory.\n",
      "  \"Converting sparse IndexedSlices to a dense Tensor of unknown shape. \"\n"
     ]
    },
    {
     "name": "stdout",
     "output_type": "stream",
     "text": [
      "Epoch 1/4\n",
      "16666/16666 [==============================] - 7s 428us/step - loss: 0.4941 - accuracy: 0.7435\n",
      "Epoch 2/4\n",
      "16666/16666 [==============================] - 7s 418us/step - loss: 0.1445 - accuracy: 0.9480\n",
      "Epoch 3/4\n",
      "16666/16666 [==============================] - 7s 413us/step - loss: 0.0142 - accuracy: 0.9978\n",
      "Epoch 4/4\n",
      "16666/16666 [==============================] - 7s 412us/step - loss: 0.0025 - accuracy: 1.0000\n",
      "8334/8334 [==============================] - 0s 45us/step\n"
     ]
    },
    {
     "name": "stderr",
     "output_type": "stream",
     "text": [
      "C:\\Users\\joaon\\Anaconda3\\envs\\DL-illustrated\\lib\\site-packages\\tensorflow_core\\python\\framework\\indexed_slices.py:433: UserWarning: Converting sparse IndexedSlices to a dense Tensor of unknown shape. This may consume a large amount of memory.\n",
      "  \"Converting sparse IndexedSlices to a dense Tensor of unknown shape. \"\n"
     ]
    },
    {
     "name": "stdout",
     "output_type": "stream",
     "text": [
      "Epoch 1/4\n",
      "16667/16667 [==============================] - 7s 421us/step - loss: 0.4906 - accuracy: 0.7406\n",
      "Epoch 2/4\n",
      "16667/16667 [==============================] - 7s 416us/step - loss: 0.1455 - accuracy: 0.9492\n",
      "Epoch 3/4\n",
      "16667/16667 [==============================] - 7s 423us/step - loss: 0.0161 - accuracy: 0.9972\n",
      "Epoch 4/4\n",
      "16667/16667 [==============================] - 7s 420us/step - loss: 0.0025 - accuracy: 0.9999\n",
      "8333/8333 [==============================] - 0s 43us/step\n"
     ]
    },
    {
     "name": "stderr",
     "output_type": "stream",
     "text": [
      "C:\\Users\\joaon\\Anaconda3\\envs\\DL-illustrated\\lib\\site-packages\\tensorflow_core\\python\\framework\\indexed_slices.py:433: UserWarning: Converting sparse IndexedSlices to a dense Tensor of unknown shape. This may consume a large amount of memory.\n",
      "  \"Converting sparse IndexedSlices to a dense Tensor of unknown shape. \"\n"
     ]
    },
    {
     "name": "stdout",
     "output_type": "stream",
     "text": [
      "Epoch 1/4\n",
      "16667/16667 [==============================] - 7s 413us/step - loss: 0.4986 - accuracy: 0.7346\n",
      "Epoch 2/4\n",
      "16667/16667 [==============================] - 7s 429us/step - loss: 0.1533 - accuracy: 0.9477\n",
      "Epoch 3/4\n",
      "16667/16667 [==============================] - 7s 414us/step - loss: 0.0147 - accuracy: 0.9984\n",
      "Epoch 4/4\n",
      "16667/16667 [==============================] - 7s 416us/step - loss: 0.0023 - accuracy: 0.9999\n",
      "8333/8333 [==============================] - 0s 47us/step\n"
     ]
    },
    {
     "name": "stderr",
     "output_type": "stream",
     "text": [
      "C:\\Users\\joaon\\Anaconda3\\envs\\DL-illustrated\\lib\\site-packages\\tensorflow_core\\python\\framework\\indexed_slices.py:433: UserWarning: Converting sparse IndexedSlices to a dense Tensor of unknown shape. This may consume a large amount of memory.\n",
      "  \"Converting sparse IndexedSlices to a dense Tensor of unknown shape. \"\n"
     ]
    },
    {
     "name": "stdout",
     "output_type": "stream",
     "text": [
      "Epoch 1/6\n",
      "16666/16666 [==============================] - 6s 333us/step - loss: 0.5128 - accuracy: 0.7270\n",
      "Epoch 2/6\n",
      "16666/16666 [==============================] - 5s 327us/step - loss: 0.1724 - accuracy: 0.9407\n",
      "Epoch 3/6\n",
      "16666/16666 [==============================] - 5s 330us/step - loss: 0.0255 - accuracy: 0.9957\n",
      "Epoch 4/6\n",
      "16666/16666 [==============================] - 5s 327us/step - loss: 0.0047 - accuracy: 0.9999\n",
      "Epoch 5/6\n",
      "16666/16666 [==============================] - 6s 337us/step - loss: 0.0020 - accuracy: 1.0000\n",
      "Epoch 6/6\n",
      "16666/16666 [==============================] - 5s 329us/step - loss: 0.0012 - accuracy: 1.0000\n",
      "8334/8334 [==============================] - 0s 37us/step\n"
     ]
    },
    {
     "name": "stderr",
     "output_type": "stream",
     "text": [
      "C:\\Users\\joaon\\Anaconda3\\envs\\DL-illustrated\\lib\\site-packages\\tensorflow_core\\python\\framework\\indexed_slices.py:433: UserWarning: Converting sparse IndexedSlices to a dense Tensor of unknown shape. This may consume a large amount of memory.\n",
      "  \"Converting sparse IndexedSlices to a dense Tensor of unknown shape. \"\n"
     ]
    },
    {
     "name": "stdout",
     "output_type": "stream",
     "text": [
      "Epoch 1/6\n",
      "16667/16667 [==============================] - 5s 326us/step - loss: 0.5136 - accuracy: 0.7245\n",
      "Epoch 2/6\n",
      "16667/16667 [==============================] - 6s 336us/step - loss: 0.1745 - accuracy: 0.9374\n",
      "Epoch 3/6\n",
      "16667/16667 [==============================] - 6s 342us/step - loss: 0.0263 - accuracy: 0.9958\n",
      "Epoch 4/6\n",
      "16667/16667 [==============================] - 6s 331us/step - loss: 0.0047 - accuracy: 0.9999\n",
      "Epoch 5/6\n",
      "16667/16667 [==============================] - 5s 327us/step - loss: 0.0020 - accuracy: 1.0000\n",
      "Epoch 6/6\n",
      "16667/16667 [==============================] - 6s 347us/step - loss: 0.0012 - accuracy: 1.0000\n",
      "8333/8333 [==============================] - 0s 51us/step\n"
     ]
    },
    {
     "name": "stderr",
     "output_type": "stream",
     "text": [
      "C:\\Users\\joaon\\Anaconda3\\envs\\DL-illustrated\\lib\\site-packages\\tensorflow_core\\python\\framework\\indexed_slices.py:433: UserWarning: Converting sparse IndexedSlices to a dense Tensor of unknown shape. This may consume a large amount of memory.\n",
      "  \"Converting sparse IndexedSlices to a dense Tensor of unknown shape. \"\n"
     ]
    },
    {
     "name": "stdout",
     "output_type": "stream",
     "text": [
      "Epoch 1/6\n",
      "16667/16667 [==============================] - 6s 390us/step - loss: 0.5130 - accuracy: 0.7269\n",
      "Epoch 2/6\n",
      "16667/16667 [==============================] - 5s 321us/step - loss: 0.1760 - accuracy: 0.9362\n",
      "Epoch 3/6\n",
      "16667/16667 [==============================] - 5s 312us/step - loss: 0.0267 - accuracy: 0.9962\n",
      "Epoch 4/6\n",
      "16667/16667 [==============================] - 5s 321us/step - loss: 0.0046 - accuracy: 0.9999\n",
      "Epoch 5/6\n",
      "16667/16667 [==============================] - 5s 319us/step - loss: 0.0020 - accuracy: 1.0000\n",
      "Epoch 6/6\n",
      "16667/16667 [==============================] - 5s 315us/step - loss: 0.0012 - accuracy: 1.0000\n",
      "8333/8333 [==============================] - 0s 34us/step\n"
     ]
    },
    {
     "name": "stderr",
     "output_type": "stream",
     "text": [
      "C:\\Users\\joaon\\Anaconda3\\envs\\DL-illustrated\\lib\\site-packages\\tensorflow_core\\python\\framework\\indexed_slices.py:433: UserWarning: Converting sparse IndexedSlices to a dense Tensor of unknown shape. This may consume a large amount of memory.\n",
      "  \"Converting sparse IndexedSlices to a dense Tensor of unknown shape. \"\n"
     ]
    },
    {
     "name": "stdout",
     "output_type": "stream",
     "text": [
      "Epoch 1/6\n",
      "16666/16666 [==============================] - 7s 404us/step - loss: 0.4959 - accuracy: 0.7448\n",
      "Epoch 2/6\n",
      "16666/16666 [==============================] - 7s 409us/step - loss: 0.1472 - accuracy: 0.9478\n",
      "Epoch 3/6\n",
      "16666/16666 [==============================] - 7s 396us/step - loss: 0.0159 - accuracy: 0.9978\n",
      "Epoch 4/6\n",
      "16666/16666 [==============================] - 7s 401us/step - loss: 0.0023 - accuracy: 1.0000\n",
      "Epoch 5/6\n",
      "16666/16666 [==============================] - 7s 403us/step - loss: 9.4938e-04 - accuracy: 1.0000\n",
      "Epoch 6/6\n",
      "16666/16666 [==============================] - 7s 399us/step - loss: 5.8474e-04 - accuracy: 1.0000\n",
      "8334/8334 [==============================] - 0s 43us/step\n"
     ]
    },
    {
     "name": "stderr",
     "output_type": "stream",
     "text": [
      "C:\\Users\\joaon\\Anaconda3\\envs\\DL-illustrated\\lib\\site-packages\\tensorflow_core\\python\\framework\\indexed_slices.py:433: UserWarning: Converting sparse IndexedSlices to a dense Tensor of unknown shape. This may consume a large amount of memory.\n",
      "  \"Converting sparse IndexedSlices to a dense Tensor of unknown shape. \"\n"
     ]
    },
    {
     "name": "stdout",
     "output_type": "stream",
     "text": [
      "Epoch 1/6\n",
      "16667/16667 [==============================] - 7s 398us/step - loss: 0.4975 - accuracy: 0.7401\n",
      "Epoch 2/6\n",
      "16667/16667 [==============================] - 7s 404us/step - loss: 0.1478 - accuracy: 0.9480\n",
      "Epoch 3/6\n",
      "16667/16667 [==============================] - 7s 397us/step - loss: 0.0165 - accuracy: 0.9972\n",
      "Epoch 4/6\n",
      "16667/16667 [==============================] - 7s 396us/step - loss: 0.0024 - accuracy: 1.0000\n",
      "Epoch 5/6\n",
      "16667/16667 [==============================] - 7s 403us/step - loss: 0.0011 - accuracy: 1.0000\n",
      "Epoch 6/6\n",
      "16667/16667 [==============================] - 7s 404us/step - loss: 6.0222e-04 - accuracy: 1.0000\n",
      "8333/8333 [==============================] - 0s 45us/step\n"
     ]
    },
    {
     "name": "stderr",
     "output_type": "stream",
     "text": [
      "C:\\Users\\joaon\\Anaconda3\\envs\\DL-illustrated\\lib\\site-packages\\tensorflow_core\\python\\framework\\indexed_slices.py:433: UserWarning: Converting sparse IndexedSlices to a dense Tensor of unknown shape. This may consume a large amount of memory.\n",
      "  \"Converting sparse IndexedSlices to a dense Tensor of unknown shape. \"\n"
     ]
    },
    {
     "name": "stdout",
     "output_type": "stream",
     "text": [
      "Epoch 1/6\n",
      "16667/16667 [==============================] - 7s 405us/step - loss: 0.4917 - accuracy: 0.7435\n",
      "Epoch 2/6\n",
      "16667/16667 [==============================] - 7s 401us/step - loss: 0.1489 - accuracy: 0.9480\n",
      "Epoch 3/6\n",
      "16667/16667 [==============================] - 7s 403us/step - loss: 0.0173 - accuracy: 0.9971\n",
      "Epoch 4/6\n",
      "16667/16667 [==============================] - 7s 400us/step - loss: 0.0027 - accuracy: 1.0000\n",
      "Epoch 5/6\n",
      "16667/16667 [==============================] - 7s 400us/step - loss: 0.0011 - accuracy: 1.0000\n",
      "Epoch 6/6\n",
      "16667/16667 [==============================] - 7s 407us/step - loss: 6.3307e-04 - accuracy: 1.0000\n",
      "8333/8333 [==============================] - 0s 41us/step\n"
     ]
    },
    {
     "name": "stderr",
     "output_type": "stream",
     "text": [
      "C:\\Users\\joaon\\Anaconda3\\envs\\DL-illustrated\\lib\\site-packages\\tensorflow_core\\python\\framework\\indexed_slices.py:433: UserWarning: Converting sparse IndexedSlices to a dense Tensor of unknown shape. This may consume a large amount of memory.\n",
      "  \"Converting sparse IndexedSlices to a dense Tensor of unknown shape. \"\n"
     ]
    },
    {
     "name": "stdout",
     "output_type": "stream",
     "text": [
      "Epoch 1/4\n",
      "16666/16666 [==============================] - 3s 177us/step - loss: 0.5316 - accuracy: 0.7153\n",
      "Epoch 2/4\n",
      "16666/16666 [==============================] - 3s 179us/step - loss: 0.1853 - accuracy: 0.9312\n",
      "Epoch 3/4\n",
      "16666/16666 [==============================] - 3s 173us/step - loss: 0.0311 - accuracy: 0.9954\n",
      "Epoch 4/4\n",
      "16666/16666 [==============================] - 3s 180us/step - loss: 0.0054 - accuracy: 0.9999\n",
      "8334/8334 [==============================] - 0s 32us/step\n"
     ]
    },
    {
     "name": "stderr",
     "output_type": "stream",
     "text": [
      "C:\\Users\\joaon\\Anaconda3\\envs\\DL-illustrated\\lib\\site-packages\\tensorflow_core\\python\\framework\\indexed_slices.py:433: UserWarning: Converting sparse IndexedSlices to a dense Tensor of unknown shape. This may consume a large amount of memory.\n",
      "  \"Converting sparse IndexedSlices to a dense Tensor of unknown shape. \"\n"
     ]
    },
    {
     "name": "stdout",
     "output_type": "stream",
     "text": [
      "Epoch 1/4\n",
      "16667/16667 [==============================] - 3s 176us/step - loss: 0.5485 - accuracy: 0.6979\n",
      "Epoch 2/4\n",
      "16667/16667 [==============================] - 3s 182us/step - loss: 0.1879 - accuracy: 0.9299\n",
      "Epoch 3/4\n",
      "16667/16667 [==============================] - 3s 177us/step - loss: 0.0300 - accuracy: 0.9960\n",
      "Epoch 4/4\n",
      "16667/16667 [==============================] - 3s 177us/step - loss: 0.0056 - accuracy: 0.9998\n",
      "8333/8333 [==============================] - 0s 26us/step\n"
     ]
    },
    {
     "name": "stderr",
     "output_type": "stream",
     "text": [
      "C:\\Users\\joaon\\Anaconda3\\envs\\DL-illustrated\\lib\\site-packages\\tensorflow_core\\python\\framework\\indexed_slices.py:433: UserWarning: Converting sparse IndexedSlices to a dense Tensor of unknown shape. This may consume a large amount of memory.\n",
      "  \"Converting sparse IndexedSlices to a dense Tensor of unknown shape. \"\n"
     ]
    },
    {
     "name": "stdout",
     "output_type": "stream",
     "text": [
      "Epoch 1/4\n",
      "16667/16667 [==============================] - 3s 183us/step - loss: 0.5337 - accuracy: 0.7151\n",
      "Epoch 2/4\n",
      "16667/16667 [==============================] - 3s 175us/step - loss: 0.1891 - accuracy: 0.9309\n",
      "Epoch 3/4\n",
      "16667/16667 [==============================] - 3s 182us/step - loss: 0.0324 - accuracy: 0.9953\n",
      "Epoch 4/4\n",
      "16667/16667 [==============================] - 3s 181us/step - loss: 0.0060 - accuracy: 0.9999\n",
      "8333/8333 [==============================] - 0s 26us/step\n"
     ]
    },
    {
     "name": "stderr",
     "output_type": "stream",
     "text": [
      "C:\\Users\\joaon\\Anaconda3\\envs\\DL-illustrated\\lib\\site-packages\\tensorflow_core\\python\\framework\\indexed_slices.py:433: UserWarning: Converting sparse IndexedSlices to a dense Tensor of unknown shape. This may consume a large amount of memory.\n",
      "  \"Converting sparse IndexedSlices to a dense Tensor of unknown shape. \"\n"
     ]
    },
    {
     "name": "stdout",
     "output_type": "stream",
     "text": [
      "Epoch 1/4\n",
      "16666/16666 [==============================] - 4s 231us/step - loss: 0.5334 - accuracy: 0.7110\n",
      "Epoch 2/4\n",
      "16666/16666 [==============================] - 4s 226us/step - loss: 0.1689 - accuracy: 0.9401\n",
      "Epoch 3/4\n",
      "16666/16666 [==============================] - 4s 232us/step - loss: 0.0206 - accuracy: 0.9975\n",
      "Epoch 4/4\n",
      "16666/16666 [==============================] - 4s 240us/step - loss: 0.0033 - accuracy: 0.9999\n",
      "8334/8334 [==============================] - 0s 36us/step\n"
     ]
    },
    {
     "name": "stderr",
     "output_type": "stream",
     "text": [
      "C:\\Users\\joaon\\Anaconda3\\envs\\DL-illustrated\\lib\\site-packages\\tensorflow_core\\python\\framework\\indexed_slices.py:433: UserWarning: Converting sparse IndexedSlices to a dense Tensor of unknown shape. This may consume a large amount of memory.\n",
      "  \"Converting sparse IndexedSlices to a dense Tensor of unknown shape. \"\n"
     ]
    },
    {
     "name": "stdout",
     "output_type": "stream",
     "text": [
      "Epoch 1/4\n",
      "16667/16667 [==============================] - 4s 232us/step - loss: 0.5247 - accuracy: 0.7211\n",
      "Epoch 2/4\n",
      "16667/16667 [==============================] - 4s 235us/step - loss: 0.1683 - accuracy: 0.9389\n",
      "Epoch 3/4\n",
      "16667/16667 [==============================] - 4s 231us/step - loss: 0.0222 - accuracy: 0.9968\n",
      "Epoch 4/4\n",
      "16667/16667 [==============================] - 4s 230us/step - loss: 0.0034 - accuracy: 1.0000\n",
      "8333/8333 [==============================] - 0s 36us/step\n"
     ]
    },
    {
     "name": "stderr",
     "output_type": "stream",
     "text": [
      "C:\\Users\\joaon\\Anaconda3\\envs\\DL-illustrated\\lib\\site-packages\\tensorflow_core\\python\\framework\\indexed_slices.py:433: UserWarning: Converting sparse IndexedSlices to a dense Tensor of unknown shape. This may consume a large amount of memory.\n",
      "  \"Converting sparse IndexedSlices to a dense Tensor of unknown shape. \"\n"
     ]
    },
    {
     "name": "stdout",
     "output_type": "stream",
     "text": [
      "Epoch 1/4\n",
      "16667/16667 [==============================] - 4s 228us/step - loss: 0.5232 - accuracy: 0.7203\n",
      "Epoch 2/4\n",
      "16667/16667 [==============================] - 4s 240us/step - loss: 0.1660 - accuracy: 0.9380\n",
      "Epoch 3/4\n",
      "16667/16667 [==============================] - 4s 238us/step - loss: 0.0224 - accuracy: 0.9965\n",
      "Epoch 4/4\n",
      "16667/16667 [==============================] - 4s 229us/step - loss: 0.0036 - accuracy: 0.9999\n",
      "8333/8333 [==============================] - 0s 37us/step\n"
     ]
    },
    {
     "name": "stderr",
     "output_type": "stream",
     "text": [
      "C:\\Users\\joaon\\Anaconda3\\envs\\DL-illustrated\\lib\\site-packages\\tensorflow_core\\python\\framework\\indexed_slices.py:433: UserWarning: Converting sparse IndexedSlices to a dense Tensor of unknown shape. This may consume a large amount of memory.\n",
      "  \"Converting sparse IndexedSlices to a dense Tensor of unknown shape. \"\n"
     ]
    },
    {
     "name": "stdout",
     "output_type": "stream",
     "text": [
      "Epoch 1/6\n",
      "16666/16666 [==============================] - 3s 177us/step - loss: 0.5468 - accuracy: 0.7050\n",
      "Epoch 2/6\n",
      "16666/16666 [==============================] - 3s 177us/step - loss: 0.1879 - accuracy: 0.9318\n",
      "Epoch 3/6\n",
      "16666/16666 [==============================] - 3s 176us/step - loss: 0.0290 - accuracy: 0.9965\n",
      "Epoch 4/6\n",
      "16666/16666 [==============================] - 3s 177us/step - loss: 0.0054 - accuracy: 0.9998\n",
      "Epoch 5/6\n",
      "16666/16666 [==============================] - 3s 176us/step - loss: 0.0023 - accuracy: 1.0000\n",
      "Epoch 6/6\n",
      "16666/16666 [==============================] - 3s 178us/step - loss: 0.0014 - accuracy: 1.0000\n",
      "8334/8334 [==============================] - 0s 26us/step\n"
     ]
    },
    {
     "name": "stderr",
     "output_type": "stream",
     "text": [
      "C:\\Users\\joaon\\Anaconda3\\envs\\DL-illustrated\\lib\\site-packages\\tensorflow_core\\python\\framework\\indexed_slices.py:433: UserWarning: Converting sparse IndexedSlices to a dense Tensor of unknown shape. This may consume a large amount of memory.\n",
      "  \"Converting sparse IndexedSlices to a dense Tensor of unknown shape. \"\n"
     ]
    },
    {
     "name": "stdout",
     "output_type": "stream",
     "text": [
      "Epoch 1/6\n",
      "16667/16667 [==============================] - 3s 177us/step - loss: 0.5444 - accuracy: 0.7093\n",
      "Epoch 2/6\n",
      "16667/16667 [==============================] - 3s 178us/step - loss: 0.1904 - accuracy: 0.9314\n",
      "Epoch 3/6\n",
      "16667/16667 [==============================] - 3s 180us/step - loss: 0.0314 - accuracy: 0.9952\n",
      "Epoch 4/6\n",
      "16667/16667 [==============================] - 3s 179us/step - loss: 0.0057 - accuracy: 0.9998\n",
      "Epoch 5/6\n",
      "16667/16667 [==============================] - 3s 178us/step - loss: 0.0023 - accuracy: 1.0000\n",
      "Epoch 6/6\n",
      "16667/16667 [==============================] - 3s 176us/step - loss: 0.0014 - accuracy: 1.0000\n",
      "8333/8333 [==============================] - 0s 28us/step\n"
     ]
    },
    {
     "name": "stderr",
     "output_type": "stream",
     "text": [
      "C:\\Users\\joaon\\Anaconda3\\envs\\DL-illustrated\\lib\\site-packages\\tensorflow_core\\python\\framework\\indexed_slices.py:433: UserWarning: Converting sparse IndexedSlices to a dense Tensor of unknown shape. This may consume a large amount of memory.\n",
      "  \"Converting sparse IndexedSlices to a dense Tensor of unknown shape. \"\n"
     ]
    },
    {
     "name": "stdout",
     "output_type": "stream",
     "text": [
      "Epoch 1/6\n",
      "16667/16667 [==============================] - 3s 184us/step - loss: 0.5443 - accuracy: 0.7070\n",
      "Epoch 2/6\n",
      "16667/16667 [==============================] - 3s 178us/step - loss: 0.1941 - accuracy: 0.9283\n",
      "Epoch 3/6\n",
      "16667/16667 [==============================] - 3s 175us/step - loss: 0.0326 - accuracy: 0.9951\n",
      "Epoch 4/6\n",
      "16667/16667 [==============================] - 3s 181us/step - loss: 0.0064 - accuracy: 0.9998\n",
      "Epoch 5/6\n",
      "16667/16667 [==============================] - 3s 182us/step - loss: 0.0024 - accuracy: 1.0000\n",
      "Epoch 6/6\n",
      "16667/16667 [==============================] - 3s 182us/step - loss: 0.0014 - accuracy: 1.0000\n",
      "8333/8333 [==============================] - 0s 26us/step\n"
     ]
    },
    {
     "name": "stderr",
     "output_type": "stream",
     "text": [
      "C:\\Users\\joaon\\Anaconda3\\envs\\DL-illustrated\\lib\\site-packages\\tensorflow_core\\python\\framework\\indexed_slices.py:433: UserWarning: Converting sparse IndexedSlices to a dense Tensor of unknown shape. This may consume a large amount of memory.\n",
      "  \"Converting sparse IndexedSlices to a dense Tensor of unknown shape. \"\n"
     ]
    },
    {
     "name": "stdout",
     "output_type": "stream",
     "text": [
      "Epoch 1/6\n",
      "16666/16666 [==============================] - 4s 262us/step - loss: 0.5317 - accuracy: 0.7125\n",
      "Epoch 2/6\n",
      "16666/16666 [==============================] - 5s 286us/step - loss: 0.1692 - accuracy: 0.9415\n",
      "Epoch 3/6\n",
      "16666/16666 [==============================] - 4s 238us/step - loss: 0.0209 - accuracy: 0.9974\n",
      "Epoch 4/6\n",
      "16666/16666 [==============================] - 4s 229us/step - loss: 0.0037 - accuracy: 0.9999\n",
      "Epoch 5/6\n",
      "16666/16666 [==============================] - 4s 225us/step - loss: 0.0015 - accuracy: 1.0000\n",
      "Epoch 6/6\n",
      "16666/16666 [==============================] - 4s 229us/step - loss: 9.1351e-04 - accuracy: 1.0000\n",
      "8334/8334 [==============================] - 0s 30us/step\n"
     ]
    },
    {
     "name": "stderr",
     "output_type": "stream",
     "text": [
      "C:\\Users\\joaon\\Anaconda3\\envs\\DL-illustrated\\lib\\site-packages\\tensorflow_core\\python\\framework\\indexed_slices.py:433: UserWarning: Converting sparse IndexedSlices to a dense Tensor of unknown shape. This may consume a large amount of memory.\n",
      "  \"Converting sparse IndexedSlices to a dense Tensor of unknown shape. \"\n"
     ]
    },
    {
     "name": "stdout",
     "output_type": "stream",
     "text": [
      "Epoch 1/6\n",
      "16667/16667 [==============================] - 4s 225us/step - loss: 0.5307 - accuracy: 0.7152\n",
      "Epoch 2/6\n",
      "16667/16667 [==============================] - 4s 227us/step - loss: 0.1657 - accuracy: 0.9410\n",
      "Epoch 3/6\n",
      "16667/16667 [==============================] - 4s 229us/step - loss: 0.0221 - accuracy: 0.9963\n",
      "Epoch 4/6\n",
      "16667/16667 [==============================] - 4s 232us/step - loss: 0.0035 - accuracy: 0.9999\n",
      "Epoch 5/6\n",
      "16667/16667 [==============================] - 4s 230us/step - loss: 0.0014 - accuracy: 1.0000\n",
      "Epoch 6/6\n",
      "16667/16667 [==============================] - 4s 237us/step - loss: 8.8084e-04 - accuracy: 1.0000\n",
      "8333/8333 [==============================] - 0s 37us/step\n"
     ]
    },
    {
     "name": "stderr",
     "output_type": "stream",
     "text": [
      "C:\\Users\\joaon\\Anaconda3\\envs\\DL-illustrated\\lib\\site-packages\\tensorflow_core\\python\\framework\\indexed_slices.py:433: UserWarning: Converting sparse IndexedSlices to a dense Tensor of unknown shape. This may consume a large amount of memory.\n",
      "  \"Converting sparse IndexedSlices to a dense Tensor of unknown shape. \"\n"
     ]
    },
    {
     "name": "stdout",
     "output_type": "stream",
     "text": [
      "Epoch 1/6\n",
      "16667/16667 [==============================] - 4s 228us/step - loss: 0.5295 - accuracy: 0.7209\n",
      "Epoch 2/6\n",
      "16667/16667 [==============================] - 4s 230us/step - loss: 0.1670 - accuracy: 0.9393\n",
      "Epoch 3/6\n",
      "16667/16667 [==============================] - 4s 232us/step - loss: 0.0196 - accuracy: 0.9977\n",
      "Epoch 4/6\n",
      "16667/16667 [==============================] - ETA: 0s - loss: 0.0033 - accuracy: 0.99 - 4s 237us/step - loss: 0.0033 - accuracy: 0.9999\n",
      "Epoch 5/6\n",
      "16667/16667 [==============================] - 4s 235us/step - loss: 0.0015 - accuracy: 1.0000\n",
      "Epoch 6/6\n",
      "16667/16667 [==============================] - 4s 229us/step - loss: 8.9223e-04 - accuracy: 1.0000\n",
      "8333/8333 [==============================] - 0s 32us/step\n"
     ]
    },
    {
     "name": "stderr",
     "output_type": "stream",
     "text": [
      "C:\\Users\\joaon\\Anaconda3\\envs\\DL-illustrated\\lib\\site-packages\\tensorflow_core\\python\\framework\\indexed_slices.py:433: UserWarning: Converting sparse IndexedSlices to a dense Tensor of unknown shape. This may consume a large amount of memory.\n",
      "  \"Converting sparse IndexedSlices to a dense Tensor of unknown shape. \"\n"
     ]
    },
    {
     "name": "stdout",
     "output_type": "stream",
     "text": [
      "Epoch 1/4\n",
      "16666/16666 [==============================] - 3s 176us/step - loss: 0.5755 - accuracy: 0.6828\n",
      "Epoch 2/4\n",
      "16666/16666 [==============================] - 3s 173us/step - loss: 0.2274 - accuracy: 0.9122\n",
      "Epoch 3/4\n",
      "16666/16666 [==============================] - 3s 174us/step - loss: 0.0541 - accuracy: 0.9893\n",
      "Epoch 4/4\n",
      "16666/16666 [==============================] - 3s 176us/step - loss: 0.0114 - accuracy: 0.99950s - loss: 0.0113 - \n",
      "8334/8334 [==============================] - 0s 26us/step\n"
     ]
    },
    {
     "name": "stderr",
     "output_type": "stream",
     "text": [
      "C:\\Users\\joaon\\Anaconda3\\envs\\DL-illustrated\\lib\\site-packages\\tensorflow_core\\python\\framework\\indexed_slices.py:433: UserWarning: Converting sparse IndexedSlices to a dense Tensor of unknown shape. This may consume a large amount of memory.\n",
      "  \"Converting sparse IndexedSlices to a dense Tensor of unknown shape. \"\n"
     ]
    },
    {
     "name": "stdout",
     "output_type": "stream",
     "text": [
      "Epoch 1/4\n",
      "16667/16667 [==============================] - 3s 176us/step - loss: 0.5747 - accuracy: 0.6834\n",
      "Epoch 2/4\n",
      "16667/16667 [==============================] - 3s 175us/step - loss: 0.2286 - accuracy: 0.9134\n",
      "Epoch 3/4\n",
      "16667/16667 [==============================] - 3s 178us/step - loss: 0.0538 - accuracy: 0.9893\n",
      "Epoch 4/4\n",
      "16667/16667 [==============================] - 3s 174us/step - loss: 0.0116 - accuracy: 0.9993\n",
      "8333/8333 [==============================] - 0s 28us/step\n"
     ]
    },
    {
     "name": "stderr",
     "output_type": "stream",
     "text": [
      "C:\\Users\\joaon\\Anaconda3\\envs\\DL-illustrated\\lib\\site-packages\\tensorflow_core\\python\\framework\\indexed_slices.py:433: UserWarning: Converting sparse IndexedSlices to a dense Tensor of unknown shape. This may consume a large amount of memory.\n",
      "  \"Converting sparse IndexedSlices to a dense Tensor of unknown shape. \"\n"
     ]
    },
    {
     "name": "stdout",
     "output_type": "stream",
     "text": [
      "Epoch 1/4\n",
      "16667/16667 [==============================] - 3s 183us/step - loss: 0.5663 - accuracy: 0.6926\n",
      "Epoch 2/4\n",
      "16667/16667 [==============================] - 3s 178us/step - loss: 0.2286 - accuracy: 0.9152\n",
      "Epoch 3/4\n",
      "16667/16667 [==============================] - 3s 175us/step - loss: 0.0577 - accuracy: 0.9877\n",
      "Epoch 4/4\n",
      "16667/16667 [==============================] - 3s 184us/step - loss: 0.0122 - accuracy: 0.9993\n",
      "8333/8333 [==============================] - 0s 28us/step\n"
     ]
    },
    {
     "name": "stderr",
     "output_type": "stream",
     "text": [
      "C:\\Users\\joaon\\Anaconda3\\envs\\DL-illustrated\\lib\\site-packages\\tensorflow_core\\python\\framework\\indexed_slices.py:433: UserWarning: Converting sparse IndexedSlices to a dense Tensor of unknown shape. This may consume a large amount of memory.\n",
      "  \"Converting sparse IndexedSlices to a dense Tensor of unknown shape. \"\n"
     ]
    },
    {
     "name": "stdout",
     "output_type": "stream",
     "text": [
      "Epoch 1/4\n",
      "16666/16666 [==============================] - 4s 236us/step - loss: 0.5383 - accuracy: 0.7140\n",
      "Epoch 2/4\n",
      "16666/16666 [==============================] - 4s 235us/step - loss: 0.1931 - accuracy: 0.9275\n",
      "Epoch 3/4\n",
      "16666/16666 [==============================] - 4s 232us/step - loss: 0.0334 - accuracy: 0.9942\n",
      "Epoch 4/4\n",
      "16666/16666 [==============================] - 4s 238us/step - loss: 0.0059 - accuracy: 0.9997\n",
      "8334/8334 [==============================] - 0s 36us/step\n"
     ]
    },
    {
     "name": "stderr",
     "output_type": "stream",
     "text": [
      "C:\\Users\\joaon\\Anaconda3\\envs\\DL-illustrated\\lib\\site-packages\\tensorflow_core\\python\\framework\\indexed_slices.py:433: UserWarning: Converting sparse IndexedSlices to a dense Tensor of unknown shape. This may consume a large amount of memory.\n",
      "  \"Converting sparse IndexedSlices to a dense Tensor of unknown shape. \"\n"
     ]
    },
    {
     "name": "stdout",
     "output_type": "stream",
     "text": [
      "Epoch 1/4\n",
      "16667/16667 [==============================] - 4s 234us/step - loss: 0.5553 - accuracy: 0.6903\n",
      "Epoch 2/4\n",
      "16667/16667 [==============================] - 4s 227us/step - loss: 0.2043 - accuracy: 0.9235\n",
      "Epoch 3/4\n",
      "16667/16667 [==============================] - 4s 226us/step - loss: 0.0360 - accuracy: 0.9931\n",
      "Epoch 4/4\n",
      "16667/16667 [==============================] - 4s 230us/step - loss: 0.0063 - accuracy: 0.9996\n",
      "8333/8333 [==============================] - 0s 30us/step\n"
     ]
    },
    {
     "name": "stderr",
     "output_type": "stream",
     "text": [
      "C:\\Users\\joaon\\Anaconda3\\envs\\DL-illustrated\\lib\\site-packages\\tensorflow_core\\python\\framework\\indexed_slices.py:433: UserWarning: Converting sparse IndexedSlices to a dense Tensor of unknown shape. This may consume a large amount of memory.\n",
      "  \"Converting sparse IndexedSlices to a dense Tensor of unknown shape. \"\n"
     ]
    },
    {
     "name": "stdout",
     "output_type": "stream",
     "text": [
      "Epoch 1/4\n",
      "16667/16667 [==============================] - 4s 229us/step - loss: 0.5423 - accuracy: 0.7032\n",
      "Epoch 2/4\n",
      "16667/16667 [==============================] - 4s 228us/step - loss: 0.1947 - accuracy: 0.9243\n",
      "Epoch 3/4\n",
      "16667/16667 [==============================] - 4s 229us/step - loss: 0.0330 - accuracy: 0.9944\n",
      "Epoch 4/4\n",
      "16667/16667 [==============================] - 4s 230us/step - loss: 0.0065 - accuracy: 0.9996\n",
      "8333/8333 [==============================] - 0s 34us/step\n"
     ]
    },
    {
     "name": "stderr",
     "output_type": "stream",
     "text": [
      "C:\\Users\\joaon\\Anaconda3\\envs\\DL-illustrated\\lib\\site-packages\\tensorflow_core\\python\\framework\\indexed_slices.py:433: UserWarning: Converting sparse IndexedSlices to a dense Tensor of unknown shape. This may consume a large amount of memory.\n",
      "  \"Converting sparse IndexedSlices to a dense Tensor of unknown shape. \"\n"
     ]
    },
    {
     "name": "stdout",
     "output_type": "stream",
     "text": [
      "Epoch 1/6\n",
      "16666/16666 [==============================] - 3s 178us/step - loss: 0.5741 - accuracy: 0.6861\n",
      "Epoch 2/6\n",
      "16666/16666 [==============================] - 3s 177us/step - loss: 0.2319 - accuracy: 0.9117\n",
      "Epoch 3/6\n",
      "16666/16666 [==============================] - 3s 177us/step - loss: 0.0547 - accuracy: 0.9887\n",
      "Epoch 4/6\n",
      "16666/16666 [==============================] - 3s 178us/step - loss: 0.0116 - accuracy: 0.9992\n",
      "Epoch 5/6\n",
      "16666/16666 [==============================] - 3s 178us/step - loss: 0.0045 - accuracy: 0.9999\n",
      "Epoch 6/6\n",
      "16666/16666 [==============================] - 3s 184us/step - loss: 0.0025 - accuracy: 1.0000\n",
      "8334/8334 [==============================] - 0s 32us/step\n"
     ]
    },
    {
     "name": "stderr",
     "output_type": "stream",
     "text": [
      "C:\\Users\\joaon\\Anaconda3\\envs\\DL-illustrated\\lib\\site-packages\\tensorflow_core\\python\\framework\\indexed_slices.py:433: UserWarning: Converting sparse IndexedSlices to a dense Tensor of unknown shape. This may consume a large amount of memory.\n",
      "  \"Converting sparse IndexedSlices to a dense Tensor of unknown shape. \"\n"
     ]
    },
    {
     "name": "stdout",
     "output_type": "stream",
     "text": [
      "Epoch 1/6\n",
      "16667/16667 [==============================] - 3s 186us/step - loss: 0.5773 - accuracy: 0.6804\n",
      "Epoch 2/6\n",
      "16667/16667 [==============================] - 3s 179us/step - loss: 0.2307 - accuracy: 0.9096\n",
      "Epoch 3/6\n",
      "16667/16667 [==============================] - 3s 179us/step - loss: 0.0546 - accuracy: 0.9888\n",
      "Epoch 4/6\n",
      "16667/16667 [==============================] - 3s 183us/step - loss: 0.0123 - accuracy: 0.9993\n",
      "Epoch 5/6\n",
      "16667/16667 [==============================] - 3s 186us/step - loss: 0.0043 - accuracy: 1.0000\n",
      "Epoch 6/6\n",
      "16667/16667 [==============================] - 3s 178us/step - loss: 0.0023 - accuracy: 1.0000\n",
      "8333/8333 [==============================] - 0s 26us/step\n"
     ]
    },
    {
     "name": "stderr",
     "output_type": "stream",
     "text": [
      "C:\\Users\\joaon\\Anaconda3\\envs\\DL-illustrated\\lib\\site-packages\\tensorflow_core\\python\\framework\\indexed_slices.py:433: UserWarning: Converting sparse IndexedSlices to a dense Tensor of unknown shape. This may consume a large amount of memory.\n",
      "  \"Converting sparse IndexedSlices to a dense Tensor of unknown shape. \"\n"
     ]
    },
    {
     "name": "stdout",
     "output_type": "stream",
     "text": [
      "Epoch 1/6\n",
      "16667/16667 [==============================] - 3s 175us/step - loss: 0.5792 - accuracy: 0.6781\n",
      "Epoch 2/6\n",
      "16667/16667 [==============================] - 3s 180us/step - loss: 0.2366 - accuracy: 0.9092\n",
      "Epoch 3/6\n",
      "16667/16667 [==============================] - 3s 182us/step - loss: 0.0563 - accuracy: 0.9882\n",
      "Epoch 4/6\n",
      "16667/16667 [==============================] - 3s 173us/step - loss: 0.0118 - accuracy: 0.9993\n",
      "Epoch 5/6\n",
      "16667/16667 [==============================] - 3s 177us/step - loss: 0.0043 - accuracy: 1.0000\n",
      "Epoch 6/6\n",
      "16667/16667 [==============================] - 3s 177us/step - loss: 0.0025 - accuracy: 1.0000\n",
      "8333/8333 [==============================] - 0s 30us/step\n"
     ]
    },
    {
     "name": "stderr",
     "output_type": "stream",
     "text": [
      "C:\\Users\\joaon\\Anaconda3\\envs\\DL-illustrated\\lib\\site-packages\\tensorflow_core\\python\\framework\\indexed_slices.py:433: UserWarning: Converting sparse IndexedSlices to a dense Tensor of unknown shape. This may consume a large amount of memory.\n",
      "  \"Converting sparse IndexedSlices to a dense Tensor of unknown shape. \"\n"
     ]
    },
    {
     "name": "stdout",
     "output_type": "stream",
     "text": [
      "Epoch 1/6\n",
      "16666/16666 [==============================] - 4s 232us/step - loss: 0.5467 - accuracy: 0.6991\n",
      "Epoch 2/6\n",
      "16666/16666 [==============================] - 4s 232us/step - loss: 0.1981 - accuracy: 0.9270\n",
      "Epoch 3/6\n",
      "16666/16666 [==============================] - 4s 231us/step - loss: 0.0327 - accuracy: 0.9950\n",
      "Epoch 4/6\n",
      "16666/16666 [==============================] - 4s 227us/step - loss: 0.0058 - accuracy: 0.9998\n",
      "Epoch 5/6\n",
      "16666/16666 [==============================] - 4s 235us/step - loss: 0.0023 - accuracy: 1.0000\n",
      "Epoch 6/6\n",
      "16666/16666 [==============================] - 4s 225us/step - loss: 0.0013 - accuracy: 1.0000\n",
      "8334/8334 [==============================] - 0s 36us/step\n"
     ]
    },
    {
     "name": "stderr",
     "output_type": "stream",
     "text": [
      "C:\\Users\\joaon\\Anaconda3\\envs\\DL-illustrated\\lib\\site-packages\\tensorflow_core\\python\\framework\\indexed_slices.py:433: UserWarning: Converting sparse IndexedSlices to a dense Tensor of unknown shape. This may consume a large amount of memory.\n",
      "  \"Converting sparse IndexedSlices to a dense Tensor of unknown shape. \"\n"
     ]
    },
    {
     "name": "stdout",
     "output_type": "stream",
     "text": [
      "Epoch 1/6\n",
      "16667/16667 [==============================] - 4s 238us/step - loss: 0.5516 - accuracy: 0.6956\n",
      "Epoch 2/6\n",
      "16667/16667 [==============================] - 4s 235us/step - loss: 0.2018 - accuracy: 0.9230\n",
      "Epoch 3/6\n",
      "16667/16667 [==============================] - 4s 230us/step - loss: 0.0334 - accuracy: 0.9951\n",
      "Epoch 4/6\n",
      "16667/16667 [==============================] - 4s 243us/step - loss: 0.0062 - accuracy: 0.9996\n",
      "Epoch 5/6\n",
      "16667/16667 [==============================] - 4s 235us/step - loss: 0.0024 - accuracy: 0.9999\n",
      "Epoch 6/6\n",
      "16667/16667 [==============================] - 4s 229us/step - loss: 0.0013 - accuracy: 1.0000\n",
      "8333/8333 [==============================] - 0s 36us/step\n"
     ]
    },
    {
     "name": "stderr",
     "output_type": "stream",
     "text": [
      "C:\\Users\\joaon\\Anaconda3\\envs\\DL-illustrated\\lib\\site-packages\\tensorflow_core\\python\\framework\\indexed_slices.py:433: UserWarning: Converting sparse IndexedSlices to a dense Tensor of unknown shape. This may consume a large amount of memory.\n",
      "  \"Converting sparse IndexedSlices to a dense Tensor of unknown shape. \"\n"
     ]
    },
    {
     "name": "stdout",
     "output_type": "stream",
     "text": [
      "Epoch 1/6\n",
      "16667/16667 [==============================] - 4s 227us/step - loss: 0.5477 - accuracy: 0.6993\n",
      "Epoch 2/6\n",
      "16667/16667 [==============================] - 4s 226us/step - loss: 0.1999 - accuracy: 0.9238\n",
      "Epoch 3/6\n",
      "16667/16667 [==============================] - 4s 227us/step - loss: 0.0320 - accuracy: 0.9946\n",
      "Epoch 4/6\n",
      "16667/16667 [==============================] - 4s 229us/step - loss: 0.0056 - accuracy: 0.9998\n",
      "Epoch 5/6\n",
      "16667/16667 [==============================] - 4s 229us/step - loss: 0.0023 - accuracy: 1.0000\n",
      "Epoch 6/6\n",
      "16667/16667 [==============================] - 4s 232us/step - loss: 0.0013 - accuracy: 1.0000\n",
      "8333/8333 [==============================] - 0s 36us/step\n"
     ]
    },
    {
     "name": "stderr",
     "output_type": "stream",
     "text": [
      "C:\\Users\\joaon\\Anaconda3\\envs\\DL-illustrated\\lib\\site-packages\\tensorflow_core\\python\\framework\\indexed_slices.py:433: UserWarning: Converting sparse IndexedSlices to a dense Tensor of unknown shape. This may consume a large amount of memory.\n",
      "  \"Converting sparse IndexedSlices to a dense Tensor of unknown shape. \"\n"
     ]
    },
    {
     "name": "stdout",
     "output_type": "stream",
     "text": [
      "Epoch 1/6\n",
      "25000/25000 [==============================] - 5s 182us/step - loss: 0.5025 - accuracy: 0.7370\n",
      "Epoch 2/6\n",
      "25000/25000 [==============================] - 4s 179us/step - loss: 0.2001 - accuracy: 0.9261\n",
      "Epoch 3/6\n",
      "25000/25000 [==============================] - 4s 180us/step - loss: 0.0477 - accuracy: 0.9892\n",
      "Epoch 4/6\n",
      "25000/25000 [==============================] - 5s 182us/step - loss: 0.0095 - accuracy: 0.9994\n",
      "Epoch 5/6\n",
      "25000/25000 [==============================] - 5s 219us/step - loss: 0.0030 - accuracy: 1.0000\n",
      "Epoch 6/6\n",
      "25000/25000 [==============================] - 5s 210us/step - loss: 0.0017 - accuracy: 1.0000\n",
      "Wall time: 20min 39s\n"
     ]
    },
    {
     "data": {
      "text/plain": [
       "GridSearchCV(cv=3, error_score=nan,\n",
       "             estimator=<keras.wrappers.scikit_learn.KerasClassifier object at 0x000002128BA3ECC8>,\n",
       "             iid='deprecated', n_jobs=None,\n",
       "             param_grid={'batch_size': [64, 128], 'dropout': [0.2, 0.5],\n",
       "                         'epochs': [4, 6], 'n_dense': [64, 128]},\n",
       "             pre_dispatch='2*n_jobs', refit=True, return_train_score=False,\n",
       "             scoring='roc_auc', verbose=0)"
      ]
     },
     "execution_count": 46,
     "metadata": {},
     "output_type": "execute_result"
    }
   ],
   "source": [
    "%%time\n",
    "\n",
    "grid_search.fit(x_train, y_train)"
   ]
  },
  {
   "cell_type": "code",
   "execution_count": 47,
   "metadata": {},
   "outputs": [
    {
     "data": {
      "text/plain": [
       "{'batch_size': 128, 'dropout': 0.5, 'epochs': 6, 'n_dense': 64}"
      ]
     },
     "execution_count": 47,
     "metadata": {},
     "output_type": "execute_result"
    }
   ],
   "source": [
    "grid_search.best_params_"
   ]
  },
  {
   "cell_type": "code",
   "execution_count": 48,
   "metadata": {},
   "outputs": [
    {
     "name": "stdout",
     "output_type": "stream",
     "text": [
      "  epochs    batch_size    n_dense    dropout    roc_auc\n",
      "--------  ------------  ---------  ---------  ---------\n",
      "       6           128         64        0.5   0.922937\n",
      "       6            64         64        0.5   0.921665\n",
      "       6           128         64        0.2   0.921069\n",
      "       4           128         64        0.5   0.92064\n",
      "       6            64         64        0.2   0.920537\n",
      "       6            64        128        0.5   0.920433\n",
      "       6           128        128        0.5   0.920358\n",
      "       4           128         64        0.2   0.920281\n",
      "       4           128        128        0.5   0.919852\n",
      "       4            64         64        0.5   0.919536\n",
      "       6           128        128        0.2   0.919005\n",
      "       4           128        128        0.2   0.91807\n",
      "       4            64         64        0.2   0.917793\n",
      "       4            64        128        0.5   0.917669\n",
      "       6            64        128        0.2   0.916376\n",
      "       4            64        128        0.2   0.916114\n"
     ]
    }
   ],
   "source": [
    "grid_search_results(grid_search.cv_results_)"
   ]
  },
  {
   "cell_type": "code",
   "execution_count": 68,
   "metadata": {},
   "outputs": [],
   "source": [
    "df_cv_results = pd.DataFrame(grid_search.cv_results_['params'], columns = ['epochs', 'batch_size', 'n_dense', 'dropout'])"
   ]
  },
  {
   "cell_type": "code",
   "execution_count": 69,
   "metadata": {},
   "outputs": [],
   "source": [
    "df_cv_results['roc_auc'] = grid_search.cv_results_['mean_test_score']"
   ]
  },
  {
   "cell_type": "code",
   "execution_count": 79,
   "metadata": {},
   "outputs": [
    {
     "data": {
      "text/html": [
       "<div>\n",
       "<style scoped>\n",
       "    .dataframe tbody tr th:only-of-type {\n",
       "        vertical-align: middle;\n",
       "    }\n",
       "\n",
       "    .dataframe tbody tr th {\n",
       "        vertical-align: top;\n",
       "    }\n",
       "\n",
       "    .dataframe thead th {\n",
       "        text-align: right;\n",
       "    }\n",
       "</style>\n",
       "<table border=\"1\" class=\"dataframe\">\n",
       "  <thead>\n",
       "    <tr style=\"text-align: right;\">\n",
       "      <th></th>\n",
       "      <th>epochs</th>\n",
       "      <th>batch_size</th>\n",
       "      <th>n_dense</th>\n",
       "      <th>dropout</th>\n",
       "      <th>roc_auc</th>\n",
       "    </tr>\n",
       "  </thead>\n",
       "  <tbody>\n",
       "    <tr>\n",
       "      <th>14</th>\n",
       "      <td>6</td>\n",
       "      <td>128</td>\n",
       "      <td>64</td>\n",
       "      <td>0.5</td>\n",
       "      <td>0.922937</td>\n",
       "    </tr>\n",
       "    <tr>\n",
       "      <th>6</th>\n",
       "      <td>6</td>\n",
       "      <td>64</td>\n",
       "      <td>64</td>\n",
       "      <td>0.5</td>\n",
       "      <td>0.921665</td>\n",
       "    </tr>\n",
       "    <tr>\n",
       "      <th>10</th>\n",
       "      <td>6</td>\n",
       "      <td>128</td>\n",
       "      <td>64</td>\n",
       "      <td>0.2</td>\n",
       "      <td>0.921069</td>\n",
       "    </tr>\n",
       "    <tr>\n",
       "      <th>12</th>\n",
       "      <td>4</td>\n",
       "      <td>128</td>\n",
       "      <td>64</td>\n",
       "      <td>0.5</td>\n",
       "      <td>0.920640</td>\n",
       "    </tr>\n",
       "    <tr>\n",
       "      <th>2</th>\n",
       "      <td>6</td>\n",
       "      <td>64</td>\n",
       "      <td>64</td>\n",
       "      <td>0.2</td>\n",
       "      <td>0.920537</td>\n",
       "    </tr>\n",
       "    <tr>\n",
       "      <th>7</th>\n",
       "      <td>6</td>\n",
       "      <td>64</td>\n",
       "      <td>128</td>\n",
       "      <td>0.5</td>\n",
       "      <td>0.920433</td>\n",
       "    </tr>\n",
       "    <tr>\n",
       "      <th>15</th>\n",
       "      <td>6</td>\n",
       "      <td>128</td>\n",
       "      <td>128</td>\n",
       "      <td>0.5</td>\n",
       "      <td>0.920358</td>\n",
       "    </tr>\n",
       "    <tr>\n",
       "      <th>8</th>\n",
       "      <td>4</td>\n",
       "      <td>128</td>\n",
       "      <td>64</td>\n",
       "      <td>0.2</td>\n",
       "      <td>0.920281</td>\n",
       "    </tr>\n",
       "    <tr>\n",
       "      <th>13</th>\n",
       "      <td>4</td>\n",
       "      <td>128</td>\n",
       "      <td>128</td>\n",
       "      <td>0.5</td>\n",
       "      <td>0.919852</td>\n",
       "    </tr>\n",
       "    <tr>\n",
       "      <th>4</th>\n",
       "      <td>4</td>\n",
       "      <td>64</td>\n",
       "      <td>64</td>\n",
       "      <td>0.5</td>\n",
       "      <td>0.919536</td>\n",
       "    </tr>\n",
       "    <tr>\n",
       "      <th>11</th>\n",
       "      <td>6</td>\n",
       "      <td>128</td>\n",
       "      <td>128</td>\n",
       "      <td>0.2</td>\n",
       "      <td>0.919005</td>\n",
       "    </tr>\n",
       "    <tr>\n",
       "      <th>9</th>\n",
       "      <td>4</td>\n",
       "      <td>128</td>\n",
       "      <td>128</td>\n",
       "      <td>0.2</td>\n",
       "      <td>0.918070</td>\n",
       "    </tr>\n",
       "    <tr>\n",
       "      <th>0</th>\n",
       "      <td>4</td>\n",
       "      <td>64</td>\n",
       "      <td>64</td>\n",
       "      <td>0.2</td>\n",
       "      <td>0.917793</td>\n",
       "    </tr>\n",
       "    <tr>\n",
       "      <th>5</th>\n",
       "      <td>4</td>\n",
       "      <td>64</td>\n",
       "      <td>128</td>\n",
       "      <td>0.5</td>\n",
       "      <td>0.917669</td>\n",
       "    </tr>\n",
       "    <tr>\n",
       "      <th>3</th>\n",
       "      <td>6</td>\n",
       "      <td>64</td>\n",
       "      <td>128</td>\n",
       "      <td>0.2</td>\n",
       "      <td>0.916376</td>\n",
       "    </tr>\n",
       "    <tr>\n",
       "      <th>1</th>\n",
       "      <td>4</td>\n",
       "      <td>64</td>\n",
       "      <td>128</td>\n",
       "      <td>0.2</td>\n",
       "      <td>0.916114</td>\n",
       "    </tr>\n",
       "  </tbody>\n",
       "</table>\n",
       "</div>"
      ],
      "text/plain": [
       "    epochs  batch_size  n_dense  dropout   roc_auc\n",
       "14       6         128       64      0.5  0.922937\n",
       "6        6          64       64      0.5  0.921665\n",
       "10       6         128       64      0.2  0.921069\n",
       "12       4         128       64      0.5  0.920640\n",
       "2        6          64       64      0.2  0.920537\n",
       "7        6          64      128      0.5  0.920433\n",
       "15       6         128      128      0.5  0.920358\n",
       "8        4         128       64      0.2  0.920281\n",
       "13       4         128      128      0.5  0.919852\n",
       "4        4          64       64      0.5  0.919536\n",
       "11       6         128      128      0.2  0.919005\n",
       "9        4         128      128      0.2  0.918070\n",
       "0        4          64       64      0.2  0.917793\n",
       "5        4          64      128      0.5  0.917669\n",
       "3        6          64      128      0.2  0.916376\n",
       "1        4          64      128      0.2  0.916114"
      ]
     },
     "execution_count": 79,
     "metadata": {},
     "output_type": "execute_result"
    }
   ],
   "source": [
    "df_cv_results.sort_values(by=['roc_auc'], ascending=False)"
   ]
  },
  {
   "cell_type": "code",
   "execution_count": 83,
   "metadata": {},
   "outputs": [
    {
     "name": "stdout",
     "output_type": "stream",
     "text": [
      " epochs  batch_size  n_dense  dropout   roc_auc\n",
      "      6         128       64      0.5  0.922937\n",
      "      6          64       64      0.5  0.921665\n",
      "      6         128       64      0.2  0.921069\n",
      "      4         128       64      0.5  0.920640\n",
      "      6          64       64      0.2  0.920537\n",
      "      6          64      128      0.5  0.920433\n",
      "      6         128      128      0.5  0.920358\n",
      "      4         128       64      0.2  0.920281\n",
      "      4         128      128      0.5  0.919852\n",
      "      4          64       64      0.5  0.919536\n",
      "      6         128      128      0.2  0.919005\n",
      "      4         128      128      0.2  0.918070\n",
      "      4          64       64      0.2  0.917793\n",
      "      4          64      128      0.5  0.917669\n",
      "      6          64      128      0.2  0.916376\n",
      "      4          64      128      0.2  0.916114\n"
     ]
    }
   ],
   "source": [
    "print(df_cv_results.sort_values(by=['roc_auc'], ascending=False).to_string(index=False))"
   ]
  },
  {
   "cell_type": "code",
   "execution_count": 85,
   "metadata": {},
   "outputs": [
    {
     "data": {
      "text/html": [
       "<table border=\"1\" class=\"dataframe\">\n",
       "  <thead>\n",
       "    <tr style=\"text-align: right;\">\n",
       "      <th>epochs</th>\n",
       "      <th>batch_size</th>\n",
       "      <th>n_dense</th>\n",
       "      <th>dropout</th>\n",
       "      <th>roc_auc</th>\n",
       "    </tr>\n",
       "  </thead>\n",
       "  <tbody>\n",
       "    <tr>\n",
       "      <td>6</td>\n",
       "      <td>128</td>\n",
       "      <td>64</td>\n",
       "      <td>0.5</td>\n",
       "      <td>0.922937</td>\n",
       "    </tr>\n",
       "    <tr>\n",
       "      <td>6</td>\n",
       "      <td>64</td>\n",
       "      <td>64</td>\n",
       "      <td>0.5</td>\n",
       "      <td>0.921665</td>\n",
       "    </tr>\n",
       "    <tr>\n",
       "      <td>6</td>\n",
       "      <td>128</td>\n",
       "      <td>64</td>\n",
       "      <td>0.2</td>\n",
       "      <td>0.921069</td>\n",
       "    </tr>\n",
       "    <tr>\n",
       "      <td>4</td>\n",
       "      <td>128</td>\n",
       "      <td>64</td>\n",
       "      <td>0.5</td>\n",
       "      <td>0.920640</td>\n",
       "    </tr>\n",
       "    <tr>\n",
       "      <td>6</td>\n",
       "      <td>64</td>\n",
       "      <td>64</td>\n",
       "      <td>0.2</td>\n",
       "      <td>0.920537</td>\n",
       "    </tr>\n",
       "    <tr>\n",
       "      <td>6</td>\n",
       "      <td>64</td>\n",
       "      <td>128</td>\n",
       "      <td>0.5</td>\n",
       "      <td>0.920433</td>\n",
       "    </tr>\n",
       "    <tr>\n",
       "      <td>6</td>\n",
       "      <td>128</td>\n",
       "      <td>128</td>\n",
       "      <td>0.5</td>\n",
       "      <td>0.920358</td>\n",
       "    </tr>\n",
       "    <tr>\n",
       "      <td>4</td>\n",
       "      <td>128</td>\n",
       "      <td>64</td>\n",
       "      <td>0.2</td>\n",
       "      <td>0.920281</td>\n",
       "    </tr>\n",
       "    <tr>\n",
       "      <td>4</td>\n",
       "      <td>128</td>\n",
       "      <td>128</td>\n",
       "      <td>0.5</td>\n",
       "      <td>0.919852</td>\n",
       "    </tr>\n",
       "    <tr>\n",
       "      <td>4</td>\n",
       "      <td>64</td>\n",
       "      <td>64</td>\n",
       "      <td>0.5</td>\n",
       "      <td>0.919536</td>\n",
       "    </tr>\n",
       "    <tr>\n",
       "      <td>6</td>\n",
       "      <td>128</td>\n",
       "      <td>128</td>\n",
       "      <td>0.2</td>\n",
       "      <td>0.919005</td>\n",
       "    </tr>\n",
       "    <tr>\n",
       "      <td>4</td>\n",
       "      <td>128</td>\n",
       "      <td>128</td>\n",
       "      <td>0.2</td>\n",
       "      <td>0.918070</td>\n",
       "    </tr>\n",
       "    <tr>\n",
       "      <td>4</td>\n",
       "      <td>64</td>\n",
       "      <td>64</td>\n",
       "      <td>0.2</td>\n",
       "      <td>0.917793</td>\n",
       "    </tr>\n",
       "    <tr>\n",
       "      <td>4</td>\n",
       "      <td>64</td>\n",
       "      <td>128</td>\n",
       "      <td>0.5</td>\n",
       "      <td>0.917669</td>\n",
       "    </tr>\n",
       "    <tr>\n",
       "      <td>6</td>\n",
       "      <td>64</td>\n",
       "      <td>128</td>\n",
       "      <td>0.2</td>\n",
       "      <td>0.916376</td>\n",
       "    </tr>\n",
       "    <tr>\n",
       "      <td>4</td>\n",
       "      <td>64</td>\n",
       "      <td>128</td>\n",
       "      <td>0.2</td>\n",
       "      <td>0.916114</td>\n",
       "    </tr>\n",
       "  </tbody>\n",
       "</table>"
      ],
      "text/plain": [
       "<IPython.core.display.HTML object>"
      ]
     },
     "metadata": {},
     "output_type": "display_data"
    }
   ],
   "source": [
    "from IPython.display import display, HTML\n",
    "display(HTML(df_cv_results.sort_values(by=['roc_auc'], ascending=False).to_html(index=False)))"
   ]
  },
  {
   "cell_type": "code",
   "execution_count": 98,
   "metadata": {},
   "outputs": [
    {
     "data": {
      "text/html": [
       "<style  type=\"text/css\" >\n",
       "</style><table id=\"T_fe6413c6_74c3_11ea_8904_9b58ebdfb5b2\" ><thead>    <tr>        <th class=\"col_heading level0 col0\" >epochs</th>        <th class=\"col_heading level0 col1\" >batch_size</th>        <th class=\"col_heading level0 col2\" >n_dense</th>        <th class=\"col_heading level0 col3\" >dropout</th>        <th class=\"col_heading level0 col4\" >roc_auc</th>    </tr></thead><tbody>\n",
       "                <tr>\n",
       "                                <td id=\"T_fe6413c6_74c3_11ea_8904_9b58ebdfb5b2row0_col0\" class=\"data row0 col0\" >6</td>\n",
       "                        <td id=\"T_fe6413c6_74c3_11ea_8904_9b58ebdfb5b2row0_col1\" class=\"data row0 col1\" >128</td>\n",
       "                        <td id=\"T_fe6413c6_74c3_11ea_8904_9b58ebdfb5b2row0_col2\" class=\"data row0 col2\" >64</td>\n",
       "                        <td id=\"T_fe6413c6_74c3_11ea_8904_9b58ebdfb5b2row0_col3\" class=\"data row0 col3\" >0.500000</td>\n",
       "                        <td id=\"T_fe6413c6_74c3_11ea_8904_9b58ebdfb5b2row0_col4\" class=\"data row0 col4\" >0.922937</td>\n",
       "            </tr>\n",
       "            <tr>\n",
       "                                <td id=\"T_fe6413c6_74c3_11ea_8904_9b58ebdfb5b2row1_col0\" class=\"data row1 col0\" >6</td>\n",
       "                        <td id=\"T_fe6413c6_74c3_11ea_8904_9b58ebdfb5b2row1_col1\" class=\"data row1 col1\" >64</td>\n",
       "                        <td id=\"T_fe6413c6_74c3_11ea_8904_9b58ebdfb5b2row1_col2\" class=\"data row1 col2\" >64</td>\n",
       "                        <td id=\"T_fe6413c6_74c3_11ea_8904_9b58ebdfb5b2row1_col3\" class=\"data row1 col3\" >0.500000</td>\n",
       "                        <td id=\"T_fe6413c6_74c3_11ea_8904_9b58ebdfb5b2row1_col4\" class=\"data row1 col4\" >0.921665</td>\n",
       "            </tr>\n",
       "            <tr>\n",
       "                                <td id=\"T_fe6413c6_74c3_11ea_8904_9b58ebdfb5b2row2_col0\" class=\"data row2 col0\" >6</td>\n",
       "                        <td id=\"T_fe6413c6_74c3_11ea_8904_9b58ebdfb5b2row2_col1\" class=\"data row2 col1\" >128</td>\n",
       "                        <td id=\"T_fe6413c6_74c3_11ea_8904_9b58ebdfb5b2row2_col2\" class=\"data row2 col2\" >64</td>\n",
       "                        <td id=\"T_fe6413c6_74c3_11ea_8904_9b58ebdfb5b2row2_col3\" class=\"data row2 col3\" >0.200000</td>\n",
       "                        <td id=\"T_fe6413c6_74c3_11ea_8904_9b58ebdfb5b2row2_col4\" class=\"data row2 col4\" >0.921069</td>\n",
       "            </tr>\n",
       "            <tr>\n",
       "                                <td id=\"T_fe6413c6_74c3_11ea_8904_9b58ebdfb5b2row3_col0\" class=\"data row3 col0\" >4</td>\n",
       "                        <td id=\"T_fe6413c6_74c3_11ea_8904_9b58ebdfb5b2row3_col1\" class=\"data row3 col1\" >128</td>\n",
       "                        <td id=\"T_fe6413c6_74c3_11ea_8904_9b58ebdfb5b2row3_col2\" class=\"data row3 col2\" >64</td>\n",
       "                        <td id=\"T_fe6413c6_74c3_11ea_8904_9b58ebdfb5b2row3_col3\" class=\"data row3 col3\" >0.500000</td>\n",
       "                        <td id=\"T_fe6413c6_74c3_11ea_8904_9b58ebdfb5b2row3_col4\" class=\"data row3 col4\" >0.920640</td>\n",
       "            </tr>\n",
       "            <tr>\n",
       "                                <td id=\"T_fe6413c6_74c3_11ea_8904_9b58ebdfb5b2row4_col0\" class=\"data row4 col0\" >6</td>\n",
       "                        <td id=\"T_fe6413c6_74c3_11ea_8904_9b58ebdfb5b2row4_col1\" class=\"data row4 col1\" >64</td>\n",
       "                        <td id=\"T_fe6413c6_74c3_11ea_8904_9b58ebdfb5b2row4_col2\" class=\"data row4 col2\" >64</td>\n",
       "                        <td id=\"T_fe6413c6_74c3_11ea_8904_9b58ebdfb5b2row4_col3\" class=\"data row4 col3\" >0.200000</td>\n",
       "                        <td id=\"T_fe6413c6_74c3_11ea_8904_9b58ebdfb5b2row4_col4\" class=\"data row4 col4\" >0.920537</td>\n",
       "            </tr>\n",
       "            <tr>\n",
       "                                <td id=\"T_fe6413c6_74c3_11ea_8904_9b58ebdfb5b2row5_col0\" class=\"data row5 col0\" >6</td>\n",
       "                        <td id=\"T_fe6413c6_74c3_11ea_8904_9b58ebdfb5b2row5_col1\" class=\"data row5 col1\" >64</td>\n",
       "                        <td id=\"T_fe6413c6_74c3_11ea_8904_9b58ebdfb5b2row5_col2\" class=\"data row5 col2\" >128</td>\n",
       "                        <td id=\"T_fe6413c6_74c3_11ea_8904_9b58ebdfb5b2row5_col3\" class=\"data row5 col3\" >0.500000</td>\n",
       "                        <td id=\"T_fe6413c6_74c3_11ea_8904_9b58ebdfb5b2row5_col4\" class=\"data row5 col4\" >0.920433</td>\n",
       "            </tr>\n",
       "            <tr>\n",
       "                                <td id=\"T_fe6413c6_74c3_11ea_8904_9b58ebdfb5b2row6_col0\" class=\"data row6 col0\" >6</td>\n",
       "                        <td id=\"T_fe6413c6_74c3_11ea_8904_9b58ebdfb5b2row6_col1\" class=\"data row6 col1\" >128</td>\n",
       "                        <td id=\"T_fe6413c6_74c3_11ea_8904_9b58ebdfb5b2row6_col2\" class=\"data row6 col2\" >128</td>\n",
       "                        <td id=\"T_fe6413c6_74c3_11ea_8904_9b58ebdfb5b2row6_col3\" class=\"data row6 col3\" >0.500000</td>\n",
       "                        <td id=\"T_fe6413c6_74c3_11ea_8904_9b58ebdfb5b2row6_col4\" class=\"data row6 col4\" >0.920358</td>\n",
       "            </tr>\n",
       "            <tr>\n",
       "                                <td id=\"T_fe6413c6_74c3_11ea_8904_9b58ebdfb5b2row7_col0\" class=\"data row7 col0\" >4</td>\n",
       "                        <td id=\"T_fe6413c6_74c3_11ea_8904_9b58ebdfb5b2row7_col1\" class=\"data row7 col1\" >128</td>\n",
       "                        <td id=\"T_fe6413c6_74c3_11ea_8904_9b58ebdfb5b2row7_col2\" class=\"data row7 col2\" >64</td>\n",
       "                        <td id=\"T_fe6413c6_74c3_11ea_8904_9b58ebdfb5b2row7_col3\" class=\"data row7 col3\" >0.200000</td>\n",
       "                        <td id=\"T_fe6413c6_74c3_11ea_8904_9b58ebdfb5b2row7_col4\" class=\"data row7 col4\" >0.920281</td>\n",
       "            </tr>\n",
       "            <tr>\n",
       "                                <td id=\"T_fe6413c6_74c3_11ea_8904_9b58ebdfb5b2row8_col0\" class=\"data row8 col0\" >4</td>\n",
       "                        <td id=\"T_fe6413c6_74c3_11ea_8904_9b58ebdfb5b2row8_col1\" class=\"data row8 col1\" >128</td>\n",
       "                        <td id=\"T_fe6413c6_74c3_11ea_8904_9b58ebdfb5b2row8_col2\" class=\"data row8 col2\" >128</td>\n",
       "                        <td id=\"T_fe6413c6_74c3_11ea_8904_9b58ebdfb5b2row8_col3\" class=\"data row8 col3\" >0.500000</td>\n",
       "                        <td id=\"T_fe6413c6_74c3_11ea_8904_9b58ebdfb5b2row8_col4\" class=\"data row8 col4\" >0.919852</td>\n",
       "            </tr>\n",
       "            <tr>\n",
       "                                <td id=\"T_fe6413c6_74c3_11ea_8904_9b58ebdfb5b2row9_col0\" class=\"data row9 col0\" >4</td>\n",
       "                        <td id=\"T_fe6413c6_74c3_11ea_8904_9b58ebdfb5b2row9_col1\" class=\"data row9 col1\" >64</td>\n",
       "                        <td id=\"T_fe6413c6_74c3_11ea_8904_9b58ebdfb5b2row9_col2\" class=\"data row9 col2\" >64</td>\n",
       "                        <td id=\"T_fe6413c6_74c3_11ea_8904_9b58ebdfb5b2row9_col3\" class=\"data row9 col3\" >0.500000</td>\n",
       "                        <td id=\"T_fe6413c6_74c3_11ea_8904_9b58ebdfb5b2row9_col4\" class=\"data row9 col4\" >0.919536</td>\n",
       "            </tr>\n",
       "            <tr>\n",
       "                                <td id=\"T_fe6413c6_74c3_11ea_8904_9b58ebdfb5b2row10_col0\" class=\"data row10 col0\" >6</td>\n",
       "                        <td id=\"T_fe6413c6_74c3_11ea_8904_9b58ebdfb5b2row10_col1\" class=\"data row10 col1\" >128</td>\n",
       "                        <td id=\"T_fe6413c6_74c3_11ea_8904_9b58ebdfb5b2row10_col2\" class=\"data row10 col2\" >128</td>\n",
       "                        <td id=\"T_fe6413c6_74c3_11ea_8904_9b58ebdfb5b2row10_col3\" class=\"data row10 col3\" >0.200000</td>\n",
       "                        <td id=\"T_fe6413c6_74c3_11ea_8904_9b58ebdfb5b2row10_col4\" class=\"data row10 col4\" >0.919005</td>\n",
       "            </tr>\n",
       "            <tr>\n",
       "                                <td id=\"T_fe6413c6_74c3_11ea_8904_9b58ebdfb5b2row11_col0\" class=\"data row11 col0\" >4</td>\n",
       "                        <td id=\"T_fe6413c6_74c3_11ea_8904_9b58ebdfb5b2row11_col1\" class=\"data row11 col1\" >128</td>\n",
       "                        <td id=\"T_fe6413c6_74c3_11ea_8904_9b58ebdfb5b2row11_col2\" class=\"data row11 col2\" >128</td>\n",
       "                        <td id=\"T_fe6413c6_74c3_11ea_8904_9b58ebdfb5b2row11_col3\" class=\"data row11 col3\" >0.200000</td>\n",
       "                        <td id=\"T_fe6413c6_74c3_11ea_8904_9b58ebdfb5b2row11_col4\" class=\"data row11 col4\" >0.918070</td>\n",
       "            </tr>\n",
       "            <tr>\n",
       "                                <td id=\"T_fe6413c6_74c3_11ea_8904_9b58ebdfb5b2row12_col0\" class=\"data row12 col0\" >4</td>\n",
       "                        <td id=\"T_fe6413c6_74c3_11ea_8904_9b58ebdfb5b2row12_col1\" class=\"data row12 col1\" >64</td>\n",
       "                        <td id=\"T_fe6413c6_74c3_11ea_8904_9b58ebdfb5b2row12_col2\" class=\"data row12 col2\" >64</td>\n",
       "                        <td id=\"T_fe6413c6_74c3_11ea_8904_9b58ebdfb5b2row12_col3\" class=\"data row12 col3\" >0.200000</td>\n",
       "                        <td id=\"T_fe6413c6_74c3_11ea_8904_9b58ebdfb5b2row12_col4\" class=\"data row12 col4\" >0.917793</td>\n",
       "            </tr>\n",
       "            <tr>\n",
       "                                <td id=\"T_fe6413c6_74c3_11ea_8904_9b58ebdfb5b2row13_col0\" class=\"data row13 col0\" >4</td>\n",
       "                        <td id=\"T_fe6413c6_74c3_11ea_8904_9b58ebdfb5b2row13_col1\" class=\"data row13 col1\" >64</td>\n",
       "                        <td id=\"T_fe6413c6_74c3_11ea_8904_9b58ebdfb5b2row13_col2\" class=\"data row13 col2\" >128</td>\n",
       "                        <td id=\"T_fe6413c6_74c3_11ea_8904_9b58ebdfb5b2row13_col3\" class=\"data row13 col3\" >0.500000</td>\n",
       "                        <td id=\"T_fe6413c6_74c3_11ea_8904_9b58ebdfb5b2row13_col4\" class=\"data row13 col4\" >0.917669</td>\n",
       "            </tr>\n",
       "            <tr>\n",
       "                                <td id=\"T_fe6413c6_74c3_11ea_8904_9b58ebdfb5b2row14_col0\" class=\"data row14 col0\" >6</td>\n",
       "                        <td id=\"T_fe6413c6_74c3_11ea_8904_9b58ebdfb5b2row14_col1\" class=\"data row14 col1\" >64</td>\n",
       "                        <td id=\"T_fe6413c6_74c3_11ea_8904_9b58ebdfb5b2row14_col2\" class=\"data row14 col2\" >128</td>\n",
       "                        <td id=\"T_fe6413c6_74c3_11ea_8904_9b58ebdfb5b2row14_col3\" class=\"data row14 col3\" >0.200000</td>\n",
       "                        <td id=\"T_fe6413c6_74c3_11ea_8904_9b58ebdfb5b2row14_col4\" class=\"data row14 col4\" >0.916376</td>\n",
       "            </tr>\n",
       "            <tr>\n",
       "                                <td id=\"T_fe6413c6_74c3_11ea_8904_9b58ebdfb5b2row15_col0\" class=\"data row15 col0\" >4</td>\n",
       "                        <td id=\"T_fe6413c6_74c3_11ea_8904_9b58ebdfb5b2row15_col1\" class=\"data row15 col1\" >64</td>\n",
       "                        <td id=\"T_fe6413c6_74c3_11ea_8904_9b58ebdfb5b2row15_col2\" class=\"data row15 col2\" >128</td>\n",
       "                        <td id=\"T_fe6413c6_74c3_11ea_8904_9b58ebdfb5b2row15_col3\" class=\"data row15 col3\" >0.200000</td>\n",
       "                        <td id=\"T_fe6413c6_74c3_11ea_8904_9b58ebdfb5b2row15_col4\" class=\"data row15 col4\" >0.916114</td>\n",
       "            </tr>\n",
       "    </tbody></table>"
      ],
      "text/plain": [
       "<pandas.io.formats.style.Styler at 0x212ae3280c8>"
      ]
     },
     "execution_count": 98,
     "metadata": {},
     "output_type": "execute_result"
    }
   ],
   "source": [
    "# why the change in the number of decimal places in the dropout column?!\n",
    "\n",
    "df_cv_results.sort_values(by=['roc_auc'], ascending=False).style.hide_index()"
   ]
  },
  {
   "cell_type": "code",
   "execution_count": 104,
   "metadata": {},
   "outputs": [
    {
     "data": {
      "text/html": [
       "<style  type=\"text/css\" >\n",
       "</style><table id=\"T_678d4aac_74c4_11ea_bed1_9b58ebdfb5b2\" ><thead>    <tr>        <th class=\"col_heading level0 col0\" >epochs</th>        <th class=\"col_heading level0 col1\" >batch_size</th>        <th class=\"col_heading level0 col2\" >n_dense</th>        <th class=\"col_heading level0 col3\" >dropout</th>        <th class=\"col_heading level0 col4\" >roc_auc</th>    </tr></thead><tbody>\n",
       "                <tr>\n",
       "                                <td id=\"T_678d4aac_74c4_11ea_bed1_9b58ebdfb5b2row0_col0\" class=\"data row0 col0\" >6</td>\n",
       "                        <td id=\"T_678d4aac_74c4_11ea_bed1_9b58ebdfb5b2row0_col1\" class=\"data row0 col1\" >128</td>\n",
       "                        <td id=\"T_678d4aac_74c4_11ea_bed1_9b58ebdfb5b2row0_col2\" class=\"data row0 col2\" >64</td>\n",
       "                        <td id=\"T_678d4aac_74c4_11ea_bed1_9b58ebdfb5b2row0_col3\" class=\"data row0 col3\" >0.5</td>\n",
       "                        <td id=\"T_678d4aac_74c4_11ea_bed1_9b58ebdfb5b2row0_col4\" class=\"data row0 col4\" >0.922937</td>\n",
       "            </tr>\n",
       "            <tr>\n",
       "                                <td id=\"T_678d4aac_74c4_11ea_bed1_9b58ebdfb5b2row1_col0\" class=\"data row1 col0\" >6</td>\n",
       "                        <td id=\"T_678d4aac_74c4_11ea_bed1_9b58ebdfb5b2row1_col1\" class=\"data row1 col1\" >64</td>\n",
       "                        <td id=\"T_678d4aac_74c4_11ea_bed1_9b58ebdfb5b2row1_col2\" class=\"data row1 col2\" >64</td>\n",
       "                        <td id=\"T_678d4aac_74c4_11ea_bed1_9b58ebdfb5b2row1_col3\" class=\"data row1 col3\" >0.5</td>\n",
       "                        <td id=\"T_678d4aac_74c4_11ea_bed1_9b58ebdfb5b2row1_col4\" class=\"data row1 col4\" >0.921665</td>\n",
       "            </tr>\n",
       "            <tr>\n",
       "                                <td id=\"T_678d4aac_74c4_11ea_bed1_9b58ebdfb5b2row2_col0\" class=\"data row2 col0\" >6</td>\n",
       "                        <td id=\"T_678d4aac_74c4_11ea_bed1_9b58ebdfb5b2row2_col1\" class=\"data row2 col1\" >128</td>\n",
       "                        <td id=\"T_678d4aac_74c4_11ea_bed1_9b58ebdfb5b2row2_col2\" class=\"data row2 col2\" >64</td>\n",
       "                        <td id=\"T_678d4aac_74c4_11ea_bed1_9b58ebdfb5b2row2_col3\" class=\"data row2 col3\" >0.2</td>\n",
       "                        <td id=\"T_678d4aac_74c4_11ea_bed1_9b58ebdfb5b2row2_col4\" class=\"data row2 col4\" >0.921069</td>\n",
       "            </tr>\n",
       "            <tr>\n",
       "                                <td id=\"T_678d4aac_74c4_11ea_bed1_9b58ebdfb5b2row3_col0\" class=\"data row3 col0\" >4</td>\n",
       "                        <td id=\"T_678d4aac_74c4_11ea_bed1_9b58ebdfb5b2row3_col1\" class=\"data row3 col1\" >128</td>\n",
       "                        <td id=\"T_678d4aac_74c4_11ea_bed1_9b58ebdfb5b2row3_col2\" class=\"data row3 col2\" >64</td>\n",
       "                        <td id=\"T_678d4aac_74c4_11ea_bed1_9b58ebdfb5b2row3_col3\" class=\"data row3 col3\" >0.5</td>\n",
       "                        <td id=\"T_678d4aac_74c4_11ea_bed1_9b58ebdfb5b2row3_col4\" class=\"data row3 col4\" >0.920640</td>\n",
       "            </tr>\n",
       "            <tr>\n",
       "                                <td id=\"T_678d4aac_74c4_11ea_bed1_9b58ebdfb5b2row4_col0\" class=\"data row4 col0\" >6</td>\n",
       "                        <td id=\"T_678d4aac_74c4_11ea_bed1_9b58ebdfb5b2row4_col1\" class=\"data row4 col1\" >64</td>\n",
       "                        <td id=\"T_678d4aac_74c4_11ea_bed1_9b58ebdfb5b2row4_col2\" class=\"data row4 col2\" >64</td>\n",
       "                        <td id=\"T_678d4aac_74c4_11ea_bed1_9b58ebdfb5b2row4_col3\" class=\"data row4 col3\" >0.2</td>\n",
       "                        <td id=\"T_678d4aac_74c4_11ea_bed1_9b58ebdfb5b2row4_col4\" class=\"data row4 col4\" >0.920537</td>\n",
       "            </tr>\n",
       "            <tr>\n",
       "                                <td id=\"T_678d4aac_74c4_11ea_bed1_9b58ebdfb5b2row5_col0\" class=\"data row5 col0\" >6</td>\n",
       "                        <td id=\"T_678d4aac_74c4_11ea_bed1_9b58ebdfb5b2row5_col1\" class=\"data row5 col1\" >64</td>\n",
       "                        <td id=\"T_678d4aac_74c4_11ea_bed1_9b58ebdfb5b2row5_col2\" class=\"data row5 col2\" >128</td>\n",
       "                        <td id=\"T_678d4aac_74c4_11ea_bed1_9b58ebdfb5b2row5_col3\" class=\"data row5 col3\" >0.5</td>\n",
       "                        <td id=\"T_678d4aac_74c4_11ea_bed1_9b58ebdfb5b2row5_col4\" class=\"data row5 col4\" >0.920433</td>\n",
       "            </tr>\n",
       "            <tr>\n",
       "                                <td id=\"T_678d4aac_74c4_11ea_bed1_9b58ebdfb5b2row6_col0\" class=\"data row6 col0\" >6</td>\n",
       "                        <td id=\"T_678d4aac_74c4_11ea_bed1_9b58ebdfb5b2row6_col1\" class=\"data row6 col1\" >128</td>\n",
       "                        <td id=\"T_678d4aac_74c4_11ea_bed1_9b58ebdfb5b2row6_col2\" class=\"data row6 col2\" >128</td>\n",
       "                        <td id=\"T_678d4aac_74c4_11ea_bed1_9b58ebdfb5b2row6_col3\" class=\"data row6 col3\" >0.5</td>\n",
       "                        <td id=\"T_678d4aac_74c4_11ea_bed1_9b58ebdfb5b2row6_col4\" class=\"data row6 col4\" >0.920358</td>\n",
       "            </tr>\n",
       "            <tr>\n",
       "                                <td id=\"T_678d4aac_74c4_11ea_bed1_9b58ebdfb5b2row7_col0\" class=\"data row7 col0\" >4</td>\n",
       "                        <td id=\"T_678d4aac_74c4_11ea_bed1_9b58ebdfb5b2row7_col1\" class=\"data row7 col1\" >128</td>\n",
       "                        <td id=\"T_678d4aac_74c4_11ea_bed1_9b58ebdfb5b2row7_col2\" class=\"data row7 col2\" >64</td>\n",
       "                        <td id=\"T_678d4aac_74c4_11ea_bed1_9b58ebdfb5b2row7_col3\" class=\"data row7 col3\" >0.2</td>\n",
       "                        <td id=\"T_678d4aac_74c4_11ea_bed1_9b58ebdfb5b2row7_col4\" class=\"data row7 col4\" >0.920281</td>\n",
       "            </tr>\n",
       "            <tr>\n",
       "                                <td id=\"T_678d4aac_74c4_11ea_bed1_9b58ebdfb5b2row8_col0\" class=\"data row8 col0\" >4</td>\n",
       "                        <td id=\"T_678d4aac_74c4_11ea_bed1_9b58ebdfb5b2row8_col1\" class=\"data row8 col1\" >128</td>\n",
       "                        <td id=\"T_678d4aac_74c4_11ea_bed1_9b58ebdfb5b2row8_col2\" class=\"data row8 col2\" >128</td>\n",
       "                        <td id=\"T_678d4aac_74c4_11ea_bed1_9b58ebdfb5b2row8_col3\" class=\"data row8 col3\" >0.5</td>\n",
       "                        <td id=\"T_678d4aac_74c4_11ea_bed1_9b58ebdfb5b2row8_col4\" class=\"data row8 col4\" >0.919852</td>\n",
       "            </tr>\n",
       "            <tr>\n",
       "                                <td id=\"T_678d4aac_74c4_11ea_bed1_9b58ebdfb5b2row9_col0\" class=\"data row9 col0\" >4</td>\n",
       "                        <td id=\"T_678d4aac_74c4_11ea_bed1_9b58ebdfb5b2row9_col1\" class=\"data row9 col1\" >64</td>\n",
       "                        <td id=\"T_678d4aac_74c4_11ea_bed1_9b58ebdfb5b2row9_col2\" class=\"data row9 col2\" >64</td>\n",
       "                        <td id=\"T_678d4aac_74c4_11ea_bed1_9b58ebdfb5b2row9_col3\" class=\"data row9 col3\" >0.5</td>\n",
       "                        <td id=\"T_678d4aac_74c4_11ea_bed1_9b58ebdfb5b2row9_col4\" class=\"data row9 col4\" >0.919536</td>\n",
       "            </tr>\n",
       "            <tr>\n",
       "                                <td id=\"T_678d4aac_74c4_11ea_bed1_9b58ebdfb5b2row10_col0\" class=\"data row10 col0\" >6</td>\n",
       "                        <td id=\"T_678d4aac_74c4_11ea_bed1_9b58ebdfb5b2row10_col1\" class=\"data row10 col1\" >128</td>\n",
       "                        <td id=\"T_678d4aac_74c4_11ea_bed1_9b58ebdfb5b2row10_col2\" class=\"data row10 col2\" >128</td>\n",
       "                        <td id=\"T_678d4aac_74c4_11ea_bed1_9b58ebdfb5b2row10_col3\" class=\"data row10 col3\" >0.2</td>\n",
       "                        <td id=\"T_678d4aac_74c4_11ea_bed1_9b58ebdfb5b2row10_col4\" class=\"data row10 col4\" >0.919005</td>\n",
       "            </tr>\n",
       "            <tr>\n",
       "                                <td id=\"T_678d4aac_74c4_11ea_bed1_9b58ebdfb5b2row11_col0\" class=\"data row11 col0\" >4</td>\n",
       "                        <td id=\"T_678d4aac_74c4_11ea_bed1_9b58ebdfb5b2row11_col1\" class=\"data row11 col1\" >128</td>\n",
       "                        <td id=\"T_678d4aac_74c4_11ea_bed1_9b58ebdfb5b2row11_col2\" class=\"data row11 col2\" >128</td>\n",
       "                        <td id=\"T_678d4aac_74c4_11ea_bed1_9b58ebdfb5b2row11_col3\" class=\"data row11 col3\" >0.2</td>\n",
       "                        <td id=\"T_678d4aac_74c4_11ea_bed1_9b58ebdfb5b2row11_col4\" class=\"data row11 col4\" >0.918070</td>\n",
       "            </tr>\n",
       "            <tr>\n",
       "                                <td id=\"T_678d4aac_74c4_11ea_bed1_9b58ebdfb5b2row12_col0\" class=\"data row12 col0\" >4</td>\n",
       "                        <td id=\"T_678d4aac_74c4_11ea_bed1_9b58ebdfb5b2row12_col1\" class=\"data row12 col1\" >64</td>\n",
       "                        <td id=\"T_678d4aac_74c4_11ea_bed1_9b58ebdfb5b2row12_col2\" class=\"data row12 col2\" >64</td>\n",
       "                        <td id=\"T_678d4aac_74c4_11ea_bed1_9b58ebdfb5b2row12_col3\" class=\"data row12 col3\" >0.2</td>\n",
       "                        <td id=\"T_678d4aac_74c4_11ea_bed1_9b58ebdfb5b2row12_col4\" class=\"data row12 col4\" >0.917793</td>\n",
       "            </tr>\n",
       "            <tr>\n",
       "                                <td id=\"T_678d4aac_74c4_11ea_bed1_9b58ebdfb5b2row13_col0\" class=\"data row13 col0\" >4</td>\n",
       "                        <td id=\"T_678d4aac_74c4_11ea_bed1_9b58ebdfb5b2row13_col1\" class=\"data row13 col1\" >64</td>\n",
       "                        <td id=\"T_678d4aac_74c4_11ea_bed1_9b58ebdfb5b2row13_col2\" class=\"data row13 col2\" >128</td>\n",
       "                        <td id=\"T_678d4aac_74c4_11ea_bed1_9b58ebdfb5b2row13_col3\" class=\"data row13 col3\" >0.5</td>\n",
       "                        <td id=\"T_678d4aac_74c4_11ea_bed1_9b58ebdfb5b2row13_col4\" class=\"data row13 col4\" >0.917669</td>\n",
       "            </tr>\n",
       "            <tr>\n",
       "                                <td id=\"T_678d4aac_74c4_11ea_bed1_9b58ebdfb5b2row14_col0\" class=\"data row14 col0\" >6</td>\n",
       "                        <td id=\"T_678d4aac_74c4_11ea_bed1_9b58ebdfb5b2row14_col1\" class=\"data row14 col1\" >64</td>\n",
       "                        <td id=\"T_678d4aac_74c4_11ea_bed1_9b58ebdfb5b2row14_col2\" class=\"data row14 col2\" >128</td>\n",
       "                        <td id=\"T_678d4aac_74c4_11ea_bed1_9b58ebdfb5b2row14_col3\" class=\"data row14 col3\" >0.2</td>\n",
       "                        <td id=\"T_678d4aac_74c4_11ea_bed1_9b58ebdfb5b2row14_col4\" class=\"data row14 col4\" >0.916376</td>\n",
       "            </tr>\n",
       "            <tr>\n",
       "                                <td id=\"T_678d4aac_74c4_11ea_bed1_9b58ebdfb5b2row15_col0\" class=\"data row15 col0\" >4</td>\n",
       "                        <td id=\"T_678d4aac_74c4_11ea_bed1_9b58ebdfb5b2row15_col1\" class=\"data row15 col1\" >64</td>\n",
       "                        <td id=\"T_678d4aac_74c4_11ea_bed1_9b58ebdfb5b2row15_col2\" class=\"data row15 col2\" >128</td>\n",
       "                        <td id=\"T_678d4aac_74c4_11ea_bed1_9b58ebdfb5b2row15_col3\" class=\"data row15 col3\" >0.2</td>\n",
       "                        <td id=\"T_678d4aac_74c4_11ea_bed1_9b58ebdfb5b2row15_col4\" class=\"data row15 col4\" >0.916114</td>\n",
       "            </tr>\n",
       "    </tbody></table>"
      ],
      "text/plain": [
       "<pandas.io.formats.style.Styler at 0x212ae318348>"
      ]
     },
     "execution_count": 104,
     "metadata": {},
     "output_type": "execute_result"
    }
   ],
   "source": [
    "format_dict = {'dropout': '{:.1f}'}\n",
    "df_cv_results.sort_values(by=['roc_auc'], ascending=False).style.format(format_dict).hide_index()"
   ]
  },
  {
   "cell_type": "code",
   "execution_count": 108,
   "metadata": {},
   "outputs": [
    {
     "data": {
      "text/plain": [
       "0.922937381396063"
      ]
     },
     "execution_count": 108,
     "metadata": {},
     "output_type": "execute_result"
    }
   ],
   "source": [
    "grid_search.best_score_"
   ]
  },
  {
   "cell_type": "code",
   "execution_count": null,
   "metadata": {},
   "outputs": [],
   "source": []
  },
  {
   "cell_type": "markdown",
   "metadata": {},
   "source": [
    "As we've seen, even for a relatively simple model and only two options for each of the four hyperparameters we decided to tune (and with a low cross-validation value of 3), our last grid search took more than 20 minutes to complete.\n",
    "\n",
    "One alterative is to perform a **random search** instead. This will be our **step 2**."
   ]
  },
  {
   "cell_type": "markdown",
   "metadata": {},
   "source": [
    "### Step 2"
   ]
  },
  {
   "cell_type": "markdown",
   "metadata": {},
   "source": []
  }
 ],
 "metadata": {
  "kernelspec": {
   "display_name": "Python 3",
   "language": "python",
   "name": "python3"
  },
  "language_info": {
   "codemirror_mode": {
    "name": "ipython",
    "version": 3
   },
   "file_extension": ".py",
   "mimetype": "text/x-python",
   "name": "python",
   "nbconvert_exporter": "python",
   "pygments_lexer": "ipython3",
   "version": "3.7.6"
  }
 },
 "nbformat": 4,
 "nbformat_minor": 4
}
